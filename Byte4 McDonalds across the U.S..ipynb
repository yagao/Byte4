{
 "metadata": {
  "name": "",
  "signature": "sha256:2ed6c718390f0bf756eaf53f7c7b202e49f45156a0b87289bcd3badb658458db"
 },
 "nbformat": 3,
 "nbformat_minor": 0,
 "worksheets": [
  {
   "cells": [
    {
     "cell_type": "markdown",
     "metadata": {},
     "source": [
      "## Scrape McDonalds locations across the United States, and animate the order in which they were built\n",
      "\n",
      "Original URL: http://nbviewer.ipython.org/url/rsargent.cmucreatelab.org/mcdonalds/McDonalds%20across%20the%20U.S..ipynb\n",
      "Check here for updates.\n",
      "\n",
      "For this assignment:\n",
      "\n",
      "- You'll need Python 2.7.  (You should already have this for your previous App Engine work)\n",
      "- You'll need IPython 1.x.  To install, follow the directions at the top of [this page](http://ipython.org/install.html)\n",
      "- You'll need your own copy of this notebook.  Assuming you haven't already downloaded the notebook, you're probably just viewing this notebook in the notebook viewer, which doesn't let you make any changes.  Look for the download icon on the top left to bring the notebook local.\n",
      "- Start up the IPython Notebook Dashboard on your local computer\n",
      "- Follow the directions at the top of the Dashboard page to import this notebook into your local IPython Notebook server.  (If you have troubles loading the file on Windows, you might need to rename the notebook to a simpler filename first, like 'mcdonalds.ipynb')\n",
      "\n",
      "If you've succeeded in all this, you should now be running this notebook inside your local IPython Notebook server.  Instead of a download icon, you'll now be seeing a menubar and a number of tool icons at the top of the page.  And you can edit.\n",
      "\n",
      "Windows 7 installation directions, from Yen-Chia Hsu:\n",
      "\n",
      "- Download and install Anaconda from http://continuum.io/downloads (Because Anaconda includes Python 2.7, there is no need to download Python separately).\n",
      "- Go into Windows start menu, find Anaconda folder, and click \"Anaconda Command Prompt\" to bring up the Anaconda console.\n",
      "- type \"easy_install Scrapy\" in the console to install the package, ignore the errors for now.\n",
      "- type \"easy_install Twisted\" in the console to install the package.\n",
      "- type \"easy_install w3lib\" in the console to install the package."
     ]
    },
    {
     "cell_type": "markdown",
     "metadata": {},
     "source": [
      "###A few tips on using iPython:\n",
      "To execute a block of code, click on it, and then hit shift-return (or Cell/Run)\n",
      "\n",
      "Generally, you'll want to execute blocks from top to bottom.  If you see a message that something's undefined, double-check that perhaps you missed executing a block that defined what you need.\n",
      "\n",
      "###Notes on browser compatibility:\n",
      "The explorable visualization in this notebook makes use of WebGL, which requires Chrome, Firefox, or IE 11+.  iPython notebook doesn't officially support IE 11, so you're probably best off using Chrome or Firefox.\n",
      "\n",
      "###Support and office hours:\n",
      "You're playing with some really new stuff.  Please don't hesitate to reach out to me by email <randy.sargent@cs.cmu.edu>, gchat randy.sargent@gmail.com, or to come by office hours at 4pm each day until assignment due date in NSH 3220.  Come by if you have questions, get stuck, or especially if you want to do learn how to do something that's not covered.\n",
      "\n",
      "Also, consider emailing me when you start, and I can be sure to send updates or FAQ answers to you as they develop."
     ]
    },
    {
     "cell_type": "markdown",
     "metadata": {},
     "source": [
      "### Ready to go!\n",
      "#### First, a few functions to cope with keeping a copy of the McDonalds locations on your local disk\n",
      "(Read the code in each block below, and then put your cursor in each one in sequence, and hit shift-return to evaluate)"
     ]
    },
    {
     "cell_type": "code",
     "collapsed": false,
     "input": [
      "#\n",
      "# Functions to load and save scraped McDonalds locations to/from this local JSON file:\n",
      "#\n",
      "\n",
      "import os\n",
      "import json\n",
      "\n",
      "locations_path = os.path.expanduser('~/projects/mcdonalds/mcdonalds_locations.json')\n",
      "\n",
      "# Read locations from your local json file.  If the file is missing, create it.\n",
      "def read_or_create_locations():\n",
      "    try:\n",
      "        locations = json.load(open(locations_path))\n",
      "        print 'Read %d locations from %s' % (len(locations), locations_path)\n",
      "    except StandardError:\n",
      "        locations = []\n",
      "        print '%s does not exist; creating' % locations_path\n",
      "        write_locations(locations)\n",
      "    return locations\n",
      "\n",
      "# Write locations to your local json file\n",
      "def write_locations(locations):\n",
      "    try:\n",
      "        os.makedirs(os.path.dirname(locations_path))\n",
      "    except StandardError:\n",
      "        pass\n",
      "    json.dump(locations, open(locations_path, 'w'), indent=2)\n",
      "    print 'Wrote %d locations to %s' % (len(locations), locations_path)"
     ],
     "language": "python",
     "metadata": {},
     "outputs": [],
     "prompt_number": 1
    },
    {
     "cell_type": "code",
     "collapsed": false,
     "input": [
      "# Read previously scraped locations, if any\n",
      "#\n",
      "# Note:  if you need to restart python, you'll especially want to reevaluate this line\n",
      "# to reload your current set of locations\n",
      "\n",
      "locations = read_or_create_locations()"
     ],
     "language": "python",
     "metadata": {},
     "outputs": [
      {
       "output_type": "stream",
       "stream": "stdout",
       "text": [
        "/Users/Ya/projects/mcdonalds/mcdonalds_locations.json does not exist; creating\n",
        "Wrote 0 locations to /Users/Ya/projects/mcdonalds/mcdonalds_locations.json\n"
       ]
      }
     ],
     "prompt_number": 2
    },
    {
     "cell_type": "markdown",
     "metadata": {},
     "source": [
      "###Geocode a street address into Lat/Long"
     ]
    },
    {
     "cell_type": "code",
     "collapsed": false,
     "input": [
      "import urllib\n",
      "import urllib2\n",
      "\n",
      "# Geocode a street address using Google's geocoding API\n",
      "# Returns {'lat': latitude, 'lng': longitude} on success\n",
      "# Returns False if not found\n",
      "# Raises exception if a problem occurs (such as running out of quota)\n",
      "#\n",
      "# Note:  Google's geolocation service is limited to around 2500 geolocations per day.  If you receive\n",
      "# an error that you've run out of quota, you'll need to wait a day, or change your IP address.\n",
      "#\n",
      "# (For the purposes of this assignment, see below for a shortcut to download already geolocated addresses to\n",
      "#  fill in your gaps)\n",
      "#\n",
      "#  If you run into quota limitation and don't want to wait a day, here are some ways to change your IP address:\n",
      "#    - If you're on a laptop, move to a different wireless network\n",
      "#    - Find an HTTP proxy at http://www.hidemyass.com/proxy-list and switch to that proxy with this python command:\n",
      "#      urllib2.install_opener(urllib2.build_opener(urllib2.ProxyHandler({'http': '168.63.167.183'})))\n",
      "#    - Utitlize a VPN service (e.g. Hide My Ass's \"Pro VPN\" account, which costs $)\n",
      "\n",
      "def geocode(address):\n",
      "    # Perform API call to maps.googleapis.com, which will return address in JSON format\n",
      "    url = 'http://maps.googleapis.com/maps/api/geocode/json?%s' % urllib.urlencode({'address': address, 'sensor': 'false'})\n",
      "    geocode = json.loads(urllib2.urlopen(url).read())\n",
      "    if geocode['status'] == 'OK' and geocode['results']:\n",
      "        # Success!  Return the first result\n",
      "        return geocode['results'][0]['geometry']['location']\n",
      "    elif geocode['status'] <> 'ZERO_RESULTS':\n",
      "        # Something failed (maybe out of quota?).  Raise an exception.\n",
      "        msg = 'When trying to geocode address %s by reading url %s, received a status != OK: %s' % (address, url, geocode['status'])\n",
      "        print msg\n",
      "        raise Exception(msg)\n",
      "    else:\n",
      "        # No results for this address.  Return false.\n",
      "        return False"
     ],
     "language": "python",
     "metadata": {},
     "outputs": [],
     "prompt_number": 3
    },
    {
     "cell_type": "code",
     "collapsed": false,
     "input": [
      "# Try it out\n",
      "geocode(\"5000 Forbes Avenue, Pittsburgh, PA\")"
     ],
     "language": "python",
     "metadata": {},
     "outputs": [
      {
       "metadata": {},
       "output_type": "pyout",
       "prompt_number": 4,
       "text": [
        "{u'lat': 40.4411659, u'lng': -79.9421425}"
       ]
      }
     ],
     "prompt_number": 4
    },
    {
     "cell_type": "code",
     "collapsed": false,
     "input": [
      "# Go ahead and try it out on some other addresses.  Does it work outside the U.S.?"
     ],
     "language": "python",
     "metadata": {},
     "outputs": [],
     "prompt_number": 5
    },
    {
     "cell_type": "markdown",
     "metadata": {},
     "source": [
      "###Scrape the street address of a single McDonalds store\n",
      "This uses the Scrapy library for parsing HTML.  If you don't already have it installed, you'll see \"No module named scrapy.selector\";  see the comments in the code below for a link to download and installation instructions."
     ]
    },
    {
     "cell_type": "code",
     "collapsed": false,
     "input": [
      "from scrapy.selector import Selector\n",
      "\n",
      "# Scrape an individual McDonalds store #\n",
      "# Returns {'store_number': store_number, 'address': address, 'lat': latitude, 'lng': longitude} on success\n",
      "# If McDonalds website doesn't show a store by that number, return False\n",
      "# If geolocation fails, will return only 'store_number' and 'address'\n",
      "#\n",
      "# Things to watch out for:\n",
      "#\n",
      "# 1) If you see \"No module named scrapy.selector\", you'll need to install the scrapy library.\n",
      "#   See http://scrapy.org/download/ for directions how to download and install.\n",
      "#\n",
      "# 2) If you see errors about zope.interface, try updating zope.interface to a newer version like so:\n",
      "#    \"pip install --upgrade zope.interface\"\n",
      "#    and then restart the kernel (Kernel/Restart, at the top of the notebook, above).\n",
      "#\n",
      "# Or, if you have troubles getting scrapy to install properly, consider switching to the\n",
      "# BeautifulSoup-based scraper below\n",
      "\n",
      "def scrape_store(store_number):\n",
      "    # Oddly, www.mcdonalds.com's map application redirects to www.mc<statename>.com to show store details.\n",
      "    # But, lucky for us, any of the states sites seem to work for all store #s.  So let's go with PA for no particular reason.\n",
      "    url = \"http://www.mcpennsylvania.com/%d\" % store_number\n",
      "    \n",
      "    print \"Trying to fetch store# %d from %s\" % (store_number, url)\n",
      "    html = urllib2.urlopen(url).read()\n",
      "    print \"  Read %d bytes\" % len(html)\n",
      "    \n",
      "    # Using Scrapy, build an XPath selector to parse the received HTML\n",
      "    selector = Selector(text = html)\n",
      "    \n",
      "    # The street address is buried in the <li> tag whose class contains the word \"address\" (usually address_3 but\n",
      "    # sometimes address_1 and maybe others).\n",
      "    # Inside that <li>, find all the <h3> tags, extract text from them, and then join together with newlines in-between.\n",
      "    address = '\\n'.join(selector.xpath('//li[contains(@class, \"address\")]/h3/text()').extract())\n",
      "    \n",
      "    if address:\n",
      "        location = {'store_number': store_number, 'address': address}\n",
      "        print '  Address is %s' % address.replace('\\n', '|')\n",
      "        latlng = geocode(address)\n",
      "        if latlng:\n",
      "            print '  Geocoded to %s' % latlng\n",
      "            location['lat'] = latlng['lat']\n",
      "            location['lng'] = latlng['lng']\n",
      "        else:\n",
      "            print '  No geocode'\n",
      "        return location\n",
      "    else:\n",
      "        print '  Store not found'\n",
      "        return False"
     ],
     "language": "python",
     "metadata": {},
     "outputs": [],
     "prompt_number": 6
    },
    {
     "cell_type": "code",
     "collapsed": false,
     "input": [
      "# Uncomment below and comment above if you'd like to switch to BeautifulSoup for\n",
      "# parsing HTML.  You can install BeautifulSoup using easy_install:\n",
      "# easy_install BeautifulSoup\n",
      "\n",
      "# from bs4 import BeautifulSoup\n",
      "#\n",
      "# # Scrape an individual McDonalds store #\n",
      "# # Returns {'store_number': store_number, 'address': address, 'lat': latitude, 'lng': longitude} on success\n",
      "# # If McDonalds website doesn't show a store by that number, return False\n",
      "# # If geolocation fails, will return only 'store_number' and 'address'\n",
      "# #\n",
      "# # If you don't already have BeautifulSoup installed, you can install like so:\n",
      "# # easy_install BeautifulSoup\n",
      "#\n",
      "# def scrape_store(store_number):\n",
      "#     # Oddly, www.mcdonalds.com's map application redirects to www.mc<statename>.com to show store details.\n",
      "#     # But, lucky for us, any of the states sites seem to work for all store #s.  So let's go with PA for no particular reason.\n",
      "#     url = \"http://www.mcpennsylvania.com/%d\" % store_number\n",
      "#     \n",
      "#     print \"Trying to fetch store# %d from %s\" % (store_number, url)\n",
      "#     html = urllib2.urlopen(url).read()\n",
      "#     print \"  Read %d bytes\" % len(html)\n",
      "#     \n",
      "#     parsed = BeautifulSoup(html)\n",
      "# \n",
      "#     # The street address is buried in the <li> tag whose class contains the word \"address\" (usually address_3 but\n",
      "#     # sometimes address_1 and maybe others).\n",
      "#     li = parsed.select('li[class^=\"address\"]')\n",
      "# \n",
      "#     if li:\n",
      "#         # Join together the strings with newlines to construct the address\n",
      "#         address = '\\n'.join(li[0].strings)\n",
      "#     else:\n",
      "#         address = ''\n",
      "# \n",
      "#     if address:\n",
      "#         location = {'store_number': store_number, 'address': address}\n",
      "#         print '  Address is %s' % address.replace('\\n', '|')\n",
      "#         latlng = geocode(address)\n",
      "#         if latlng:\n",
      "#             print '  Geocoded to %s' % latlng\n",
      "#             location['lat'] = latlng['lat']\n",
      "#             location['lng'] = latlng['lng']\n",
      "#         else:\n",
      "#             print '  No geocode'\n",
      "#         return location\n",
      "#     else:\n",
      "#         print '  Store not found'\n",
      "#         return False"
     ],
     "language": "python",
     "metadata": {},
     "outputs": [],
     "prompt_number": 7
    },
    {
     "cell_type": "code",
     "collapsed": false,
     "input": [
      "# Try it out\n",
      "scrape_store(100)"
     ],
     "language": "python",
     "metadata": {},
     "outputs": [
      {
       "output_type": "stream",
       "stream": "stdout",
       "text": [
        "Trying to fetch store# 100 from http://www.mcpennsylvania.com/100\n",
        "  Read 17658 bytes"
       ]
      },
      {
       "output_type": "stream",
       "stream": "stdout",
       "text": [
        "\n",
        "  Address is 715 E. Memorial Blvd|Lakeland, FL 33801\n",
        "  Geocoded to {u'lat': 28.0546697, u'lng': -81.95060199999999}"
       ]
      },
      {
       "output_type": "stream",
       "stream": "stdout",
       "text": [
        "\n"
       ]
      },
      {
       "metadata": {},
       "output_type": "pyout",
       "prompt_number": 8,
       "text": [
        "{'address': u'715 E. Memorial Blvd\\nLakeland, FL 33801',\n",
        " 'lat': 28.0546697,\n",
        " 'lng': -81.95060199999999,\n",
        " 'store_number': 100}"
       ]
      }
     ],
     "prompt_number": 8
    },
    {
     "cell_type": "code",
     "collapsed": false,
     "input": [
      "# The highest McDonalds store # is a bit under 17000, as of February 2014.\n",
      "# Try a few more stores.  What does the function return if a store by the requested ID doesn't exist?"
     ],
     "language": "python",
     "metadata": {},
     "outputs": [],
     "prompt_number": 9
    },
    {
     "cell_type": "code",
     "collapsed": false,
     "input": [
      "locations=[]"
     ],
     "language": "python",
     "metadata": {},
     "outputs": [],
     "prompt_number": 10
    },
    {
     "cell_type": "code",
     "collapsed": false,
     "input": [
      "# Time to scrape the stores!  This will take a while.\n",
      "# As noted above, you'll run out of geolocation quota after around 2500 stores.  So let's scrape up to store 999\n",
      "# for now, and see what it looks like.\n",
      "\n",
      "# Scrape up to this store#:\n",
      "last_store = 999\n",
      "\n",
      "# If we have previous scraped data, start where we left off.  Otherwise start at store # 1.\n",
      "starting_store = (max([location['store_number'] for location in locations]) + 1) if locations else 1\n",
      "\n",
      "for store_number in range(starting_store, last_store + 1):\n",
      "    location = scrape_store(store_number)\n",
      "    if location:\n",
      "        locations.append(location)\n",
      "        if len(locations) % 10 == 0:\n",
      "            # Checkpoint:  every ten, save all locations to disk\n",
      "            write_locations(locations)\n",
      "\n",
      "# Done.  Save all locations\n",
      "write_locations(locations)"
     ],
     "language": "python",
     "metadata": {},
     "outputs": [
      {
       "output_type": "stream",
       "stream": "stdout",
       "text": [
        "Trying to fetch store# 1 from http://www.mcpennsylvania.com/1\n",
        "  Read 9421 bytes"
       ]
      },
      {
       "output_type": "stream",
       "stream": "stdout",
       "text": [
        "\n",
        "  Store not found\n",
        "Trying to fetch store# 2 from http://www.mcpennsylvania.com/2\n",
        "  Read 9421 bytes"
       ]
      },
      {
       "output_type": "stream",
       "stream": "stdout",
       "text": [
        "\n",
        "  Store not found\n",
        "Trying to fetch store# 3 from http://www.mcpennsylvania.com/3\n",
        "  Read 16122 bytes"
       ]
      },
      {
       "output_type": "stream",
       "stream": "stdout",
       "text": [
        "\n",
        "  Address is 5725 Roosevelt Ave.|Woodside, NY 11377\n",
        "  Geocoded to {u'lat': 40.7455, u'lng': -73.9067122}"
       ]
      },
      {
       "output_type": "stream",
       "stream": "stdout",
       "text": [
        "\n",
        "Trying to fetch store# 4 from http://www.mcpennsylvania.com/4\n",
        "  Read 9421 bytes"
       ]
      },
      {
       "output_type": "stream",
       "stream": "stdout",
       "text": [
        "\n",
        "  Store not found\n",
        "Trying to fetch store# 5 from http://www.mcpennsylvania.com/5\n",
        "  Read 9421 bytes"
       ]
      },
      {
       "output_type": "stream",
       "stream": "stdout",
       "text": [
        "\n",
        "  Store not found\n",
        "Trying to fetch store# 6 from http://www.mcpennsylvania.com/6\n",
        "  Read 17554 bytes"
       ]
      },
      {
       "output_type": "stream",
       "stream": "stdout",
       "text": [
        "\n",
        "  Address is 7040 Theodore Dawes Rd|Theodore, AL 36582\n",
        "  Geocoded to {u'lat': 30.5611122, u'lng': -88.20657469999999}"
       ]
      },
      {
       "output_type": "stream",
       "stream": "stdout",
       "text": [
        "\n",
        "Trying to fetch store# 7 from http://www.mcpennsylvania.com/7\n",
        "  Read 16912 bytes"
       ]
      },
      {
       "output_type": "stream",
       "stream": "stdout",
       "text": [
        "\n",
        "  Address is 7501 Washington Ave|Ocean Springs, MS 39564\n",
        "  Geocoded to {u'lat': 30.4496173, u'lng': -88.8419512}"
       ]
      },
      {
       "output_type": "stream",
       "stream": "stdout",
       "text": [
        "\n",
        "Trying to fetch store# 8 from http://www.mcpennsylvania.com/8\n",
        "  Read 9421 bytes"
       ]
      },
      {
       "output_type": "stream",
       "stream": "stdout",
       "text": [
        "\n",
        "  Store not found\n",
        "Trying to fetch store# 9 from http://www.mcpennsylvania.com/9\n",
        "  Read 9421 bytes"
       ]
      },
      {
       "output_type": "stream",
       "stream": "stdout",
       "text": [
        "\n",
        "  Store not found\n",
        "Trying to fetch store# 10 from http://www.mcpennsylvania.com/10\n",
        "  Read 9425 bytes"
       ]
      },
      {
       "output_type": "stream",
       "stream": "stdout",
       "text": [
        "\n",
        "  Store not found\n",
        "Trying to fetch store# 11 from http://www.mcpennsylvania.com/11\n",
        "  Read 9425 bytes"
       ]
      },
      {
       "output_type": "stream",
       "stream": "stdout",
       "text": [
        "\n",
        "  Store not found\n",
        "Trying to fetch store# 12 from http://www.mcpennsylvania.com/12\n",
        "  Read 9425 bytes"
       ]
      },
      {
       "output_type": "stream",
       "stream": "stdout",
       "text": [
        "\n",
        "  Store not found\n",
        "Trying to fetch store# 13 from http://www.mcpennsylvania.com/13\n",
        "  Read 16814 bytes"
       ]
      },
      {
       "output_type": "stream",
       "stream": "stdout",
       "text": [
        "\n",
        "  Address is 1317 Castlehill Ave.|Bronx, NY 10462\n",
        "  Geocoded to {u'lat': 40.8345906, u'lng': -73.85221779999999}"
       ]
      },
      {
       "output_type": "stream",
       "stream": "stdout",
       "text": [
        "\n",
        "Trying to fetch store# 14 from http://www.mcpennsylvania.com/14\n",
        "  Read 15649 bytes"
       ]
      },
      {
       "output_type": "stream",
       "stream": "stdout",
       "text": [
        "\n",
        "  Address is 645 Rossville Ave.|Staten Island, NY 10309\n",
        "  Geocoded to {u'lat': 40.5427718, u'lng': -74.2078085}"
       ]
      },
      {
       "output_type": "stream",
       "stream": "stdout",
       "text": [
        "\n",
        "Trying to fetch store# 15 from http://www.mcpennsylvania.com/15\n",
        "  Read 16860 bytes"
       ]
      },
      {
       "output_type": "stream",
       "stream": "stdout",
       "text": [
        "\n",
        "  Address is 515 W. Broadway|Denver City, TX 79323\n",
        "  Geocoded to {u'lat': 32.9643856, u'lng': -102.8342272}"
       ]
      },
      {
       "output_type": "stream",
       "stream": "stdout",
       "text": [
        "\n",
        "Trying to fetch store# 16 from http://www.mcpennsylvania.com/16\n",
        "  Read 9425 bytes"
       ]
      },
      {
       "output_type": "stream",
       "stream": "stdout",
       "text": [
        "\n",
        "  Store not found\n",
        "Trying to fetch store# 17 from http://www.mcpennsylvania.com/17\n",
        "  Read 9425 bytes"
       ]
      },
      {
       "output_type": "stream",
       "stream": "stdout",
       "text": [
        "\n",
        "  Store not found\n",
        "Trying to fetch store# 18 from http://www.mcpennsylvania.com/18\n",
        "  Read 9425 bytes"
       ]
      },
      {
       "output_type": "stream",
       "stream": "stdout",
       "text": [
        "\n",
        "  Store not found\n",
        "Trying to fetch store# 19 from http://www.mcpennsylvania.com/19\n",
        "  Read 9425 bytes"
       ]
      },
      {
       "output_type": "stream",
       "stream": "stdout",
       "text": [
        "\n",
        "  Store not found\n",
        "Trying to fetch store# 20 from http://www.mcpennsylvania.com/20\n",
        "  Read 9425 bytes"
       ]
      },
      {
       "output_type": "stream",
       "stream": "stdout",
       "text": [
        "\n",
        "  Store not found\n",
        "Trying to fetch store# 21 from http://www.mcpennsylvania.com/21\n",
        "  Read 9425 bytes"
       ]
      },
      {
       "output_type": "stream",
       "stream": "stdout",
       "text": [
        "\n",
        "  Store not found\n",
        "Trying to fetch store# 22 from http://www.mcpennsylvania.com/22\n",
        "  Read 17138 bytes"
       ]
      },
      {
       "output_type": "stream",
       "stream": "stdout",
       "text": [
        "\n",
        "  Address is 310 31st Ave. SE,| Walmart,|Puyallup, WA 98374\n",
        "  Geocoded to {u'lat': 47.1853785, u'lng': -122.2928974}"
       ]
      },
      {
       "output_type": "stream",
       "stream": "stdout",
       "text": [
        "\n",
        "Trying to fetch store# 23 from http://www.mcpennsylvania.com/23\n",
        "  Read 9425 bytes"
       ]
      },
      {
       "output_type": "stream",
       "stream": "stdout",
       "text": [
        "\n",
        "  Store not found\n",
        "Trying to fetch store# 24 from http://www.mcpennsylvania.com/24\n",
        "  Read 9425 bytes"
       ]
      },
      {
       "output_type": "stream",
       "stream": "stdout",
       "text": [
        "\n",
        "  Store not found\n",
        "Trying to fetch store# 25 from http://www.mcpennsylvania.com/25\n",
        "  Read 9425 bytes"
       ]
      },
      {
       "output_type": "stream",
       "stream": "stdout",
       "text": [
        "\n",
        "  Store not found\n",
        "Trying to fetch store# 26 from http://www.mcpennsylvania.com/26\n",
        "  Read 15568 bytes"
       ]
      },
      {
       "output_type": "stream",
       "stream": "stdout",
       "text": [
        "\n",
        "  Address is 4320 N. Cicero|Chicago, IL 60651\n",
        "  Geocoded to {u'lat': 41.9593144, u'lng': -87.7479075}"
       ]
      },
      {
       "output_type": "stream",
       "stream": "stdout",
       "text": [
        "\n",
        "Trying to fetch store# 27 from http://www.mcpennsylvania.com/27\n",
        "  Read 9425 bytes"
       ]
      },
      {
       "output_type": "stream",
       "stream": "stdout",
       "text": [
        "\n",
        "  Store not found\n",
        "Trying to fetch store# 28 from http://www.mcpennsylvania.com/28\n",
        "  Read 19827 bytes"
       ]
      },
      {
       "output_type": "stream",
       "stream": "stdout",
       "text": [
        "\n",
        "  Address is 4830 Dempster St.|Skokie, IL 60077\n",
        "  Geocoded to {u'lat': 42.0410551, u'lng': -87.74862809999999}"
       ]
      },
      {
       "output_type": "stream",
       "stream": "stdout",
       "text": [
        "\n",
        "Trying to fetch store# 29 from http://www.mcpennsylvania.com/29\n",
        "  Read 15661 bytes"
       ]
      },
      {
       "output_type": "stream",
       "stream": "stdout",
       "text": [
        "\n",
        "  Address is 6560 S. Stoney Island Ave.|Chicago, IL 60837\n",
        "  Geocoded to {u'lat': 41.7756657, u'lng': -87.58636299999999}"
       ]
      },
      {
       "output_type": "stream",
       "stream": "stdout",
       "text": [
        "\n",
        "Wrote 10 locations to /Users/Ya/projects/mcdonalds/mcdonalds_locations.json\n",
        "Trying to fetch store# 30 from http://www.mcpennsylvania.com/30\n",
        "  Read 9425 bytes"
       ]
      },
      {
       "output_type": "stream",
       "stream": "stdout",
       "text": [
        "\n",
        "  Store not found\n",
        "Trying to fetch store# 31 from http://www.mcpennsylvania.com/31\n",
        "  Read 9425 bytes"
       ]
      },
      {
       "output_type": "stream",
       "stream": "stdout",
       "text": [
        "\n",
        "  Store not found\n",
        "Trying to fetch store# 32 from http://www.mcpennsylvania.com/32\n",
        "  Read 15251 bytes"
       ]
      },
      {
       "output_type": "stream",
       "stream": "stdout",
       "text": [
        "\n",
        "  Address is 444 S. River Rd.|Des Plaines, IL 60016\n",
        "  Geocoded to {u'lat': 42.0452999, u'lng': -87.88551939999999}"
       ]
      },
      {
       "output_type": "stream",
       "stream": "stdout",
       "text": [
        "\n",
        "Trying to fetch store# 33 from http://www.mcpennsylvania.com/33\n",
        "  Read 9425 bytes"
       ]
      },
      {
       "output_type": "stream",
       "stream": "stdout",
       "text": [
        "\n",
        "  Store not found\n",
        "Trying to fetch store# 34 from http://www.mcpennsylvania.com/34\n",
        "  Read 9425 bytes"
       ]
      },
      {
       "output_type": "stream",
       "stream": "stdout",
       "text": [
        "\n",
        "  Store not found\n",
        "Trying to fetch store# 35 from http://www.mcpennsylvania.com/35\n",
        "  Read 9425 bytes"
       ]
      },
      {
       "output_type": "stream",
       "stream": "stdout",
       "text": [
        "\n",
        "  Store not found\n",
        "Trying to fetch store# 36 from http://www.mcpennsylvania.com/36\n",
        "  Read 9425 bytes"
       ]
      },
      {
       "output_type": "stream",
       "stream": "stdout",
       "text": [
        "\n",
        "  Store not found\n",
        "Trying to fetch store# 37 from http://www.mcpennsylvania.com/37\n",
        "  Read 17248 bytes"
       ]
      },
      {
       "output_type": "stream",
       "stream": "stdout",
       "text": [
        "\n",
        "  Address is 3115 N. Blackstone Ave.|Fresno, CA 93703\n",
        "  Geocoded to {u'lat': 36.7789461, u'lng': -119.7908846}"
       ]
      },
      {
       "output_type": "stream",
       "stream": "stdout",
       "text": [
        "\n",
        "Trying to fetch store# 38 from http://www.mcpennsylvania.com/38\n",
        "  Read 17508 bytes"
       ]
      },
      {
       "output_type": "stream",
       "stream": "stdout",
       "text": [
        "\n",
        "  Address is 18761 Sherman Way|Reseda, CA 91335\n",
        "  Geocoded to {u'lat': 34.2014262, u'lng': -118.542322}"
       ]
      },
      {
       "output_type": "stream",
       "stream": "stdout",
       "text": [
        "\n",
        "Trying to fetch store# 39 from http://www.mcpennsylvania.com/39\n",
        "  Read 16040 bytes"
       ]
      },
      {
       "output_type": "stream",
       "stream": "stdout",
       "text": [
        "\n",
        "  Address is 6904 La Tijera Blvd.|Los Angeles, CA 90045\n",
        "  Geocoded to {u'lat': 33.975492, u'lng': -118.373305}"
       ]
      },
      {
       "output_type": "stream",
       "stream": "stdout",
       "text": [
        "\n",
        "Trying to fetch store# 40 from http://www.mcpennsylvania.com/40\n",
        "  Read 16548 bytes"
       ]
      },
      {
       "output_type": "stream",
       "stream": "stdout",
       "text": [
        "\n",
        "  Address is 4950 South Dakota Avenue, N.E.|Washington, DC 20017\n",
        "  Geocoded to {u'lat': 38.94946530000001, u'lng': -76.9933493}"
       ]
      },
      {
       "output_type": "stream",
       "stream": "stdout",
       "text": [
        "\n",
        "Trying to fetch store# 41 from http://www.mcpennsylvania.com/41\n",
        "  Read 9425 bytes"
       ]
      },
      {
       "output_type": "stream",
       "stream": "stdout",
       "text": [
        "\n",
        "  Store not found\n",
        "Trying to fetch store# 42 from http://www.mcpennsylvania.com/42\n",
        "  Read 9425 bytes"
       ]
      },
      {
       "output_type": "stream",
       "stream": "stdout",
       "text": [
        "\n",
        "  Store not found\n",
        "Trying to fetch store# 43 from http://www.mcpennsylvania.com/43\n",
        "  Read 9425 bytes"
       ]
      },
      {
       "output_type": "stream",
       "stream": "stdout",
       "text": [
        "\n",
        "  Store not found\n",
        "Trying to fetch store# 44 from http://www.mcpennsylvania.com/44\n",
        "  Read 9425 bytes"
       ]
      },
      {
       "output_type": "stream",
       "stream": "stdout",
       "text": [
        "\n",
        "  Store not found\n",
        "Trying to fetch store# 45 from http://www.mcpennsylvania.com/45\n",
        "  Read 9425 bytes"
       ]
      },
      {
       "output_type": "stream",
       "stream": "stdout",
       "text": [
        "\n",
        "  Store not found\n",
        "Trying to fetch store# 46 from http://www.mcpennsylvania.com/46\n",
        "  Read 9425 bytes"
       ]
      },
      {
       "output_type": "stream",
       "stream": "stdout",
       "text": [
        "\n",
        "  Store not found\n",
        "Trying to fetch store# 47 from http://www.mcpennsylvania.com/47\n",
        "  Read 17401 bytes"
       ]
      },
      {
       "output_type": "stream",
       "stream": "stdout",
       "text": [
        "\n",
        "  Address is 5425 Fruitridge Rd|Sacramento, CA 95820\n",
        "  Geocoded to {u'lat': 38.525314, u'lng': -121.441833}"
       ]
      },
      {
       "output_type": "stream",
       "stream": "stdout",
       "text": [
        "\n",
        "Trying to fetch store# 48 from http://www.mcpennsylvania.com/48\n",
        "  Read 9425 bytes"
       ]
      },
      {
       "output_type": "stream",
       "stream": "stdout",
       "text": [
        "\n",
        "  Store not found\n",
        "Trying to fetch store# 49 from http://www.mcpennsylvania.com/49\n",
        "  Read 15911 bytes"
       ]
      },
      {
       "output_type": "stream",
       "stream": "stdout",
       "text": [
        "\n",
        "  Address is 1515 W. Jefferson|Joliet, IL 60435\n",
        "  Geocoded to {u'lat': 41.52313609999999, u'lng': -88.1195054}"
       ]
      },
      {
       "output_type": "stream",
       "stream": "stdout",
       "text": [
        "\n",
        "Trying to fetch store# 50 from http://www.mcpennsylvania.com/50\n",
        "  Read 9425 bytes"
       ]
      },
      {
       "output_type": "stream",
       "stream": "stdout",
       "text": [
        "\n",
        "  Store not found\n",
        "Trying to fetch store# 51 from http://www.mcpennsylvania.com/51\n",
        "  Read 9425 bytes"
       ]
      },
      {
       "output_type": "stream",
       "stream": "stdout",
       "text": [
        "\n",
        "  Store not found\n",
        "Trying to fetch store# 52 from http://www.mcpennsylvania.com/52\n",
        "  Read 16778 bytes"
       ]
      },
      {
       "output_type": "stream",
       "stream": "stdout",
       "text": [
        "\n",
        "  Address is 12542 Harbor Blvd.|Garden Grove, CA 92840\n",
        "  Geocoded to {u'lat': 33.780875, u'lng': -117.914369}"
       ]
      },
      {
       "output_type": "stream",
       "stream": "stdout",
       "text": [
        "\n",
        "Trying to fetch store# 53 from http://www.mcpennsylvania.com/53\n",
        "  Read 17787 bytes"
       ]
      },
      {
       "output_type": "stream",
       "stream": "stdout",
       "text": [
        "\n",
        "  Address is One E. North Ave.|Northlake, IL 60164\n",
        "  Geocoded to {u'lat': 41.906645, u'lng': -87.90289}"
       ]
      },
      {
       "output_type": "stream",
       "stream": "stdout",
       "text": [
        "\n",
        "Trying to fetch store# 54 from http://www.mcpennsylvania.com/54\n",
        "  Read 9425 bytes"
       ]
      },
      {
       "output_type": "stream",
       "stream": "stdout",
       "text": [
        "\n",
        "  Store not found\n",
        "Trying to fetch store# 55 from http://www.mcpennsylvania.com/55\n",
        "  Read 19906 bytes"
       ]
      },
      {
       "output_type": "stream",
       "stream": "stdout",
       "text": [
        "\n",
        "  Address is 225 Ogden Ave.|Downers Grove, IL 60515\n",
        "  Geocoded to {u'lat': 41.8096071, u'lng': -87.9920125}"
       ]
      },
      {
       "output_type": "stream",
       "stream": "stdout",
       "text": [
        "\n",
        "Wrote 20 locations to /Users/Ya/projects/mcdonalds/mcdonalds_locations.json\n",
        "Trying to fetch store# 56 from http://www.mcpennsylvania.com/56\n",
        "  Read 16203 bytes"
       ]
      },
      {
       "output_type": "stream",
       "stream": "stdout",
       "text": [
        "\n",
        "  Address is 3241 W. Peterseon Ave|Chicago, IL 60645\n",
        "  Geocoded to {u'lat': 41.99002240000001, u'lng': -87.71054250000002}"
       ]
      },
      {
       "output_type": "stream",
       "stream": "stdout",
       "text": [
        "\n",
        "Trying to fetch store# 57 from http://www.mcpennsylvania.com/57\n",
        "  Read 17085 bytes"
       ]
      },
      {
       "output_type": "stream",
       "stream": "stdout",
       "text": [
        "\n",
        "  Address is 7614 Richmond Highway|Alexandria, VA 22306\n",
        "  Geocoded to {u'lat': 38.750952, u'lng': -77.08363419999999}"
       ]
      },
      {
       "output_type": "stream",
       "stream": "stdout",
       "text": [
        "\n",
        "Trying to fetch store# 58 from http://www.mcpennsylvania.com/58\n",
        "  Read 9425 bytes"
       ]
      },
      {
       "output_type": "stream",
       "stream": "stdout",
       "text": [
        "\n",
        "  Store not found\n",
        "Trying to fetch store# 59 from http://www.mcpennsylvania.com/59\n",
        "  Read 15875 bytes"
       ]
      },
      {
       "output_type": "stream",
       "stream": "stdout",
       "text": [
        "\n",
        "  Address is 656 River Oaks Dr.|Calumet City, IL 60409\n",
        "  Geocoded to {u'lat': 41.60040840000001, u'lng': -87.54098839999999}"
       ]
      },
      {
       "output_type": "stream",
       "stream": "stdout",
       "text": [
        "\n",
        "Trying to fetch store# 60 from http://www.mcpennsylvania.com/60\n",
        "  Read 9425 bytes"
       ]
      },
      {
       "output_type": "stream",
       "stream": "stdout",
       "text": [
        "\n",
        "  Store not found\n",
        "Trying to fetch store# 61 from http://www.mcpennsylvania.com/61\n",
        "  Read 18970 bytes"
       ]
      },
      {
       "output_type": "stream",
       "stream": "stdout",
       "text": [
        "\n",
        "  Address is 3020 Lehigh Street|Allentown, PA 18103\n",
        "  Geocoded to {u'lat': 40.55976099999999, u'lng': -75.487803}"
       ]
      },
      {
       "output_type": "stream",
       "stream": "stdout",
       "text": [
        "\n",
        "Trying to fetch store# 62 from http://www.mcpennsylvania.com/62\n",
        "  Read 9425 bytes"
       ]
      },
      {
       "output_type": "stream",
       "stream": "stdout",
       "text": [
        "\n",
        "  Store not found\n",
        "Trying to fetch store# 63 from http://www.mcpennsylvania.com/63\n",
        "  Read 20202 bytes"
       ]
      },
      {
       "output_type": "stream",
       "stream": "stdout",
       "text": [
        "\n",
        "  Address is 2075 Snelling Ave., North|Roseville, MN 55113\n",
        "  Geocoded to {u'lat': 45.003603, u'lng': -93.1675039}"
       ]
      },
      {
       "output_type": "stream",
       "stream": "stdout",
       "text": [
        "\n",
        "Trying to fetch store# 64 from http://www.mcpennsylvania.com/64\n",
        "  Read 9425 bytes"
       ]
      },
      {
       "output_type": "stream",
       "stream": "stdout",
       "text": [
        "\n",
        "  Store not found\n",
        "Trying to fetch store# 65 from http://www.mcpennsylvania.com/65\n",
        "  Read 9425 bytes"
       ]
      },
      {
       "output_type": "stream",
       "stream": "stdout",
       "text": [
        "\n",
        "  Store not found\n",
        "Trying to fetch store# 66 from http://www.mcpennsylvania.com/66\n",
        "  Read 16720 bytes"
       ]
      },
      {
       "output_type": "stream",
       "stream": "stdout",
       "text": [
        "\n",
        "  Address is 5425 West North Bend Road|Cincinnati, OH 45239\n",
        "  Geocoded to {u'lat': 39.1907642, u'lng': -84.5993034}"
       ]
      },
      {
       "output_type": "stream",
       "stream": "stdout",
       "text": [
        "\n",
        "Trying to fetch store# 67 from http://www.mcpennsylvania.com/67\n",
        "  Read 9425 bytes"
       ]
      },
      {
       "output_type": "stream",
       "stream": "stdout",
       "text": [
        "\n",
        "  Store not found\n",
        "Trying to fetch store# 68 from http://www.mcpennsylvania.com/68\n",
        "  Read 17859 bytes"
       ]
      },
      {
       "output_type": "stream",
       "stream": "stdout",
       "text": [
        "\n",
        "  Address is 8056 Sheridan Rd|Kenosha, WI 53142\n",
        "  Geocoded to {u'lat': 42.5571308, u'lng': -87.8253575}"
       ]
      },
      {
       "output_type": "stream",
       "stream": "stdout",
       "text": [
        "\n",
        "Trying to fetch store# 69 from http://www.mcpennsylvania.com/69\n",
        "  Read 9425 bytes"
       ]
      },
      {
       "output_type": "stream",
       "stream": "stdout",
       "text": [
        "\n",
        "  Store not found\n",
        "Trying to fetch store# 70 from http://www.mcpennsylvania.com/70\n",
        "  Read 24381 bytes"
       ]
      },
      {
       "output_type": "stream",
       "stream": "stdout",
       "text": [
        "\n",
        "  Address is 4849 McKnight Rd.|Pittsburgh, PA 15237\n",
        "  Geocoded to {u'lat': 40.528545, u'lng': -80.008239}"
       ]
      },
      {
       "output_type": "stream",
       "stream": "stdout",
       "text": [
        "\n",
        "Trying to fetch store# 71 from http://www.mcpennsylvania.com/71\n",
        "  Read 16978 bytes"
       ]
      },
      {
       "output_type": "stream",
       "stream": "stdout",
       "text": [
        "\n",
        "  Address is 9915 Watson Rd.|Crestwood, MO 63126\n",
        "  Geocoded to {u'lat': 38.5570734, u'lng': -90.3937852}"
       ]
      },
      {
       "output_type": "stream",
       "stream": "stdout",
       "text": [
        "\n",
        "Trying to fetch store# 72 from http://www.mcpennsylvania.com/72\n",
        "  Read 16725 bytes"
       ]
      },
      {
       "output_type": "stream",
       "stream": "stdout",
       "text": [
        "\n",
        "  Address is 1023 N. Lake Street|Aurora, IL 60506\n",
        "  Geocoded to {u'lat': 41.7786135, u'lng': -88.31513609999999}"
       ]
      },
      {
       "output_type": "stream",
       "stream": "stdout",
       "text": [
        "\n",
        "Wrote 30 locations to /Users/Ya/projects/mcdonalds/mcdonalds_locations.json\n",
        "Trying to fetch store# 73 from http://www.mcpennsylvania.com/73\n",
        "  Read 19975 bytes"
       ]
      },
      {
       "output_type": "stream",
       "stream": "stdout",
       "text": [
        "\n",
        "  Address is 445 W. Roosevelt Rd.|Glen Ellyn, IL 60137\n",
        "  Geocoded to {u'lat': 41.858901, u'lng': -88.070507}"
       ]
      },
      {
       "output_type": "stream",
       "stream": "stdout",
       "text": [
        "\n",
        "Trying to fetch store# 74 from http://www.mcpennsylvania.com/74\n",
        "  Read 17389 bytes"
       ]
      },
      {
       "output_type": "stream",
       "stream": "stdout",
       "text": [
        "\n",
        "  Address is 2120 N. Larch St.|Lansing, MI 48906\n",
        "  Geocoded to {u'lat': 42.756994, u'lng': -84.54333489999999}"
       ]
      },
      {
       "output_type": "stream",
       "stream": "stdout",
       "text": [
        "\n",
        "Trying to fetch store# 75 from http://www.mcpennsylvania.com/75\n",
        "  Read 9425 bytes"
       ]
      },
      {
       "output_type": "stream",
       "stream": "stdout",
       "text": [
        "\n",
        "  Store not found\n",
        "Trying to fetch store# 76 from http://www.mcpennsylvania.com/76\n",
        "  Read 17043 bytes"
       ]
      },
      {
       "output_type": "stream",
       "stream": "stdout",
       "text": [
        "\n",
        "  Address is 3600 N University St|Peoria, IL 61604\n",
        "  Geocoded to {u'lat': 40.7314971, u'lng': -89.6120596}"
       ]
      },
      {
       "output_type": "stream",
       "stream": "stdout",
       "text": [
        "\n",
        "Trying to fetch store# 77 from http://www.mcpennsylvania.com/77\n",
        "  Read 17334 bytes"
       ]
      },
      {
       "output_type": "stream",
       "stream": "stdout",
       "text": [
        "\n",
        "  Address is 2100 Lathrop Ave|Racine, WI 53405\n",
        "  Geocoded to {u'lat': 42.7041261, u'lng': -87.825977}"
       ]
      },
      {
       "output_type": "stream",
       "stream": "stdout",
       "text": [
        "\n",
        "Trying to fetch store# 78 from http://www.mcpennsylvania.com/78\n",
        "  Read 23554 bytes"
       ]
      },
      {
       "output_type": "stream",
       "stream": "stdout",
       "text": [
        "\n",
        "  Address is 350 E. St. Charles Rd.|Villa Park, IL 60181\n",
        "  Geocoded to {u'lat': 41.89037800000001, u'lng': -87.970017}"
       ]
      },
      {
       "output_type": "stream",
       "stream": "stdout",
       "text": [
        "\n",
        "Trying to fetch store# 79 from http://www.mcpennsylvania.com/79\n",
        "  Read 16779 bytes"
       ]
      },
      {
       "output_type": "stream",
       "stream": "stdout",
       "text": [
        "\n",
        "  Address is 2402 S Park St|Madison, WI 53713\n",
        "  Geocoded to {u'lat': 43.03951000000001, u'lng': -89.3947189}"
       ]
      },
      {
       "output_type": "stream",
       "stream": "stdout",
       "text": [
        "\n",
        "Trying to fetch store# 80 from http://www.mcpennsylvania.com/80\n",
        "  Read 17584 bytes"
       ]
      },
      {
       "output_type": "stream",
       "stream": "stdout",
       "text": [
        "\n",
        "  Address is 401 Summit Ave.|Elgin, IL 60120\n",
        "  Geocoded to {u'lat': 42.0458347, u'lng': -88.2754721}"
       ]
      },
      {
       "output_type": "stream",
       "stream": "stdout",
       "text": [
        "\n",
        "Trying to fetch store# 81 from http://www.mcpennsylvania.com/81\n",
        "  Read 9425 bytes"
       ]
      },
      {
       "output_type": "stream",
       "stream": "stdout",
       "text": [
        "\n",
        "  Store not found\n",
        "Trying to fetch store# 82 from http://www.mcpennsylvania.com/82\n",
        "  Read 17002 bytes"
       ]
      },
      {
       "output_type": "stream",
       "stream": "stdout",
       "text": [
        "\n",
        "  Address is 1117 Howard St.|Evanston, IL 60202\n",
        "  Geocoded to {u'lat': 42.0197767, u'lng': -87.6877039}"
       ]
      },
      {
       "output_type": "stream",
       "stream": "stdout",
       "text": [
        "\n",
        "Trying to fetch store# 83 from http://www.mcpennsylvania.com/83\n",
        "  Read 15598 bytes"
       ]
      },
      {
       "output_type": "stream",
       "stream": "stdout",
       "text": [
        "\n",
        "  Address is 5022 N. Harlem Ave.|Harwood Heights, IL 60656\n",
        "  Geocoded to {u'lat': 41.9715764, u'lng': -87.8071175}"
       ]
      },
      {
       "output_type": "stream",
       "stream": "stdout",
       "text": [
        "\n",
        "Trying to fetch store# 84 from http://www.mcpennsylvania.com/84\n",
        "  Read 16462 bytes"
       ]
      },
      {
       "output_type": "stream",
       "stream": "stdout",
       "text": [
        "\n",
        "  Address is 6808 Elm Street|McLean, VA 22101\n",
        "  Geocoded to {u'lat': 38.934671, u'lng': -77.1775}"
       ]
      },
      {
       "output_type": "stream",
       "stream": "stdout",
       "text": [
        "\n",
        "Wrote 40 locations to /Users/Ya/projects/mcdonalds/mcdonalds_locations.json\n",
        "Trying to fetch store# 85 from http://www.mcpennsylvania.com/85\n",
        "  Read 9425 bytes"
       ]
      },
      {
       "output_type": "stream",
       "stream": "stdout",
       "text": [
        "\n",
        "  Store not found\n",
        "Trying to fetch store# 86 from http://www.mcpennsylvania.com/86\n",
        "  Read 19256 bytes"
       ]
      },
      {
       "output_type": "stream",
       "stream": "stdout",
       "text": [
        "\n",
        "  Address is 3515 S. Dale Mabry Hwy|Tampa, FL 33629\n",
        "  Geocoded to {u'lat': 27.9109181, u'lng': -82.5067557}"
       ]
      },
      {
       "output_type": "stream",
       "stream": "stdout",
       "text": [
        "\n",
        "Trying to fetch store# 87 from http://www.mcpennsylvania.com/87\n",
        "  Read 16601 bytes"
       ]
      },
      {
       "output_type": "stream",
       "stream": "stdout",
       "text": [
        "\n",
        "  Address is 1570 E. Northwest Hwy|Palatine, IL 60067\n",
        "  Geocoded to {u'lat': 42.1323952, u'lng': -88.0912357}"
       ]
      },
      {
       "output_type": "stream",
       "stream": "stdout",
       "text": [
        "\n",
        "Trying to fetch store# 88 from http://www.mcpennsylvania.com/88\n",
        "  Read 17279 bytes"
       ]
      },
      {
       "output_type": "stream",
       "stream": "stdout",
       "text": [
        "\n",
        "  Address is 804 South Main Street|Bloomington-Normal, IL 61761\n",
        "  Geocoded to {u'lat': 40.5033763, u'lng': -88.99412219999999}"
       ]
      },
      {
       "output_type": "stream",
       "stream": "stdout",
       "text": [
        "\n",
        "Trying to fetch store# 89 from http://www.mcpennsylvania.com/89\n",
        "  Read 9425 bytes"
       ]
      },
      {
       "output_type": "stream",
       "stream": "stdout",
       "text": [
        "\n",
        "  Store not found\n",
        "Trying to fetch store# 90 from http://www.mcpennsylvania.com/90\n",
        "  Read 16975 bytes"
       ]
      },
      {
       "output_type": "stream",
       "stream": "stdout",
       "text": [
        "\n",
        "  Address is 3433 Avenue of the Cities|Moline, IL 61265\n",
        "  Geocoded to {u'lat': 41.4915597, u'lng': -90.4880359}"
       ]
      },
      {
       "output_type": "stream",
       "stream": "stdout",
       "text": [
        "\n",
        "Trying to fetch store# 91 from http://www.mcpennsylvania.com/91\n",
        "  Read 16852 bytes"
       ]
      },
      {
       "output_type": "stream",
       "stream": "stdout",
       "text": [
        "\n",
        "  Address is 1587 Shawano Ave|Green Bay, WI 54303\n",
        "  Geocoded to {u'lat': 44.52962609999999, u'lng': -88.06055669999999}"
       ]
      },
      {
       "output_type": "stream",
       "stream": "stdout",
       "text": [
        "\n",
        "Trying to fetch store# 92 from http://www.mcpennsylvania.com/92\n",
        "  Read 9425 bytes"
       ]
      },
      {
       "output_type": "stream",
       "stream": "stdout",
       "text": [
        "\n",
        "  Store not found\n",
        "Trying to fetch store# 93 from http://www.mcpennsylvania.com/93\n",
        "  Read 17734 bytes"
       ]
      },
      {
       "output_type": "stream",
       "stream": "stdout",
       "text": [
        "\n",
        "  Address is 6320 W. Lake St.|St. Louis Park, MN 55416\n",
        "  Geocoded to {u'lat': 44.9424539, u'lng': -93.3598825}"
       ]
      },
      {
       "output_type": "stream",
       "stream": "stdout",
       "text": [
        "\n",
        "Trying to fetch store# 94 from http://www.mcpennsylvania.com/94\n",
        "  Read 17556 bytes"
       ]
      },
      {
       "output_type": "stream",
       "stream": "stdout",
       "text": [
        "\n",
        "  Address is 1443 Madison Rd|Beloit, WI 53511\n",
        "  Geocoded to {u'lat': 42.5171638, u'lng': -89.06321530000001}"
       ]
      },
      {
       "output_type": "stream",
       "stream": "stdout",
       "text": [
        "\n",
        "Trying to fetch store# 95 from http://www.mcpennsylvania.com/95\n",
        "  Read 17610 bytes"
       ]
      },
      {
       "output_type": "stream",
       "stream": "stdout",
       "text": [
        "\n",
        "  Address is 1622 Milton Avenue|Janesville, WI 53545\n",
        "  Geocoded to {u'lat': 42.7040484, u'lng': -89.00632399999999}"
       ]
      },
      {
       "output_type": "stream",
       "stream": "stdout",
       "text": [
        "\n",
        "Trying to fetch store# 96 from http://www.mcpennsylvania.com/96\n",
        "  Read 9425 bytes"
       ]
      },
      {
       "output_type": "stream",
       "stream": "stdout",
       "text": [
        "\n",
        "  Store not found\n",
        "Trying to fetch store# 97 from http://www.mcpennsylvania.com/97\n",
        "  Read 17924 bytes"
       ]
      },
      {
       "output_type": "stream",
       "stream": "stdout",
       "text": [
        "\n",
        "  Address is 5008 State St.|Saginaw, MI 48603\n",
        "  Geocoded to {u'lat': 43.4372653, u'lng': -84.0152171}"
       ]
      },
      {
       "output_type": "stream",
       "stream": "stdout",
       "text": [
        "\n",
        "Trying to fetch store# 98 from http://www.mcpennsylvania.com/98\n",
        "  Read 9425 bytes"
       ]
      },
      {
       "output_type": "stream",
       "stream": "stdout",
       "text": [
        "\n",
        "  Store not found\n",
        "Trying to fetch store# 99 from http://www.mcpennsylvania.com/99\n",
        "  Read 9425 bytes"
       ]
      },
      {
       "output_type": "stream",
       "stream": "stdout",
       "text": [
        "\n",
        "  Store not found\n",
        "Trying to fetch store# 100 from http://www.mcpennsylvania.com/100\n",
        "  Read 17646 bytes"
       ]
      },
      {
       "output_type": "stream",
       "stream": "stdout",
       "text": [
        "\n",
        "  Address is 715 E. Memorial Blvd|Lakeland, FL 33801\n",
        "  Geocoded to {u'lat': 28.0546697, u'lng': -81.95060199999999}"
       ]
      },
      {
       "output_type": "stream",
       "stream": "stdout",
       "text": [
        "\n",
        "Wrote 50 locations to /Users/Ya/projects/mcdonalds/mcdonalds_locations.json\n",
        "Trying to fetch store# 101 from http://www.mcpennsylvania.com/101\n",
        "  Read 18467 bytes"
       ]
      },
      {
       "output_type": "stream",
       "stream": "stdout",
       "text": [
        "\n",
        "  Address is 530 S. Waukegan Rd.|Glenview, IL 60025\n",
        "  Geocoded to {u'lat': 42.0637526, u'lng': -87.7997414}"
       ]
      },
      {
       "output_type": "stream",
       "stream": "stdout",
       "text": [
        "\n",
        "Trying to fetch store# 102 from http://www.mcpennsylvania.com/102\n",
        "  Read 9429 bytes"
       ]
      },
      {
       "output_type": "stream",
       "stream": "stdout",
       "text": [
        "\n",
        "  Store not found\n",
        "Trying to fetch store# 103 from http://www.mcpennsylvania.com/103\n",
        "  Read 16858 bytes"
       ]
      },
      {
       "output_type": "stream",
       "stream": "stdout",
       "text": [
        "\n",
        "  Address is 1941 West Street|Annapolis, MD 21401\n",
        "  Geocoded to {u'lat': 38.9805242, u'lng': -76.52766319999999}"
       ]
      },
      {
       "output_type": "stream",
       "stream": "stdout",
       "text": [
        "\n",
        "Trying to fetch store# 104 from http://www.mcpennsylvania.com/104\n",
        "  Read 16533 bytes"
       ]
      },
      {
       "output_type": "stream",
       "stream": "stdout",
       "text": [
        "\n",
        "  Address is 5501 Livingston Road, S.E.|Forest Heights, MD 20745\n",
        "  Geocoded to {u'lat': 38.814886, u'lng': -76.9977773}"
       ]
      },
      {
       "output_type": "stream",
       "stream": "stdout",
       "text": [
        "\n",
        "Trying to fetch store# 105 from http://www.mcpennsylvania.com/105\n",
        "  Read 9429 bytes"
       ]
      },
      {
       "output_type": "stream",
       "stream": "stdout",
       "text": [
        "\n",
        "  Store not found\n",
        "Trying to fetch store# 106 from http://www.mcpennsylvania.com/106\n",
        "  Read 9429 bytes"
       ]
      },
      {
       "output_type": "stream",
       "stream": "stdout",
       "text": [
        "\n",
        "  Store not found\n",
        "Trying to fetch store# 107 from http://www.mcpennsylvania.com/107\n",
        "  Read 9429 bytes"
       ]
      },
      {
       "output_type": "stream",
       "stream": "stdout",
       "text": [
        "\n",
        "  Store not found\n",
        "Trying to fetch store# 108 from http://www.mcpennsylvania.com/108\n",
        "  Read 27584 bytes"
       ]
      },
      {
       "output_type": "stream",
       "stream": "stdout",
       "text": [
        "\n",
        "  Address is 109 South Gilbert Street|Danville, IL 61832\n",
        "  Geocoded to {u'lat': 40.1193942, u'lng': -87.63665499999999}"
       ]
      },
      {
       "output_type": "stream",
       "stream": "stdout",
       "text": [
        "\n",
        "Trying to fetch store# 109 from http://www.mcpennsylvania.com/109\n",
        "  Read 17930 bytes"
       ]
      },
      {
       "output_type": "stream",
       "stream": "stdout",
       "text": [
        "\n",
        "  Address is 1800 28th St.|Boulder, CO 80301\n",
        "  Geocoded to {u'lat': 40.019227, u'lng': -105.257828}"
       ]
      },
      {
       "output_type": "stream",
       "stream": "stdout",
       "text": [
        "\n",
        "Trying to fetch store# 110 from http://www.mcpennsylvania.com/110\n",
        "  Read 44272 bytes"
       ]
      },
      {
       "output_type": "stream",
       "stream": "stdout",
       "text": [
        "\n",
        "  Address is 4319 Peach St.|Erie, PA 16509\n",
        "  Geocoded to {u'lat': 42.089276, u'lng': -80.0853319}"
       ]
      },
      {
       "output_type": "stream",
       "stream": "stdout",
       "text": [
        "\n",
        "Trying to fetch store# 111 from http://www.mcpennsylvania.com/111\n",
        "  Read 9429 bytes"
       ]
      },
      {
       "output_type": "stream",
       "stream": "stdout",
       "text": [
        "\n",
        "  Store not found\n",
        "Trying to fetch store# 112 from http://www.mcpennsylvania.com/112\n",
        "  Read 17293 bytes"
       ]
      },
      {
       "output_type": "stream",
       "stream": "stdout",
       "text": [
        "\n",
        "  Address is 500 E. Charles St.|Muncie, IN 47305\n",
        "  Geocoded to {u'lat': 40.191249, u'lng': -85.38147699999999}"
       ]
      },
      {
       "output_type": "stream",
       "stream": "stdout",
       "text": [
        "\n",
        "Trying to fetch store# 113 from http://www.mcpennsylvania.com/113\n",
        "  Read 9429 bytes"
       ]
      },
      {
       "output_type": "stream",
       "stream": "stdout",
       "text": [
        "\n",
        "  Store not found\n",
        "Trying to fetch store# 114 from http://www.mcpennsylvania.com/114\n",
        "  Read 9429 bytes"
       ]
      },
      {
       "output_type": "stream",
       "stream": "stdout",
       "text": [
        "\n",
        "  Store not found\n",
        "Trying to fetch store# 115 from http://www.mcpennsylvania.com/115\n",
        "  Read 9429 bytes"
       ]
      },
      {
       "output_type": "stream",
       "stream": "stdout",
       "text": [
        "\n",
        "  Store not found\n",
        "Trying to fetch store# 116 from http://www.mcpennsylvania.com/116\n",
        "  Read 17168 bytes"
       ]
      },
      {
       "output_type": "stream",
       "stream": "stdout",
       "text": [
        "\n",
        "  Address is 8600 Dixie Hwy|Louisville, KY 40258\n",
        "  Geocoded to {u'lat': 38.127948, u'lng': -85.850494}"
       ]
      },
      {
       "output_type": "stream",
       "stream": "stdout",
       "text": [
        "\n",
        "Trying to fetch store# 117 from http://www.mcpennsylvania.com/117\n",
        "  Read 18195 bytes"
       ]
      },
      {
       "output_type": "stream",
       "stream": "stdout",
       "text": [
        "\n",
        "  Address is 1221 28th St. SW|Wyoming, MI 49509\n",
        "  Geocoded to {u'lat': 42.9138688, u'lng': -85.69634789999999}"
       ]
      },
      {
       "output_type": "stream",
       "stream": "stdout",
       "text": [
        "\n",
        "Trying to fetch store# 118 from http://www.mcpennsylvania.com/118\n",
        "  Read 9429 bytes"
       ]
      },
      {
       "output_type": "stream",
       "stream": "stdout",
       "text": [
        "\n",
        "  Store not found\n",
        "Trying to fetch store# 119 from http://www.mcpennsylvania.com/119\n",
        "  Read 16929 bytes"
       ]
      },
      {
       "output_type": "stream",
       "stream": "stdout",
       "text": [
        "\n",
        "  Address is 1330 N Milwaukee Ave|Libertyville, IL 60048\n",
        "  Geocoded to {u'lat': 42.2975559, u'lng': -87.95610909999999}"
       ]
      },
      {
       "output_type": "stream",
       "stream": "stdout",
       "text": [
        "\n",
        "Wrote 60 locations to /Users/Ya/projects/mcdonalds/mcdonalds_locations.json\n",
        "Trying to fetch store# 120 from http://www.mcpennsylvania.com/120\n",
        "  Read 9429 bytes"
       ]
      },
      {
       "output_type": "stream",
       "stream": "stdout",
       "text": [
        "\n",
        "  Store not found\n",
        "Trying to fetch store# 121 from http://www.mcpennsylvania.com/121\n",
        "  Read 21900 bytes"
       ]
      },
      {
       "output_type": "stream",
       "stream": "stdout",
       "text": [
        "\n",
        "  Address is 2307 North Avenue|Sheboygan, WI 53083\n",
        "  Geocoded to {u'lat': 43.773609, u'lng': -87.736729}"
       ]
      },
      {
       "output_type": "stream",
       "stream": "stdout",
       "text": [
        "\n",
        "Trying to fetch store# 122 from http://www.mcpennsylvania.com/122\n",
        "  Read 17343 bytes"
       ]
      },
      {
       "output_type": "stream",
       "stream": "stdout",
       "text": [
        "\n",
        "  Address is 2692 Government Blvd|Mobile, AL 36606\n",
        "  Geocoded to {u'lat': 30.6661819, u'lng': -88.10647689999999}"
       ]
      },
      {
       "output_type": "stream",
       "stream": "stdout",
       "text": [
        "\n",
        "Trying to fetch store# 123 from http://www.mcpennsylvania.com/123\n",
        "  Read 17194 bytes"
       ]
      },
      {
       "output_type": "stream",
       "stream": "stdout",
       "text": [
        "\n",
        "  Address is 6729 Arlington Blvd.|Falls Church, VA 22042\n",
        "  Geocoded to {u'lat': 38.8688292, u'lng': -77.17682769999999}"
       ]
      },
      {
       "output_type": "stream",
       "stream": "stdout",
       "text": [
        "\n",
        "Trying to fetch store# 124 from http://www.mcpennsylvania.com/124\n",
        "  Read 20441 bytes"
       ]
      },
      {
       "output_type": "stream",
       "stream": "stdout",
       "text": [
        "\n",
        "  Address is 1321 Union Boulevard|Allentown, PA 18103\n",
        "  Geocoded to {u'lat': 40.6250395, u'lng': -75.435425}"
       ]
      },
      {
       "output_type": "stream",
       "stream": "stdout",
       "text": [
        "\n",
        "Trying to fetch store# 125 from http://www.mcpennsylvania.com/125\n",
        "  Read 9429 bytes"
       ]
      },
      {
       "output_type": "stream",
       "stream": "stdout",
       "text": [
        "\n",
        "  Store not found\n",
        "Trying to fetch store# 126 from http://www.mcpennsylvania.com/126\n",
        "  Read 9429 bytes"
       ]
      },
      {
       "output_type": "stream",
       "stream": "stdout",
       "text": [
        "\n",
        "  Store not found\n",
        "Trying to fetch store# 127 from http://www.mcpennsylvania.com/127\n",
        "  Read 9429 bytes"
       ]
      },
      {
       "output_type": "stream",
       "stream": "stdout",
       "text": [
        "\n",
        "  Store not found\n",
        "Trying to fetch store# 128 from http://www.mcpennsylvania.com/128\n",
        "  Read 17190 bytes"
       ]
      },
      {
       "output_type": "stream",
       "stream": "stdout",
       "text": [
        "\n",
        "  Address is 7502 Lincoln Hwy E|Fort Wayne, IN 46803\n",
        "  Geocoded to {u'lat': 41.0693984, u'lng': -85.0452465}"
       ]
      },
      {
       "output_type": "stream",
       "stream": "stdout",
       "text": [
        "\n",
        "Trying to fetch store# 129 from http://www.mcpennsylvania.com/129\n",
        "  Read 9429 bytes"
       ]
      },
      {
       "output_type": "stream",
       "stream": "stdout",
       "text": [
        "\n",
        "  Store not found\n",
        "Trying to fetch store# 130 from http://www.mcpennsylvania.com/130\n",
        "  Read 9429 bytes"
       ]
      },
      {
       "output_type": "stream",
       "stream": "stdout",
       "text": [
        "\n",
        "  Store not found\n",
        "Trying to fetch store# 131 from http://www.mcpennsylvania.com/131\n",
        "  Read 9429 bytes"
       ]
      },
      {
       "output_type": "stream",
       "stream": "stdout",
       "text": [
        "\n",
        "  Store not found\n",
        "Trying to fetch store# 132 from http://www.mcpennsylvania.com/132\n",
        "  Read 16637 bytes"
       ]
      },
      {
       "output_type": "stream",
       "stream": "stdout",
       "text": [
        "\n",
        "  Address is 1863 N Jackson St|Oshkosh, WI 54901\n",
        "  Geocoded to {u'lat': 44.04071039999999, u'lng': -88.5430536}"
       ]
      },
      {
       "output_type": "stream",
       "stream": "stdout",
       "text": [
        "\n",
        "Trying to fetch store# 133 from http://www.mcpennsylvania.com/133\n",
        "  Read 9429 bytes"
       ]
      },
      {
       "output_type": "stream",
       "stream": "stdout",
       "text": [
        "\n",
        "  Store not found\n",
        "Trying to fetch store# 134 from http://www.mcpennsylvania.com/134\n",
        "  Read 17900 bytes"
       ]
      },
      {
       "output_type": "stream",
       "stream": "stdout",
       "text": [
        "\n",
        "  Address is 107 Main St.|Islip, NY 11751\n",
        "  Geocoded to {u'lat': 40.7282972, u'lng': -73.22541989999999}"
       ]
      },
      {
       "output_type": "stream",
       "stream": "stdout",
       "text": [
        "\n",
        "Trying to fetch store# 135 from http://www.mcpennsylvania.com/135\n",
        "  Read 16262 bytes"
       ]
      },
      {
       "output_type": "stream",
       "stream": "stdout",
       "text": [
        "\n",
        "  Address is 501 West Sunshine|Springfield, MO 65807\n",
        "  Geocoded to {u'lat': 37.1827216, u'lng': -93.29677749999999}"
       ]
      },
      {
       "output_type": "stream",
       "stream": "stdout",
       "text": [
        "\n",
        "Trying to fetch store# 136 from http://www.mcpennsylvania.com/136\n",
        "  Read 9429 bytes"
       ]
      },
      {
       "output_type": "stream",
       "stream": "stdout",
       "text": [
        "\n",
        "  Store not found\n",
        "Trying to fetch store# 137 from http://www.mcpennsylvania.com/137\n",
        "  Read 9429 bytes"
       ]
      },
      {
       "output_type": "stream",
       "stream": "stdout",
       "text": [
        "\n",
        "  Store not found\n",
        "Trying to fetch store# 138 from http://www.mcpennsylvania.com/138\n",
        "  Read 9429 bytes"
       ]
      },
      {
       "output_type": "stream",
       "stream": "stdout",
       "text": [
        "\n",
        "  Store not found\n",
        "Trying to fetch store# 139 from http://www.mcpennsylvania.com/139\n",
        "  Read 16917 bytes"
       ]
      },
      {
       "output_type": "stream",
       "stream": "stdout",
       "text": [
        "\n",
        "  Address is 1024 E. Grand River|East Lansing, MI 48823\n",
        "  Geocoded to {u'lat': 42.7312269, u'lng': -84.470168}"
       ]
      },
      {
       "output_type": "stream",
       "stream": "stdout",
       "text": [
        "\n",
        "Trying to fetch store# 140 from http://www.mcpennsylvania.com/140\n",
        "  Read 9429 bytes"
       ]
      },
      {
       "output_type": "stream",
       "stream": "stdout",
       "text": [
        "\n",
        "  Store not found\n",
        "Trying to fetch store# 141 from http://www.mcpennsylvania.com/141\n",
        "  Read 9429 bytes"
       ]
      },
      {
       "output_type": "stream",
       "stream": "stdout",
       "text": [
        "\n",
        "  Store not found\n",
        "Trying to fetch store# 142 from http://www.mcpennsylvania.com/142\n",
        "  Read 17261 bytes"
       ]
      },
      {
       "output_type": "stream",
       "stream": "stdout",
       "text": [
        "\n",
        "  Address is 3701 Broadway|Fair Lawn, NJ 07410\n",
        "  Geocoded to {u'lat': 40.9261469, u'lng': -74.0997096}"
       ]
      },
      {
       "output_type": "stream",
       "stream": "stdout",
       "text": [
        "\n",
        "Wrote 70 locations to /Users/Ya/projects/mcdonalds/mcdonalds_locations.json\n",
        "Trying to fetch store# 143 from http://www.mcpennsylvania.com/143\n",
        "  Read 9429 bytes"
       ]
      },
      {
       "output_type": "stream",
       "stream": "stdout",
       "text": [
        "\n",
        "  Store not found\n",
        "Trying to fetch store# 144 from http://www.mcpennsylvania.com/144\n",
        "  Read 18174 bytes"
       ]
      },
      {
       "output_type": "stream",
       "stream": "stdout",
       "text": [
        "\n",
        "  Address is 1425 Missouri Blvd.|Jefferson City, MO 65109\n",
        "  Geocoded to {u'lat': 38.5790901, u'lng': -92.1951896}"
       ]
      },
      {
       "output_type": "stream",
       "stream": "stdout",
       "text": [
        "\n",
        "Trying to fetch store# 145 from http://www.mcpennsylvania.com/145\n",
        "  Read 9429 bytes"
       ]
      },
      {
       "output_type": "stream",
       "stream": "stdout",
       "text": [
        "\n",
        "  Store not found\n",
        "Trying to fetch store# 146 from http://www.mcpennsylvania.com/146\n",
        "  Read 17982 bytes"
       ]
      },
      {
       "output_type": "stream",
       "stream": "stdout",
       "text": [
        "\n",
        "  Address is 28220 John R/12 Mile Rd|Madison Heights, MI 48071\n",
        "  Geocoded to {u'lat': 42.5047709, u'lng': -83.105879}"
       ]
      },
      {
       "output_type": "stream",
       "stream": "stdout",
       "text": [
        "\n",
        "Trying to fetch store# 147 from http://www.mcpennsylvania.com/147\n",
        "  Read 17022 bytes"
       ]
      },
      {
       "output_type": "stream",
       "stream": "stdout",
       "text": [
        "\n",
        "  Address is 207 N. Wahsatch|Colorado Springs, CO 80903\n",
        "  Geocoded to {u'lat': 38.836865, u'lng': -104.8173039}"
       ]
      },
      {
       "output_type": "stream",
       "stream": "stdout",
       "text": [
        "\n",
        "Trying to fetch store# 148 from http://www.mcpennsylvania.com/148\n",
        "  Read 18987 bytes"
       ]
      },
      {
       "output_type": "stream",
       "stream": "stdout",
       "text": [
        "\n",
        "  Address is 2375 Berlin Tpke|Newington, CT 06111\n",
        "  Geocoded to {u'lat': 41.6877626, u'lng': -72.7081496}"
       ]
      },
      {
       "output_type": "stream",
       "stream": "stdout",
       "text": [
        "\n",
        "Trying to fetch store# 149 from http://www.mcpennsylvania.com/149\n",
        "  Read 9429 bytes"
       ]
      },
      {
       "output_type": "stream",
       "stream": "stdout",
       "text": [
        "\n",
        "  Store not found\n",
        "Trying to fetch store# 150 from http://www.mcpennsylvania.com/150\n",
        "  Read 9429 bytes"
       ]
      },
      {
       "output_type": "stream",
       "stream": "stdout",
       "text": [
        "\n",
        "  Store not found\n",
        "Trying to fetch store# 151 from http://www.mcpennsylvania.com/151\n",
        "  Read 19455 bytes"
       ]
      },
      {
       "output_type": "stream",
       "stream": "stdout",
       "text": [
        "\n",
        "  Address is 8214 N. Florida Ave.|Tampa, FL 33604\n",
        "  Geocoded to {u'lat': 28.023043, u'lng': -82.459952}"
       ]
      },
      {
       "output_type": "stream",
       "stream": "stdout",
       "text": [
        "\n",
        "Trying to fetch store# 152 from http://www.mcpennsylvania.com/152\n",
        "  Read 17513 bytes"
       ]
      },
      {
       "output_type": "stream",
       "stream": "stdout",
       "text": [
        "\n",
        "  Address is 3645 Cleveland Ave.|Ft. Myers, FL 33901\n",
        "  Geocoded to {u'lat': 26.609518, u'lng': -81.87136199999999}"
       ]
      },
      {
       "output_type": "stream",
       "stream": "stdout",
       "text": [
        "\n",
        "Trying to fetch store# 153 from http://www.mcpennsylvania.com/153\n",
        "  Read 9429 bytes"
       ]
      },
      {
       "output_type": "stream",
       "stream": "stdout",
       "text": [
        "\n",
        "  Store not found\n",
        "Trying to fetch store# 154 from http://www.mcpennsylvania.com/154\n",
        "  Read 16928 bytes"
       ]
      },
      {
       "output_type": "stream",
       "stream": "stdout",
       "text": [
        "\n",
        "  Address is 1072 North Henderson Street|Galesburg, IL 61401\n",
        "  Geocoded to {u'lat': 40.9606083, u'lng': -90.3837231}"
       ]
      },
      {
       "output_type": "stream",
       "stream": "stdout",
       "text": [
        "\n",
        "Trying to fetch store# 155 from http://www.mcpennsylvania.com/155\n",
        "  Read 9429 bytes"
       ]
      },
      {
       "output_type": "stream",
       "stream": "stdout",
       "text": [
        "\n",
        "  Store not found\n",
        "Trying to fetch store# 156 from http://www.mcpennsylvania.com/156\n",
        "  Read 17269 bytes"
       ]
      },
      {
       "output_type": "stream",
       "stream": "stdout",
       "text": [
        "\n",
        "  Address is 255 E Coliseum Blvd|Fort Wayne, IN 46805\n",
        "  Geocoded to {u'lat': 41.1182733, u'lng': -85.1379424}"
       ]
      },
      {
       "output_type": "stream",
       "stream": "stdout",
       "text": [
        "\n",
        "Trying to fetch store# 157 from http://www.mcpennsylvania.com/157\n",
        "  Read 9429 bytes"
       ]
      },
      {
       "output_type": "stream",
       "stream": "stdout",
       "text": [
        "\n",
        "  Store not found\n",
        "Trying to fetch store# 158 from http://www.mcpennsylvania.com/158\n",
        "  Read 18020 bytes"
       ]
      },
      {
       "output_type": "stream",
       "stream": "stdout",
       "text": [
        "\n",
        "  Address is 1831 W. Sherman Blvd|Muskegon, MI 49441\n",
        "  Geocoded to {u'lat': 43.205254, u'lng': -86.2896694}"
       ]
      },
      {
       "output_type": "stream",
       "stream": "stdout",
       "text": [
        "\n",
        "Trying to fetch store# 159 from http://www.mcpennsylvania.com/159\n",
        "  Read 17510 bytes"
       ]
      },
      {
       "output_type": "stream",
       "stream": "stdout",
       "text": [
        "\n",
        "  Address is 1620 Service Drive|Winona, MN 55987\n",
        "  Geocoded to {u'lat': 44.0511317, u'lng': -91.6814306}"
       ]
      },
      {
       "output_type": "stream",
       "stream": "stdout",
       "text": [
        "\n",
        "Wrote 80 locations to /Users/Ya/projects/mcdonalds/mcdonalds_locations.json\n",
        "Trying to fetch store# 160 from http://www.mcpennsylvania.com/160\n",
        "  Read 17622 bytes"
       ]
      },
      {
       "output_type": "stream",
       "stream": "stdout",
       "text": [
        "\n",
        "  Address is 730 Route 18 N.|East Brunswick, NJ 08816\n",
        "  Geocoded to {u'lat': 40.4279875, u'lng': -74.3823554}"
       ]
      },
      {
       "output_type": "stream",
       "stream": "stdout",
       "text": [
        "\n",
        "Trying to fetch store# 161 from http://www.mcpennsylvania.com/161\n",
        "  Read 9429 bytes"
       ]
      },
      {
       "output_type": "stream",
       "stream": "stdout",
       "text": [
        "\n",
        "  Store not found\n",
        "Trying to fetch store# 162 from http://www.mcpennsylvania.com/162\n",
        "  Read 19492 bytes"
       ]
      },
      {
       "output_type": "stream",
       "stream": "stdout",
       "text": [
        "\n",
        "  Address is 1513 South Hastings Way|Eau Claire, WI 54701\n",
        "  Geocoded to {u'lat': 44.8024079, u'lng': -91.469304}"
       ]
      },
      {
       "output_type": "stream",
       "stream": "stdout",
       "text": [
        "\n",
        "Trying to fetch store# 163 from http://www.mcpennsylvania.com/163\n",
        "  Read 17732 bytes"
       ]
      },
      {
       "output_type": "stream",
       "stream": "stdout",
       "text": [
        "\n",
        "  Address is 699 S Military Rd|Fond du Lac, WI 54935\n",
        "  Geocoded to {u'lat': 43.7636821, u'lng': -88.46612139999999}"
       ]
      },
      {
       "output_type": "stream",
       "stream": "stdout",
       "text": [
        "\n",
        "Trying to fetch store# 164 from http://www.mcpennsylvania.com/164\n",
        "  Read 22242 bytes"
       ]
      },
      {
       "output_type": "stream",
       "stream": "stdout",
       "text": [
        "\n",
        "  Address is 3512 Calumet Ave|Manitowoc, WI 54220\n",
        "  Geocoded to {u'lat': 44.0837126, u'lng': -87.6917526}"
       ]
      },
      {
       "output_type": "stream",
       "stream": "stdout",
       "text": [
        "\n",
        "Trying to fetch store# 165 from http://www.mcpennsylvania.com/165\n",
        "  Read 17965 bytes"
       ]
      },
      {
       "output_type": "stream",
       "stream": "stdout",
       "text": [
        "\n",
        "  Address is 3137 South 76th Street|Milwaukee, WI 53219\n",
        "  Geocoded to {u'lat': 42.987426, u'lng': -88.00816999999999}"
       ]
      },
      {
       "output_type": "stream",
       "stream": "stdout",
       "text": [
        "\n",
        "Trying to fetch store# 166 from http://www.mcpennsylvania.com/166\n",
        "  Read 17405 bytes"
       ]
      },
      {
       "output_type": "stream",
       "stream": "stdout",
       "text": [
        "\n",
        "  Address is 1630 South Hillside|Wichita, KS 67211\n",
        "  Geocoded to {u'lat': 37.6640084, u'lng': -97.29844109999999}"
       ]
      },
      {
       "output_type": "stream",
       "stream": "stdout",
       "text": [
        "\n",
        "Trying to fetch store# 167 from http://www.mcpennsylvania.com/167\n",
        "  Read 9429 bytes"
       ]
      },
      {
       "output_type": "stream",
       "stream": "stdout",
       "text": [
        "\n",
        "  Store not found\n",
        "Trying to fetch store# 168 from http://www.mcpennsylvania.com/168\n",
        "  Read 16891 bytes"
       ]
      },
      {
       "output_type": "stream",
       "stream": "stdout",
       "text": [
        "\n",
        "  Address is 1825 South Macarthur Blvd.|Springfield, IL 62704\n",
        "  Geocoded to {u'lat': 39.7804706, u'lng': -89.6687218}"
       ]
      },
      {
       "output_type": "stream",
       "stream": "stdout",
       "text": [
        "\n",
        "Trying to fetch store# 169 from http://www.mcpennsylvania.com/169\n",
        "  Read 17692 bytes"
       ]
      },
      {
       "output_type": "stream",
       "stream": "stdout",
       "text": [
        "\n",
        "  Address is 407 W. Prospect|Jackson, MI 49203\n",
        "  Geocoded to {u'lat': 42.2269808, u'lng': -84.415972}"
       ]
      },
      {
       "output_type": "stream",
       "stream": "stdout",
       "text": [
        "\n",
        "Trying to fetch store# 170 from http://www.mcpennsylvania.com/170\n",
        "  Read 9429 bytes"
       ]
      },
      {
       "output_type": "stream",
       "stream": "stdout",
       "text": [
        "\n",
        "  Store not found\n",
        "Trying to fetch store# 171 from http://www.mcpennsylvania.com/171\n",
        "  Read 17617 bytes"
       ]
      },
      {
       "output_type": "stream",
       "stream": "stdout",
       "text": [
        "\n",
        "  Address is 205 Business Loop, 70 East|Columbia, MO 65203\n",
        "  Geocoded to {u'lat': 38.96514850000001, u'lng': -92.3349437}"
       ]
      },
      {
       "output_type": "stream",
       "stream": "stdout",
       "text": [
        "\n",
        "Trying to fetch store# 172 from http://www.mcpennsylvania.com/172\n",
        "  Read 9429 bytes"
       ]
      },
      {
       "output_type": "stream",
       "stream": "stdout",
       "text": [
        "\n",
        "  Store not found\n",
        "Trying to fetch store# 173 from http://www.mcpennsylvania.com/173\n",
        "  Read 18187 bytes"
       ]
      },
      {
       "output_type": "stream",
       "stream": "stdout",
       "text": [
        "\n",
        "  Address is 10915 West National Avenue|West Allis, WI 53227\n",
        "  Geocoded to {u'lat': 42.99262, u'lng': -88.048001}"
       ]
      },
      {
       "output_type": "stream",
       "stream": "stdout",
       "text": [
        "\n",
        "Wrote 90 locations to /Users/Ya/projects/mcdonalds/mcdonalds_locations.json\n",
        "Trying to fetch store# 174 from http://www.mcpennsylvania.com/174\n",
        "  Read 17668 bytes"
       ]
      },
      {
       "output_type": "stream",
       "stream": "stdout",
       "text": [
        "\n",
        "  Address is 22535 Lorain Rd.|Fairview Park, OH 44126\n",
        "  Geocoded to {u'lat': 41.4391942, u'lng': -81.86935439999999}"
       ]
      },
      {
       "output_type": "stream",
       "stream": "stdout",
       "text": [
        "\n",
        "Trying to fetch store# 175 from http://www.mcpennsylvania.com/175\n",
        "  Read 9429 bytes"
       ]
      },
      {
       "output_type": "stream",
       "stream": "stdout",
       "text": [
        "\n",
        "  Store not found\n",
        "Trying to fetch store# 176 from http://www.mcpennsylvania.com/176\n",
        "  Read 9429 bytes"
       ]
      },
      {
       "output_type": "stream",
       "stream": "stdout",
       "text": [
        "\n",
        "  Store not found\n",
        "Trying to fetch store# 177 from http://www.mcpennsylvania.com/177\n",
        "  Read 9429 bytes"
       ]
      },
      {
       "output_type": "stream",
       "stream": "stdout",
       "text": [
        "\n",
        "  Store not found\n",
        "Trying to fetch store# 178 from http://www.mcpennsylvania.com/178\n",
        "  Read 9429 bytes"
       ]
      },
      {
       "output_type": "stream",
       "stream": "stdout",
       "text": [
        "\n",
        "  Store not found\n",
        "Trying to fetch store# 179 from http://www.mcpennsylvania.com/179\n",
        "  Read 20410 bytes"
       ]
      },
      {
       "output_type": "stream",
       "stream": "stdout",
       "text": [
        "\n",
        "  Address is 918 N. Euclid|Bay City, MI 48706\n",
        "  Geocoded to {u'lat': 43.6125537, u'lng': -83.9146743}"
       ]
      },
      {
       "output_type": "stream",
       "stream": "stdout",
       "text": [
        "\n",
        "Trying to fetch store# 180 from http://www.mcpennsylvania.com/180\n",
        "  Read 17584 bytes"
       ]
      },
      {
       "output_type": "stream",
       "stream": "stdout",
       "text": [
        "\n",
        "  Address is 4219 Main St.|Bridgeport, CT 06606\n",
        "  Geocoded to {u'lat': 41.2175879, u'lng': -73.2150663}"
       ]
      },
      {
       "output_type": "stream",
       "stream": "stdout",
       "text": [
        "\n",
        "Trying to fetch store# 181 from http://www.mcpennsylvania.com/181\n",
        "  Read 17508 bytes"
       ]
      },
      {
       "output_type": "stream",
       "stream": "stdout",
       "text": [
        "\n",
        "  Address is 2440 8th Ave.|Greeley, CO 80631\n",
        "  Geocoded to {u'lat': 40.3986587, u'lng': -104.6905396}"
       ]
      },
      {
       "output_type": "stream",
       "stream": "stdout",
       "text": [
        "\n",
        "Trying to fetch store# 182 from http://www.mcpennsylvania.com/182\n",
        "  Read 9429 bytes"
       ]
      },
      {
       "output_type": "stream",
       "stream": "stdout",
       "text": [
        "\n",
        "  Store not found\n",
        "Trying to fetch store# 183 from http://www.mcpennsylvania.com/183\n",
        "  Read 16439 bytes"
       ]
      },
      {
       "output_type": "stream",
       "stream": "stdout",
       "text": [
        "\n",
        "  Address is 3839 Hempstead Turnpike|Levittown, NY 11756\n",
        "  Geocoded to {u'lat': 40.7258505, u'lng': -73.4941255}"
       ]
      },
      {
       "output_type": "stream",
       "stream": "stdout",
       "text": [
        "\n",
        "Trying to fetch store# 184 from http://www.mcpennsylvania.com/184\n",
        "  Read 9429 bytes"
       ]
      },
      {
       "output_type": "stream",
       "stream": "stdout",
       "text": [
        "\n",
        "  Store not found\n",
        "Trying to fetch store# 185 from http://www.mcpennsylvania.com/185\n",
        "  Read 9429 bytes"
       ]
      },
      {
       "output_type": "stream",
       "stream": "stdout",
       "text": [
        "\n",
        "  Store not found\n",
        "Trying to fetch store# 186 from http://www.mcpennsylvania.com/186\n",
        "  Read 9429 bytes"
       ]
      },
      {
       "output_type": "stream",
       "stream": "stdout",
       "text": [
        "\n",
        "  Store not found\n",
        "Trying to fetch store# 187 from http://www.mcpennsylvania.com/187\n",
        "  Read 17521 bytes"
       ]
      },
      {
       "output_type": "stream",
       "stream": "stdout",
       "text": [
        "\n",
        "  Address is 2901 Wilmington Pike|Kettering, OH 45419\n",
        "  Geocoded to {u'lat': 39.7047915, u'lng': -84.1424663}"
       ]
      },
      {
       "output_type": "stream",
       "stream": "stdout",
       "text": [
        "\n",
        "Trying to fetch store# 188 from http://www.mcpennsylvania.com/188\n",
        "  Read 16823 bytes"
       ]
      },
      {
       "output_type": "stream",
       "stream": "stdout",
       "text": [
        "\n",
        "  Address is 4700 S. Cedar St.|Lansing, MI 48910\n",
        "  Geocoded to {u'lat': 42.68647199999999, u'lng': -84.548485}"
       ]
      },
      {
       "output_type": "stream",
       "stream": "stdout",
       "text": [
        "\n",
        "Trying to fetch store# 189 from http://www.mcpennsylvania.com/189\n",
        "  Read 20529 bytes"
       ]
      },
      {
       "output_type": "stream",
       "stream": "stdout",
       "text": [
        "\n",
        "  Address is 1915 W. Main St.|St Charles, IL 60174\n",
        "  Geocoded to {u'lat': 41.912323, u'lng': -88.33748299999999}"
       ]
      },
      {
       "output_type": "stream",
       "stream": "stdout",
       "text": [
        "\n",
        "Trying to fetch store# 190 from http://www.mcpennsylvania.com/190\n",
        "  Read 20148 bytes"
       ]
      },
      {
       "output_type": "stream",
       "stream": "stdout",
       "text": [
        "\n",
        "  Address is 2401 S. College Ave.|Ft. Collins, CO 80525\n",
        "  Geocoded to {u'lat': 40.5560306, u'lng': -105.0775696}"
       ]
      },
      {
       "output_type": "stream",
       "stream": "stdout",
       "text": [
        "\n",
        "Trying to fetch store# 191 from http://www.mcpennsylvania.com/191\n",
        "  Read 16950 bytes"
       ]
      },
      {
       "output_type": "stream",
       "stream": "stdout",
       "text": [
        "\n",
        "  Address is 812 W. Columbia Ave.|Battle Creek, MI 49015\n",
        "  Geocoded to {u'lat': 42.2985638, u'lng': -85.2148342}"
       ]
      },
      {
       "output_type": "stream",
       "stream": "stdout",
       "text": [
        "\n",
        "Wrote 100 locations to /Users/Ya/projects/mcdonalds/mcdonalds_locations.json\n",
        "Trying to fetch store# 192 from http://www.mcpennsylvania.com/192\n",
        "  Read 17024 bytes"
       ]
      },
      {
       "output_type": "stream",
       "stream": "stdout",
       "text": [
        "\n",
        "  Address is 1101 Summit Ave|Greensboro, NC 27405\n",
        "  Geocoded to {u'lat': 36.089091, u'lng': -79.77461799999999}"
       ]
      },
      {
       "output_type": "stream",
       "stream": "stdout",
       "text": [
        "\n",
        "Trying to fetch store# 193 from http://www.mcpennsylvania.com/193\n",
        "  Read 16588 bytes"
       ]
      },
      {
       "output_type": "stream",
       "stream": "stdout",
       "text": [
        "\n",
        "  Address is 1385 Niagara Falls Blvd.|Amherst, NY 14226\n",
        "  Geocoded to {u'lat': 42.9917977, u'lng': -78.82182089999999}"
       ]
      },
      {
       "output_type": "stream",
       "stream": "stdout",
       "text": [
        "\n",
        "Trying to fetch store# 194 from http://www.mcpennsylvania.com/194\n",
        "  Read 9429 bytes"
       ]
      },
      {
       "output_type": "stream",
       "stream": "stdout",
       "text": [
        "\n",
        "  Store not found\n",
        "Trying to fetch store# 195 from http://www.mcpennsylvania.com/195\n",
        "  Read 9429 bytes"
       ]
      },
      {
       "output_type": "stream",
       "stream": "stdout",
       "text": [
        "\n",
        "  Store not found\n",
        "Trying to fetch store# 196 from http://www.mcpennsylvania.com/196\n",
        "  Read 9429 bytes"
       ]
      },
      {
       "output_type": "stream",
       "stream": "stdout",
       "text": [
        "\n",
        "  Store not found\n",
        "Trying to fetch store# 197 from http://www.mcpennsylvania.com/197\n",
        "  Read 17844 bytes"
       ]
      },
      {
       "output_type": "stream",
       "stream": "stdout",
       "text": [
        "\n",
        "  Address is 2021 E. Market St.|Akron, OH 44312\n",
        "  Geocoded to {u'lat': 41.0611762, u'lng': -81.4549715}"
       ]
      },
      {
       "output_type": "stream",
       "stream": "stdout",
       "text": [
        "\n",
        "Trying to fetch store# 198 from http://www.mcpennsylvania.com/198\n",
        "  Read 17453 bytes"
       ]
      },
      {
       "output_type": "stream",
       "stream": "stdout",
       "text": [
        "\n",
        "  Address is 1724 Middle Country Rd.|Centereach, NY 11720\n",
        "  Geocoded to {u'lat': 40.8596975, u'lng': -73.07270020000001}"
       ]
      },
      {
       "output_type": "stream",
       "stream": "stdout",
       "text": [
        "\n",
        "Trying to fetch store# 199 from http://www.mcpennsylvania.com/199\n",
        "  Read 9429 bytes"
       ]
      },
      {
       "output_type": "stream",
       "stream": "stdout",
       "text": [
        "\n",
        "  Store not found\n",
        "Trying to fetch store# 200 from http://www.mcpennsylvania.com/200\n",
        "  Read 17262 bytes"
       ]
      },
      {
       "output_type": "stream",
       "stream": "stdout",
       "text": [
        "\n",
        "  Address is 10775 Lee Highway|Fairfax, VA 22030\n",
        "  Geocoded to {u'lat': 38.8550939, u'lng': -77.31592719999999}"
       ]
      },
      {
       "output_type": "stream",
       "stream": "stdout",
       "text": [
        "\n",
        "Trying to fetch store# 201 from http://www.mcpennsylvania.com/201\n",
        "  Read 16572 bytes"
       ]
      },
      {
       "output_type": "stream",
       "stream": "stdout",
       "text": [
        "\n",
        "  Address is 57 Boston Post Rd|Orange, CT 06477\n",
        "  Geocoded to {u'lat': 41.2786178, u'lng': -72.9878456}"
       ]
      },
      {
       "output_type": "stream",
       "stream": "stdout",
       "text": [
        "\n",
        "Trying to fetch store# 202 from http://www.mcpennsylvania.com/202\n",
        "  Read 20572 bytes"
       ]
      },
      {
       "output_type": "stream",
       "stream": "stdout",
       "text": [
        "\n",
        "  Address is 4605 Central Ave. NE|Minneapolis, MN 55421\n",
        "  Geocoded to {u'lat': 45.052105, u'lng': -93.24673299999999}"
       ]
      },
      {
       "output_type": "stream",
       "stream": "stdout",
       "text": [
        "\n",
        "Trying to fetch store# 203 from http://www.mcpennsylvania.com/203\n",
        "  Read 17566 bytes"
       ]
      },
      {
       "output_type": "stream",
       "stream": "stdout",
       "text": [
        "\n",
        "  Address is 12109 NE Glisan Street|Portland, OR 97220\n",
        "  Geocoded to {u'lat': 45.52657960000001, u'lng': -122.5382615}"
       ]
      },
      {
       "output_type": "stream",
       "stream": "stdout",
       "text": [
        "\n",
        "Trying to fetch store# 204 from http://www.mcpennsylvania.com/204\n",
        "  Read 16436 bytes"
       ]
      },
      {
       "output_type": "stream",
       "stream": "stdout",
       "text": [
        "\n",
        "  Address is 2211 Greenbay Rd.|North Chicago, IL 60064\n",
        "  Geocoded to {u'lat': 42.3190195, u'lng': -87.8661692}"
       ]
      },
      {
       "output_type": "stream",
       "stream": "stdout",
       "text": [
        "\n",
        "Trying to fetch store# 205 from http://www.mcpennsylvania.com/205\n",
        "  Read 17269 bytes"
       ]
      },
      {
       "output_type": "stream",
       "stream": "stdout",
       "text": [
        "\n",
        "  Address is 15500 Broadway Ave|Maple Heights, OH 44137\n",
        "  Geocoded to {u'lat': 41.41727789999999, u'lng': -81.573332}"
       ]
      },
      {
       "output_type": "stream",
       "stream": "stdout",
       "text": [
        "\n",
        "Wrote 110 locations to /Users/Ya/projects/mcdonalds/mcdonalds_locations.json\n",
        "Trying to fetch store# 206 from http://www.mcpennsylvania.com/206\n",
        "  Read 9429 bytes"
       ]
      },
      {
       "output_type": "stream",
       "stream": "stdout",
       "text": [
        "\n",
        "  Store not found\n",
        "Trying to fetch store# 207 from http://www.mcpennsylvania.com/207\n",
        "  Read 16249 bytes"
       ]
      },
      {
       "output_type": "stream",
       "stream": "stdout",
       "text": [
        "\n",
        "  Address is 1154 Union Road|W. Seneca, NY 14224\n",
        "  Geocoded to {u'lat': 42.8312789, u'lng': -78.7541037}"
       ]
      },
      {
       "output_type": "stream",
       "stream": "stdout",
       "text": [
        "\n",
        "Trying to fetch store# 208 from http://www.mcpennsylvania.com/208\n",
        "  Read 9429 bytes"
       ]
      },
      {
       "output_type": "stream",
       "stream": "stdout",
       "text": [
        "\n",
        "  Store not found\n",
        "Trying to fetch store# 209 from http://www.mcpennsylvania.com/209\n",
        "  Read 17947 bytes"
       ]
      },
      {
       "output_type": "stream",
       "stream": "stdout",
       "text": [
        "\n",
        "  Address is 3093 Hamilton Blvd.|Sioux City, IA 51104\n",
        "  Geocoded to {u'lat': 42.5237863, u'lng': -96.4178036}"
       ]
      },
      {
       "output_type": "stream",
       "stream": "stdout",
       "text": [
        "\n",
        "Trying to fetch store# 210 from http://www.mcpennsylvania.com/210\n",
        "  Read 17286 bytes"
       ]
      },
      {
       "output_type": "stream",
       "stream": "stdout",
       "text": [
        "\n",
        "  Address is G-3391 S. Saginaw St.|Burton, MI 48529\n",
        "  Geocoded to {u'lat': 42.9782105, u'lng': -83.672883}"
       ]
      },
      {
       "output_type": "stream",
       "stream": "stdout",
       "text": [
        "\n",
        "Trying to fetch store# 211 from http://www.mcpennsylvania.com/211\n",
        "  Read 16758 bytes"
       ]
      },
      {
       "output_type": "stream",
       "stream": "stdout",
       "text": [
        "\n",
        "  Address is 2306 University Blvd.|Hyattsville, MD 20783\n",
        "  Geocoded to {u'lat': 38.984569, u'lng': -76.970637}"
       ]
      },
      {
       "output_type": "stream",
       "stream": "stdout",
       "text": [
        "\n",
        "Trying to fetch store# 212 from http://www.mcpennsylvania.com/212\n",
        "  Read 17266 bytes"
       ]
      },
      {
       "output_type": "stream",
       "stream": "stdout",
       "text": [
        "\n",
        "  Address is 1771 South Erie Blvd.|Hamilton, OH 45011\n",
        "  Geocoded to {u'lat': 39.3783806, u'lng': -84.5502644}"
       ]
      },
      {
       "output_type": "stream",
       "stream": "stdout",
       "text": [
        "\n",
        "Trying to fetch store# 213 from http://www.mcpennsylvania.com/213\n",
        "  Read 9429 bytes"
       ]
      },
      {
       "output_type": "stream",
       "stream": "stdout",
       "text": [
        "\n",
        "  Store not found\n",
        "Trying to fetch store# 214 from http://www.mcpennsylvania.com/214\n",
        "  Read 9429 bytes"
       ]
      },
      {
       "output_type": "stream",
       "stream": "stdout",
       "text": [
        "\n",
        "  Store not found\n",
        "Trying to fetch store# 215 from http://www.mcpennsylvania.com/215\n",
        "  Read 9429 bytes"
       ]
      },
      {
       "output_type": "stream",
       "stream": "stdout",
       "text": [
        "\n",
        "  Store not found\n",
        "Trying to fetch store# 216 from http://www.mcpennsylvania.com/216\n",
        "  Read 19739 bytes"
       ]
      },
      {
       "output_type": "stream",
       "stream": "stdout",
       "text": [
        "\n",
        "  Address is 805 Lincoln Hwy|DeKalb, IL 60115\n",
        "  Geocoded to {u'lat': 41.9315556, u'lng': -88.7681592}"
       ]
      },
      {
       "output_type": "stream",
       "stream": "stdout",
       "text": [
        "\n",
        "Trying to fetch store# 217 from http://www.mcpennsylvania.com/217\n",
        "  Read 17613 bytes"
       ]
      },
      {
       "output_type": "stream",
       "stream": "stdout",
       "text": [
        "\n",
        "  Address is 51 Tunnel Road|Asheville, NC 28805\n",
        "  Geocoded to {u'lat': 35.595399, u'lng': -82.53336}"
       ]
      },
      {
       "output_type": "stream",
       "stream": "stdout",
       "text": [
        "\n",
        "Trying to fetch store# 218 from http://www.mcpennsylvania.com/218\n",
        "  Read 9429 bytes"
       ]
      },
      {
       "output_type": "stream",
       "stream": "stdout",
       "text": [
        "\n",
        "  Store not found\n",
        "Trying to fetch store# 219 from http://www.mcpennsylvania.com/219\n",
        "  Read 17215 bytes"
       ]
      },
      {
       "output_type": "stream",
       "stream": "stdout",
       "text": [
        "\n",
        "  Address is 11025 E. Colfax Ave.|Aurora, CO 80010\n",
        "  Geocoded to {u'lat': 39.7404983, u'lng': -104.8597407}"
       ]
      },
      {
       "output_type": "stream",
       "stream": "stdout",
       "text": [
        "\n",
        "Trying to fetch store# 220 from http://www.mcpennsylvania.com/220\n",
        "  Read 17934 bytes"
       ]
      },
      {
       "output_type": "stream",
       "stream": "stdout",
       "text": [
        "\n",
        "  Address is 5900 Menual Blvd. NE|Albuquerque, NM 87110\n",
        "  Geocoded to {u'lat': 35.108694, u'lng': -106.5779256}"
       ]
      },
      {
       "output_type": "stream",
       "stream": "stdout",
       "text": [
        "\n",
        "Trying to fetch store# 221 from http://www.mcpennsylvania.com/221\n",
        "  Read 17288 bytes"
       ]
      },
      {
       "output_type": "stream",
       "stream": "stdout",
       "text": [
        "\n",
        "  Address is 334 E. Montauk Hwy|Lindenhurst, NY 11757\n",
        "  Geocoded to {u'lat': 40.6838141, u'lng': -73.3532639}"
       ]
      },
      {
       "output_type": "stream",
       "stream": "stdout",
       "text": [
        "\n",
        "Wrote 120 locations to /Users/Ya/projects/mcdonalds/mcdonalds_locations.json\n",
        "Trying to fetch store# 222 from http://www.mcpennsylvania.com/222\n",
        "  Read 17869 bytes"
       ]
      },
      {
       "output_type": "stream",
       "stream": "stdout",
       "text": [
        "\n",
        "  Address is 3212 Clio Rd.|Flint, MI 48504\n",
        "  Geocoded to {u'lat': 43.0453515, u'lng': -83.7320329}"
       ]
      },
      {
       "output_type": "stream",
       "stream": "stdout",
       "text": [
        "\n",
        "Trying to fetch store# 223 from http://www.mcpennsylvania.com/223\n",
        "  Read 17388 bytes"
       ]
      },
      {
       "output_type": "stream",
       "stream": "stdout",
       "text": [
        "\n",
        "  Address is 2223 West Main Street|Rapid City, SD 57704\n",
        "  Geocoded to {u'lat': 44.0814944, u'lng': -103.2567132}"
       ]
      },
      {
       "output_type": "stream",
       "stream": "stdout",
       "text": [
        "\n",
        "Trying to fetch store# 224 from http://www.mcpennsylvania.com/224\n",
        "  Read 9429 bytes"
       ]
      },
      {
       "output_type": "stream",
       "stream": "stdout",
       "text": [
        "\n",
        "  Store not found\n",
        "Trying to fetch store# 225 from http://www.mcpennsylvania.com/225\n",
        "  Read 17385 bytes"
       ]
      },
      {
       "output_type": "stream",
       "stream": "stdout",
       "text": [
        "\n",
        "  Address is 374 East Main Street|Newark, DE 19711\n",
        "  Geocoded to {u'lat': 39.6856185, u'lng': -75.7374234}"
       ]
      },
      {
       "output_type": "stream",
       "stream": "stdout",
       "text": [
        "\n",
        "Trying to fetch store# 226 from http://www.mcpennsylvania.com/226\n",
        "  Read 17851 bytes"
       ]
      },
      {
       "output_type": "stream",
       "stream": "stdout",
       "text": [
        "\n",
        "  Address is 2535 E. Lincoln Way|Cheyenne, WY 82001\n",
        "  Geocoded to {u'lat': 41.1372224, u'lng': -104.7665131}"
       ]
      },
      {
       "output_type": "stream",
       "stream": "stdout",
       "text": [
        "\n",
        "Trying to fetch store# 227 from http://www.mcpennsylvania.com/227\n",
        "  Read 9429 bytes"
       ]
      },
      {
       "output_type": "stream",
       "stream": "stdout",
       "text": [
        "\n",
        "  Store not found\n",
        "Trying to fetch store# 228 from http://www.mcpennsylvania.com/228\n",
        "  Read 9429 bytes"
       ]
      },
      {
       "output_type": "stream",
       "stream": "stdout",
       "text": [
        "\n",
        "  Store not found\n",
        "Trying to fetch store# 229 from http://www.mcpennsylvania.com/229\n",
        "  Read 17196 bytes"
       ]
      },
      {
       "output_type": "stream",
       "stream": "stdout",
       "text": [
        "\n",
        "  Address is 4757 W. Tuscarawas St.|Canton, OH 44708\n",
        "  Geocoded to {u'lat': 40.7954134, u'lng': -81.4357252}"
       ]
      },
      {
       "output_type": "stream",
       "stream": "stdout",
       "text": [
        "\n",
        "Trying to fetch store# 230 from http://www.mcpennsylvania.com/230\n",
        "  Read 9429 bytes"
       ]
      },
      {
       "output_type": "stream",
       "stream": "stdout",
       "text": [
        "\n",
        "  Store not found\n",
        "Trying to fetch store# 231 from http://www.mcpennsylvania.com/231\n",
        "  Read 17136 bytes"
       ]
      },
      {
       "output_type": "stream",
       "stream": "stdout",
       "text": [
        "\n",
        "  Address is 1966 Highway 27|Edison, NJ 08817\n",
        "  Geocoded to {u'lat': 40.5199076, u'lng': -74.39538399999999}"
       ]
      },
      {
       "output_type": "stream",
       "stream": "stdout",
       "text": [
        "\n",
        "Trying to fetch store# 232 from http://www.mcpennsylvania.com/232\n",
        "  Read 16310 bytes"
       ]
      },
      {
       "output_type": "stream",
       "stream": "stdout",
       "text": [
        "\n",
        "  Address is 1905 S. Federal Blvd.|Denver, CO 80219\n",
        "  Geocoded to {u'lat': 39.6821023, u'lng': -105.0251673}"
       ]
      },
      {
       "output_type": "stream",
       "stream": "stdout",
       "text": [
        "\n",
        "Trying to fetch store# 233 from http://www.mcpennsylvania.com/233\n",
        "  Read 9429 bytes"
       ]
      },
      {
       "output_type": "stream",
       "stream": "stdout",
       "text": [
        "\n",
        "  Store not found\n",
        "Trying to fetch store# 234 from http://www.mcpennsylvania.com/234\n",
        "  Read 18450 bytes"
       ]
      },
      {
       "output_type": "stream",
       "stream": "stdout",
       "text": [
        "\n",
        "  Address is 801 Highway 38|Cherry Hill, NJ 08034\n",
        "  Geocoded to {u'lat': 39.9360667, u'lng': -75.0441417}"
       ]
      },
      {
       "output_type": "stream",
       "stream": "stdout",
       "text": [
        "\n",
        "Trying to fetch store# 235 from http://www.mcpennsylvania.com/235\n",
        "  Read 18089 bytes"
       ]
      },
      {
       "output_type": "stream",
       "stream": "stdout",
       "text": [
        "\n",
        "  Address is 925 San Pedro Dr. NE|Albuquerque, NM 87108\n",
        "  Geocoded to {u'lat': 35.0867907, u'lng': -106.5777149}"
       ]
      },
      {
       "output_type": "stream",
       "stream": "stdout",
       "text": [
        "\n",
        "Trying to fetch store# 236 from http://www.mcpennsylvania.com/236\n",
        "  Read 17184 bytes"
       ]
      },
      {
       "output_type": "stream",
       "stream": "stdout",
       "text": [
        "\n",
        "  Address is 7916 Montgomery Road|Cincinnati, OH 45236\n",
        "  Geocoded to {u'lat': 39.1998691, u'lng': -84.3761392}"
       ]
      },
      {
       "output_type": "stream",
       "stream": "stdout",
       "text": [
        "\n",
        "Wrote 130 locations to /Users/Ya/projects/mcdonalds/mcdonalds_locations.json\n",
        "Trying to fetch store# 237 from http://www.mcpennsylvania.com/237\n",
        "  Read 9429 bytes"
       ]
      },
      {
       "output_type": "stream",
       "stream": "stdout",
       "text": [
        "\n",
        "  Store not found\n",
        "Trying to fetch store# 238 from http://www.mcpennsylvania.com/238\n",
        "  Read 9429 bytes"
       ]
      },
      {
       "output_type": "stream",
       "stream": "stdout",
       "text": [
        "\n",
        "  Store not found\n",
        "Trying to fetch store# 239 from http://www.mcpennsylvania.com/239\n",
        "  Read 9429 bytes"
       ]
      },
      {
       "output_type": "stream",
       "stream": "stdout",
       "text": [
        "\n",
        "  Store not found\n",
        "Trying to fetch store# 240 from http://www.mcpennsylvania.com/240\n",
        "  Read 16633 bytes"
       ]
      },
      {
       "output_type": "stream",
       "stream": "stdout",
       "text": [
        "\n",
        "  Address is 2425 E. 79th St.|Chicago, IL 60649\n",
        "  Geocoded to {u'lat': 41.7517111, u'lng': -87.5654114}"
       ]
      },
      {
       "output_type": "stream",
       "stream": "stdout",
       "text": [
        "\n",
        "Trying to fetch store# 241 from http://www.mcpennsylvania.com/241\n",
        "  Read 16789 bytes"
       ]
      },
      {
       "output_type": "stream",
       "stream": "stdout",
       "text": [
        "\n",
        "  Address is 1390 Rockville Pike|Rockville, MD 20852\n",
        "  Geocoded to {u'lat': 39.068177, u'lng': -77.12865599999999}"
       ]
      },
      {
       "output_type": "stream",
       "stream": "stdout",
       "text": [
        "\n",
        "Trying to fetch store# 242 from http://www.mcpennsylvania.com/242\n",
        "  Read 16929 bytes"
       ]
      },
      {
       "output_type": "stream",
       "stream": "stdout",
       "text": [
        "\n",
        "  Address is 1999 Jericho Turnpike|East Northport, NY 11731\n",
        "  Geocoded to {u'lat': 40.83893459999999, u'lng': -73.3278311}"
       ]
      },
      {
       "output_type": "stream",
       "stream": "stdout",
       "text": [
        "\n",
        "Trying to fetch store# 243 from http://www.mcpennsylvania.com/243\n",
        "  Read 9429 bytes"
       ]
      },
      {
       "output_type": "stream",
       "stream": "stdout",
       "text": [
        "\n",
        "  Store not found\n",
        "Trying to fetch store# 244 from http://www.mcpennsylvania.com/244\n",
        "  Read 9429 bytes"
       ]
      },
      {
       "output_type": "stream",
       "stream": "stdout",
       "text": [
        "\n",
        "  Store not found\n",
        "Trying to fetch store# 245 from http://www.mcpennsylvania.com/245\n",
        "  Read 9429 bytes"
       ]
      },
      {
       "output_type": "stream",
       "stream": "stdout",
       "text": [
        "\n",
        "  Store not found\n",
        "Trying to fetch store# 246 from http://www.mcpennsylvania.com/246\n",
        "  Read 9429 bytes"
       ]
      },
      {
       "output_type": "stream",
       "stream": "stdout",
       "text": [
        "\n",
        "  Store not found\n",
        "Trying to fetch store# 247 from http://www.mcpennsylvania.com/247\n",
        "  Read 9429 bytes"
       ]
      },
      {
       "output_type": "stream",
       "stream": "stdout",
       "text": [
        "\n",
        "  Store not found\n",
        "Trying to fetch store# 248 from http://www.mcpennsylvania.com/248\n",
        "  Read 18207 bytes"
       ]
      },
      {
       "output_type": "stream",
       "stream": "stdout",
       "text": [
        "\n",
        "  Address is 3814 Plainfield Ave NE|Grand Rapids, MI 49505\n",
        "  Geocoded to {u'lat': 43.0319057, u'lng': -85.62534819999999}"
       ]
      },
      {
       "output_type": "stream",
       "stream": "stdout",
       "text": [
        "\n",
        "Trying to fetch store# 249 from http://www.mcpennsylvania.com/249\n",
        "  Read 17496 bytes"
       ]
      },
      {
       "output_type": "stream",
       "stream": "stdout",
       "text": [
        "\n",
        "  Address is 510 North Orchard|Boise, ID 83704\n",
        "  Geocoded to {u'lat': 43.6093522, u'lng': -116.2429185}"
       ]
      },
      {
       "output_type": "stream",
       "stream": "stdout",
       "text": [
        "\n",
        "Trying to fetch store# 250 from http://www.mcpennsylvania.com/250\n",
        "  Read 17596 bytes"
       ]
      },
      {
       "output_type": "stream",
       "stream": "stdout",
       "text": [
        "\n",
        "  Address is 5170 Park Blvd.|Pinellas Park, FL 33780\n",
        "  Geocoded to {u'lat': 27.838765, u'lng': -82.703463}"
       ]
      },
      {
       "output_type": "stream",
       "stream": "stdout",
       "text": [
        "\n",
        "Trying to fetch store# 251 from http://www.mcpennsylvania.com/251\n",
        "  Read 9429 bytes"
       ]
      },
      {
       "output_type": "stream",
       "stream": "stdout",
       "text": [
        "\n",
        "  Store not found\n",
        "Trying to fetch store# 252 from http://www.mcpennsylvania.com/252\n",
        "  Read 17432 bytes"
       ]
      },
      {
       "output_type": "stream",
       "stream": "stdout",
       "text": [
        "\n",
        "  Address is 1107 N. Navy Blvd.|Pensacola, FL 32507\n",
        "  Geocoded to {u'lat': 30.40595029999999, u'lng': -87.275662}"
       ]
      },
      {
       "output_type": "stream",
       "stream": "stdout",
       "text": [
        "\n",
        "Trying to fetch store# 253 from http://www.mcpennsylvania.com/253\n",
        "  Read 16895 bytes"
       ]
      },
      {
       "output_type": "stream",
       "stream": "stdout",
       "text": [
        "\n",
        "  Address is 3510 Duke Street|Alexandria, VA 22304\n",
        "  Geocoded to {u'lat': 38.8085301, u'lng': -77.0908058}"
       ]
      },
      {
       "output_type": "stream",
       "stream": "stdout",
       "text": [
        "\n",
        "Trying to fetch store# 254 from http://www.mcpennsylvania.com/254\n",
        "  Read 9429 bytes"
       ]
      },
      {
       "output_type": "stream",
       "stream": "stdout",
       "text": [
        "\n",
        "  Store not found\n",
        "Trying to fetch store# 255 from http://www.mcpennsylvania.com/255\n",
        "  Read 18311 bytes"
       ]
      },
      {
       "output_type": "stream",
       "stream": "stdout",
       "text": [
        "\n",
        "  Address is 746 San Souci Hwy|Wilkes Barre, PA 18702\n",
        "  Geocoded to {u'lat': 41.2459149, u'lng': -75.88130749999999}"
       ]
      },
      {
       "output_type": "stream",
       "stream": "stdout",
       "text": [
        "\n",
        "Trying to fetch store# 256 from http://www.mcpennsylvania.com/256\n",
        "  Read 17717 bytes"
       ]
      },
      {
       "output_type": "stream",
       "stream": "stdout",
       "text": [
        "\n",
        "  Address is 1711 S. Saginaw Rd.|Midland, MI 48640\n",
        "  Geocoded to {u'lat': 43.6136785, u'lng': -84.2130796}"
       ]
      },
      {
       "output_type": "stream",
       "stream": "stdout",
       "text": [
        "\n",
        "Wrote 140 locations to /Users/Ya/projects/mcdonalds/mcdonalds_locations.json\n",
        "Trying to fetch store# 257 from http://www.mcpennsylvania.com/257\n",
        "  Read 9429 bytes"
       ]
      },
      {
       "output_type": "stream",
       "stream": "stdout",
       "text": [
        "\n",
        "  Store not found\n",
        "Trying to fetch store# 258 from http://www.mcpennsylvania.com/258\n",
        "  Read 17446 bytes"
       ]
      },
      {
       "output_type": "stream",
       "stream": "stdout",
       "text": [
        "\n",
        "  Address is 5600 Preston Hwy|Louisville, KY 40219\n",
        "  Geocoded to {u'lat': 38.1683429, u'lng': -85.706848}"
       ]
      },
      {
       "output_type": "stream",
       "stream": "stdout",
       "text": [
        "\n",
        "Trying to fetch store# 259 from http://www.mcpennsylvania.com/259\n",
        "  Read 9429 bytes"
       ]
      },
      {
       "output_type": "stream",
       "stream": "stdout",
       "text": [
        "\n",
        "  Store not found\n",
        "Trying to fetch store# 260 from http://www.mcpennsylvania.com/260\n",
        "  Read 16382 bytes"
       ]
      },
      {
       "output_type": "stream",
       "stream": "stdout",
       "text": [
        "\n",
        "  Address is 3024 N Main Street|Anderson, SC 29621\n",
        "  Geocoded to {u'lat': 34.537067, u'lng': -82.6666803}"
       ]
      },
      {
       "output_type": "stream",
       "stream": "stdout",
       "text": [
        "\n",
        "Trying to fetch store# 261 from http://www.mcpennsylvania.com/261\n",
        "  Read 17538 bytes"
       ]
      },
      {
       "output_type": "stream",
       "stream": "stdout",
       "text": [
        "\n",
        "  Address is 4501 Linden Ave.|Dayton, OH 45432\n",
        "  Geocoded to {u'lat': 39.7434967, u'lng': -84.1143375}"
       ]
      },
      {
       "output_type": "stream",
       "stream": "stdout",
       "text": [
        "\n",
        "Trying to fetch store# 262 from http://www.mcpennsylvania.com/262\n",
        "  Read 16979 bytes"
       ]
      },
      {
       "output_type": "stream",
       "stream": "stdout",
       "text": [
        "\n",
        "  Address is 5114 Northfield Rd.|Maple Heights, OH 44137\n",
        "  Geocoded to {u'lat': 41.421238, u'lng': -81.527783}"
       ]
      },
      {
       "output_type": "stream",
       "stream": "stdout",
       "text": [
        "\n",
        "Trying to fetch store# 263 from http://www.mcpennsylvania.com/263\n",
        "  Read 9429 bytes"
       ]
      },
      {
       "output_type": "stream",
       "stream": "stdout",
       "text": [
        "\n",
        "  Store not found\n",
        "Trying to fetch store# 264 from http://www.mcpennsylvania.com/264\n",
        "  Read 18040 bytes"
       ]
      },
      {
       "output_type": "stream",
       "stream": "stdout",
       "text": [
        "\n",
        "  Address is 2812 Magnolia Avenue|Knoxville, TN 37914\n",
        "  Geocoded to {u'lat': 35.9910189, u'lng': -83.88965619999999}"
       ]
      },
      {
       "output_type": "stream",
       "stream": "stdout",
       "text": [
        "\n",
        "Trying to fetch store# 265 from http://www.mcpennsylvania.com/265\n",
        "  Read 18519 bytes"
       ]
      },
      {
       "output_type": "stream",
       "stream": "stdout",
       "text": [
        "\n",
        "  Address is 925 Highway 35|Middletown, NJ 07748\n",
        "  Geocoded to {u'lat': 40.3960085, u'lng': -74.10486499999999}"
       ]
      },
      {
       "output_type": "stream",
       "stream": "stdout",
       "text": [
        "\n",
        "Trying to fetch store# 266 from http://www.mcpennsylvania.com/266\n",
        "  Read 9429 bytes"
       ]
      },
      {
       "output_type": "stream",
       "stream": "stdout",
       "text": [
        "\n",
        "  Store not found\n",
        "Trying to fetch store# 267 from http://www.mcpennsylvania.com/267\n",
        "  Read 9429 bytes"
       ]
      },
      {
       "output_type": "stream",
       "stream": "stdout",
       "text": [
        "\n",
        "  Store not found\n",
        "Trying to fetch store# 268 from http://www.mcpennsylvania.com/268\n",
        "  Read 18783 bytes"
       ]
      },
      {
       "output_type": "stream",
       "stream": "stdout",
       "text": [
        "\n",
        "  Address is 300 Ohio River Blvd.|Baden, PA 15005\n",
        "  Geocoded to {u'lat': 40.6333226, u'lng': -80.22982449999999}"
       ]
      },
      {
       "output_type": "stream",
       "stream": "stdout",
       "text": [
        "\n",
        "Trying to fetch store# 269 from http://www.mcpennsylvania.com/269\n",
        "  Read 9429 bytes"
       ]
      },
      {
       "output_type": "stream",
       "stream": "stdout",
       "text": [
        "\n",
        "  Store not found\n",
        "Trying to fetch store# 270 from http://www.mcpennsylvania.com/270\n",
        "  Read 17493 bytes"
       ]
      },
      {
       "output_type": "stream",
       "stream": "stdout",
       "text": [
        "\n",
        "  Address is 130 N. Main|Elkhart, IN 46514\n",
        "  Geocoded to {u'lat': 41.6881411, u'lng': -85.9733219}"
       ]
      },
      {
       "output_type": "stream",
       "stream": "stdout",
       "text": [
        "\n",
        "Trying to fetch store# 271 from http://www.mcpennsylvania.com/271\n",
        "  Read 9429 bytes"
       ]
      },
      {
       "output_type": "stream",
       "stream": "stdout",
       "text": [
        "\n",
        "  Store not found\n",
        "Trying to fetch store# 272 from http://www.mcpennsylvania.com/272\n",
        "  Read 9429 bytes"
       ]
      },
      {
       "output_type": "stream",
       "stream": "stdout",
       "text": [
        "\n",
        "  Store not found\n",
        "Trying to fetch store# 273 from http://www.mcpennsylvania.com/273\n",
        "  Read 19239 bytes"
       ]
      },
      {
       "output_type": "stream",
       "stream": "stdout",
       "text": [
        "\n",
        "  Address is 1813 Merrick Rd.|Merrick, NY 11566\n",
        "  Geocoded to {u'lat': 40.653895, u'lng': -73.555691}"
       ]
      },
      {
       "output_type": "stream",
       "stream": "stdout",
       "text": [
        "\n",
        "Trying to fetch store# 274 from http://www.mcpennsylvania.com/274\n",
        "  Read 18323 bytes"
       ]
      },
      {
       "output_type": "stream",
       "stream": "stdout",
       "text": [
        "\n",
        "  Address is 14810 Baltimore Ave|Laurel, MD 20707\n",
        "  Geocoded to {u'lat': 39.0941398, u'lng': -76.855057}"
       ]
      },
      {
       "output_type": "stream",
       "stream": "stdout",
       "text": [
        "\n",
        "Wrote 150 locations to /Users/Ya/projects/mcdonalds/mcdonalds_locations.json\n",
        "Trying to fetch store# 275 from http://www.mcpennsylvania.com/275\n",
        "  Read 9429 bytes"
       ]
      },
      {
       "output_type": "stream",
       "stream": "stdout",
       "text": [
        "\n",
        "  Store not found\n",
        "Trying to fetch store# 276 from http://www.mcpennsylvania.com/276\n",
        "  Read 17917 bytes"
       ]
      },
      {
       "output_type": "stream",
       "stream": "stdout",
       "text": [
        "\n",
        "  Address is 1787 State Rd.|Cuyahoga Falls, OH 44223\n",
        "  Geocoded to {u'lat': 41.1311063, u'lng': -81.50765729999999}"
       ]
      },
      {
       "output_type": "stream",
       "stream": "stdout",
       "text": [
        "\n",
        "Trying to fetch store# 277 from http://www.mcpennsylvania.com/277\n",
        "  Read 17181 bytes"
       ]
      },
      {
       "output_type": "stream",
       "stream": "stdout",
       "text": [
        "\n",
        "  Address is 6225 Mayfield Rd.|Mayfield Heights, OH 44124\n",
        "  Geocoded to {u'lat': 41.5205279, u'lng': -81.4553747}"
       ]
      },
      {
       "output_type": "stream",
       "stream": "stdout",
       "text": [
        "\n",
        "Trying to fetch store# 278 from http://www.mcpennsylvania.com/278\n",
        "  Read 15981 bytes"
       ]
      },
      {
       "output_type": "stream",
       "stream": "stdout",
       "text": [
        "\n",
        "  Address is 226 W. Sibley|Dolton, IL 60419\n",
        "  Geocoded to {u'lat': 41.622995, u'lng': -87.628491}"
       ]
      },
      {
       "output_type": "stream",
       "stream": "stdout",
       "text": [
        "\n",
        "Trying to fetch store# 279 from http://www.mcpennsylvania.com/279\n",
        "  Read 9429 bytes"
       ]
      },
      {
       "output_type": "stream",
       "stream": "stdout",
       "text": [
        "\n",
        "  Store not found\n",
        "Trying to fetch store# 280 from http://www.mcpennsylvania.com/280\n",
        "  Read 17350 bytes"
       ]
      },
      {
       "output_type": "stream",
       "stream": "stdout",
       "text": [
        "\n",
        "  Address is 720 Cleveland Street|Rapid City, SD 57705\n",
        "  Geocoded to {u'lat': 44.06169999999999, u'lng': -103.231366}"
       ]
      },
      {
       "output_type": "stream",
       "stream": "stdout",
       "text": [
        "\n",
        "Trying to fetch store# 281 from http://www.mcpennsylvania.com/281\n",
        "  Read 9429 bytes"
       ]
      },
      {
       "output_type": "stream",
       "stream": "stdout",
       "text": [
        "\n",
        "  Store not found\n",
        "Trying to fetch store# 282 from http://www.mcpennsylvania.com/282\n",
        "  Read 9429 bytes"
       ]
      },
      {
       "output_type": "stream",
       "stream": "stdout",
       "text": [
        "\n",
        "  Store not found\n",
        "Trying to fetch store# 283 from http://www.mcpennsylvania.com/283\n",
        "  Read 9429 bytes"
       ]
      },
      {
       "output_type": "stream",
       "stream": "stdout",
       "text": [
        "\n",
        "  Store not found\n",
        "Trying to fetch store# 284 from http://www.mcpennsylvania.com/284\n",
        "  Read 19470 bytes"
       ]
      },
      {
       "output_type": "stream",
       "stream": "stdout",
       "text": [
        "\n",
        "  Address is 8040 Nicollet Ave.|Bloomington, MN 55420\n",
        "  Geocoded to {u'lat': 44.8578813, u'lng': -93.2791292}"
       ]
      },
      {
       "output_type": "stream",
       "stream": "stdout",
       "text": [
        "\n",
        "Trying to fetch store# 285 from http://www.mcpennsylvania.com/285\n",
        "  Read 9429 bytes"
       ]
      },
      {
       "output_type": "stream",
       "stream": "stdout",
       "text": [
        "\n",
        "  Store not found\n",
        "Trying to fetch store# 286 from http://www.mcpennsylvania.com/286\n",
        "  Read 9429 bytes"
       ]
      },
      {
       "output_type": "stream",
       "stream": "stdout",
       "text": [
        "\n",
        "  Store not found\n",
        "Trying to fetch store# 287 from http://www.mcpennsylvania.com/287\n",
        "  Read 17247 bytes"
       ]
      },
      {
       "output_type": "stream",
       "stream": "stdout",
       "text": [
        "\n",
        "  Address is 2351 North Verity Parkway|Middletown, OH 45042\n",
        "  Geocoded to {u'lat': 39.5268085, u'lng': -84.38532959999999}"
       ]
      },
      {
       "output_type": "stream",
       "stream": "stdout",
       "text": [
        "\n",
        "Trying to fetch store# 288 from http://www.mcpennsylvania.com/288\n",
        "  Read 17772 bytes"
       ]
      },
      {
       "output_type": "stream",
       "stream": "stdout",
       "text": [
        "\n",
        "  Address is 3120 N. Broadway|Knoxville, TN 37917\n",
        "  Geocoded to {u'lat': 36.0008588, u'lng': -83.92508819999999}"
       ]
      },
      {
       "output_type": "stream",
       "stream": "stdout",
       "text": [
        "\n",
        "Trying to fetch store# 289 from http://www.mcpennsylvania.com/289\n",
        "  Read 16937 bytes"
       ]
      },
      {
       "output_type": "stream",
       "stream": "stdout",
       "text": [
        "\n",
        "  Address is 2300 N Walnut St.|Bloomington, IN 47404\n",
        "  Geocoded to {u'lat': 39.1871569, u'lng': -86.5336351}"
       ]
      },
      {
       "output_type": "stream",
       "stream": "stdout",
       "text": [
        "\n",
        "Trying to fetch store# 290 from http://www.mcpennsylvania.com/290\n",
        "  Read 17943 bytes"
       ]
      },
      {
       "output_type": "stream",
       "stream": "stdout",
       "text": [
        "\n",
        "  Address is 3507 Franklin Street|Michigan City, IN 46360\n",
        "  Geocoded to {u'lat': 41.690419, u'lng': -86.894339}"
       ]
      },
      {
       "output_type": "stream",
       "stream": "stdout",
       "text": [
        "\n",
        "Trying to fetch store# 291 from http://www.mcpennsylvania.com/291\n",
        "  Read 22984 bytes"
       ]
      },
      {
       "output_type": "stream",
       "stream": "stdout",
       "text": [
        "\n",
        "  Address is 1273 S. Robert Street|West St. Paul, MN 55118\n",
        "  Geocoded to {u'lat': 44.9077849, u'lng': -93.0814802}"
       ]
      },
      {
       "output_type": "stream",
       "stream": "stdout",
       "text": [
        "\n",
        "Wrote 160 locations to /Users/Ya/projects/mcdonalds/mcdonalds_locations.json\n",
        "Trying to fetch store# 292 from http://www.mcpennsylvania.com/292\n",
        "  Read 18583 bytes"
       ]
      },
      {
       "output_type": "stream",
       "stream": "stdout",
       "text": [
        "\n",
        "  Address is 3144 Cache|Lawton, OK 73501\n",
        "  Geocoded to {u'lat': 34.6231325, u'lng': -98.4347256}"
       ]
      },
      {
       "output_type": "stream",
       "stream": "stdout",
       "text": [
        "\n",
        "Trying to fetch store# 293 from http://www.mcpennsylvania.com/293\n",
        "  Read 19654 bytes"
       ]
      },
      {
       "output_type": "stream",
       "stream": "stdout",
       "text": [
        "\n",
        "  Address is 6421 Pearl Rd.|Parma Heights, OH 44130\n",
        "  Geocoded to {u'lat': 41.3859632, u'lng': -81.76806359999999}"
       ]
      },
      {
       "output_type": "stream",
       "stream": "stdout",
       "text": [
        "\n",
        "Trying to fetch store# 294 from http://www.mcpennsylvania.com/294\n",
        "  Read 18179 bytes"
       ]
      },
      {
       "output_type": "stream",
       "stream": "stdout",
       "text": [
        "\n",
        "  Address is 2741 Leechburg Rd.|Lower Burrell, PA 15068\n",
        "  Geocoded to {u'lat': 40.5909883, u'lng': -79.735668}"
       ]
      },
      {
       "output_type": "stream",
       "stream": "stdout",
       "text": [
        "\n",
        "Trying to fetch store# 295 from http://www.mcpennsylvania.com/295\n",
        "  Read 20759 bytes"
       ]
      },
      {
       "output_type": "stream",
       "stream": "stdout",
       "text": [
        "\n",
        "  Address is 1885 North Olden Avenue|Trenton, NJ 08638\n",
        "  Geocoded to {u'lat': 40.2499135, u'lng': -74.7763318}"
       ]
      },
      {
       "output_type": "stream",
       "stream": "stdout",
       "text": [
        "\n",
        "Trying to fetch store# 296 from http://www.mcpennsylvania.com/296\n",
        "  Read 9429 bytes"
       ]
      },
      {
       "output_type": "stream",
       "stream": "stdout",
       "text": [
        "\n",
        "  Store not found\n",
        "Trying to fetch store# 297 from http://www.mcpennsylvania.com/297\n",
        "  Read 9429 bytes"
       ]
      },
      {
       "output_type": "stream",
       "stream": "stdout",
       "text": [
        "\n",
        "  Store not found\n",
        "Trying to fetch store# 298 from http://www.mcpennsylvania.com/298\n",
        "  Read 9429 bytes"
       ]
      },
      {
       "output_type": "stream",
       "stream": "stdout",
       "text": [
        "\n",
        "  Store not found\n",
        "Trying to fetch store# 299 from http://www.mcpennsylvania.com/299\n",
        "  Read 9429 bytes"
       ]
      },
      {
       "output_type": "stream",
       "stream": "stdout",
       "text": [
        "\n",
        "  Store not found\n",
        "Trying to fetch store# 300 from http://www.mcpennsylvania.com/300\n",
        "  Read 9429 bytes"
       ]
      },
      {
       "output_type": "stream",
       "stream": "stdout",
       "text": [
        "\n",
        "  Store not found\n",
        "Trying to fetch store# 301 from http://www.mcpennsylvania.com/301\n",
        "  Read 17738 bytes"
       ]
      },
      {
       "output_type": "stream",
       "stream": "stdout",
       "text": [
        "\n",
        "  Address is 646 Farmington|Bristol, CT 06011\n",
        "  Geocoded to {u'lat': 41.6903497, u'lng': -72.92249160000001}"
       ]
      },
      {
       "output_type": "stream",
       "stream": "stdout",
       "text": [
        "\n",
        "Trying to fetch store# 302 from http://www.mcpennsylvania.com/302\n",
        "  Read 15951 bytes"
       ]
      },
      {
       "output_type": "stream",
       "stream": "stdout",
       "text": [
        "\n",
        "  Address is 1912 E. Higgins|Elk Grove Village, IL 60007\n",
        "  Geocoded to {u'lat': 42.02178000000001, u'lng': -87.957128}"
       ]
      },
      {
       "output_type": "stream",
       "stream": "stdout",
       "text": [
        "\n",
        "Trying to fetch store# 303 from http://www.mcpennsylvania.com/303\n",
        "  Read 9429 bytes"
       ]
      },
      {
       "output_type": "stream",
       "stream": "stdout",
       "text": [
        "\n",
        "  Store not found\n",
        "Trying to fetch store# 304 from http://www.mcpennsylvania.com/304\n",
        "  Read 9429 bytes"
       ]
      },
      {
       "output_type": "stream",
       "stream": "stdout",
       "text": [
        "\n",
        "  Store not found\n",
        "Trying to fetch store# 305 from http://www.mcpennsylvania.com/305\n",
        "  Read 9429 bytes"
       ]
      },
      {
       "output_type": "stream",
       "stream": "stdout",
       "text": [
        "\n",
        "  Store not found\n",
        "Trying to fetch store# 306 from http://www.mcpennsylvania.com/306\n",
        "  Read 18928 bytes"
       ]
      },
      {
       "output_type": "stream",
       "stream": "stdout",
       "text": [
        "\n",
        "  Address is 14845 Eureka Road|Southgate, MI 48195\n",
        "  Geocoded to {u'lat': 42.198622, u'lng': -83.2046349}"
       ]
      },
      {
       "output_type": "stream",
       "stream": "stdout",
       "text": [
        "\n",
        "Trying to fetch store# 307 from http://www.mcpennsylvania.com/307\n",
        "  Read 9429 bytes"
       ]
      },
      {
       "output_type": "stream",
       "stream": "stdout",
       "text": [
        "\n",
        "  Store not found\n",
        "Trying to fetch store# 308 from http://www.mcpennsylvania.com/308\n",
        "  Read 17172 bytes"
       ]
      },
      {
       "output_type": "stream",
       "stream": "stdout",
       "text": [
        "\n",
        "  Address is 1111 Washington Blvd|Ogden, UT 84404\n",
        "  Geocoded to {u'lat': 41.245634, u'lng': -111.97048}"
       ]
      },
      {
       "output_type": "stream",
       "stream": "stdout",
       "text": [
        "\n",
        "Trying to fetch store# 309 from http://www.mcpennsylvania.com/309\n",
        "  Read 18001 bytes"
       ]
      },
      {
       "output_type": "stream",
       "stream": "stdout",
       "text": [
        "\n",
        "  Address is 1491 Apple Ave.|Muskegon, MI 49442\n",
        "  Geocoded to {u'lat': 43.2342093, u'lng': -86.2052989}"
       ]
      },
      {
       "output_type": "stream",
       "stream": "stdout",
       "text": [
        "\n",
        "Trying to fetch store# 310 from http://www.mcpennsylvania.com/310\n",
        "  Read 9429 bytes"
       ]
      },
      {
       "output_type": "stream",
       "stream": "stdout",
       "text": [
        "\n",
        "  Store not found\n",
        "Trying to fetch store# 311 from http://www.mcpennsylvania.com/311\n",
        "  Read 9429 bytes"
       ]
      },
      {
       "output_type": "stream",
       "stream": "stdout",
       "text": [
        "\n",
        "  Store not found\n",
        "Trying to fetch store# 312 from http://www.mcpennsylvania.com/312\n",
        "  Read 17184 bytes"
       ]
      },
      {
       "output_type": "stream",
       "stream": "stdout",
       "text": [
        "\n",
        "  Address is 7734 Wise Avenue|Baltimore, MD 21222\n",
        "  Geocoded to {u'lat': 39.2691362, u'lng': -76.5003909}"
       ]
      },
      {
       "output_type": "stream",
       "stream": "stdout",
       "text": [
        "\n",
        "Wrote 170 locations to /Users/Ya/projects/mcdonalds/mcdonalds_locations.json\n",
        "Trying to fetch store# 313 from http://www.mcpennsylvania.com/313\n",
        "  Read 17674 bytes"
       ]
      },
      {
       "output_type": "stream",
       "stream": "stdout",
       "text": [
        "\n",
        "  Address is 3200 South Minnesota Avenue|Sioux Falls, SD 57105\n",
        "  Geocoded to {u'lat': 43.5155545, u'lng': -96.73072259999999}"
       ]
      },
      {
       "output_type": "stream",
       "stream": "stdout",
       "text": [
        "\n",
        "Trying to fetch store# 314 from http://www.mcpennsylvania.com/314\n",
        "  Read 9429 bytes"
       ]
      },
      {
       "output_type": "stream",
       "stream": "stdout",
       "text": [
        "\n",
        "  Store not found\n",
        "Trying to fetch store# 315 from http://www.mcpennsylvania.com/315\n",
        "  Read 17021 bytes"
       ]
      },
      {
       "output_type": "stream",
       "stream": "stdout",
       "text": [
        "\n",
        "  Address is 7969 N. Milwaukee Ave.|Niles, IL 60648\n",
        "  Geocoded to {u'lat': 42.0257924, u'lng': -87.8132203}"
       ]
      },
      {
       "output_type": "stream",
       "stream": "stdout",
       "text": [
        "\n",
        "Trying to fetch store# 316 from http://www.mcpennsylvania.com/316\n",
        "  Read 17076 bytes"
       ]
      },
      {
       "output_type": "stream",
       "stream": "stdout",
       "text": [
        "\n",
        "  Address is 1901 N Main St.|High Point, NC 27262\n",
        "  Geocoded to {u'lat': 35.9796585, u'lng': -80.0217047}"
       ]
      },
      {
       "output_type": "stream",
       "stream": "stdout",
       "text": [
        "\n",
        "Trying to fetch store# 317 from http://www.mcpennsylvania.com/317\n",
        "  Read 16486 bytes"
       ]
      },
      {
       "output_type": "stream",
       "stream": "stdout",
       "text": [
        "\n",
        "  Address is 3117 South Topeka Avenue|Topeka, KS 66611\n",
        "  Geocoded to {u'lat': 39.011277, u'lng': -95.688621}"
       ]
      },
      {
       "output_type": "stream",
       "stream": "stdout",
       "text": [
        "\n",
        "Trying to fetch store# 318 from http://www.mcpennsylvania.com/318\n",
        "  Read 18028 bytes"
       ]
      },
      {
       "output_type": "stream",
       "stream": "stdout",
       "text": [
        "\n",
        "  Address is 483 North Main Street|Marion, OH 43302\n",
        "  Geocoded to {u'lat': 40.5964728, u'lng': -83.12995049999999}"
       ]
      },
      {
       "output_type": "stream",
       "stream": "stdout",
       "text": [
        "\n",
        "Trying to fetch store# 319 from http://www.mcpennsylvania.com/319\n",
        "  Read 17680 bytes"
       ]
      },
      {
       "output_type": "stream",
       "stream": "stdout",
       "text": [
        "\n",
        "  Address is 1125 24th Street|Port Huron, MI 48060\n",
        "  Geocoded to {u'lat': 42.971185, u'lng': -82.45312899999999}"
       ]
      },
      {
       "output_type": "stream",
       "stream": "stdout",
       "text": [
        "\n",
        "Trying to fetch store# 320 from http://www.mcpennsylvania.com/320\n",
        "  Read 17443 bytes"
       ]
      },
      {
       "output_type": "stream",
       "stream": "stdout",
       "text": [
        "\n",
        "  Address is 3050 Dixie Highway|Erlanger, KY 41018\n",
        "  Geocoded to {u'lat': 39.021715, u'lng': -84.5885837}"
       ]
      },
      {
       "output_type": "stream",
       "stream": "stdout",
       "text": [
        "\n",
        "Trying to fetch store# 321 from http://www.mcpennsylvania.com/321\n",
        "  Read 9429 bytes"
       ]
      },
      {
       "output_type": "stream",
       "stream": "stdout",
       "text": [
        "\n",
        "  Store not found\n",
        "Trying to fetch store# 322 from http://www.mcpennsylvania.com/322\n",
        "  Read 9429 bytes"
       ]
      },
      {
       "output_type": "stream",
       "stream": "stdout",
       "text": [
        "\n",
        "  Store not found\n",
        "Trying to fetch store# 323 from http://www.mcpennsylvania.com/323\n",
        "  Read 9429 bytes"
       ]
      },
      {
       "output_type": "stream",
       "stream": "stdout",
       "text": [
        "\n",
        "  Store not found\n",
        "Trying to fetch store# 324 from http://www.mcpennsylvania.com/324\n",
        "  Read 16951 bytes"
       ]
      },
      {
       "output_type": "stream",
       "stream": "stdout",
       "text": [
        "\n",
        "  Address is 957 Fairmont Ave.|Jamestown, NY 14701\n",
        "  Geocoded to {u'lat': 42.0970924, u'lng': -79.2915295}"
       ]
      },
      {
       "output_type": "stream",
       "stream": "stdout",
       "text": [
        "\n",
        "Trying to fetch store# 325 from http://www.mcpennsylvania.com/325\n",
        "  Read 9429 bytes"
       ]
      },
      {
       "output_type": "stream",
       "stream": "stdout",
       "text": [
        "\n",
        "  Store not found\n",
        "Trying to fetch store# 326 from http://www.mcpennsylvania.com/326\n",
        "  Read 19994 bytes"
       ]
      },
      {
       "output_type": "stream",
       "stream": "stdout",
       "text": [
        "\n",
        "  Address is Rt 25 & Ravine Rd.|Carpentersville, IL 60110\n",
        "  Geocoded to {u'lat': 42.1080937, u'lng': -88.25805489999999}"
       ]
      },
      {
       "output_type": "stream",
       "stream": "stdout",
       "text": [
        "\n",
        "Trying to fetch store# 327 from http://www.mcpennsylvania.com/327\n",
        "  Read 9429 bytes"
       ]
      },
      {
       "output_type": "stream",
       "stream": "stdout",
       "text": [
        "\n",
        "  Store not found\n",
        "Trying to fetch store# 328 from http://www.mcpennsylvania.com/328\n",
        "  Read 16151 bytes"
       ]
      },
      {
       "output_type": "stream",
       "stream": "stdout",
       "text": [
        "\n",
        "  Address is 3918 Free Pike|Dayton, OH 45416\n",
        "  Geocoded to {u'lat': 39.7976328, u'lng': -84.2532458}"
       ]
      },
      {
       "output_type": "stream",
       "stream": "stdout",
       "text": [
        "\n",
        "Wrote 180 locations to /Users/Ya/projects/mcdonalds/mcdonalds_locations.json\n",
        "Trying to fetch store# 329 from http://www.mcpennsylvania.com/329\n",
        "  Read 17054 bytes"
       ]
      },
      {
       "output_type": "stream",
       "stream": "stdout",
       "text": [
        "\n",
        "  Address is 188 E. Dundee Rd.|Wheeling, IL 60090\n",
        "  Geocoded to {u'lat': 42.14014, u'lng': -87.911118}"
       ]
      },
      {
       "output_type": "stream",
       "stream": "stdout",
       "text": [
        "\n",
        "Trying to fetch store# 330 from http://www.mcpennsylvania.com/330\n",
        "  Read 18074 bytes"
       ]
      },
      {
       "output_type": "stream",
       "stream": "stdout",
       "text": [
        "\n",
        "  Address is 9475 Beaverton Hillsdale|Beaverton, OR 97005\n",
        "  Geocoded to {u'lat': 45.48685829999999, u'lng': -122.7741729}"
       ]
      },
      {
       "output_type": "stream",
       "stream": "stdout",
       "text": [
        "\n",
        "Trying to fetch store# 331 from http://www.mcpennsylvania.com/331\n",
        "  Read 9429 bytes"
       ]
      },
      {
       "output_type": "stream",
       "stream": "stdout",
       "text": [
        "\n",
        "  Store not found\n",
        "Trying to fetch store# 332 from http://www.mcpennsylvania.com/332\n",
        "  Read 9429 bytes"
       ]
      },
      {
       "output_type": "stream",
       "stream": "stdout",
       "text": [
        "\n",
        "  Store not found\n",
        "Trying to fetch store# 333 from http://www.mcpennsylvania.com/333\n",
        "  Read 9429 bytes"
       ]
      },
      {
       "output_type": "stream",
       "stream": "stdout",
       "text": [
        "\n",
        "  Store not found\n",
        "Trying to fetch store# 334 from http://www.mcpennsylvania.com/334\n",
        "  Read 9429 bytes"
       ]
      },
      {
       "output_type": "stream",
       "stream": "stdout",
       "text": [
        "\n",
        "  Store not found\n",
        "Trying to fetch store# 335 from http://www.mcpennsylvania.com/335\n",
        "  Read 19981 bytes"
       ]
      },
      {
       "output_type": "stream",
       "stream": "stdout",
       "text": [
        "\n",
        "  Address is 5733 S. Kedzie|Chicago, IL 60629\n",
        "  Geocoded to {u'lat': 41.78861089999999, u'lng': -87.70315819999999}"
       ]
      },
      {
       "output_type": "stream",
       "stream": "stdout",
       "text": [
        "\n",
        "Trying to fetch store# 336 from http://www.mcpennsylvania.com/336\n",
        "  Read 9429 bytes"
       ]
      },
      {
       "output_type": "stream",
       "stream": "stdout",
       "text": [
        "\n",
        "  Store not found\n",
        "Trying to fetch store# 337 from http://www.mcpennsylvania.com/337\n",
        "  Read 16558 bytes"
       ]
      },
      {
       "output_type": "stream",
       "stream": "stdout",
       "text": [
        "\n",
        "  Address is 8420 Niagara Falls Blvd.|Niagara Falls, NY 14304\n",
        "  Geocoded to {u'lat': 43.0904169, u'lng': -78.96773619999999}"
       ]
      },
      {
       "output_type": "stream",
       "stream": "stdout",
       "text": [
        "\n",
        "Trying to fetch store# 338 from http://www.mcpennsylvania.com/338\n",
        "  Read 19435 bytes"
       ]
      },
      {
       "output_type": "stream",
       "stream": "stdout",
       "text": [
        "\n",
        "  Address is 5220 Buford Highway|Doraville, GA 30340\n",
        "  Geocoded to {u'lat': 33.8955264, u'lng': -84.283338}"
       ]
      },
      {
       "output_type": "stream",
       "stream": "stdout",
       "text": [
        "\n",
        "Trying to fetch store# 339 from http://www.mcpennsylvania.com/339\n",
        "  Read 17372 bytes"
       ]
      },
      {
       "output_type": "stream",
       "stream": "stdout",
       "text": [
        "\n",
        "  Address is 31115 Vine St.|Willowick, OH 44095\n",
        "  Geocoded to {u'lat': 41.64296179999999, u'lng': -81.4699657}"
       ]
      },
      {
       "output_type": "stream",
       "stream": "stdout",
       "text": [
        "\n",
        "Trying to fetch store# 340 from http://www.mcpennsylvania.com/340\n",
        "  Read 9429 bytes"
       ]
      },
      {
       "output_type": "stream",
       "stream": "stdout",
       "text": [
        "\n",
        "  Store not found\n",
        "Trying to fetch store# 341 from http://www.mcpennsylvania.com/341\n",
        "  Read 9429 bytes"
       ]
      },
      {
       "output_type": "stream",
       "stream": "stdout",
       "text": [
        "\n",
        "  Store not found\n",
        "Trying to fetch store# 342 from http://www.mcpennsylvania.com/342\n",
        "  Read 18228 bytes"
       ]
      },
      {
       "output_type": "stream",
       "stream": "stdout",
       "text": [
        "\n",
        "  Address is 1203 Artesia Blvd.|Manhattan Beach, CA 90266\n",
        "  Geocoded to {u'lat': 33.8730991, u'lng': -118.3936853}"
       ]
      },
      {
       "output_type": "stream",
       "stream": "stdout",
       "text": [
        "\n",
        "Trying to fetch store# 343 from http://www.mcpennsylvania.com/343\n",
        "  Read 17437 bytes"
       ]
      },
      {
       "output_type": "stream",
       "stream": "stdout",
       "text": [
        "\n",
        "  Address is 2418 S. Seneca Ave.|Wichita, KS 67216\n",
        "  Geocoded to {u'lat': 37.651237, u'lng': -97.352272}"
       ]
      },
      {
       "output_type": "stream",
       "stream": "stdout",
       "text": [
        "\n",
        "Trying to fetch store# 344 from http://www.mcpennsylvania.com/344\n",
        "  Read 9429 bytes"
       ]
      },
      {
       "output_type": "stream",
       "stream": "stdout",
       "text": [
        "\n",
        "  Store not found\n",
        "Trying to fetch store# 345 from http://www.mcpennsylvania.com/345\n",
        "  Read 9429 bytes"
       ]
      },
      {
       "output_type": "stream",
       "stream": "stdout",
       "text": [
        "\n",
        "  Store not found\n",
        "Trying to fetch store# 346 from http://www.mcpennsylvania.com/346\n",
        "  Read 17308 bytes"
       ]
      },
      {
       "output_type": "stream",
       "stream": "stdout",
       "text": [
        "\n",
        "  Address is 27480 Van Dyke Road|Warren, MI 48093\n",
        "  Geocoded to {u'lat': 42.4961328, u'lng': -83.0271686}"
       ]
      },
      {
       "output_type": "stream",
       "stream": "stdout",
       "text": [
        "\n",
        "Trying to fetch store# 347 from http://www.mcpennsylvania.com/347\n",
        "  Read 9429 bytes"
       ]
      },
      {
       "output_type": "stream",
       "stream": "stdout",
       "text": [
        "\n",
        "  Store not found\n",
        "Trying to fetch store# 348 from http://www.mcpennsylvania.com/348\n",
        "  Read 17660 bytes"
       ]
      },
      {
       "output_type": "stream",
       "stream": "stdout",
       "text": [
        "\n",
        "  Address is 3815 Union Road|Cheektowaga, NY 14225\n",
        "  Geocoded to {u'lat': 42.9184005, u'lng': -78.7535207}"
       ]
      },
      {
       "output_type": "stream",
       "stream": "stdout",
       "text": [
        "\n",
        "Wrote 190 locations to /Users/Ya/projects/mcdonalds/mcdonalds_locations.json\n",
        "Trying to fetch store# 349 from http://www.mcpennsylvania.com/349\n",
        "  Read 9429 bytes"
       ]
      },
      {
       "output_type": "stream",
       "stream": "stdout",
       "text": [
        "\n",
        "  Store not found\n",
        "Trying to fetch store# 350 from http://www.mcpennsylvania.com/350\n",
        "  Read 9429 bytes"
       ]
      },
      {
       "output_type": "stream",
       "stream": "stdout",
       "text": [
        "\n",
        "  Store not found\n",
        "Trying to fetch store# 351 from http://www.mcpennsylvania.com/351\n",
        "  Read 17187 bytes"
       ]
      },
      {
       "output_type": "stream",
       "stream": "stdout",
       "text": [
        "\n",
        "  Address is 1114 West Kearney|Springfield, MO 65803\n",
        "  Geocoded to {u'lat': 37.24047480000001, u'lng': -93.3039831}"
       ]
      },
      {
       "output_type": "stream",
       "stream": "stdout",
       "text": [
        "\n",
        "Trying to fetch store# 352 from http://www.mcpennsylvania.com/352\n",
        "  Read 9429 bytes"
       ]
      },
      {
       "output_type": "stream",
       "stream": "stdout",
       "text": [
        "\n",
        "  Store not found\n",
        "Trying to fetch store# 353 from http://www.mcpennsylvania.com/353\n",
        "  Read 17396 bytes"
       ]
      },
      {
       "output_type": "stream",
       "stream": "stdout",
       "text": [
        "\n",
        "  Address is 2457 Lincoln Blvd|Venice, CA 90291\n",
        "  Geocoded to {u'lat': 33.99287, u'lng': -118.451112}"
       ]
      },
      {
       "output_type": "stream",
       "stream": "stdout",
       "text": [
        "\n",
        "Trying to fetch store# 354 from http://www.mcpennsylvania.com/354\n",
        "  Read 9429 bytes"
       ]
      },
      {
       "output_type": "stream",
       "stream": "stdout",
       "text": [
        "\n",
        "  Store not found\n",
        "Trying to fetch store# 355 from http://www.mcpennsylvania.com/355\n",
        "  Read 9429 bytes"
       ]
      },
      {
       "output_type": "stream",
       "stream": "stdout",
       "text": [
        "\n",
        "  Store not found\n",
        "Trying to fetch store# 356 from http://www.mcpennsylvania.com/356\n",
        "  Read 17904 bytes"
       ]
      },
      {
       "output_type": "stream",
       "stream": "stdout",
       "text": [
        "\n",
        "  Address is 352 Riverdale Rd.|West Springfield, MA 01089\n",
        "  Geocoded to {u'lat': 42.115765, u'lng': -72.62403189999999}"
       ]
      },
      {
       "output_type": "stream",
       "stream": "stdout",
       "text": [
        "\n",
        "Trying to fetch store# 357 from http://www.mcpennsylvania.com/357\n",
        "  Read 17100 bytes"
       ]
      },
      {
       "output_type": "stream",
       "stream": "stdout",
       "text": [
        "\n",
        "  Address is 3719 Davison Rd. E.|Flint, MI 48506\n",
        "  Geocoded to {u'lat': 43.0335309, u'lng': -83.6395826}"
       ]
      },
      {
       "output_type": "stream",
       "stream": "stdout",
       "text": [
        "\n",
        "Trying to fetch store# 358 from http://www.mcpennsylvania.com/358\n",
        "  Read 9429 bytes"
       ]
      },
      {
       "output_type": "stream",
       "stream": "stdout",
       "text": [
        "\n",
        "  Store not found\n",
        "Trying to fetch store# 359 from http://www.mcpennsylvania.com/359\n",
        "  Read 17270 bytes"
       ]
      },
      {
       "output_type": "stream",
       "stream": "stdout",
       "text": [
        "\n",
        "  Address is 1450 Rocky Creek Rd.|Macon, GA 31206\n",
        "  Geocoded to {u'lat': 32.7906741, u'lng': -83.67034389999999}"
       ]
      },
      {
       "output_type": "stream",
       "stream": "stdout",
       "text": [
        "\n",
        "Trying to fetch store# 360 from http://www.mcpennsylvania.com/360\n",
        "  Read 9429 bytes"
       ]
      },
      {
       "output_type": "stream",
       "stream": "stdout",
       "text": [
        "\n",
        "  Store not found\n",
        "Trying to fetch store# 361 from http://www.mcpennsylvania.com/361\n",
        "  Read 9429 bytes"
       ]
      },
      {
       "output_type": "stream",
       "stream": "stdout",
       "text": [
        "\n",
        "  Store not found\n",
        "Trying to fetch store# 362 from http://www.mcpennsylvania.com/362\n",
        "  Read 19315 bytes"
       ]
      },
      {
       "output_type": "stream",
       "stream": "stdout",
       "text": [
        "\n",
        "  Address is 3138 Secor Rd.|Toledo, OH 43606\n",
        "  Geocoded to {u'lat': 41.678647, u'lng': -83.6222219}"
       ]
      },
      {
       "output_type": "stream",
       "stream": "stdout",
       "text": [
        "\n",
        "Trying to fetch store# 363 from http://www.mcpennsylvania.com/363\n",
        "  Read 9429 bytes"
       ]
      },
      {
       "output_type": "stream",
       "stream": "stdout",
       "text": [
        "\n",
        "  Store not found\n",
        "Trying to fetch store# 364 from http://www.mcpennsylvania.com/364\n",
        "  Read 17006 bytes"
       ]
      },
      {
       "output_type": "stream",
       "stream": "stdout",
       "text": [
        "\n",
        "  Address is 5324 4th St. NW|Albuquerque, NM 87107\n",
        "  Geocoded to {u'lat': 35.1369695, u'lng': -106.641258}"
       ]
      },
      {
       "output_type": "stream",
       "stream": "stdout",
       "text": [
        "\n",
        "Trying to fetch store# 365 from http://www.mcpennsylvania.com/365\n",
        "  Read 9429 bytes"
       ]
      },
      {
       "output_type": "stream",
       "stream": "stdout",
       "text": [
        "\n",
        "  Store not found\n",
        "Trying to fetch store# 366 from http://www.mcpennsylvania.com/366\n",
        "  Read 17216 bytes"
       ]
      },
      {
       "output_type": "stream",
       "stream": "stdout",
       "text": [
        "\n",
        "  Address is 5616 Memphis Ave.|Cleveland, OH 44144\n",
        "  Geocoded to {u'lat': 41.440214, u'lng': -81.7250105}"
       ]
      },
      {
       "output_type": "stream",
       "stream": "stdout",
       "text": [
        "\n",
        "Trying to fetch store# 367 from http://www.mcpennsylvania.com/367\n",
        "  Read 9429 bytes"
       ]
      },
      {
       "output_type": "stream",
       "stream": "stdout",
       "text": [
        "\n",
        "  Store not found\n",
        "Trying to fetch store# 368 from http://www.mcpennsylvania.com/368\n",
        "  Read 17500 bytes"
       ]
      },
      {
       "output_type": "stream",
       "stream": "stdout",
       "text": [
        "\n",
        "  Address is 2010 N.Roxboro Rd.|Durham, NC 27704\n",
        "  Geocoded to {u'lat': 36.0166246, u'lng': -78.88960809999999}"
       ]
      },
      {
       "output_type": "stream",
       "stream": "stdout",
       "text": [
        "\n",
        "Trying to fetch store# 369 from http://www.mcpennsylvania.com/369\n",
        "  Read 9429 bytes"
       ]
      },
      {
       "output_type": "stream",
       "stream": "stdout",
       "text": [
        "\n",
        "  Store not found\n",
        "Trying to fetch store# 370 from http://www.mcpennsylvania.com/370\n",
        "  Read 9429 bytes"
       ]
      },
      {
       "output_type": "stream",
       "stream": "stdout",
       "text": [
        "\n",
        "  Store not found\n",
        "Trying to fetch store# 371 from http://www.mcpennsylvania.com/371\n",
        "  Read 24058 bytes"
       ]
      },
      {
       "output_type": "stream",
       "stream": "stdout",
       "text": [
        "\n",
        "  Address is 1165 Prosperity Ave.|St. Paul, MN 55106\n",
        "  Geocoded to {u'lat': 44.97754279999999, u'lng': -93.0404662}"
       ]
      },
      {
       "output_type": "stream",
       "stream": "stdout",
       "text": [
        "\n",
        "Wrote 200 locations to /Users/Ya/projects/mcdonalds/mcdonalds_locations.json\n",
        "Trying to fetch store# 372 from http://www.mcpennsylvania.com/372\n",
        "  Read 9429 bytes"
       ]
      },
      {
       "output_type": "stream",
       "stream": "stdout",
       "text": [
        "\n",
        "  Store not found\n",
        "Trying to fetch store# 373 from http://www.mcpennsylvania.com/373\n",
        "  Read 18053 bytes"
       ]
      },
      {
       "output_type": "stream",
       "stream": "stdout",
       "text": [
        "\n",
        "  Address is 995 Main Street|Worcester, MA 01603\n",
        "  Geocoded to {u'lat': 42.2477271, u'lng': -71.8261364}"
       ]
      },
      {
       "output_type": "stream",
       "stream": "stdout",
       "text": [
        "\n",
        "Trying to fetch store# 374 from http://www.mcpennsylvania.com/374\n",
        "  Read 9429 bytes"
       ]
      },
      {
       "output_type": "stream",
       "stream": "stdout",
       "text": [
        "\n",
        "  Store not found\n",
        "Trying to fetch store# 375 from http://www.mcpennsylvania.com/375\n",
        "  Read 17079 bytes"
       ]
      },
      {
       "output_type": "stream",
       "stream": "stdout",
       "text": [
        "\n",
        "  Address is 909 Peninsula Dr.|Erie, PA 16505\n",
        "  Geocoded to {u'lat': 42.1024055, u'lng': -80.1466579}"
       ]
      },
      {
       "output_type": "stream",
       "stream": "stdout",
       "text": [
        "\n",
        "Trying to fetch store# 376 from http://www.mcpennsylvania.com/376\n",
        "  Read 9429 bytes"
       ]
      },
      {
       "output_type": "stream",
       "stream": "stdout",
       "text": [
        "\n",
        "  Store not found\n",
        "Trying to fetch store# 377 from http://www.mcpennsylvania.com/377\n",
        "  Read 9429 bytes"
       ]
      },
      {
       "output_type": "stream",
       "stream": "stdout",
       "text": [
        "\n",
        "  Store not found\n",
        "Trying to fetch store# 378 from http://www.mcpennsylvania.com/378\n",
        "  Read 9429 bytes"
       ]
      },
      {
       "output_type": "stream",
       "stream": "stdout",
       "text": [
        "\n",
        "  Store not found\n",
        "Trying to fetch store# 379 from http://www.mcpennsylvania.com/379\n",
        "  Read 9429 bytes"
       ]
      },
      {
       "output_type": "stream",
       "stream": "stdout",
       "text": [
        "\n",
        "  Store not found\n",
        "Trying to fetch store# 380 from http://www.mcpennsylvania.com/380\n",
        "  Read 18108 bytes"
       ]
      },
      {
       "output_type": "stream",
       "stream": "stdout",
       "text": [
        "\n",
        "  Address is 522 El Camino Real|Belmont, CA 94002\n",
        "  Geocoded to {u'lat': 37.5248718, u'lng': -122.2818347}"
       ]
      },
      {
       "output_type": "stream",
       "stream": "stdout",
       "text": [
        "\n",
        "Trying to fetch store# 381 from http://www.mcpennsylvania.com/381\n",
        "  Read 17748 bytes"
       ]
      },
      {
       "output_type": "stream",
       "stream": "stdout",
       "text": [
        "\n",
        "  Address is 1720 W. Exchange St.|Akron, OH 44313\n",
        "  Geocoded to {u'lat': 41.1083142, u'lng': -81.5688052}"
       ]
      },
      {
       "output_type": "stream",
       "stream": "stdout",
       "text": [
        "\n",
        "Trying to fetch store# 382 from http://www.mcpennsylvania.com/382\n",
        "  Read 9429 bytes"
       ]
      },
      {
       "output_type": "stream",
       "stream": "stdout",
       "text": [
        "\n",
        "  Store not found\n",
        "Trying to fetch store# 383 from http://www.mcpennsylvania.com/383\n",
        "  Read 17333 bytes"
       ]
      },
      {
       "output_type": "stream",
       "stream": "stdout",
       "text": [
        "\n",
        "  Address is 1420 Eastern Blvd.|Clarksville, IN 47129\n",
        "  Geocoded to {u'lat': 38.3093297, u'lng': -85.76961209999999}"
       ]
      },
      {
       "output_type": "stream",
       "stream": "stdout",
       "text": [
        "\n",
        "Trying to fetch store# 384 from http://www.mcpennsylvania.com/384\n",
        "  Read 16752 bytes"
       ]
      },
      {
       "output_type": "stream",
       "stream": "stdout",
       "text": [
        "\n",
        "  Address is 2875 SE Powell Blvd|Portland, OR 97202\n",
        "  Geocoded to {u'lat': 45.497751, u'lng': -122.6359003}"
       ]
      },
      {
       "output_type": "stream",
       "stream": "stdout",
       "text": [
        "\n",
        "Trying to fetch store# 385 from http://www.mcpennsylvania.com/385\n",
        "  Read 17262 bytes"
       ]
      },
      {
       "output_type": "stream",
       "stream": "stdout",
       "text": [
        "\n",
        "  Address is 3037 N Douglas Ave|Racine, WI 53402\n",
        "  Geocoded to {u'lat': 42.756556, u'lng': -87.799428}"
       ]
      },
      {
       "output_type": "stream",
       "stream": "stdout",
       "text": [
        "\n",
        "Trying to fetch store# 386 from http://www.mcpennsylvania.com/386\n",
        "  Read 9429 bytes"
       ]
      },
      {
       "output_type": "stream",
       "stream": "stdout",
       "text": [
        "\n",
        "  Store not found\n",
        "Trying to fetch store# 387 from http://www.mcpennsylvania.com/387\n",
        "  Read 9429 bytes"
       ]
      },
      {
       "output_type": "stream",
       "stream": "stdout",
       "text": [
        "\n",
        "  Store not found\n",
        "Trying to fetch store# 388 from http://www.mcpennsylvania.com/388\n",
        "  Read 9429 bytes"
       ]
      },
      {
       "output_type": "stream",
       "stream": "stdout",
       "text": [
        "\n",
        "  Store not found\n",
        "Trying to fetch store# 389 from http://www.mcpennsylvania.com/389\n",
        "  Read 9429 bytes"
       ]
      },
      {
       "output_type": "stream",
       "stream": "stdout",
       "text": [
        "\n",
        "  Store not found\n",
        "Trying to fetch store# 390 from http://www.mcpennsylvania.com/390\n",
        "  Read 9429 bytes"
       ]
      },
      {
       "output_type": "stream",
       "stream": "stdout",
       "text": [
        "\n",
        "  Store not found\n",
        "Trying to fetch store# 391 from http://www.mcpennsylvania.com/391\n",
        "  Read 17723 bytes"
       ]
      },
      {
       "output_type": "stream",
       "stream": "stdout",
       "text": [
        "\n",
        "  Address is 2106 Dix Highway|Lincoln Park, MI 48146\n",
        "  Geocoded to {u'lat': 42.2536604, u'lng': -83.194665}"
       ]
      },
      {
       "output_type": "stream",
       "stream": "stdout",
       "text": [
        "\n",
        "Trying to fetch store# 392 from http://www.mcpennsylvania.com/392\n",
        "  Read 17716 bytes"
       ]
      },
      {
       "output_type": "stream",
       "stream": "stdout",
       "text": [
        "\n",
        "  Address is 2505 Chapman Highway|Knoxville, TN 37920\n",
        "  Geocoded to {u'lat': 35.9505545, u'lng': -83.9146504}"
       ]
      },
      {
       "output_type": "stream",
       "stream": "stdout",
       "text": [
        "\n",
        "Trying to fetch store# 393 from http://www.mcpennsylvania.com/393\n",
        "  Read 9429 bytes"
       ]
      },
      {
       "output_type": "stream",
       "stream": "stdout",
       "text": [
        "\n",
        "  Store not found\n",
        "Trying to fetch store# 394 from http://www.mcpennsylvania.com/394\n",
        "  Read 9429 bytes"
       ]
      },
      {
       "output_type": "stream",
       "stream": "stdout",
       "text": [
        "\n",
        "  Store not found\n",
        "Trying to fetch store# 395 from http://www.mcpennsylvania.com/395\n",
        "  Read 9429 bytes"
       ]
      },
      {
       "output_type": "stream",
       "stream": "stdout",
       "text": [
        "\n",
        "  Store not found\n",
        "Trying to fetch store# 396 from http://www.mcpennsylvania.com/396\n",
        "  Read 17793 bytes"
       ]
      },
      {
       "output_type": "stream",
       "stream": "stdout",
       "text": [
        "\n",
        "  Address is 4422 W. Main St.|Belleville, IL 62223\n",
        "  Geocoded to {u'lat': 38.54009509999999, u'lng': -90.02349889999999}"
       ]
      },
      {
       "output_type": "stream",
       "stream": "stdout",
       "text": [
        "\n",
        "Wrote 210 locations to /Users/Ya/projects/mcdonalds/mcdonalds_locations.json\n",
        "Trying to fetch store# 397 from http://www.mcpennsylvania.com/397\n",
        "  Read 9429 bytes"
       ]
      },
      {
       "output_type": "stream",
       "stream": "stdout",
       "text": [
        "\n",
        "  Store not found\n",
        "Trying to fetch store# 398 from http://www.mcpennsylvania.com/398\n",
        "  Read 18451 bytes"
       ]
      },
      {
       "output_type": "stream",
       "stream": "stdout",
       "text": [
        "\n",
        "  Address is 6125 Grand Avenue|Des Moines, IA 50312\n",
        "  Geocoded to {u'lat': 41.5832024, u'lng': -93.7008858}"
       ]
      },
      {
       "output_type": "stream",
       "stream": "stdout",
       "text": [
        "\n",
        "Trying to fetch store# 399 from http://www.mcpennsylvania.com/399\n",
        "  Read 9429 bytes"
       ]
      },
      {
       "output_type": "stream",
       "stream": "stdout",
       "text": [
        "\n",
        "  Store not found\n",
        "Trying to fetch store# 400 from http://www.mcpennsylvania.com/400\n",
        "  Read 16550 bytes"
       ]
      },
      {
       "output_type": "stream",
       "stream": "stdout",
       "text": [
        "\n",
        "  Address is 1619 East Joppa Road|Towson, MD 21286\n",
        "  Geocoded to {u'lat': 39.3965189, u'lng': -76.5652214}"
       ]
      },
      {
       "output_type": "stream",
       "stream": "stdout",
       "text": [
        "\n",
        "Trying to fetch store# 401 from http://www.mcpennsylvania.com/401\n",
        "  Read 19865 bytes"
       ]
      },
      {
       "output_type": "stream",
       "stream": "stdout",
       "text": [
        "\n",
        "  Address is 7135 W. Roosevelt Rd.|Berwyn, IL 60402\n",
        "  Geocoded to {u'lat': 41.8646359, u'lng': -87.8033245}"
       ]
      },
      {
       "output_type": "stream",
       "stream": "stdout",
       "text": [
        "\n",
        "Trying to fetch store# 402 from http://www.mcpennsylvania.com/402\n",
        "  Read 9429 bytes"
       ]
      },
      {
       "output_type": "stream",
       "stream": "stdout",
       "text": [
        "\n",
        "  Store not found\n",
        "Trying to fetch store# 403 from http://www.mcpennsylvania.com/403\n",
        "  Read 9429 bytes"
       ]
      },
      {
       "output_type": "stream",
       "stream": "stdout",
       "text": [
        "\n",
        "  Store not found\n",
        "Trying to fetch store# 404 from http://www.mcpennsylvania.com/404\n",
        "  Read 9429 bytes"
       ]
      },
      {
       "output_type": "stream",
       "stream": "stdout",
       "text": [
        "\n",
        "  Store not found\n",
        "Trying to fetch store# 405 from http://www.mcpennsylvania.com/405\n",
        "  Read 17274 bytes"
       ]
      },
      {
       "output_type": "stream",
       "stream": "stdout",
       "text": [
        "\n",
        "  Address is 800 W. 6th St.|Pueblo, CO 81002\n",
        "  Geocoded to {u'lat': 38.271992, u'lng': -104.6181578}"
       ]
      },
      {
       "output_type": "stream",
       "stream": "stdout",
       "text": [
        "\n",
        "Trying to fetch store# 406 from http://www.mcpennsylvania.com/406\n",
        "  Read 17382 bytes"
       ]
      },
      {
       "output_type": "stream",
       "stream": "stdout",
       "text": [
        "\n",
        "  Address is 633 New Brunswick|Perth Amboy, NJ 08861\n",
        "  Geocoded to {u'lat': 40.5207018, u'lng': -74.2856846}"
       ]
      },
      {
       "output_type": "stream",
       "stream": "stdout",
       "text": [
        "\n",
        "Trying to fetch store# 407 from http://www.mcpennsylvania.com/407\n",
        "  Read 17426 bytes"
       ]
      },
      {
       "output_type": "stream",
       "stream": "stdout",
       "text": [
        "\n",
        "  Address is 2330 Fort Henry Drive|Kingsport, TN 37664\n",
        "  Geocoded to {u'lat': 36.52525790000001, u'lng': -82.52081199999999}"
       ]
      },
      {
       "output_type": "stream",
       "stream": "stdout",
       "text": [
        "\n",
        "Trying to fetch store# 408 from http://www.mcpennsylvania.com/408\n",
        "  Read 9429 bytes"
       ]
      },
      {
       "output_type": "stream",
       "stream": "stdout",
       "text": [
        "\n",
        "  Store not found\n",
        "Trying to fetch store# 409 from http://www.mcpennsylvania.com/409\n",
        "  Read 16941 bytes"
       ]
      },
      {
       "output_type": "stream",
       "stream": "stdout",
       "text": [
        "\n",
        "  Address is 1644 Pass Rd|Biloxi, MS 39531\n",
        "  Geocoded to {u'lat': 30.4028675, u'lng': -88.9353601}"
       ]
      },
      {
       "output_type": "stream",
       "stream": "stdout",
       "text": [
        "\n",
        "Trying to fetch store# 410 from http://www.mcpennsylvania.com/410\n",
        "  Read 17289 bytes"
       ]
      },
      {
       "output_type": "stream",
       "stream": "stdout",
       "text": [
        "\n",
        "  Address is 20 East 4th Street|Hutchinson, KS 67501\n",
        "  Geocoded to {u'lat': 38.0576, u'lng': -97.93070000000002}"
       ]
      },
      {
       "output_type": "stream",
       "stream": "stdout",
       "text": [
        "\n",
        "Trying to fetch store# 411 from http://www.mcpennsylvania.com/411\n",
        "  Read 15715 bytes"
       ]
      },
      {
       "output_type": "stream",
       "stream": "stdout",
       "text": [
        "\n",
        "  Address is 15620 1st Ave. S.|Burien, WA 98148\n",
        "  Geocoded to {u'lat': 47.4626184, u'lng': -122.3334053}"
       ]
      },
      {
       "output_type": "stream",
       "stream": "stdout",
       "text": [
        "\n",
        "Trying to fetch store# 412 from http://www.mcpennsylvania.com/412\n",
        "  Read 9429 bytes"
       ]
      },
      {
       "output_type": "stream",
       "stream": "stdout",
       "text": [
        "\n",
        "  Store not found\n",
        "Trying to fetch store# 413 from http://www.mcpennsylvania.com/413\n",
        "  Read 9429 bytes"
       ]
      },
      {
       "output_type": "stream",
       "stream": "stdout",
       "text": [
        "\n",
        "  Store not found\n",
        "Trying to fetch store# 414 from http://www.mcpennsylvania.com/414\n",
        "  Read 9429 bytes"
       ]
      },
      {
       "output_type": "stream",
       "stream": "stdout",
       "text": [
        "\n",
        "  Store not found\n",
        "Trying to fetch store# 415 from http://www.mcpennsylvania.com/415\n",
        "  Read 17564 bytes"
       ]
      },
      {
       "output_type": "stream",
       "stream": "stdout",
       "text": [
        "\n",
        "  Address is 11920 S. Western Ave.|Blue Island, IL 60406\n",
        "  Geocoded to {u'lat': 41.6766256, u'lng': -87.6810567}"
       ]
      },
      {
       "output_type": "stream",
       "stream": "stdout",
       "text": [
        "\n",
        "Wrote 220 locations to /Users/Ya/projects/mcdonalds/mcdonalds_locations.json\n",
        "Trying to fetch store# 416 from http://www.mcpennsylvania.com/416\n",
        "  Read 18190 bytes"
       ]
      },
      {
       "output_type": "stream",
       "stream": "stdout",
       "text": [
        "\n",
        "  Address is 185 Chestnut St.|Redwood City, CA 94063\n",
        "  Geocoded to {u'lat': 37.4792898, u'lng': -122.2242071}"
       ]
      },
      {
       "output_type": "stream",
       "stream": "stdout",
       "text": [
        "\n",
        "Trying to fetch store# 417 from http://www.mcpennsylvania.com/417\n",
        "  Read 9429 bytes"
       ]
      },
      {
       "output_type": "stream",
       "stream": "stdout",
       "text": [
        "\n",
        "  Store not found\n",
        "Trying to fetch store# 418 from http://www.mcpennsylvania.com/418\n",
        "  Read 9429 bytes"
       ]
      },
      {
       "output_type": "stream",
       "stream": "stdout",
       "text": [
        "\n",
        "  Store not found\n",
        "Trying to fetch store# 419 from http://www.mcpennsylvania.com/419\n",
        "  Read 9429 bytes"
       ]
      },
      {
       "output_type": "stream",
       "stream": "stdout",
       "text": [
        "\n",
        "  Store not found\n",
        "Trying to fetch store# 420 from http://www.mcpennsylvania.com/420\n",
        "  Read 20697 bytes"
       ]
      },
      {
       "output_type": "stream",
       "stream": "stdout",
       "text": [
        "\n",
        "  Address is 259 South Black Horse Pike|Mount Ephraim, NJ 08059\n",
        "  Geocoded to {u'lat': 39.8757325, u'lng': -75.0842092}"
       ]
      },
      {
       "output_type": "stream",
       "stream": "stdout",
       "text": [
        "\n",
        "Trying to fetch store# 421 from http://www.mcpennsylvania.com/421\n",
        "  Read 9429 bytes"
       ]
      },
      {
       "output_type": "stream",
       "stream": "stdout",
       "text": [
        "\n",
        "  Store not found\n",
        "Trying to fetch store# 422 from http://www.mcpennsylvania.com/422\n",
        "  Read 17273 bytes"
       ]
      },
      {
       "output_type": "stream",
       "stream": "stdout",
       "text": [
        "\n",
        "  Address is 599 W. 104th Ave.|Northglenn, CO 80234\n",
        "  Geocoded to {u'lat': 39.885613, u'lng': -104.994657}"
       ]
      },
      {
       "output_type": "stream",
       "stream": "stdout",
       "text": [
        "\n",
        "Trying to fetch store# 423 from http://www.mcpennsylvania.com/423\n",
        "  Read 9429 bytes"
       ]
      },
      {
       "output_type": "stream",
       "stream": "stdout",
       "text": [
        "\n",
        "  Store not found\n",
        "Trying to fetch store# 424 from http://www.mcpennsylvania.com/424\n",
        "  Read 18751 bytes"
       ]
      },
      {
       "output_type": "stream",
       "stream": "stdout",
       "text": [
        "\n",
        "  Address is 5355 North Interregional Highway|Austin, TX 78723\n",
        "  Geocoded to {u'lat': 30.3142074, u'lng': -97.7079785}"
       ]
      },
      {
       "output_type": "stream",
       "stream": "stdout",
       "text": [
        "\n",
        "Trying to fetch store# 425 from http://www.mcpennsylvania.com/425\n",
        "  Read 17284 bytes"
       ]
      },
      {
       "output_type": "stream",
       "stream": "stdout",
       "text": [
        "\n",
        "  Address is 9100 SE Powell Blvd|Portland, OR 97266\n",
        "  Geocoded to {u'lat': 45.496692, u'lng': -122.5701439}"
       ]
      },
      {
       "output_type": "stream",
       "stream": "stdout",
       "text": [
        "\n",
        "Trying to fetch store# 426 from http://www.mcpennsylvania.com/426\n",
        "  Read 9429 bytes"
       ]
      },
      {
       "output_type": "stream",
       "stream": "stdout",
       "text": [
        "\n",
        "  Store not found\n",
        "Trying to fetch store# 427 from http://www.mcpennsylvania.com/427\n",
        "  Read 9429 bytes"
       ]
      },
      {
       "output_type": "stream",
       "stream": "stdout",
       "text": [
        "\n",
        "  Store not found\n",
        "Trying to fetch store# 428 from http://www.mcpennsylvania.com/428\n",
        "  Read 17099 bytes"
       ]
      },
      {
       "output_type": "stream",
       "stream": "stdout",
       "text": [
        "\n",
        "  Address is 11591 Frankstown Rd.|Penn Hills, PA 15235\n",
        "  Geocoded to {u'lat': 40.4652079, u'lng': -79.828907}"
       ]
      },
      {
       "output_type": "stream",
       "stream": "stdout",
       "text": [
        "\n",
        "Trying to fetch store# 429 from http://www.mcpennsylvania.com/429\n",
        "  Read 17318 bytes"
       ]
      },
      {
       "output_type": "stream",
       "stream": "stdout",
       "text": [
        "\n",
        "  Address is 7300 N Lindbergh|Hazelwood, MO 63042\n",
        "  Geocoded to {u'lat': 38.78336090000001, u'lng': -90.35491479999999}"
       ]
      },
      {
       "output_type": "stream",
       "stream": "stdout",
       "text": [
        "\n",
        "Trying to fetch store# 430 from http://www.mcpennsylvania.com/430\n",
        "  Read 9429 bytes"
       ]
      },
      {
       "output_type": "stream",
       "stream": "stdout",
       "text": [
        "\n",
        "  Store not found\n",
        "Trying to fetch store# 431 from http://www.mcpennsylvania.com/431\n",
        "  Read 9429 bytes"
       ]
      },
      {
       "output_type": "stream",
       "stream": "stdout",
       "text": [
        "\n",
        "  Store not found\n",
        "Trying to fetch store# 432 from http://www.mcpennsylvania.com/432\n",
        "  Read 16258 bytes"
       ]
      },
      {
       "output_type": "stream",
       "stream": "stdout",
       "text": [
        "\n",
        "  Address is 3700 E. Genessee St.|Saginaw, MI 48601\n",
        "  Geocoded to {u'lat': 43.4003929, u'lng': -83.9120818}"
       ]
      },
      {
       "output_type": "stream",
       "stream": "stdout",
       "text": [
        "\n",
        "Trying to fetch store# 433 from http://www.mcpennsylvania.com/433\n",
        "  Read 9429 bytes"
       ]
      },
      {
       "output_type": "stream",
       "stream": "stdout",
       "text": [
        "\n",
        "  Store not found\n",
        "Trying to fetch store# 434 from http://www.mcpennsylvania.com/434\n",
        "  Read 18229 bytes"
       ]
      },
      {
       "output_type": "stream",
       "stream": "stdout",
       "text": [
        "\n",
        "  Address is 505 E. Colfax Ave.|Denver, CO 80203\n",
        "  Geocoded to {u'lat': 39.7401983, u'lng': -104.9807486}"
       ]
      },
      {
       "output_type": "stream",
       "stream": "stdout",
       "text": [
        "\n",
        "Trying to fetch store# 435 from http://www.mcpennsylvania.com/435\n",
        "  Read 17815 bytes"
       ]
      },
      {
       "output_type": "stream",
       "stream": "stdout",
       "text": [
        "\n",
        "  Address is 2336 25th Ave. S.|Seattle, WA 98144\n",
        "  Geocoded to {u'lat': 47.5816087, u'lng': -122.2999787}"
       ]
      },
      {
       "output_type": "stream",
       "stream": "stdout",
       "text": [
        "\n",
        "Wrote 230 locations to /Users/Ya/projects/mcdonalds/mcdonalds_locations.json\n",
        "Trying to fetch store# 436 from http://www.mcpennsylvania.com/436\n",
        "  Read 9429 bytes"
       ]
      },
      {
       "output_type": "stream",
       "stream": "stdout",
       "text": [
        "\n",
        "  Store not found\n",
        "Trying to fetch store# 437 from http://www.mcpennsylvania.com/437\n",
        "  Read 17348 bytes"
       ]
      },
      {
       "output_type": "stream",
       "stream": "stdout",
       "text": [
        "\n",
        "  Address is 1452 West Carson Street|Torrance, CA 90501\n",
        "  Geocoded to {u'lat': 33.8311675, u'lng': -118.303346}"
       ]
      },
      {
       "output_type": "stream",
       "stream": "stdout",
       "text": [
        "\n",
        "Trying to fetch store# 438 from http://www.mcpennsylvania.com/438\n",
        "  Read 16783 bytes"
       ]
      },
      {
       "output_type": "stream",
       "stream": "stdout",
       "text": [
        "\n",
        "  Address is 11700 E 24 Hwy|Independence, MO 64054\n",
        "  Geocoded to {u'lat': 39.1024929, u'lng': -94.43650769999999}"
       ]
      },
      {
       "output_type": "stream",
       "stream": "stdout",
       "text": [
        "\n",
        "Trying to fetch store# 439 from http://www.mcpennsylvania.com/439\n",
        "  Read 9429 bytes"
       ]
      },
      {
       "output_type": "stream",
       "stream": "stdout",
       "text": [
        "\n",
        "  Store not found\n",
        "Trying to fetch store# 440 from http://www.mcpennsylvania.com/440\n",
        "  Read 9429 bytes"
       ]
      },
      {
       "output_type": "stream",
       "stream": "stdout",
       "text": [
        "\n",
        "  Store not found\n",
        "Trying to fetch store# 441 from http://www.mcpennsylvania.com/441\n",
        "  Read 17515 bytes"
       ]
      },
      {
       "output_type": "stream",
       "stream": "stdout",
       "text": [
        "\n",
        "  Address is 2328 E. Main St.|Springfield, OH 45505\n",
        "  Geocoded to {u'lat': 39.9236466, u'lng': -83.77359589999999}"
       ]
      },
      {
       "output_type": "stream",
       "stream": "stdout",
       "text": [
        "\n",
        "Trying to fetch store# 442 from http://www.mcpennsylvania.com/442\n",
        "  Read 21592 bytes"
       ]
      },
      {
       "output_type": "stream",
       "stream": "stdout",
       "text": [
        "\n",
        "  Address is 5261 Library Rd.|Bethel Park, PA 15102\n",
        "  Geocoded to {u'lat': 40.3318643, u'lng': -80.0223972}"
       ]
      },
      {
       "output_type": "stream",
       "stream": "stdout",
       "text": [
        "\n",
        "Trying to fetch store# 443 from http://www.mcpennsylvania.com/443\n",
        "  Read 9429 bytes"
       ]
      },
      {
       "output_type": "stream",
       "stream": "stdout",
       "text": [
        "\n",
        "  Store not found\n",
        "Trying to fetch store# 444 from http://www.mcpennsylvania.com/444\n",
        "  Read 9429 bytes"
       ]
      },
      {
       "output_type": "stream",
       "stream": "stdout",
       "text": [
        "\n",
        "  Store not found\n",
        "Trying to fetch store# 445 from http://www.mcpennsylvania.com/445\n",
        "  Read 16934 bytes"
       ]
      },
      {
       "output_type": "stream",
       "stream": "stdout",
       "text": [
        "\n",
        "  Address is 4834 Lee Highway|Arlington, VA 22207\n",
        "  Geocoded to {u'lat': 38.8963215, u'lng': -77.1262627}"
       ]
      },
      {
       "output_type": "stream",
       "stream": "stdout",
       "text": [
        "\n",
        "Trying to fetch store# 446 from http://www.mcpennsylvania.com/446\n",
        "  Read 9429 bytes"
       ]
      },
      {
       "output_type": "stream",
       "stream": "stdout",
       "text": [
        "\n",
        "  Store not found\n",
        "Trying to fetch store# 447 from http://www.mcpennsylvania.com/447\n",
        "  Read 17230 bytes"
       ]
      },
      {
       "output_type": "stream",
       "stream": "stdout",
       "text": [
        "\n",
        "  Address is 1707 Black River Blvd.|Rome, NY 13440\n",
        "  Geocoded to {u'lat': 43.2305175, u'lng': -75.4394847}"
       ]
      },
      {
       "output_type": "stream",
       "stream": "stdout",
       "text": [
        "\n",
        "Trying to fetch store# 448 from http://www.mcpennsylvania.com/448\n",
        "  Read 9429 bytes"
       ]
      },
      {
       "output_type": "stream",
       "stream": "stdout",
       "text": [
        "\n",
        "  Store not found\n",
        "Trying to fetch store# 449 from http://www.mcpennsylvania.com/449\n",
        "  Read 17224 bytes"
       ]
      },
      {
       "output_type": "stream",
       "stream": "stdout",
       "text": [
        "\n",
        "  Address is 3520 Ave. E.|Ensley, AL 35218\n",
        "  Geocoded to {u'lat': 33.4994224, u'lng': -86.9081412}"
       ]
      },
      {
       "output_type": "stream",
       "stream": "stdout",
       "text": [
        "\n",
        "Trying to fetch store# 450 from http://www.mcpennsylvania.com/450\n",
        "  Read 9429 bytes"
       ]
      },
      {
       "output_type": "stream",
       "stream": "stdout",
       "text": [
        "\n",
        "  Store not found\n",
        "Trying to fetch store# 451 from http://www.mcpennsylvania.com/451\n",
        "  Read 16982 bytes"
       ]
      },
      {
       "output_type": "stream",
       "stream": "stdout",
       "text": [
        "\n",
        "  Address is 1100 Carlisle Rd.,| Cedar Cliff,|Camp Hill, PA 17011\n",
        "  Geocoded to {u'lat': 40.2293664, u'lng': -76.8962782}"
       ]
      },
      {
       "output_type": "stream",
       "stream": "stdout",
       "text": [
        "\n",
        "Trying to fetch store# 452 from http://www.mcpennsylvania.com/452\n",
        "  Read 9429 bytes"
       ]
      },
      {
       "output_type": "stream",
       "stream": "stdout",
       "text": [
        "\n",
        "  Store not found\n",
        "Trying to fetch store# 453 from http://www.mcpennsylvania.com/453\n",
        "  Read 20735 bytes"
       ]
      },
      {
       "output_type": "stream",
       "stream": "stdout",
       "text": [
        "\n",
        "  Address is 2603 South Broad Street|Trenton, NJ 08610\n",
        "  Geocoded to {u'lat': 40.1922367, u'lng': -74.715755}"
       ]
      },
      {
       "output_type": "stream",
       "stream": "stdout",
       "text": [
        "\n",
        "Trying to fetch store# 454 from http://www.mcpennsylvania.com/454\n",
        "  Read 21039 bytes"
       ]
      },
      {
       "output_type": "stream",
       "stream": "stdout",
       "text": [
        "\n",
        "  Address is 717 Harrison Ave.|Panama City, FL 32405\n",
        "  Geocoded to {u'lat': 30.1614024, u'lng': -85.66059589999999}"
       ]
      },
      {
       "output_type": "stream",
       "stream": "stdout",
       "text": [
        "\n",
        "Wrote 240 locations to /Users/Ya/projects/mcdonalds/mcdonalds_locations.json\n",
        "Trying to fetch store# 455 from http://www.mcpennsylvania.com/455\n",
        "  Read 16618 bytes"
       ]
      },
      {
       "output_type": "stream",
       "stream": "stdout",
       "text": [
        "\n",
        "  Address is 3315 Macon Rd|Columbus, GA 31906\n",
        "  Geocoded to {u'lat': 32.4823003, u'lng': -84.9411439}"
       ]
      },
      {
       "output_type": "stream",
       "stream": "stdout",
       "text": [
        "\n",
        "Trying to fetch store# 456 from http://www.mcpennsylvania.com/456\n",
        "  Read 9429 bytes"
       ]
      },
      {
       "output_type": "stream",
       "stream": "stdout",
       "text": [
        "\n",
        "  Store not found\n",
        "Trying to fetch store# 457 from http://www.mcpennsylvania.com/457\n",
        "  Read 9429 bytes"
       ]
      },
      {
       "output_type": "stream",
       "stream": "stdout",
       "text": [
        "\n",
        "  Store not found\n",
        "Trying to fetch store# 458 from http://www.mcpennsylvania.com/458\n",
        "  Read 17323 bytes"
       ]
      },
      {
       "output_type": "stream",
       "stream": "stdout",
       "text": [
        "\n",
        "  Address is 1145 W. Bond|Lincoln, NE 68521\n",
        "  Geocoded to {u'lat': 40.8444811, u'lng': -96.7385394}"
       ]
      },
      {
       "output_type": "stream",
       "stream": "stdout",
       "text": [
        "\n",
        "Trying to fetch store# 459 from http://www.mcpennsylvania.com/459\n",
        "  Read 17854 bytes"
       ]
      },
      {
       "output_type": "stream",
       "stream": "stdout",
       "text": [
        "\n",
        "  Address is 5400 14th Ave. NW|Seattle, WA 98107\n",
        "  Geocoded to {u'lat': 47.668252, u'lng': -122.37318}"
       ]
      },
      {
       "output_type": "stream",
       "stream": "stdout",
       "text": [
        "\n",
        "Trying to fetch store# 460 from http://www.mcpennsylvania.com/460\n",
        "  Read 18329 bytes"
       ]
      },
      {
       "output_type": "stream",
       "stream": "stdout",
       "text": [
        "\n",
        "  Address is 606 North Tustin Ave|Orange, CA 92867\n",
        "  Geocoded to {u'lat': 33.7969628, u'lng': -117.8362073}"
       ]
      },
      {
       "output_type": "stream",
       "stream": "stdout",
       "text": [
        "\n",
        "Trying to fetch store# 461 from http://www.mcpennsylvania.com/461\n",
        "  Read 9429 bytes"
       ]
      },
      {
       "output_type": "stream",
       "stream": "stdout",
       "text": [
        "\n",
        "  Store not found\n",
        "Trying to fetch store# 462 from http://www.mcpennsylvania.com/462\n",
        "  Read 16623 bytes"
       ]
      },
      {
       "output_type": "stream",
       "stream": "stdout",
       "text": [
        "\n",
        "  Address is 1302 Shreveport Barksdale Hwy|Shreveport, LA 71105\n",
        "  Geocoded to {u'lat': 32.4890727, u'lng': -93.7045023}"
       ]
      },
      {
       "output_type": "stream",
       "stream": "stdout",
       "text": [
        "\n",
        "Trying to fetch store# 463 from http://www.mcpennsylvania.com/463\n",
        "  Read 16897 bytes"
       ]
      },
      {
       "output_type": "stream",
       "stream": "stdout",
       "text": [
        "\n",
        "  Address is 1118 Main St.|River Edge, NJ 07661\n",
        "  Geocoded to {u'lat': 40.912472, u'lng': -74.034795}"
       ]
      },
      {
       "output_type": "stream",
       "stream": "stdout",
       "text": [
        "\n",
        "Trying to fetch store# 464 from http://www.mcpennsylvania.com/464\n",
        "  Read 9429 bytes"
       ]
      },
      {
       "output_type": "stream",
       "stream": "stdout",
       "text": [
        "\n",
        "  Store not found\n",
        "Trying to fetch store# 465 from http://www.mcpennsylvania.com/465\n",
        "  Read 23220 bytes"
       ]
      },
      {
       "output_type": "stream",
       "stream": "stdout",
       "text": [
        "\n",
        "  Address is 2701 South Main Street|Joplin, MO 64804\n",
        "  Geocoded to {u'lat': 37.0602139, u'lng': -94.5141965}"
       ]
      },
      {
       "output_type": "stream",
       "stream": "stdout",
       "text": [
        "\n",
        "Trying to fetch store# 466 from http://www.mcpennsylvania.com/466\n",
        "  Read 20093 bytes"
       ]
      },
      {
       "output_type": "stream",
       "stream": "stdout",
       "text": [
        "\n",
        "  Address is 334 John Fitch Highway|Fitchburg, MA 01420\n",
        "  Geocoded to {u'lat': 42.5796138, u'lng': -71.7740622}"
       ]
      },
      {
       "output_type": "stream",
       "stream": "stdout",
       "text": [
        "\n",
        "Trying to fetch store# 467 from http://www.mcpennsylvania.com/467\n",
        "  Read 16997 bytes"
       ]
      },
      {
       "output_type": "stream",
       "stream": "stdout",
       "text": [
        "\n",
        "  Address is 9101 Kinsman Rd.|Cleveland, OH 44104\n",
        "  Geocoded to {u'lat': 41.4726907, u'lng': -81.62260619999999}"
       ]
      },
      {
       "output_type": "stream",
       "stream": "stdout",
       "text": [
        "\n",
        "Trying to fetch store# 468 from http://www.mcpennsylvania.com/468\n",
        "  Read 17180 bytes"
       ]
      },
      {
       "output_type": "stream",
       "stream": "stdout",
       "text": [
        "\n",
        "  Address is 3551 Broadway|Riviera Beach, FL 33404\n",
        "  Geocoded to {u'lat': 26.7909852, u'lng': -80.05469819999999}"
       ]
      },
      {
       "output_type": "stream",
       "stream": "stdout",
       "text": [
        "\n",
        "Wrote 250 locations to /Users/Ya/projects/mcdonalds/mcdonalds_locations.json\n",
        "Trying to fetch store# 469 from http://www.mcpennsylvania.com/469\n",
        "  Read 9429 bytes"
       ]
      },
      {
       "output_type": "stream",
       "stream": "stdout",
       "text": [
        "\n",
        "  Store not found\n",
        "Trying to fetch store# 470 from http://www.mcpennsylvania.com/470\n",
        "  Read 20003 bytes"
       ]
      },
      {
       "output_type": "stream",
       "stream": "stdout",
       "text": [
        "\n",
        "  Address is 1225 W Baldwin Ave|Marion, IN 46952\n",
        "  Geocoded to {u'lat': 40.573699, u'lng': -85.67606500000001}"
       ]
      },
      {
       "output_type": "stream",
       "stream": "stdout",
       "text": [
        "\n",
        "Trying to fetch store# 471 from http://www.mcpennsylvania.com/471\n",
        "  Read 20300 bytes"
       ]
      },
      {
       "output_type": "stream",
       "stream": "stdout",
       "text": [
        "\n",
        "  Address is 44 William S. Canning Blvd.|Fall River, MA 02721\n",
        "  Geocoded to {u'lat': 41.6771208, u'lng': -71.1615554}"
       ]
      },
      {
       "output_type": "stream",
       "stream": "stdout",
       "text": [
        "\n",
        "Trying to fetch store# 472 from http://www.mcpennsylvania.com/472\n",
        "  Read 15869 bytes"
       ]
      },
      {
       "output_type": "stream",
       "stream": "stdout",
       "text": [
        "\n",
        "  Address is 15210 Pacific Hwy S.|Tukwila, WA 98188\n",
        "  Geocoded to {u'lat': 47.4668638, u'lng': -122.2881282}"
       ]
      },
      {
       "output_type": "stream",
       "stream": "stdout",
       "text": [
        "\n",
        "Trying to fetch store# 473 from http://www.mcpennsylvania.com/473\n",
        "  Read 9429 bytes"
       ]
      },
      {
       "output_type": "stream",
       "stream": "stdout",
       "text": [
        "\n",
        "  Store not found\n",
        "Trying to fetch store# 474 from http://www.mcpennsylvania.com/474\n",
        "  Read 9429 bytes"
       ]
      },
      {
       "output_type": "stream",
       "stream": "stdout",
       "text": [
        "\n",
        "  Store not found\n",
        "Trying to fetch store# 475 from http://www.mcpennsylvania.com/475\n",
        "  Read 17102 bytes"
       ]
      },
      {
       "output_type": "stream",
       "stream": "stdout",
       "text": [
        "\n",
        "  Address is 627 N. Western|West Peoria, IL 61604\n",
        "  Geocoded to {u'lat': 40.6956429, u'lng': -89.62323699999999}"
       ]
      },
      {
       "output_type": "stream",
       "stream": "stdout",
       "text": [
        "\n",
        "Trying to fetch store# 476 from http://www.mcpennsylvania.com/476\n",
        "  Read 17386 bytes"
       ]
      },
      {
       "output_type": "stream",
       "stream": "stdout",
       "text": [
        "\n",
        "  Address is 2707 E Carson St|Lakewood, CA 90712\n",
        "  Geocoded to {u'lat': 33.83276500000001, u'lng': -118.159522}"
       ]
      },
      {
       "output_type": "stream",
       "stream": "stdout",
       "text": [
        "\n",
        "Trying to fetch store# 477 from http://www.mcpennsylvania.com/477\n",
        "  Read 9429 bytes"
       ]
      },
      {
       "output_type": "stream",
       "stream": "stdout",
       "text": [
        "\n",
        "  Store not found\n",
        "Trying to fetch store# 478 from http://www.mcpennsylvania.com/478\n",
        "  Read 18577 bytes"
       ]
      },
      {
       "output_type": "stream",
       "stream": "stdout",
       "text": [
        "\n",
        "  Address is 3610 Merle Hay Road|Des Moines, IA 50310\n",
        "  Geocoded to {u'lat': 41.6281235, u'lng': -93.69831909999999}"
       ]
      },
      {
       "output_type": "stream",
       "stream": "stdout",
       "text": [
        "\n",
        "Trying to fetch store# 479 from http://www.mcpennsylvania.com/479\n",
        "  Read 9429 bytes"
       ]
      },
      {
       "output_type": "stream",
       "stream": "stdout",
       "text": [
        "\n",
        "  Store not found\n",
        "Trying to fetch store# 480 from http://www.mcpennsylvania.com/480\n",
        "  Read 9429 bytes"
       ]
      },
      {
       "output_type": "stream",
       "stream": "stdout",
       "text": [
        "\n",
        "  Store not found\n",
        "Trying to fetch store# 481 from http://www.mcpennsylvania.com/481\n",
        "  Read 9429 bytes"
       ]
      },
      {
       "output_type": "stream",
       "stream": "stdout",
       "text": [
        "\n",
        "  Store not found\n",
        "Trying to fetch store# 482 from http://www.mcpennsylvania.com/482\n",
        "  Read 17079 bytes"
       ]
      },
      {
       "output_type": "stream",
       "stream": "stdout",
       "text": [
        "\n",
        "  Address is 1860 Gulf To Bay Blvd.|Clearwater, FL 33765\n",
        "  Geocoded to {u'lat': 27.960932, u'lng': -82.7604051}"
       ]
      },
      {
       "output_type": "stream",
       "stream": "stdout",
       "text": [
        "\n",
        "Trying to fetch store# 483 from http://www.mcpennsylvania.com/483\n",
        "  Read 17144 bytes"
       ]
      },
      {
       "output_type": "stream",
       "stream": "stdout",
       "text": [
        "\n",
        "  Address is 2411 West Ball Road|Anaheim, CA 92804\n",
        "  Geocoded to {u'lat': 33.818016, u'lng': -117.968456}"
       ]
      },
      {
       "output_type": "stream",
       "stream": "stdout",
       "text": [
        "\n",
        "Trying to fetch store# 484 from http://www.mcpennsylvania.com/484\n",
        "  Read 9429 bytes"
       ]
      },
      {
       "output_type": "stream",
       "stream": "stdout",
       "text": [
        "\n",
        "  Store not found\n",
        "Trying to fetch store# 485 from http://www.mcpennsylvania.com/485\n",
        "  Read 9429 bytes"
       ]
      },
      {
       "output_type": "stream",
       "stream": "stdout",
       "text": [
        "\n",
        "  Store not found\n",
        "Trying to fetch store# 486 from http://www.mcpennsylvania.com/486\n",
        "  Read 17061 bytes"
       ]
      },
      {
       "output_type": "stream",
       "stream": "stdout",
       "text": [
        "\n",
        "  Address is 14024 Osborne Street|Pacoima, CA 91331\n",
        "  Geocoded to {u'lat': 34.2331328, u'lng': -118.4378261}"
       ]
      },
      {
       "output_type": "stream",
       "stream": "stdout",
       "text": [
        "\n",
        "Trying to fetch store# 487 from http://www.mcpennsylvania.com/487\n",
        "  Read 17327 bytes"
       ]
      },
      {
       "output_type": "stream",
       "stream": "stdout",
       "text": [
        "\n",
        "  Address is 27901 Gratiot Avenue|Roseville, MI 48066\n",
        "  Geocoded to {u'lat': 42.5016313, u'lng': -82.9345388}"
       ]
      },
      {
       "output_type": "stream",
       "stream": "stdout",
       "text": [
        "\n",
        "Wrote 260 locations to /Users/Ya/projects/mcdonalds/mcdonalds_locations.json\n",
        "Trying to fetch store# 488 from http://www.mcpennsylvania.com/488\n",
        "  Read 17463 bytes"
       ]
      },
      {
       "output_type": "stream",
       "stream": "stdout",
       "text": [
        "\n",
        "  Address is 31255 Harper Avenue|St. Clair Shores, MI 48082\n",
        "  Geocoded to {u'lat': 42.5260978, u'lng': -82.89703689999999}"
       ]
      },
      {
       "output_type": "stream",
       "stream": "stdout",
       "text": [
        "\n",
        "Trying to fetch store# 489 from http://www.mcpennsylvania.com/489\n",
        "  Read 9429 bytes"
       ]
      },
      {
       "output_type": "stream",
       "stream": "stdout",
       "text": [
        "\n",
        "  Store not found\n",
        "Trying to fetch store# 490 from http://www.mcpennsylvania.com/490\n",
        "  Read 16756 bytes"
       ]
      },
      {
       "output_type": "stream",
       "stream": "stdout",
       "text": [
        "\n",
        "  Address is 10320 S. Kedzie|Chicago, IL 60655\n",
        "  Geocoded to {u'lat': 41.705484, u'lng': -87.70168}"
       ]
      },
      {
       "output_type": "stream",
       "stream": "stdout",
       "text": [
        "\n",
        "Trying to fetch store# 491 from http://www.mcpennsylvania.com/491\n",
        "  Read 16854 bytes"
       ]
      },
      {
       "output_type": "stream",
       "stream": "stdout",
       "text": [
        "\n",
        "  Address is 2550 Winchester Ave.|Ashland, KY 41101\n",
        "  Geocoded to {u'lat': 38.4720279, u'lng': -82.6271924}"
       ]
      },
      {
       "output_type": "stream",
       "stream": "stdout",
       "text": [
        "\n",
        "Trying to fetch store# 492 from http://www.mcpennsylvania.com/492\n",
        "  Read 18016 bytes"
       ]
      },
      {
       "output_type": "stream",
       "stream": "stdout",
       "text": [
        "\n",
        "  Address is 2612 West Morgan Avenue|Milwaukee, WI 53221\n",
        "  Geocoded to {u'lat': 42.981662, u'lng': -87.947356}"
       ]
      },
      {
       "output_type": "stream",
       "stream": "stdout",
       "text": [
        "\n",
        "Trying to fetch store# 493 from http://www.mcpennsylvania.com/493\n",
        "  Read 17075 bytes"
       ]
      },
      {
       "output_type": "stream",
       "stream": "stdout",
       "text": [
        "\n",
        "  Address is 416 N. Michigan St.|South Bend, IN 46601\n",
        "  Geocoded to {u'lat': 41.6809817, u'lng': -86.25008799999999}"
       ]
      },
      {
       "output_type": "stream",
       "stream": "stdout",
       "text": [
        "\n",
        "Trying to fetch store# 494 from http://www.mcpennsylvania.com/494\n",
        "  Read 9429 bytes"
       ]
      },
      {
       "output_type": "stream",
       "stream": "stdout",
       "text": [
        "\n",
        "  Store not found\n",
        "Trying to fetch store# 495 from http://www.mcpennsylvania.com/495\n",
        "  Read 9429 bytes"
       ]
      },
      {
       "output_type": "stream",
       "stream": "stdout",
       "text": [
        "\n",
        "  Store not found\n",
        "Trying to fetch store# 496 from http://www.mcpennsylvania.com/496\n",
        "  Read 17943 bytes"
       ]
      },
      {
       "output_type": "stream",
       "stream": "stdout",
       "text": [
        "\n",
        "  Address is 2145 Veterans Memorial Blvd.|Kenner, LA 70062\n",
        "  Geocoded to {u'lat': 30.0060335, u'lng': -90.23875009999999}"
       ]
      },
      {
       "output_type": "stream",
       "stream": "stdout",
       "text": [
        "\n",
        "Trying to fetch store# 497 from http://www.mcpennsylvania.com/497\n",
        "  Read 9429 bytes"
       ]
      },
      {
       "output_type": "stream",
       "stream": "stdout",
       "text": [
        "\n",
        "  Store not found\n",
        "Trying to fetch store# 498 from http://www.mcpennsylvania.com/498\n",
        "  Read 9429 bytes"
       ]
      },
      {
       "output_type": "stream",
       "stream": "stdout",
       "text": [
        "\n",
        "  Store not found\n",
        "Trying to fetch store# 499 from http://www.mcpennsylvania.com/499\n",
        "  Read 9429 bytes"
       ]
      },
      {
       "output_type": "stream",
       "stream": "stdout",
       "text": [
        "\n",
        "  Store not found\n",
        "Trying to fetch store# 500 from http://www.mcpennsylvania.com/500\n",
        "  Read 17136 bytes"
       ]
      },
      {
       "output_type": "stream",
       "stream": "stdout",
       "text": [
        "\n",
        "  Address is 6th Street Northwest|Winter Haven, FL 33880\n",
        "  Geocoded to {u'lat': 28.015911, u'lng': -81.7334013}"
       ]
      },
      {
       "output_type": "stream",
       "stream": "stdout",
       "text": [
        "\n",
        "Trying to fetch store# 501 from http://www.mcpennsylvania.com/501\n",
        "  Read 17949 bytes"
       ]
      },
      {
       "output_type": "stream",
       "stream": "stdout",
       "text": [
        "\n",
        "  Address is 195 North Main Street|Andover, MA 01810\n",
        "  Geocoded to {u'lat': 42.663242, u'lng': -71.1447239}"
       ]
      },
      {
       "output_type": "stream",
       "stream": "stdout",
       "text": [
        "\n",
        "Trying to fetch store# 502 from http://www.mcpennsylvania.com/502\n",
        "  Read 9429 bytes"
       ]
      },
      {
       "output_type": "stream",
       "stream": "stdout",
       "text": [
        "\n",
        "  Store not found\n",
        "Trying to fetch store# 503 from http://www.mcpennsylvania.com/503\n",
        "  Read 17416 bytes"
       ]
      },
      {
       "output_type": "stream",
       "stream": "stdout",
       "text": [
        "\n",
        "  Address is 3330 NE 82nd Avenue|Portland, OR 97220\n",
        "  Geocoded to {u'lat': 45.5469598, u'lng': -122.5783765}"
       ]
      },
      {
       "output_type": "stream",
       "stream": "stdout",
       "text": [
        "\n",
        "Trying to fetch store# 504 from http://www.mcpennsylvania.com/504\n",
        "  Read 16941 bytes"
       ]
      },
      {
       "output_type": "stream",
       "stream": "stdout",
       "text": [
        "\n",
        "  Address is 4500 Mayfield Rd|South Euclid, OH 44121\n",
        "  Geocoded to {u'lat': 41.5194533, u'lng': -81.51800639999999}"
       ]
      },
      {
       "output_type": "stream",
       "stream": "stdout",
       "text": [
        "\n",
        "Wrote 270 locations to /Users/Ya/projects/mcdonalds/mcdonalds_locations.json\n",
        "Trying to fetch store# 505 from http://www.mcpennsylvania.com/505\n",
        "  Read 17479 bytes"
       ]
      },
      {
       "output_type": "stream",
       "stream": "stdout",
       "text": [
        "\n",
        "  Address is 4801 Garners Ferry Road|Columbia, SC 29209\n",
        "  Geocoded to {u'lat': 33.989094, u'lng': -80.972471}"
       ]
      },
      {
       "output_type": "stream",
       "stream": "stdout",
       "text": [
        "\n",
        "Trying to fetch store# 506 from http://www.mcpennsylvania.com/506\n",
        "  Read 17126 bytes"
       ]
      },
      {
       "output_type": "stream",
       "stream": "stdout",
       "text": [
        "\n",
        "  Address is 1205 Old Boston Post Rd|Mamaroneck, NY 10543\n",
        "  Geocoded to {u'lat': 40.9391278, u'lng': -73.7441254}"
       ]
      },
      {
       "output_type": "stream",
       "stream": "stdout",
       "text": [
        "\n",
        "Trying to fetch store# 507 from http://www.mcpennsylvania.com/507\n",
        "  Read 21977 bytes"
       ]
      },
      {
       "output_type": "stream",
       "stream": "stdout",
       "text": [
        "\n",
        "  Address is 407 15th Ave. SE|Minneapolis, MN 55414\n",
        "  Geocoded to {u'lat': 44.9802988, u'lng': -93.23450059999999}"
       ]
      },
      {
       "output_type": "stream",
       "stream": "stdout",
       "text": [
        "\n",
        "Trying to fetch store# 508 from http://www.mcpennsylvania.com/508\n",
        "  Read 9429 bytes"
       ]
      },
      {
       "output_type": "stream",
       "stream": "stdout",
       "text": [
        "\n",
        "  Store not found\n",
        "Trying to fetch store# 509 from http://www.mcpennsylvania.com/509\n",
        "  Read 9429 bytes"
       ]
      },
      {
       "output_type": "stream",
       "stream": "stdout",
       "text": [
        "\n",
        "  Store not found\n",
        "Trying to fetch store# 510 from http://www.mcpennsylvania.com/510\n",
        "  Read 9429 bytes"
       ]
      },
      {
       "output_type": "stream",
       "stream": "stdout",
       "text": [
        "\n",
        "  Store not found\n",
        "Trying to fetch store# 511 from http://www.mcpennsylvania.com/511\n",
        "  Read 9429 bytes"
       ]
      },
      {
       "output_type": "stream",
       "stream": "stdout",
       "text": [
        "\n",
        "  Store not found\n",
        "Trying to fetch store# 512 from http://www.mcpennsylvania.com/512\n",
        "  Read 17450 bytes"
       ]
      },
      {
       "output_type": "stream",
       "stream": "stdout",
       "text": [
        "\n",
        "  Address is 3201 East Broadway|Quincy, IL 62301\n",
        "  Geocoded to {u'lat': 39.9356653, u'lng': -91.3643347}"
       ]
      },
      {
       "output_type": "stream",
       "stream": "stdout",
       "text": [
        "\n",
        "Trying to fetch store# 513 from http://www.mcpennsylvania.com/513\n",
        "  Read 17157 bytes"
       ]
      },
      {
       "output_type": "stream",
       "stream": "stdout",
       "text": [
        "\n",
        "  Address is 119 West Ball Road|Anaheim, CA 92805\n",
        "  Geocoded to {u'lat': 33.818539, u'lng': -117.909195}"
       ]
      },
      {
       "output_type": "stream",
       "stream": "stdout",
       "text": [
        "\n",
        "Trying to fetch store# 514 from http://www.mcpennsylvania.com/514\n",
        "  Read 9429 bytes"
       ]
      },
      {
       "output_type": "stream",
       "stream": "stdout",
       "text": [
        "\n",
        "  Store not found\n",
        "Trying to fetch store# 515 from http://www.mcpennsylvania.com/515\n",
        "  Read 9429 bytes"
       ]
      },
      {
       "output_type": "stream",
       "stream": "stdout",
       "text": [
        "\n",
        "  Store not found\n",
        "Trying to fetch store# 516 from http://www.mcpennsylvania.com/516\n",
        "  Read 19074 bytes"
       ]
      },
      {
       "output_type": "stream",
       "stream": "stdout",
       "text": [
        "\n",
        "  Address is 525 Baltimore Annapolis Blvd.|Severna Park, MD 21146\n",
        "  Geocoded to {u'lat': 39.075772, u'lng': -76.54839249999999}"
       ]
      },
      {
       "output_type": "stream",
       "stream": "stdout",
       "text": [
        "\n",
        "Trying to fetch store# 517 from http://www.mcpennsylvania.com/517\n",
        "  Read 9429 bytes"
       ]
      },
      {
       "output_type": "stream",
       "stream": "stdout",
       "text": [
        "\n",
        "  Store not found\n",
        "Trying to fetch store# 518 from http://www.mcpennsylvania.com/518\n",
        "  Read 9429 bytes"
       ]
      },
      {
       "output_type": "stream",
       "stream": "stdout",
       "text": [
        "\n",
        "  Store not found\n",
        "Trying to fetch store# 519 from http://www.mcpennsylvania.com/519\n",
        "  Read 9429 bytes"
       ]
      },
      {
       "output_type": "stream",
       "stream": "stdout",
       "text": [
        "\n",
        "  Store not found\n",
        "Trying to fetch store# 520 from http://www.mcpennsylvania.com/520\n",
        "  Read 17263 bytes"
       ]
      },
      {
       "output_type": "stream",
       "stream": "stdout",
       "text": [
        "\n",
        "  Address is 90 E. San Carlos St.|San Jose, CA 95112\n",
        "  Geocoded to {u'lat': 37.3320564, u'lng': -121.88505}"
       ]
      },
      {
       "output_type": "stream",
       "stream": "stdout",
       "text": [
        "\n",
        "Trying to fetch store# 521 from http://www.mcpennsylvania.com/521\n",
        "  Read 16473 bytes"
       ]
      },
      {
       "output_type": "stream",
       "stream": "stdout",
       "text": [
        "\n",
        "  Address is 1303 Charleston Highway|West Columbia, SC 29169\n",
        "  Geocoded to {u'lat': 33.976224, u'lng': -81.075048}"
       ]
      },
      {
       "output_type": "stream",
       "stream": "stdout",
       "text": [
        "\n",
        "Trying to fetch store# 522 from http://www.mcpennsylvania.com/522\n",
        "  Read 9429 bytes"
       ]
      },
      {
       "output_type": "stream",
       "stream": "stdout",
       "text": [
        "\n",
        "  Store not found\n",
        "Trying to fetch store# 523 from http://www.mcpennsylvania.com/523\n",
        "  Read 9429 bytes"
       ]
      },
      {
       "output_type": "stream",
       "stream": "stdout",
       "text": [
        "\n",
        "  Store not found\n",
        "Trying to fetch store# 524 from http://www.mcpennsylvania.com/524\n",
        "  Read 16698 bytes"
       ]
      },
      {
       "output_type": "stream",
       "stream": "stdout",
       "text": [
        "\n",
        "  Address is 1127 North San Fernando Blvd|Burbank, CA 91504\n",
        "  Geocoded to {u'lat': 34.1885461, u'lng': -118.3197254}"
       ]
      },
      {
       "output_type": "stream",
       "stream": "stdout",
       "text": [
        "\n",
        "Trying to fetch store# 525 from http://www.mcpennsylvania.com/525\n",
        "  Read 16772 bytes"
       ]
      },
      {
       "output_type": "stream",
       "stream": "stdout",
       "text": [
        "\n",
        "  Address is 6906 Ritchie Highway|Glen Burnie, MD 21061\n",
        "  Geocoded to {u'lat': 39.1862807, u'lng': -76.6134312}"
       ]
      },
      {
       "output_type": "stream",
       "stream": "stdout",
       "text": [
        "\n",
        "Wrote 280 locations to /Users/Ya/projects/mcdonalds/mcdonalds_locations.json\n",
        "Trying to fetch store# 526 from http://www.mcpennsylvania.com/526\n",
        "  Read 9429 bytes"
       ]
      },
      {
       "output_type": "stream",
       "stream": "stdout",
       "text": [
        "\n",
        "  Store not found\n",
        "Trying to fetch store# 527 from http://www.mcpennsylvania.com/527\n",
        "  Read 9429 bytes"
       ]
      },
      {
       "output_type": "stream",
       "stream": "stdout",
       "text": [
        "\n",
        "  Store not found\n",
        "Trying to fetch store# 528 from http://www.mcpennsylvania.com/528\n",
        "  Read 9429 bytes"
       ]
      },
      {
       "output_type": "stream",
       "stream": "stdout",
       "text": [
        "\n",
        "  Store not found\n",
        "Trying to fetch store# 529 from http://www.mcpennsylvania.com/529\n",
        "  Read 17052 bytes"
       ]
      },
      {
       "output_type": "stream",
       "stream": "stdout",
       "text": [
        "\n",
        "  Address is 6006 Plank Rd.|Baton Rouge, LA 70805\n",
        "  Geocoded to {u'lat': 30.5047992, u'lng': -91.1507176}"
       ]
      },
      {
       "output_type": "stream",
       "stream": "stdout",
       "text": [
        "\n",
        "Trying to fetch store# 530 from http://www.mcpennsylvania.com/530\n",
        "  Read 17511 bytes"
       ]
      },
      {
       "output_type": "stream",
       "stream": "stdout",
       "text": [
        "\n",
        "  Address is 1208 6th Ave. SE|Decatur, AL 35601\n",
        "  Geocoded to {u'lat': 34.5891646, u'lng': -86.9799804}"
       ]
      },
      {
       "output_type": "stream",
       "stream": "stdout",
       "text": [
        "\n",
        "Trying to fetch store# 531 from http://www.mcpennsylvania.com/531\n",
        "  Read 17850 bytes"
       ]
      },
      {
       "output_type": "stream",
       "stream": "stdout",
       "text": [
        "\n",
        "  Address is 5400 W. Broadway|Crystal, MN 55428\n",
        "  Geocoded to {u'lat': 45.0513139, u'lng': -93.360765}"
       ]
      },
      {
       "output_type": "stream",
       "stream": "stdout",
       "text": [
        "\n",
        "Trying to fetch store# 532 from http://www.mcpennsylvania.com/532\n",
        "  Read 21158 bytes"
       ]
      },
      {
       "output_type": "stream",
       "stream": "stdout",
       "text": [
        "\n",
        "  Address is 601 North Belt Highway|St. Joseph, MO 64506\n",
        "  Geocoded to {u'lat': 39.77132, u'lng': -94.80297499999999}"
       ]
      },
      {
       "output_type": "stream",
       "stream": "stdout",
       "text": [
        "\n",
        "Trying to fetch store# 533 from http://www.mcpennsylvania.com/533\n",
        "  Read 9429 bytes"
       ]
      },
      {
       "output_type": "stream",
       "stream": "stdout",
       "text": [
        "\n",
        "  Store not found\n",
        "Trying to fetch store# 534 from http://www.mcpennsylvania.com/534\n",
        "  Read 17343 bytes"
       ]
      },
      {
       "output_type": "stream",
       "stream": "stdout",
       "text": [
        "\n",
        "  Address is 5019 Torrance Blvd|Torrance, CA 90503\n",
        "  Geocoded to {u'lat': 33.83798, u'lng': -118.367418}"
       ]
      },
      {
       "output_type": "stream",
       "stream": "stdout",
       "text": [
        "\n",
        "Trying to fetch store# 535 from http://www.mcpennsylvania.com/535\n",
        "  Read 9429 bytes"
       ]
      },
      {
       "output_type": "stream",
       "stream": "stdout",
       "text": [
        "\n",
        "  Store not found\n",
        "Trying to fetch store# 536 from http://www.mcpennsylvania.com/536\n",
        "  Read 17707 bytes"
       ]
      },
      {
       "output_type": "stream",
       "stream": "stdout",
       "text": [
        "\n",
        "  Address is 946 E. Waterloo Rd.|Akron, OH 44306\n",
        "  Geocoded to {u'lat': 41.0291446, u'lng': -81.4928431}"
       ]
      },
      {
       "output_type": "stream",
       "stream": "stdout",
       "text": [
        "\n",
        "Trying to fetch store# 537 from http://www.mcpennsylvania.com/537\n",
        "  Read 9429 bytes"
       ]
      },
      {
       "output_type": "stream",
       "stream": "stdout",
       "text": [
        "\n",
        "  Store not found\n",
        "Trying to fetch store# 538 from http://www.mcpennsylvania.com/538\n",
        "  Read 16898 bytes"
       ]
      },
      {
       "output_type": "stream",
       "stream": "stdout",
       "text": [
        "\n",
        "  Address is 12313 Georgia Avenue|Silver Spring, MD 20906\n",
        "  Geocoded to {u'lat': 39.059134, u'lng': -77.049544}"
       ]
      },
      {
       "output_type": "stream",
       "stream": "stdout",
       "text": [
        "\n",
        "Trying to fetch store# 539 from http://www.mcpennsylvania.com/539\n",
        "  Read 9429 bytes"
       ]
      },
      {
       "output_type": "stream",
       "stream": "stdout",
       "text": [
        "\n",
        "  Store not found\n",
        "Trying to fetch store# 540 from http://www.mcpennsylvania.com/540\n",
        "  Read 17465 bytes"
       ]
      },
      {
       "output_type": "stream",
       "stream": "stdout",
       "text": [
        "\n",
        "  Address is 2020 West Beverly Blvd|Montebello, CA 90640\n",
        "  Geocoded to {u'lat': 34.0206633, u'lng': -118.1210451}"
       ]
      },
      {
       "output_type": "stream",
       "stream": "stdout",
       "text": [
        "\n",
        "Trying to fetch store# 541 from http://www.mcpennsylvania.com/541\n",
        "  Read 9429 bytes"
       ]
      },
      {
       "output_type": "stream",
       "stream": "stdout",
       "text": [
        "\n",
        "  Store not found\n",
        "Trying to fetch store# 542 from http://www.mcpennsylvania.com/542\n",
        "  Read 9429 bytes"
       ]
      },
      {
       "output_type": "stream",
       "stream": "stdout",
       "text": [
        "\n",
        "  Store not found\n",
        "Trying to fetch store# 543 from http://www.mcpennsylvania.com/543\n",
        "  Read 21371 bytes"
       ]
      },
      {
       "output_type": "stream",
       "stream": "stdout",
       "text": [
        "\n",
        "  Address is 1500 E. Franklin Blvd.|Gastonia, NC 28052\n",
        "  Geocoded to {u'lat': 35.2606337, u'lng': -81.20852839999999}"
       ]
      },
      {
       "output_type": "stream",
       "stream": "stdout",
       "text": [
        "\n",
        "Trying to fetch store# 544 from http://www.mcpennsylvania.com/544\n",
        "  Read 9429 bytes"
       ]
      },
      {
       "output_type": "stream",
       "stream": "stdout",
       "text": [
        "\n",
        "  Store not found\n",
        "Trying to fetch store# 545 from http://www.mcpennsylvania.com/545\n",
        "  Read 9429 bytes"
       ]
      },
      {
       "output_type": "stream",
       "stream": "stdout",
       "text": [
        "\n",
        "  Store not found\n",
        "Trying to fetch store# 546 from http://www.mcpennsylvania.com/546\n",
        "  Read 9429 bytes"
       ]
      },
      {
       "output_type": "stream",
       "stream": "stdout",
       "text": [
        "\n",
        "  Store not found\n",
        "Trying to fetch store# 547 from http://www.mcpennsylvania.com/547\n",
        "  Read 9429 bytes"
       ]
      },
      {
       "output_type": "stream",
       "stream": "stdout",
       "text": [
        "\n",
        "  Store not found\n",
        "Trying to fetch store# 548 from http://www.mcpennsylvania.com/548\n",
        "  Read 9429 bytes"
       ]
      },
      {
       "output_type": "stream",
       "stream": "stdout",
       "text": [
        "\n",
        "  Store not found\n",
        "Trying to fetch store# 549 from http://www.mcpennsylvania.com/549\n",
        "  Read 18223 bytes"
       ]
      },
      {
       "output_type": "stream",
       "stream": "stdout",
       "text": [
        "\n",
        "  Address is 718 American Legion Highway|Roslindale, MA 02131\n",
        "  Geocoded to {u'lat': 42.2828909, u'lng': -71.11352649999999}"
       ]
      },
      {
       "output_type": "stream",
       "stream": "stdout",
       "text": [
        "\n",
        "Wrote 290 locations to /Users/Ya/projects/mcdonalds/mcdonalds_locations.json\n",
        "Trying to fetch store# 550 from http://www.mcpennsylvania.com/550\n",
        "  Read 17538 bytes"
       ]
      },
      {
       "output_type": "stream",
       "stream": "stdout",
       "text": [
        "\n",
        "  Address is 4015 W. Saginaw Hwy|Lansing, MI 48917\n",
        "  Geocoded to {u'lat': 42.74070160000001, u'lng': -84.6046726}"
       ]
      },
      {
       "output_type": "stream",
       "stream": "stdout",
       "text": [
        "\n",
        "Trying to fetch store# 551 from http://www.mcpennsylvania.com/551\n",
        "  Read 18791 bytes"
       ]
      },
      {
       "output_type": "stream",
       "stream": "stdout",
       "text": [
        "\n",
        "  Address is 2704 S. Memorial Pkwy|Huntsville, AL 35801\n",
        "  Geocoded to {u'lat': 34.6998447, u'lng': -86.58590819999999}"
       ]
      },
      {
       "output_type": "stream",
       "stream": "stdout",
       "text": [
        "\n",
        "Trying to fetch store# 552 from http://www.mcpennsylvania.com/552\n",
        "  Read 20075 bytes"
       ]
      },
      {
       "output_type": "stream",
       "stream": "stdout",
       "text": [
        "\n",
        "  Address is 16908 Parthenia Street|Sepulveda, CA 91343\n",
        "  Geocoded to {u'lat': 34.228246, u'lng': -118.500659}"
       ]
      },
      {
       "output_type": "stream",
       "stream": "stdout",
       "text": [
        "\n",
        "Trying to fetch store# 553 from http://www.mcpennsylvania.com/553\n",
        "  Read 17000 bytes"
       ]
      },
      {
       "output_type": "stream",
       "stream": "stdout",
       "text": [
        "\n",
        "  Address is 1124 Prince Avenue|Athens, GA 30601\n",
        "  Geocoded to {u'lat': 33.9625803, u'lng': -83.3958923}"
       ]
      },
      {
       "output_type": "stream",
       "stream": "stdout",
       "text": [
        "\n",
        "Trying to fetch store# 554 from http://www.mcpennsylvania.com/554\n",
        "  Read 9429 bytes"
       ]
      },
      {
       "output_type": "stream",
       "stream": "stdout",
       "text": [
        "\n",
        "  Store not found\n",
        "Trying to fetch store# 555 from http://www.mcpennsylvania.com/555\n",
        "  Read 18429 bytes"
       ]
      },
      {
       "output_type": "stream",
       "stream": "stdout",
       "text": [
        "\n",
        "  Address is 2070 County Road E E|White Bear Lake, MN 55110\n",
        "  Geocoded to {u'lat': 45.0497843, u'lng': -93.0137594}"
       ]
      },
      {
       "output_type": "stream",
       "stream": "stdout",
       "text": [
        "\n",
        "Trying to fetch store# 556 from http://www.mcpennsylvania.com/556\n",
        "  Read 9429 bytes"
       ]
      },
      {
       "output_type": "stream",
       "stream": "stdout",
       "text": [
        "\n",
        "  Store not found\n",
        "Trying to fetch store# 557 from http://www.mcpennsylvania.com/557\n",
        "  Read 18024 bytes"
       ]
      },
      {
       "output_type": "stream",
       "stream": "stdout",
       "text": [
        "\n",
        "  Address is 8901 Frankford Avenue|Philadelphia, PA 19136\n",
        "  Geocoded to {u'lat': 40.050384, u'lng': -75.009517}"
       ]
      },
      {
       "output_type": "stream",
       "stream": "stdout",
       "text": [
        "\n",
        "Trying to fetch store# 558 from http://www.mcpennsylvania.com/558\n",
        "  Read 17396 bytes"
       ]
      },
      {
       "output_type": "stream",
       "stream": "stdout",
       "text": [
        "\n",
        "  Address is 1464 Walton Way|Augusta, GA 30904\n",
        "  Geocoded to {u'lat': 33.4743311, u'lng': -81.9860628}"
       ]
      },
      {
       "output_type": "stream",
       "stream": "stdout",
       "text": [
        "\n",
        "Trying to fetch store# 559 from http://www.mcpennsylvania.com/559\n",
        "  Read 9429 bytes"
       ]
      },
      {
       "output_type": "stream",
       "stream": "stdout",
       "text": [
        "\n",
        "  Store not found\n",
        "Trying to fetch store# 560 from http://www.mcpennsylvania.com/560\n",
        "  Read 9429 bytes"
       ]
      },
      {
       "output_type": "stream",
       "stream": "stdout",
       "text": [
        "\n",
        "  Store not found\n",
        "Trying to fetch store# 561 from http://www.mcpennsylvania.com/561\n",
        "  Read 17644 bytes"
       ]
      },
      {
       "output_type": "stream",
       "stream": "stdout",
       "text": [
        "\n",
        "  Address is 801 East Whittier Blvd.|La Habra, CA 90631\n",
        "  Geocoded to {u'lat': 33.9394669, u'lng': -117.9377261}"
       ]
      },
      {
       "output_type": "stream",
       "stream": "stdout",
       "text": [
        "\n",
        "Trying to fetch store# 562 from http://www.mcpennsylvania.com/562\n",
        "  Read 16903 bytes"
       ]
      },
      {
       "output_type": "stream",
       "stream": "stdout",
       "text": [
        "\n",
        "  Address is 3411 Cleveland Avenue|Columbus, OH 43224\n",
        "  Geocoded to {u'lat': 40.037139, u'lng': -82.9630968}"
       ]
      },
      {
       "output_type": "stream",
       "stream": "stdout",
       "text": [
        "\n",
        "Trying to fetch store# 563 from http://www.mcpennsylvania.com/563\n",
        "  Read 20827 bytes"
       ]
      },
      {
       "output_type": "stream",
       "stream": "stdout",
       "text": [
        "\n",
        "  Address is 2745 Freedom Dr.|Charlotte, NC 28208\n",
        "  Geocoded to {u'lat': 35.238401, u'lng': -80.884618}"
       ]
      },
      {
       "output_type": "stream",
       "stream": "stdout",
       "text": [
        "\n",
        "Wrote 300 locations to /Users/Ya/projects/mcdonalds/mcdonalds_locations.json\n",
        "Trying to fetch store# 564 from http://www.mcpennsylvania.com/564\n",
        "  Read 9429 bytes"
       ]
      },
      {
       "output_type": "stream",
       "stream": "stdout",
       "text": [
        "\n",
        "  Store not found\n",
        "Trying to fetch store# 565 from http://www.mcpennsylvania.com/565\n",
        "  Read 17385 bytes"
       ]
      },
      {
       "output_type": "stream",
       "stream": "stdout",
       "text": [
        "\n",
        "  Address is 792 N. Second St.|Clarksville, TN 37040\n",
        "  Geocoded to {u'lat': 36.53979400000001, u'lng': -87.36513599999999}"
       ]
      },
      {
       "output_type": "stream",
       "stream": "stdout",
       "text": [
        "\n",
        "Trying to fetch store# 566 from http://www.mcpennsylvania.com/566\n",
        "  Read 17590 bytes"
       ]
      },
      {
       "output_type": "stream",
       "stream": "stdout",
       "text": [
        "\n",
        "  Address is 1110 Camp Jackson Rd|Cahokia, IL 62206\n",
        "  Geocoded to {u'lat': 38.562924, u'lng': -90.1774901}"
       ]
      },
      {
       "output_type": "stream",
       "stream": "stdout",
       "text": [
        "\n",
        "Trying to fetch store# 567 from http://www.mcpennsylvania.com/567\n",
        "  Read 18393 bytes"
       ]
      },
      {
       "output_type": "stream",
       "stream": "stdout",
       "text": [
        "\n",
        "  Address is 18403 Grand River Road|Detroit, MI 48223\n",
        "  Geocoded to {u'lat': 42.4017063, u'lng': -83.2216084}"
       ]
      },
      {
       "output_type": "stream",
       "stream": "stdout",
       "text": [
        "\n",
        "Trying to fetch store# 568 from http://www.mcpennsylvania.com/568\n",
        "  Read 18108 bytes"
       ]
      },
      {
       "output_type": "stream",
       "stream": "stdout",
       "text": [
        "\n",
        "  Address is 151 Ridgewood Avenue|Holly Hill, FL 32117\n",
        "  Geocoded to {u'lat': 29.228345, u'lng': -81.03147299999999}"
       ]
      },
      {
       "output_type": "stream",
       "stream": "stdout",
       "text": [
        "\n",
        "Trying to fetch store# 569 from http://www.mcpennsylvania.com/569\n",
        "  Read 19408 bytes"
       ]
      },
      {
       "output_type": "stream",
       "stream": "stdout",
       "text": [
        "\n",
        "  Address is 3411 Busch Blvd.|Tampa, FL 33612\n",
        "  Geocoded to {u'lat': 28.032284, u'lng': -82.422253}"
       ]
      },
      {
       "output_type": "stream",
       "stream": "stdout",
       "text": [
        "\n",
        "Trying to fetch store# 570 from http://www.mcpennsylvania.com/570\n",
        "  Read 19727 bytes"
       ]
      },
      {
       "output_type": "stream",
       "stream": "stdout",
       "text": [
        "\n",
        "  Address is N. 6321 Monroe|Spokane, WA 99208\n",
        "  Geocoded to {u'lat': 47.715909, u'lng': -117.425778}"
       ]
      },
      {
       "output_type": "stream",
       "stream": "stdout",
       "text": [
        "\n",
        "Trying to fetch store# 571 from http://www.mcpennsylvania.com/571\n",
        "  Read 20386 bytes"
       ]
      },
      {
       "output_type": "stream",
       "stream": "stdout",
       "text": [
        "\n",
        "  Address is 101 New Road|Wilmington, DE 19805\n",
        "  Geocoded to {u'lat': 39.7414441, u'lng': -75.5834965}"
       ]
      },
      {
       "output_type": "stream",
       "stream": "stdout",
       "text": [
        "\n",
        "Trying to fetch store# 572 from http://www.mcpennsylvania.com/572\n",
        "  Read 18170 bytes"
       ]
      },
      {
       "output_type": "stream",
       "stream": "stdout",
       "text": [
        "\n",
        "  Address is 1747 West El Segundo Blvd.|Gardena, CA 90249\n",
        "  Geocoded to {u'lat': 33.9167043, u'lng': -118.3082938}"
       ]
      },
      {
       "output_type": "stream",
       "stream": "stdout",
       "text": [
        "\n",
        "Trying to fetch store# 573 from http://www.mcpennsylvania.com/573\n",
        "  Read 17186 bytes"
       ]
      },
      {
       "output_type": "stream",
       "stream": "stdout",
       "text": [
        "\n",
        "  Address is Route 130 & Cooper Street|Edgewater Park, NJ 08010\n",
        "  Geocoded to {u'lat': 40.04672619999999, u'lng': -74.9034174}"
       ]
      },
      {
       "output_type": "stream",
       "stream": "stdout",
       "text": [
        "\n",
        "Trying to fetch store# 574 from http://www.mcpennsylvania.com/574\n",
        "  Read 17081 bytes"
       ]
      },
      {
       "output_type": "stream",
       "stream": "stdout",
       "text": [
        "\n",
        "  Address is 2001 S. Michigan St.|South Bend, IN 46613\n",
        "  Geocoded to {u'lat': 41.65303129999999, u'lng': -86.2497989}"
       ]
      },
      {
       "output_type": "stream",
       "stream": "stdout",
       "text": [
        "\n",
        "Wrote 310 locations to /Users/Ya/projects/mcdonalds/mcdonalds_locations.json\n",
        "Trying to fetch store# 575 from http://www.mcpennsylvania.com/575\n",
        "  Read 9429 bytes"
       ]
      },
      {
       "output_type": "stream",
       "stream": "stdout",
       "text": [
        "\n",
        "  Store not found\n",
        "Trying to fetch store# 576 from http://www.mcpennsylvania.com/576\n",
        "  Read 9429 bytes"
       ]
      },
      {
       "output_type": "stream",
       "stream": "stdout",
       "text": [
        "\n",
        "  Store not found\n",
        "Trying to fetch store# 577 from http://www.mcpennsylvania.com/577\n",
        "  Read 16488 bytes"
       ]
      },
      {
       "output_type": "stream",
       "stream": "stdout",
       "text": [
        "\n",
        "  Address is 7241 Gravois|St. Louis, MO 63116\n",
        "  Geocoded to {u'lat': 38.5647512, u'lng': -90.29343089999999}"
       ]
      },
      {
       "output_type": "stream",
       "stream": "stdout",
       "text": [
        "\n",
        "Trying to fetch store# 578 from http://www.mcpennsylvania.com/578\n",
        "  Read 17955 bytes"
       ]
      },
      {
       "output_type": "stream",
       "stream": "stdout",
       "text": [
        "\n",
        "  Address is 303 South Gaffey Street|San Pedro, CA 90731\n",
        "  Geocoded to {u'lat': 33.741207, u'lng': -118.292691}"
       ]
      },
      {
       "output_type": "stream",
       "stream": "stdout",
       "text": [
        "\n",
        "Trying to fetch store# 579 from http://www.mcpennsylvania.com/579\n",
        "  Read 20293 bytes"
       ]
      },
      {
       "output_type": "stream",
       "stream": "stdout",
       "text": [
        "\n",
        "  Address is 1504 Turner McCall Blvd|Rome, GA 30161\n",
        "  Geocoded to {u'lat': 34.2467685, u'lng': -85.1614902}"
       ]
      },
      {
       "output_type": "stream",
       "stream": "stdout",
       "text": [
        "\n",
        "Trying to fetch store# 580 from http://www.mcpennsylvania.com/580\n",
        "  Read 9429 bytes"
       ]
      },
      {
       "output_type": "stream",
       "stream": "stdout",
       "text": [
        "\n",
        "  Store not found\n",
        "Trying to fetch store# 581 from http://www.mcpennsylvania.com/581\n",
        "  Read 9429 bytes"
       ]
      },
      {
       "output_type": "stream",
       "stream": "stdout",
       "text": [
        "\n",
        "  Store not found\n",
        "Trying to fetch store# 582 from http://www.mcpennsylvania.com/582\n",
        "  Read 9429 bytes"
       ]
      },
      {
       "output_type": "stream",
       "stream": "stdout",
       "text": [
        "\n",
        "  Store not found\n",
        "Trying to fetch store# 583 from http://www.mcpennsylvania.com/583\n",
        "  Read 18889 bytes"
       ]
      },
      {
       "output_type": "stream",
       "stream": "stdout",
       "text": [
        "\n",
        "  Address is 9970 Bustleton Avenue|Philadelphia, PA 19115\n",
        "  Geocoded to {u'lat': 40.1021857, u'lng': -75.0294631}"
       ]
      },
      {
       "output_type": "stream",
       "stream": "stdout",
       "text": [
        "\n",
        "Trying to fetch store# 584 from http://www.mcpennsylvania.com/584\n",
        "  Read 9429 bytes"
       ]
      },
      {
       "output_type": "stream",
       "stream": "stdout",
       "text": [
        "\n",
        "  Store not found\n",
        "Trying to fetch store# 585 from http://www.mcpennsylvania.com/585\n",
        "  Read 17323 bytes"
       ]
      },
      {
       "output_type": "stream",
       "stream": "stdout",
       "text": [
        "\n",
        "  Address is 802 Tacoma Ave. S.|Tacoma, WA 98402\n",
        "  Geocoded to {u'lat': 47.25529, u'lng': -122.445461}"
       ]
      },
      {
       "output_type": "stream",
       "stream": "stdout",
       "text": [
        "\n",
        "Trying to fetch store# 586 from http://www.mcpennsylvania.com/586\n",
        "  Read 9429 bytes"
       ]
      },
      {
       "output_type": "stream",
       "stream": "stdout",
       "text": [
        "\n",
        "  Store not found\n",
        "Trying to fetch store# 587 from http://www.mcpennsylvania.com/587\n",
        "  Read 9429 bytes"
       ]
      },
      {
       "output_type": "stream",
       "stream": "stdout",
       "text": [
        "\n",
        "  Store not found\n",
        "Trying to fetch store# 588 from http://www.mcpennsylvania.com/588\n",
        "  Read 9429 bytes"
       ]
      },
      {
       "output_type": "stream",
       "stream": "stdout",
       "text": [
        "\n",
        "  Store not found\n",
        "Trying to fetch store# 589 from http://www.mcpennsylvania.com/589\n",
        "  Read 17191 bytes"
       ]
      },
      {
       "output_type": "stream",
       "stream": "stdout",
       "text": [
        "\n",
        "  Address is 3875 S Washington Blvd|South Ogden, UT 84401\n",
        "  Geocoded to {u'lat': 41.1924461, u'lng': -111.9716897}"
       ]
      },
      {
       "output_type": "stream",
       "stream": "stdout",
       "text": [
        "\n",
        "Trying to fetch store# 590 from http://www.mcpennsylvania.com/590\n",
        "  Read 17414 bytes"
       ]
      },
      {
       "output_type": "stream",
       "stream": "stdout",
       "text": [
        "\n",
        "  Address is 6002 100th Street SW|Lakewood, WA 98499\n",
        "  Geocoded to {u'lat': 47.1663601, u'lng': -122.518492}"
       ]
      },
      {
       "output_type": "stream",
       "stream": "stdout",
       "text": [
        "\n",
        "Trying to fetch store# 591 from http://www.mcpennsylvania.com/591\n",
        "  Read 9429 bytes"
       ]
      },
      {
       "output_type": "stream",
       "stream": "stdout",
       "text": [
        "\n",
        "  Store not found\n",
        "Trying to fetch store# 592 from http://www.mcpennsylvania.com/592\n",
        "  Read 18019 bytes"
       ]
      },
      {
       "output_type": "stream",
       "stream": "stdout",
       "text": [
        "\n",
        "  Address is 809 Boston Rd.|Springfield, MA 01109\n",
        "  Geocoded to {u'lat': 42.13672709999999, u'lng': -72.5177693}"
       ]
      },
      {
       "output_type": "stream",
       "stream": "stdout",
       "text": [
        "\n",
        "Trying to fetch store# 593 from http://www.mcpennsylvania.com/593\n",
        "  Read 16623 bytes"
       ]
      },
      {
       "output_type": "stream",
       "stream": "stdout",
       "text": [
        "\n",
        "  Address is 1701 West Olive Avenue|Burbank, CA 91506\n",
        "  Geocoded to {u'lat': 34.1674239, u'lng': -118.32343}"
       ]
      },
      {
       "output_type": "stream",
       "stream": "stdout",
       "text": [
        "\n",
        "Trying to fetch store# 594 from http://www.mcpennsylvania.com/594\n",
        "  Read 17149 bytes"
       ]
      },
      {
       "output_type": "stream",
       "stream": "stdout",
       "text": [
        "\n",
        "  Address is 1110 Center St NE|Salem, OR 97301\n",
        "  Geocoded to {u'lat': 44.940278, u'lng': -123.0270406}"
       ]
      },
      {
       "output_type": "stream",
       "stream": "stdout",
       "text": [
        "\n",
        "Wrote 320 locations to /Users/Ya/projects/mcdonalds/mcdonalds_locations.json\n",
        "Trying to fetch store# 595 from http://www.mcpennsylvania.com/595\n",
        "  Read 18146 bytes"
       ]
      },
      {
       "output_type": "stream",
       "stream": "stdout",
       "text": [
        "\n",
        "  Address is 413 Main Street|Reading, MA 01867\n",
        "  Geocoded to {u'lat': 42.5205606, u'lng': -71.1029307}"
       ]
      },
      {
       "output_type": "stream",
       "stream": "stdout",
       "text": [
        "\n",
        "Trying to fetch store# 596 from http://www.mcpennsylvania.com/596\n",
        "  Read 17791 bytes"
       ]
      },
      {
       "output_type": "stream",
       "stream": "stdout",
       "text": [
        "\n",
        "  Address is 196 South Willow Street|Manchester, NH 03103\n",
        "  Geocoded to {u'lat': 42.9711636, u'lng': -71.45460539999999}"
       ]
      },
      {
       "output_type": "stream",
       "stream": "stdout",
       "text": [
        "\n",
        "Trying to fetch store# 597 from http://www.mcpennsylvania.com/597\n",
        "  Read 17191 bytes"
       ]
      },
      {
       "output_type": "stream",
       "stream": "stdout",
       "text": [
        "\n",
        "  Address is 3119 Moffat Rd|Mobile, AL 36607\n",
        "  Geocoded to {u'lat': 30.701425, u'lng': -88.11490800000001}"
       ]
      },
      {
       "output_type": "stream",
       "stream": "stdout",
       "text": [
        "\n",
        "Trying to fetch store# 598 from http://www.mcpennsylvania.com/598\n",
        "  Read 9429 bytes"
       ]
      },
      {
       "output_type": "stream",
       "stream": "stdout",
       "text": [
        "\n",
        "  Store not found\n",
        "Trying to fetch store# 599 from http://www.mcpennsylvania.com/599\n",
        "  Read 16985 bytes"
       ]
      },
      {
       "output_type": "stream",
       "stream": "stdout",
       "text": [
        "\n",
        "  Address is 9309 East Slauson Avenue|Pico Rivera, CA 90660\n",
        "  Geocoded to {u'lat': 33.9691292, u'lng': -118.0986841}"
       ]
      },
      {
       "output_type": "stream",
       "stream": "stdout",
       "text": [
        "\n",
        "Trying to fetch store# 600 from http://www.mcpennsylvania.com/600\n",
        "  Read 16931 bytes"
       ]
      },
      {
       "output_type": "stream",
       "stream": "stdout",
       "text": [
        "\n",
        "  Address is 420 Des Plaines Ave.|Forest Park, IL 60130\n",
        "  Geocoded to {u'lat': 41.8790212, u'lng': -87.81351269999999}"
       ]
      },
      {
       "output_type": "stream",
       "stream": "stdout",
       "text": [
        "\n",
        "Trying to fetch store# 601 from http://www.mcpennsylvania.com/601\n",
        "  Read 9429 bytes"
       ]
      },
      {
       "output_type": "stream",
       "stream": "stdout",
       "text": [
        "\n",
        "  Store not found\n",
        "Trying to fetch store# 602 from http://www.mcpennsylvania.com/602\n",
        "  Read 9429 bytes"
       ]
      },
      {
       "output_type": "stream",
       "stream": "stdout",
       "text": [
        "\n",
        "  Store not found\n",
        "Trying to fetch store# 603 from http://www.mcpennsylvania.com/603\n",
        "  Read 17151 bytes"
       ]
      },
      {
       "output_type": "stream",
       "stream": "stdout",
       "text": [
        "\n",
        "  Address is 1435 S. Winchester Blvd.|San Jose, CA 95128\n",
        "  Geocoded to {u'lat': 37.29805500000001, u'lng': -121.950424}"
       ]
      },
      {
       "output_type": "stream",
       "stream": "stdout",
       "text": [
        "\n",
        "Trying to fetch store# 604 from http://www.mcpennsylvania.com/604\n",
        "  Read 18235 bytes"
       ]
      },
      {
       "output_type": "stream",
       "stream": "stdout",
       "text": [
        "\n",
        "  Address is 332 St. John Street|Portland, ME 04102\n",
        "  Geocoded to {u'lat': 43.6549539, u'lng': -70.280384}"
       ]
      },
      {
       "output_type": "stream",
       "stream": "stdout",
       "text": [
        "\n",
        "Trying to fetch store# 605 from http://www.mcpennsylvania.com/605\n",
        "  Read 14548 bytes"
       ]
      },
      {
       "output_type": "stream",
       "stream": "stdout",
       "text": [
        "\n",
        "  Address is 7045 Van Nuys Blvd|Van Nuys, CA 91405\n",
        "  Geocoded to {u'lat': 34.1988846, u'lng': -118.4492241}"
       ]
      },
      {
       "output_type": "stream",
       "stream": "stdout",
       "text": [
        "\n",
        "Trying to fetch store# 606 from http://www.mcpennsylvania.com/606\n",
        "  Read 9429 bytes"
       ]
      },
      {
       "output_type": "stream",
       "stream": "stdout",
       "text": [
        "\n",
        "  Store not found\n",
        "Trying to fetch store# 607 from http://www.mcpennsylvania.com/607\n",
        "  Read 9429 bytes"
       ]
      },
      {
       "output_type": "stream",
       "stream": "stdout",
       "text": [
        "\n",
        "  Store not found\n",
        "Trying to fetch store# 608 from http://www.mcpennsylvania.com/608\n",
        "  Read 9429 bytes"
       ]
      },
      {
       "output_type": "stream",
       "stream": "stdout",
       "text": [
        "\n",
        "  Store not found\n",
        "Trying to fetch store# 609 from http://www.mcpennsylvania.com/609\n",
        "  Read 17296 bytes"
       ]
      },
      {
       "output_type": "stream",
       "stream": "stdout",
       "text": [
        "\n",
        "  Address is 372 Elmira Road|Ithaca, NY 14850\n",
        "  Geocoded to {u'lat': 42.421974, u'lng': -76.51778999999999}"
       ]
      },
      {
       "output_type": "stream",
       "stream": "stdout",
       "text": [
        "\n",
        "Trying to fetch store# 610 from http://www.mcpennsylvania.com/610\n",
        "  Read 9429 bytes"
       ]
      },
      {
       "output_type": "stream",
       "stream": "stdout",
       "text": [
        "\n",
        "  Store not found\n",
        "Trying to fetch store# 611 from http://www.mcpennsylvania.com/611\n",
        "  Read 19254 bytes"
       ]
      },
      {
       "output_type": "stream",
       "stream": "stdout",
       "text": [
        "\n",
        "  Address is 6131 Martin Luther King Jr. Hwy|Seat Pleasant, MD 20743\n",
        "  Geocoded to {u'lat': 38.901331, u'lng': -76.900628}"
       ]
      },
      {
       "output_type": "stream",
       "stream": "stdout",
       "text": [
        "\n",
        "Wrote 330 locations to /Users/Ya/projects/mcdonalds/mcdonalds_locations.json\n",
        "Trying to fetch store# 612 from http://www.mcpennsylvania.com/612\n",
        "  Read 20104 bytes"
       ]
      },
      {
       "output_type": "stream",
       "stream": "stdout",
       "text": [
        "\n",
        "  Address is 5520 W Broad St|Richmond, VA 23230\n",
        "  Geocoded to {u'lat': 37.5887303, u'lng': -77.501547}"
       ]
      },
      {
       "output_type": "stream",
       "stream": "stdout",
       "text": [
        "\n",
        "Trying to fetch store# 613 from http://www.mcpennsylvania.com/613\n",
        "  Read 18283 bytes"
       ]
      },
      {
       "output_type": "stream",
       "stream": "stdout",
       "text": [
        "\n",
        "  Address is 3001 N. Atlantic Ave.|Daytona Beach, FL 32118\n",
        "  Geocoded to {u'lat': 29.267748, u'lng': -81.02901949999999}"
       ]
      },
      {
       "output_type": "stream",
       "stream": "stdout",
       "text": [
        "\n",
        "Trying to fetch store# 614 from http://www.mcpennsylvania.com/614\n",
        "  Read 9429 bytes"
       ]
      },
      {
       "output_type": "stream",
       "stream": "stdout",
       "text": [
        "\n",
        "  Store not found\n",
        "Trying to fetch store# 615 from http://www.mcpennsylvania.com/615\n",
        "  Read 9429 bytes"
       ]
      },
      {
       "output_type": "stream",
       "stream": "stdout",
       "text": [
        "\n",
        "  Store not found\n",
        "Trying to fetch store# 616 from http://www.mcpennsylvania.com/616\n",
        "  Read 17663 bytes"
       ]
      },
      {
       "output_type": "stream",
       "stream": "stdout",
       "text": [
        "\n",
        "  Address is 9852 Westminster Avenue|Garden Grove, CA 92844\n",
        "  Geocoded to {u'lat': 33.759181, u'lng': -117.957302}"
       ]
      },
      {
       "output_type": "stream",
       "stream": "stdout",
       "text": [
        "\n",
        "Trying to fetch store# 617 from http://www.mcpennsylvania.com/617\n",
        "  Read 9429 bytes"
       ]
      },
      {
       "output_type": "stream",
       "stream": "stdout",
       "text": [
        "\n",
        "  Store not found\n",
        "Trying to fetch store# 618 from http://www.mcpennsylvania.com/618\n",
        "  Read 17442 bytes"
       ]
      },
      {
       "output_type": "stream",
       "stream": "stdout",
       "text": [
        "\n",
        "  Address is 7217 Pacific Ave.|Tacoma, WA 98404\n",
        "  Geocoded to {u'lat': 47.1916133, u'lng': -122.4336427}"
       ]
      },
      {
       "output_type": "stream",
       "stream": "stdout",
       "text": [
        "\n",
        "Trying to fetch store# 619 from http://www.mcpennsylvania.com/619\n",
        "  Read 9429 bytes"
       ]
      },
      {
       "output_type": "stream",
       "stream": "stdout",
       "text": [
        "\n",
        "  Store not found\n",
        "Trying to fetch store# 620 from http://www.mcpennsylvania.com/620\n",
        "  Read 18056 bytes"
       ]
      },
      {
       "output_type": "stream",
       "stream": "stdout",
       "text": [
        "\n",
        "  Address is 1169 W. El Camino Real|Sunnyvale, CA 94087\n",
        "  Geocoded to {u'lat': 37.3738845, u'lng': -122.0548694}"
       ]
      },
      {
       "output_type": "stream",
       "stream": "stdout",
       "text": [
        "\n",
        "Trying to fetch store# 621 from http://www.mcpennsylvania.com/621\n",
        "  Read 17342 bytes"
       ]
      },
      {
       "output_type": "stream",
       "stream": "stdout",
       "text": [
        "\n",
        "  Address is 914 Washington|Middletown, CT 06457\n",
        "  Geocoded to {u'lat': 41.5545839, u'lng': -72.6830793}"
       ]
      },
      {
       "output_type": "stream",
       "stream": "stdout",
       "text": [
        "\n",
        "Trying to fetch store# 622 from http://www.mcpennsylvania.com/622\n",
        "  Read 9429 bytes"
       ]
      },
      {
       "output_type": "stream",
       "stream": "stdout",
       "text": [
        "\n",
        "  Store not found\n",
        "Trying to fetch store# 623 from http://www.mcpennsylvania.com/623\n",
        "  Read 18492 bytes"
       ]
      },
      {
       "output_type": "stream",
       "stream": "stdout",
       "text": [
        "\n",
        "  Address is 1146 E. Valley Pkwy|Escondido, CA 92025\n",
        "  Geocoded to {u'lat': 33.130346, u'lng': -117.06799}"
       ]
      },
      {
       "output_type": "stream",
       "stream": "stdout",
       "text": [
        "\n",
        "Trying to fetch store# 624 from http://www.mcpennsylvania.com/624\n",
        "  Read 9429 bytes"
       ]
      },
      {
       "output_type": "stream",
       "stream": "stdout",
       "text": [
        "\n",
        "  Store not found\n",
        "Trying to fetch store# 625 from http://www.mcpennsylvania.com/625\n",
        "  Read 17228 bytes"
       ]
      },
      {
       "output_type": "stream",
       "stream": "stdout",
       "text": [
        "\n",
        "  Address is 2200 North Garey Street|Pomona, CA 91768\n",
        "  Geocoded to {u'lat': 34.0881562, u'lng': -117.7498396}"
       ]
      },
      {
       "output_type": "stream",
       "stream": "stdout",
       "text": [
        "\n",
        "Trying to fetch store# 626 from http://www.mcpennsylvania.com/626\n",
        "  Read 20303 bytes"
       ]
      },
      {
       "output_type": "stream",
       "stream": "stdout",
       "text": [
        "\n",
        "  Address is 721 Cedar Crest Boulevard|Allentown, PA 18104\n",
        "  Geocoded to {u'lat': 40.5985996, u'lng': -75.5275645}"
       ]
      },
      {
       "output_type": "stream",
       "stream": "stdout",
       "text": [
        "\n",
        "Trying to fetch store# 627 from http://www.mcpennsylvania.com/627\n",
        "  Read 17869 bytes"
       ]
      },
      {
       "output_type": "stream",
       "stream": "stdout",
       "text": [
        "\n",
        "  Address is 675 Queen St|Southington, CT 06489\n",
        "  Geocoded to {u'lat': 41.635065, u'lng': -72.87272899999999}"
       ]
      },
      {
       "output_type": "stream",
       "stream": "stdout",
       "text": [
        "\n",
        "Wrote 340 locations to /Users/Ya/projects/mcdonalds/mcdonalds_locations.json\n",
        "Trying to fetch store# 628 from http://www.mcpennsylvania.com/628\n",
        "  Read 9429 bytes"
       ]
      },
      {
       "output_type": "stream",
       "stream": "stdout",
       "text": [
        "\n",
        "  Store not found\n",
        "Trying to fetch store# 629 from http://www.mcpennsylvania.com/629\n",
        "  Read 19690 bytes"
       ]
      },
      {
       "output_type": "stream",
       "stream": "stdout",
       "text": [
        "\n",
        "  Address is 290 Worcester Road|Natick, MA 01760\n",
        "  Geocoded to {u'lat': 42.3017482, u'lng': -71.337098}"
       ]
      },
      {
       "output_type": "stream",
       "stream": "stdout",
       "text": [
        "\n",
        "Trying to fetch store# 630 from http://www.mcpennsylvania.com/630\n",
        "  Read 9429 bytes"
       ]
      },
      {
       "output_type": "stream",
       "stream": "stdout",
       "text": [
        "\n",
        "  Store not found\n",
        "Trying to fetch store# 631 from http://www.mcpennsylvania.com/631\n",
        "  Read 9429 bytes"
       ]
      },
      {
       "output_type": "stream",
       "stream": "stdout",
       "text": [
        "\n",
        "  Store not found\n",
        "Trying to fetch store# 632 from http://www.mcpennsylvania.com/632\n",
        "  Read 17332 bytes"
       ]
      },
      {
       "output_type": "stream",
       "stream": "stdout",
       "text": [
        "\n",
        "  Address is 1365 Blossom Hill Rd.|San Jose, CA 95118\n",
        "  Geocoded to {u'lat': 37.2455788, u'lng': -121.8882464}"
       ]
      },
      {
       "output_type": "stream",
       "stream": "stdout",
       "text": [
        "\n",
        "Trying to fetch store# 633 from http://www.mcpennsylvania.com/633\n",
        "  Read 17085 bytes"
       ]
      },
      {
       "output_type": "stream",
       "stream": "stdout",
       "text": [
        "\n",
        "  Address is 12256 Paramount Blvd|Downey, CA 90242\n",
        "  Geocoded to {u'lat': 33.928755, u'lng': -118.1478761}"
       ]
      },
      {
       "output_type": "stream",
       "stream": "stdout",
       "text": [
        "\n",
        "Trying to fetch store# 634 from http://www.mcpennsylvania.com/634\n",
        "  Read 17555 bytes"
       ]
      },
      {
       "output_type": "stream",
       "stream": "stdout",
       "text": [
        "\n",
        "  Address is 230 E Pacific Coast Highway|Wilmington, CA 90744\n",
        "  Geocoded to {u'lat': 33.7909939, u'lng': -118.2609494}"
       ]
      },
      {
       "output_type": "stream",
       "stream": "stdout",
       "text": [
        "\n",
        "Trying to fetch store# 635 from http://www.mcpennsylvania.com/635\n",
        "  Read 9429 bytes"
       ]
      },
      {
       "output_type": "stream",
       "stream": "stdout",
       "text": [
        "\n",
        "  Store not found\n",
        "Trying to fetch store# 636 from http://www.mcpennsylvania.com/636\n",
        "  Read 9429 bytes"
       ]
      },
      {
       "output_type": "stream",
       "stream": "stdout",
       "text": [
        "\n",
        "  Store not found\n",
        "Trying to fetch store# 637 from http://www.mcpennsylvania.com/637\n",
        "  Read 9429 bytes"
       ]
      },
      {
       "output_type": "stream",
       "stream": "stdout",
       "text": [
        "\n",
        "  Store not found\n",
        "Trying to fetch store# 638 from http://www.mcpennsylvania.com/638\n",
        "  Read 14532 bytes"
       ]
      },
      {
       "output_type": "stream",
       "stream": "stdout",
       "text": [
        "\n",
        "  Address is 2010 N. Fares|Evansville, IN 47711\n",
        "  Geocoded to {u'lat': 37.995553, u'lng': -87.54239899999999}"
       ]
      },
      {
       "output_type": "stream",
       "stream": "stdout",
       "text": [
        "\n",
        "Trying to fetch store# 639 from http://www.mcpennsylvania.com/639\n",
        "  Read 9429 bytes"
       ]
      },
      {
       "output_type": "stream",
       "stream": "stdout",
       "text": [
        "\n",
        "  Store not found\n",
        "Trying to fetch store# 640 from http://www.mcpennsylvania.com/640\n",
        "  Read 9429 bytes"
       ]
      },
      {
       "output_type": "stream",
       "stream": "stdout",
       "text": [
        "\n",
        "  Store not found\n",
        "Trying to fetch store# 641 from http://www.mcpennsylvania.com/641\n",
        "  Read 17681 bytes"
       ]
      },
      {
       "output_type": "stream",
       "stream": "stdout",
       "text": [
        "\n",
        "  Address is 2604 Ft. Campbell Blvd.|Hopkinsville, KY 42240\n",
        "  Geocoded to {u'lat': 36.8443064, u'lng': -87.48402089999999}"
       ]
      },
      {
       "output_type": "stream",
       "stream": "stdout",
       "text": [
        "\n",
        "Trying to fetch store# 642 from http://www.mcpennsylvania.com/642\n",
        "  Read 9429 bytes"
       ]
      },
      {
       "output_type": "stream",
       "stream": "stdout",
       "text": [
        "\n",
        "  Store not found\n",
        "Trying to fetch store# 643 from http://www.mcpennsylvania.com/643\n",
        "  Read 16464 bytes"
       ]
      },
      {
       "output_type": "stream",
       "stream": "stdout",
       "text": [
        "\n",
        "  Address is 3131 North Mayfair Road|Wauwatosa, WI 53222\n",
        "  Geocoded to {u'lat': 43.0753119, u'lng': -88.0484139}"
       ]
      },
      {
       "output_type": "stream",
       "stream": "stdout",
       "text": [
        "\n",
        "Trying to fetch store# 644 from http://www.mcpennsylvania.com/644\n",
        "  Read 17581 bytes"
       ]
      },
      {
       "output_type": "stream",
       "stream": "stdout",
       "text": [
        "\n",
        "  Address is 1725 Roosevelt Road|Burlington, IA 52601\n",
        "  Geocoded to {u'lat': 40.8267384, u'lng': -91.14198999999999}"
       ]
      },
      {
       "output_type": "stream",
       "stream": "stdout",
       "text": [
        "\n",
        "Trying to fetch store# 645 from http://www.mcpennsylvania.com/645\n",
        "  Read 18745 bytes"
       ]
      },
      {
       "output_type": "stream",
       "stream": "stdout",
       "text": [
        "\n",
        "  Address is 1460 Memorial Dr.|Chicopee, MA 01020\n",
        "  Geocoded to {u'lat': 42.1975321, u'lng': -72.5746155}"
       ]
      },
      {
       "output_type": "stream",
       "stream": "stdout",
       "text": [
        "\n",
        "Trying to fetch store# 646 from http://www.mcpennsylvania.com/646\n",
        "  Read 9429 bytes"
       ]
      },
      {
       "output_type": "stream",
       "stream": "stdout",
       "text": [
        "\n",
        "  Store not found\n",
        "Trying to fetch store# 647 from http://www.mcpennsylvania.com/647\n",
        "  Read 16069 bytes"
       ]
      },
      {
       "output_type": "stream",
       "stream": "stdout",
       "text": [
        "\n",
        "  Address is 4362 Roswell Rd NE|Atlanta, GA 30342\n",
        "  Geocoded to {u'lat': 33.8738854, u'lng': -84.3814565}"
       ]
      },
      {
       "output_type": "stream",
       "stream": "stdout",
       "text": [
        "\n",
        "Wrote 350 locations to /Users/Ya/projects/mcdonalds/mcdonalds_locations.json\n",
        "Trying to fetch store# 648 from http://www.mcpennsylvania.com/648\n",
        "  Read 16886 bytes"
       ]
      },
      {
       "output_type": "stream",
       "stream": "stdout",
       "text": [
        "\n",
        "  Address is 2900 Reynolda Road|Winston-Salem, NC 27106\n",
        "  Geocoded to {u'lat': 36.144557, u'lng': -80.301267}"
       ]
      },
      {
       "output_type": "stream",
       "stream": "stdout",
       "text": [
        "\n",
        "Trying to fetch store# 649 from http://www.mcpennsylvania.com/649\n",
        "  Read 16615 bytes"
       ]
      },
      {
       "output_type": "stream",
       "stream": "stdout",
       "text": [
        "\n",
        "  Address is 6302 Duke Street|Alexandria, VA 22312\n",
        "  Geocoded to {u'lat': 38.8174089, u'lng': -77.1411641}"
       ]
      },
      {
       "output_type": "stream",
       "stream": "stdout",
       "text": [
        "\n",
        "Trying to fetch store# 650 from http://www.mcpennsylvania.com/650\n",
        "  Read 16835 bytes"
       ]
      },
      {
       "output_type": "stream",
       "stream": "stdout",
       "text": [
        "\n",
        "  Address is 75 New York Avenue, N.E.|Washington, DC 20002\n",
        "  Geocoded to {u'lat': 38.9079088, u'lng': -77.0062908}"
       ]
      },
      {
       "output_type": "stream",
       "stream": "stdout",
       "text": [
        "\n",
        "Trying to fetch store# 651 from http://www.mcpennsylvania.com/651\n",
        "  Read 9429 bytes"
       ]
      },
      {
       "output_type": "stream",
       "stream": "stdout",
       "text": [
        "\n",
        "  Store not found\n",
        "Trying to fetch store# 652 from http://www.mcpennsylvania.com/652\n",
        "  Read 17919 bytes"
       ]
      },
      {
       "output_type": "stream",
       "stream": "stdout",
       "text": [
        "\n",
        "  Address is 3926 52nd Street|Kenosha, WI 53144\n",
        "  Geocoded to {u'lat': 42.588693, u'lng': -87.85683999999999}"
       ]
      },
      {
       "output_type": "stream",
       "stream": "stdout",
       "text": [
        "\n",
        "Trying to fetch store# 653 from http://www.mcpennsylvania.com/653\n",
        "  Read 17882 bytes"
       ]
      },
      {
       "output_type": "stream",
       "stream": "stdout",
       "text": [
        "\n",
        "  Address is 201 South Evergreen Avenue|Woodbury Heights, NJ 08097\n",
        "  Geocoded to {u'lat': 39.8251286, u'lng': -75.15950120000001}"
       ]
      },
      {
       "output_type": "stream",
       "stream": "stdout",
       "text": [
        "\n",
        "Trying to fetch store# 654 from http://www.mcpennsylvania.com/654\n",
        "  Read 16769 bytes"
       ]
      },
      {
       "output_type": "stream",
       "stream": "stdout",
       "text": [
        "\n",
        "  Address is 1150 S De Anza Blvd.|San Jose, CA 95129\n",
        "  Geocoded to {u'lat': 37.303899, u'lng': -122.031775}"
       ]
      },
      {
       "output_type": "stream",
       "stream": "stdout",
       "text": [
        "\n",
        "Trying to fetch store# 655 from http://www.mcpennsylvania.com/655\n",
        "  Read 16944 bytes"
       ]
      },
      {
       "output_type": "stream",
       "stream": "stdout",
       "text": [
        "\n",
        "  Address is 14841 Snow Road|Brookpark, OH 44142\n",
        "  Geocoded to {u'lat': 41.403723, u'lng': -81.79981599999999}"
       ]
      },
      {
       "output_type": "stream",
       "stream": "stdout",
       "text": [
        "\n",
        "Trying to fetch store# 656 from http://www.mcpennsylvania.com/656\n",
        "  Read 9429 bytes"
       ]
      },
      {
       "output_type": "stream",
       "stream": "stdout",
       "text": [
        "\n",
        "  Store not found\n",
        "Trying to fetch store# 657 from http://www.mcpennsylvania.com/657\n",
        "  Read 9429 bytes"
       ]
      },
      {
       "output_type": "stream",
       "stream": "stdout",
       "text": [
        "\n",
        "  Store not found\n",
        "Trying to fetch store# 658 from http://www.mcpennsylvania.com/658\n",
        "  Read 17410 bytes"
       ]
      },
      {
       "output_type": "stream",
       "stream": "stdout",
       "text": [
        "\n",
        "  Address is 1728 Lomita Blvd|Lomita, CA 90712\n",
        "  Geocoded to {u'lat': 33.797508, u'lng': -118.308493}"
       ]
      },
      {
       "output_type": "stream",
       "stream": "stdout",
       "text": [
        "\n",
        "Trying to fetch store# 659 from http://www.mcpennsylvania.com/659\n",
        "  Read 9429 bytes"
       ]
      },
      {
       "output_type": "stream",
       "stream": "stdout",
       "text": [
        "\n",
        "  Store not found\n",
        "Trying to fetch store# 660 from http://www.mcpennsylvania.com/660\n",
        "  Read 17705 bytes"
       ]
      },
      {
       "output_type": "stream",
       "stream": "stdout",
       "text": [
        "\n",
        "  Address is 3207 Erie Blvd. East|Syracuse, NY 13214\n",
        "  Geocoded to {u'lat': 43.051947, u'lng': -76.072525}"
       ]
      },
      {
       "output_type": "stream",
       "stream": "stdout",
       "text": [
        "\n",
        "Trying to fetch store# 661 from http://www.mcpennsylvania.com/661\n",
        "  Read 16967 bytes"
       ]
      },
      {
       "output_type": "stream",
       "stream": "stdout",
       "text": [
        "\n",
        "  Address is 2985 Freeport Blvd|Sacramento, CA 95818\n",
        "  Geocoded to {u'lat': 38.5505264, u'lng': -121.4884415}"
       ]
      },
      {
       "output_type": "stream",
       "stream": "stdout",
       "text": [
        "\n",
        "Wrote 360 locations to /Users/Ya/projects/mcdonalds/mcdonalds_locations.json\n",
        "Trying to fetch store# 662 from http://www.mcpennsylvania.com/662\n",
        "  Read 17119 bytes"
       ]
      },
      {
       "output_type": "stream",
       "stream": "stdout",
       "text": [
        "\n",
        "  Address is 6049 Roswell Road|Atlanta, GA 30328\n",
        "  Geocoded to {u'lat': 33.9198514, u'lng': -84.3785161}"
       ]
      },
      {
       "output_type": "stream",
       "stream": "stdout",
       "text": [
        "\n",
        "Trying to fetch store# 663 from http://www.mcpennsylvania.com/663\n",
        "  Read 9429 bytes"
       ]
      },
      {
       "output_type": "stream",
       "stream": "stdout",
       "text": [
        "\n",
        "  Store not found\n",
        "Trying to fetch store# 664 from http://www.mcpennsylvania.com/664\n",
        "  Read 9429 bytes"
       ]
      },
      {
       "output_type": "stream",
       "stream": "stdout",
       "text": [
        "\n",
        "  Store not found\n",
        "Trying to fetch store# 665 from http://www.mcpennsylvania.com/665\n",
        "  Read 9429 bytes"
       ]
      },
      {
       "output_type": "stream",
       "stream": "stdout",
       "text": [
        "\n",
        "  Store not found\n",
        "Trying to fetch store# 666 from http://www.mcpennsylvania.com/666\n",
        "  Read 17595 bytes"
       ]
      },
      {
       "output_type": "stream",
       "stream": "stdout",
       "text": [
        "\n",
        "  Address is 632 Broadway|Bangor, ME 04401\n",
        "  Geocoded to {u'lat': 44.8222263, u'lng': -68.77928179999999}"
       ]
      },
      {
       "output_type": "stream",
       "stream": "stdout",
       "text": [
        "\n",
        "Trying to fetch store# 667 from http://www.mcpennsylvania.com/667\n",
        "  Read 9429 bytes"
       ]
      },
      {
       "output_type": "stream",
       "stream": "stdout",
       "text": [
        "\n",
        "  Store not found\n",
        "Trying to fetch store# 668 from http://www.mcpennsylvania.com/668\n",
        "  Read 17180 bytes"
       ]
      },
      {
       "output_type": "stream",
       "stream": "stdout",
       "text": [
        "\n",
        "  Address is 5224 Florida Blvd.|Baton Rouge, LA 70806\n",
        "  Geocoded to {u'lat': 30.45046259999999, u'lng': -91.13570849999999}"
       ]
      },
      {
       "output_type": "stream",
       "stream": "stdout",
       "text": [
        "\n",
        "Trying to fetch store# 669 from http://www.mcpennsylvania.com/669\n",
        "  Read 17181 bytes"
       ]
      },
      {
       "output_type": "stream",
       "stream": "stdout",
       "text": [
        "\n",
        "  Address is 25 W. Hibiscus Blvd.|Melbourne, FL 32901\n",
        "  Geocoded to {u'lat': 28.0846594, u'lng': -80.6228043}"
       ]
      },
      {
       "output_type": "stream",
       "stream": "stdout",
       "text": [
        "\n",
        "Trying to fetch store# 670 from http://www.mcpennsylvania.com/670\n",
        "  Read 17258 bytes"
       ]
      },
      {
       "output_type": "stream",
       "stream": "stdout",
       "text": [
        "\n",
        "  Address is 8127 Olive Street Rd|University City, MO 63130\n",
        "  Geocoded to {u'lat': 38.6731026, u'lng': -90.39783229999999}"
       ]
      },
      {
       "output_type": "stream",
       "stream": "stdout",
       "text": [
        "\n",
        "Trying to fetch store# 671 from http://www.mcpennsylvania.com/671\n",
        "  Read 24160 bytes"
       ]
      },
      {
       "output_type": "stream",
       "stream": "stdout",
       "text": [
        "\n",
        "  Address is 551 Jefferson St.|St. Paul, MN 55102\n",
        "  Geocoded to {u'lat': 44.93108720000001, u'lng': -93.12284600000001}"
       ]
      },
      {
       "output_type": "stream",
       "stream": "stdout",
       "text": [
        "\n",
        "Trying to fetch store# 672 from http://www.mcpennsylvania.com/672\n",
        "  Read 16218 bytes"
       ]
      },
      {
       "output_type": "stream",
       "stream": "stdout",
       "text": [
        "\n",
        "  Address is 1256 Saint George Ave.|Avenel, NJ 07001\n",
        "  Geocoded to {u'lat': 40.5815343, u'lng': -74.29306079999999}"
       ]
      },
      {
       "output_type": "stream",
       "stream": "stdout",
       "text": [
        "\n",
        "Trying to fetch store# 673 from http://www.mcpennsylvania.com/673\n",
        "  Read 9429 bytes"
       ]
      },
      {
       "output_type": "stream",
       "stream": "stdout",
       "text": [
        "\n",
        "  Store not found\n",
        "Trying to fetch store# 674 from http://www.mcpennsylvania.com/674\n",
        "  Read 9429 bytes"
       ]
      },
      {
       "output_type": "stream",
       "stream": "stdout",
       "text": [
        "\n",
        "  Store not found\n",
        "Trying to fetch store# 675 from http://www.mcpennsylvania.com/675\n",
        "  Read 9429 bytes"
       ]
      },
      {
       "output_type": "stream",
       "stream": "stdout",
       "text": [
        "\n",
        "  Store not found\n",
        "Trying to fetch store# 676 from http://www.mcpennsylvania.com/676\n",
        "  Read 9429 bytes"
       ]
      },
      {
       "output_type": "stream",
       "stream": "stdout",
       "text": [
        "\n",
        "  Store not found\n",
        "Trying to fetch store# 677 from http://www.mcpennsylvania.com/677\n",
        "  Read 18164 bytes"
       ]
      },
      {
       "output_type": "stream",
       "stream": "stdout",
       "text": [
        "\n",
        "  Address is 819  Route 9|Queensbury, NY 12804\n",
        "  Geocoded to {u'lat': 43.3307999, u'lng': -73.6761412}"
       ]
      },
      {
       "output_type": "stream",
       "stream": "stdout",
       "text": [
        "\n",
        "Trying to fetch store# 678 from http://www.mcpennsylvania.com/678\n",
        "  Read 17712 bytes"
       ]
      },
      {
       "output_type": "stream",
       "stream": "stdout",
       "text": [
        "\n",
        "  Address is 1503 Woodward Ave.|Muscle Shoals, AL 35662\n",
        "  Geocoded to {u'lat': 34.7469738, u'lng': -87.6670894}"
       ]
      },
      {
       "output_type": "stream",
       "stream": "stdout",
       "text": [
        "\n",
        "Trying to fetch store# 679 from http://www.mcpennsylvania.com/679\n",
        "  Read 9429 bytes"
       ]
      },
      {
       "output_type": "stream",
       "stream": "stdout",
       "text": [
        "\n",
        "  Store not found\n",
        "Trying to fetch store# 680 from http://www.mcpennsylvania.com/680\n",
        "  Read 9429 bytes"
       ]
      },
      {
       "output_type": "stream",
       "stream": "stdout",
       "text": [
        "\n",
        "  Store not found\n",
        "Trying to fetch store# 681 from http://www.mcpennsylvania.com/681\n",
        "  Read 17768 bytes"
       ]
      },
      {
       "output_type": "stream",
       "stream": "stdout",
       "text": [
        "\n",
        "  Address is 1352 E Commercial Blvd.|Oakland Park, FL 33334\n",
        "  Geocoded to {u'lat': 26.188614, u'lng': -80.12887400000001}"
       ]
      },
      {
       "output_type": "stream",
       "stream": "stdout",
       "text": [
        "\n",
        "Wrote 370 locations to /Users/Ya/projects/mcdonalds/mcdonalds_locations.json\n",
        "Trying to fetch store# 682 from http://www.mcpennsylvania.com/682\n",
        "  Read 17351 bytes"
       ]
      },
      {
       "output_type": "stream",
       "stream": "stdout",
       "text": [
        "\n",
        "  Address is 1830 North Hacienda Blvd.|La Puente, CA 91744\n",
        "  Geocoded to {u'lat': 34.0511271, u'lng': -117.9428024}"
       ]
      },
      {
       "output_type": "stream",
       "stream": "stdout",
       "text": [
        "\n",
        "Trying to fetch store# 683 from http://www.mcpennsylvania.com/683\n",
        "  Read 18059 bytes"
       ]
      },
      {
       "output_type": "stream",
       "stream": "stdout",
       "text": [
        "\n",
        "  Address is 45 Thomaston Ave|Waterbury, CT 06702\n",
        "  Geocoded to {u'lat': 41.5586831, u'lng': -73.0529468}"
       ]
      },
      {
       "output_type": "stream",
       "stream": "stdout",
       "text": [
        "\n",
        "Trying to fetch store# 684 from http://www.mcpennsylvania.com/684\n",
        "  Read 17416 bytes"
       ]
      },
      {
       "output_type": "stream",
       "stream": "stdout",
       "text": [
        "\n",
        "  Address is 515 Gallivan Blvd.|Dorchester, MA 02124\n",
        "  Geocoded to {u'lat': 42.2826286, u'lng': -71.0550797}"
       ]
      },
      {
       "output_type": "stream",
       "stream": "stdout",
       "text": [
        "\n",
        "Trying to fetch store# 685 from http://www.mcpennsylvania.com/685\n",
        "  Read 17253 bytes"
       ]
      },
      {
       "output_type": "stream",
       "stream": "stdout",
       "text": [
        "\n",
        "  Address is 832 North Mountain Avenue|Ontario, CA 91762\n",
        "  Geocoded to {u'lat': 34.0733463, u'lng': -117.669769}"
       ]
      },
      {
       "output_type": "stream",
       "stream": "stdout",
       "text": [
        "\n",
        "Trying to fetch store# 686 from http://www.mcpennsylvania.com/686\n",
        "  Read 9429 bytes"
       ]
      },
      {
       "output_type": "stream",
       "stream": "stdout",
       "text": [
        "\n",
        "  Store not found\n",
        "Trying to fetch store# 687 from http://www.mcpennsylvania.com/687\n",
        "  Read 9429 bytes"
       ]
      },
      {
       "output_type": "stream",
       "stream": "stdout",
       "text": [
        "\n",
        "  Store not found\n",
        "Trying to fetch store# 688 from http://www.mcpennsylvania.com/688\n",
        "  Read 16710 bytes"
       ]
      },
      {
       "output_type": "stream",
       "stream": "stdout",
       "text": [
        "\n",
        "  Address is 5008 Auburn Blvd|Sacramento, CA 95841\n",
        "  Geocoded to {u'lat': 38.6599218, u'lng': -121.3473461}"
       ]
      },
      {
       "output_type": "stream",
       "stream": "stdout",
       "text": [
        "\n",
        "Trying to fetch store# 689 from http://www.mcpennsylvania.com/689\n",
        "  Read 9429 bytes"
       ]
      },
      {
       "output_type": "stream",
       "stream": "stdout",
       "text": [
        "\n",
        "  Store not found\n",
        "Trying to fetch store# 690 from http://www.mcpennsylvania.com/690\n",
        "  Read 17647 bytes"
       ]
      },
      {
       "output_type": "stream",
       "stream": "stdout",
       "text": [
        "\n",
        "  Address is 840 E. Alisal St.|Salinas, CA 93901\n",
        "  Geocoded to {u'lat': 36.6698324, u'lng': -121.6722235}"
       ]
      },
      {
       "output_type": "stream",
       "stream": "stdout",
       "text": [
        "\n",
        "Trying to fetch store# 691 from http://www.mcpennsylvania.com/691\n",
        "  Read 18535 bytes"
       ]
      },
      {
       "output_type": "stream",
       "stream": "stdout",
       "text": [
        "\n",
        "  Address is 422 North Washington Street|Stoughton, MA 02072\n",
        "  Geocoded to {u'lat': 42.1345316, u'lng': -71.1010472}"
       ]
      },
      {
       "output_type": "stream",
       "stream": "stdout",
       "text": [
        "\n",
        "Trying to fetch store# 692 from http://www.mcpennsylvania.com/692\n",
        "  Read 9429 bytes"
       ]
      },
      {
       "output_type": "stream",
       "stream": "stdout",
       "text": [
        "\n",
        "  Store not found\n",
        "Trying to fetch store# 693 from http://www.mcpennsylvania.com/693\n",
        "  Read 16645 bytes"
       ]
      },
      {
       "output_type": "stream",
       "stream": "stdout",
       "text": [
        "\n",
        "  Address is 10531 Baltimore Ave|Beltsville, MD 20705\n",
        "  Geocoded to {u'lat': 39.027825, u'lng': -76.91671869999999}"
       ]
      },
      {
       "output_type": "stream",
       "stream": "stdout",
       "text": [
        "\n",
        "Trying to fetch store# 694 from http://www.mcpennsylvania.com/694\n",
        "  Read 9429 bytes"
       ]
      },
      {
       "output_type": "stream",
       "stream": "stdout",
       "text": [
        "\n",
        "  Store not found\n",
        "Trying to fetch store# 695 from http://www.mcpennsylvania.com/695\n",
        "  Read 17099 bytes"
       ]
      },
      {
       "output_type": "stream",
       "stream": "stdout",
       "text": [
        "\n",
        "  Address is 5948 Georgia Avenue NW|Washington, DC 20011\n",
        "  Geocoded to {u'lat': 38.9623895, u'lng': -77.0283056}"
       ]
      },
      {
       "output_type": "stream",
       "stream": "stdout",
       "text": [
        "\n",
        "Trying to fetch store# 696 from http://www.mcpennsylvania.com/696\n",
        "  Read 9429 bytes"
       ]
      },
      {
       "output_type": "stream",
       "stream": "stdout",
       "text": [
        "\n",
        "  Store not found\n",
        "Trying to fetch store# 697 from http://www.mcpennsylvania.com/697\n",
        "  Read 17310 bytes"
       ]
      },
      {
       "output_type": "stream",
       "stream": "stdout",
       "text": [
        "\n",
        "  Address is 3340 Taylor Blvd.|Louisville, KY 40215\n",
        "  Geocoded to {u'lat': 38.2004189, u'lng': -85.78303059999999}"
       ]
      },
      {
       "output_type": "stream",
       "stream": "stdout",
       "text": [
        "\n",
        "Wrote 380 locations to /Users/Ya/projects/mcdonalds/mcdonalds_locations.json\n",
        "Trying to fetch store# 698 from http://www.mcpennsylvania.com/698\n",
        "  Read 9429 bytes"
       ]
      },
      {
       "output_type": "stream",
       "stream": "stdout",
       "text": [
        "\n",
        "  Store not found\n",
        "Trying to fetch store# 699 from http://www.mcpennsylvania.com/699\n",
        "  Read 9429 bytes"
       ]
      },
      {
       "output_type": "stream",
       "stream": "stdout",
       "text": [
        "\n",
        "  Store not found\n",
        "Trying to fetch store# 700 from http://www.mcpennsylvania.com/700\n",
        "  Read 9429 bytes"
       ]
      },
      {
       "output_type": "stream",
       "stream": "stdout",
       "text": [
        "\n",
        "  Store not found\n",
        "Trying to fetch store# 701 from http://www.mcpennsylvania.com/701\n",
        "  Read 19588 bytes"
       ]
      },
      {
       "output_type": "stream",
       "stream": "stdout",
       "text": [
        "\n",
        "  Address is 4009 N. Armenia|Tampa, FL 33607\n",
        "  Geocoded to {u'lat': 27.974769, u'lng': -82.48438}"
       ]
      },
      {
       "output_type": "stream",
       "stream": "stdout",
       "text": [
        "\n",
        "Trying to fetch store# 702 from http://www.mcpennsylvania.com/702\n",
        "  Read 16874 bytes"
       ]
      },
      {
       "output_type": "stream",
       "stream": "stdout",
       "text": [
        "\n",
        "  Address is 720 N. Winnetka Ave.|Golden Valley, MN 55427\n",
        "  Geocoded to {u'lat': 44.987423, u'lng': -93.37958080000001}"
       ]
      },
      {
       "output_type": "stream",
       "stream": "stdout",
       "text": [
        "\n",
        "Trying to fetch store# 703 from http://www.mcpennsylvania.com/703\n",
        "  Read 9429 bytes"
       ]
      },
      {
       "output_type": "stream",
       "stream": "stdout",
       "text": [
        "\n",
        "  Store not found\n",
        "Trying to fetch store# 704 from http://www.mcpennsylvania.com/704\n",
        "  Read 9429 bytes"
       ]
      },
      {
       "output_type": "stream",
       "stream": "stdout",
       "text": [
        "\n",
        "  Store not found\n",
        "Trying to fetch store# 705 from http://www.mcpennsylvania.com/705\n",
        "  Read 19579 bytes"
       ]
      },
      {
       "output_type": "stream",
       "stream": "stdout",
       "text": [
        "\n",
        "  Address is 6012 S. Pennsylvania Ave|Oklahoma City, OK 73159\n",
        "  Geocoded to {u'lat': 35.4051959, u'lng': -97.547473}"
       ]
      },
      {
       "output_type": "stream",
       "stream": "stdout",
       "text": [
        "\n",
        "Trying to fetch store# 706 from http://www.mcpennsylvania.com/706\n",
        "  Read 17171 bytes"
       ]
      },
      {
       "output_type": "stream",
       "stream": "stdout",
       "text": [
        "\n",
        "  Address is 1879 E. 4800 S|Salt Lake City, UT 84117\n",
        "  Geocoded to {u'lat': 40.7292905, u'lng': -112.0057612}"
       ]
      },
      {
       "output_type": "stream",
       "stream": "stdout",
       "text": [
        "\n",
        "Trying to fetch store# 707 from http://www.mcpennsylvania.com/707\n",
        "  Read 9429 bytes"
       ]
      },
      {
       "output_type": "stream",
       "stream": "stdout",
       "text": [
        "\n",
        "  Store not found\n",
        "Trying to fetch store# 708 from http://www.mcpennsylvania.com/708\n",
        "  Read 17489 bytes"
       ]
      },
      {
       "output_type": "stream",
       "stream": "stdout",
       "text": [
        "\n",
        "  Address is Rt. 22 East & N. Michigan Ave.|Union, NJ 07083\n",
        "  Geocoded to {u'lat': 40.6900517, u'lng': -74.29448169999999}"
       ]
      },
      {
       "output_type": "stream",
       "stream": "stdout",
       "text": [
        "\n",
        "Trying to fetch store# 709 from http://www.mcpennsylvania.com/709\n",
        "  Read 9429 bytes"
       ]
      },
      {
       "output_type": "stream",
       "stream": "stdout",
       "text": [
        "\n",
        "  Store not found\n",
        "Trying to fetch store# 710 from http://www.mcpennsylvania.com/710\n",
        "  Read 9429 bytes"
       ]
      },
      {
       "output_type": "stream",
       "stream": "stdout",
       "text": [
        "\n",
        "  Store not found\n",
        "Trying to fetch store# 711 from http://www.mcpennsylvania.com/711\n",
        "  Read 17714 bytes"
       ]
      },
      {
       "output_type": "stream",
       "stream": "stdout",
       "text": [
        "\n",
        "  Address is 2745 Bay Rd.|Saginaw, MI 48603\n",
        "  Geocoded to {u'lat': 43.4452659, u'lng': -83.97615979999999}"
       ]
      },
      {
       "output_type": "stream",
       "stream": "stdout",
       "text": [
        "\n",
        "Trying to fetch store# 712 from http://www.mcpennsylvania.com/712\n",
        "  Read 9429 bytes"
       ]
      },
      {
       "output_type": "stream",
       "stream": "stdout",
       "text": [
        "\n",
        "  Store not found\n",
        "Trying to fetch store# 713 from http://www.mcpennsylvania.com/713\n",
        "  Read 17102 bytes"
       ]
      },
      {
       "output_type": "stream",
       "stream": "stdout",
       "text": [
        "\n",
        "  Address is 4121 Marconi Ave.|Sacramento, CA 95821\n",
        "  Geocoded to {u'lat': 38.6179071, u'lng': -121.367011}"
       ]
      },
      {
       "output_type": "stream",
       "stream": "stdout",
       "text": [
        "\n",
        "Trying to fetch store# 714 from http://www.mcpennsylvania.com/714\n",
        "  Read 17768 bytes"
       ]
      },
      {
       "output_type": "stream",
       "stream": "stdout",
       "text": [
        "\n",
        "  Address is 10529 Perry Highway|Wexford, PA 15090\n",
        "  Geocoded to {u'lat': 40.6102178, u'lng': -80.05396549999999}"
       ]
      },
      {
       "output_type": "stream",
       "stream": "stdout",
       "text": [
        "\n",
        "Trying to fetch store# 715 from http://www.mcpennsylvania.com/715\n",
        "  Read 16927 bytes"
       ]
      },
      {
       "output_type": "stream",
       "stream": "stdout",
       "text": [
        "\n",
        "  Address is 111 W. Madison St.|Oak Park, IL 60302\n",
        "  Geocoded to {u'lat': 41.87966979999999, u'lng': -87.7779248}"
       ]
      },
      {
       "output_type": "stream",
       "stream": "stdout",
       "text": [
        "\n",
        "Trying to fetch store# 716 from http://www.mcpennsylvania.com/716\n",
        "  Read 19799 bytes"
       ]
      },
      {
       "output_type": "stream",
       "stream": "stdout",
       "text": [
        "\n",
        "  Address is 100 W. Rand Rd.|Mount Prospect, IL 60056\n",
        "  Geocoded to {u'lat': 42.0824395, u'lng': -87.93767340000001}"
       ]
      },
      {
       "output_type": "stream",
       "stream": "stdout",
       "text": [
        "\n",
        "Wrote 390 locations to /Users/Ya/projects/mcdonalds/mcdonalds_locations.json\n",
        "Trying to fetch store# 717 from http://www.mcpennsylvania.com/717\n",
        "  Read 17785 bytes"
       ]
      },
      {
       "output_type": "stream",
       "stream": "stdout",
       "text": [
        "\n",
        "  Address is 2735 S. Florida Ave.|Lakeland, FL 33803\n",
        "  Geocoded to {u'lat': 28.0115214, u'lng': -81.957413}"
       ]
      },
      {
       "output_type": "stream",
       "stream": "stdout",
       "text": [
        "\n",
        "Trying to fetch store# 718 from http://www.mcpennsylvania.com/718\n",
        "  Read 17269 bytes"
       ]
      },
      {
       "output_type": "stream",
       "stream": "stdout",
       "text": [
        "\n",
        "  Address is 716 Bound Brook Rd.|Middlesex, NJ 08846\n",
        "  Geocoded to {u'lat': 40.58070910000001, u'lng': -74.4952161}"
       ]
      },
      {
       "output_type": "stream",
       "stream": "stdout",
       "text": [
        "\n",
        "Trying to fetch store# 719 from http://www.mcpennsylvania.com/719\n",
        "  Read 17144 bytes"
       ]
      },
      {
       "output_type": "stream",
       "stream": "stdout",
       "text": [
        "\n",
        "  Address is 1533 S. State St.|Salt Lake City, UT 84115\n",
        "  Geocoded to {u'lat': 40.7364468, u'lng': -111.8876974}"
       ]
      },
      {
       "output_type": "stream",
       "stream": "stdout",
       "text": [
        "\n",
        "Trying to fetch store# 720 from http://www.mcpennsylvania.com/720\n",
        "  Read 9429 bytes"
       ]
      },
      {
       "output_type": "stream",
       "stream": "stdout",
       "text": [
        "\n",
        "  Store not found\n",
        "Trying to fetch store# 721 from http://www.mcpennsylvania.com/721\n",
        "  Read 9429 bytes"
       ]
      },
      {
       "output_type": "stream",
       "stream": "stdout",
       "text": [
        "\n",
        "  Store not found\n",
        "Trying to fetch store# 722 from http://www.mcpennsylvania.com/722\n",
        "  Read 16477 bytes"
       ]
      },
      {
       "output_type": "stream",
       "stream": "stdout",
       "text": [
        "\n",
        "  Address is 1220 N 35th St|Milwaukee, WI 53208\n",
        "  Geocoded to {u'lat': 43.04649, u'lng': -87.95723149999999}"
       ]
      },
      {
       "output_type": "stream",
       "stream": "stdout",
       "text": [
        "\n",
        "Trying to fetch store# 723 from http://www.mcpennsylvania.com/723\n",
        "  Read 18015 bytes"
       ]
      },
      {
       "output_type": "stream",
       "stream": "stdout",
       "text": [
        "\n",
        "  Address is N83 W15515 Appleton Avenue|Menomonee Falls, WI 53051\n",
        "  Geocoded to {u'lat': 43.1684285, u'lng': -88.1031636}"
       ]
      },
      {
       "output_type": "stream",
       "stream": "stdout",
       "text": [
        "\n",
        "Trying to fetch store# 724 from http://www.mcpennsylvania.com/724\n",
        "  Read 17424 bytes"
       ]
      },
      {
       "output_type": "stream",
       "stream": "stdout",
       "text": [
        "\n",
        "  Address is 5980 Telegraph Road|Ventura, CA 93003\n",
        "  Geocoded to {u'lat': 34.277791, u'lng': -119.213678}"
       ]
      },
      {
       "output_type": "stream",
       "stream": "stdout",
       "text": [
        "\n",
        "Trying to fetch store# 725 from http://www.mcpennsylvania.com/725\n",
        "  Read 16861 bytes"
       ]
      },
      {
       "output_type": "stream",
       "stream": "stdout",
       "text": [
        "\n",
        "  Address is 3120 W Broward Boulevard|Ft. Lauderdale, FL 33312\n",
        "  Geocoded to {u'lat': 26.1210011, u'lng': -80.1870483}"
       ]
      },
      {
       "output_type": "stream",
       "stream": "stdout",
       "text": [
        "\n",
        "Trying to fetch store# 726 from http://www.mcpennsylvania.com/726\n",
        "  Read 17264 bytes"
       ]
      },
      {
       "output_type": "stream",
       "stream": "stdout",
       "text": [
        "\n",
        "  Address is 35 Old Country Rd.|Westbury, NY 11590\n",
        "  Geocoded to {u'lat': 40.7476647, u'lng': -73.5910202}"
       ]
      },
      {
       "output_type": "stream",
       "stream": "stdout",
       "text": [
        "\n",
        "Trying to fetch store# 727 from http://www.mcpennsylvania.com/727\n",
        "  Read 9429 bytes"
       ]
      },
      {
       "output_type": "stream",
       "stream": "stdout",
       "text": [
        "\n",
        "  Store not found\n",
        "Trying to fetch store# 728 from http://www.mcpennsylvania.com/728\n",
        "  Read 16866 bytes"
       ]
      },
      {
       "output_type": "stream",
       "stream": "stdout",
       "text": [
        "\n",
        "  Address is 6301 New Hampshire Avenue|Takoma Park, MD 20912\n",
        "  Geocoded to {u'lat': 38.965814, u'lng': -77.001941}"
       ]
      },
      {
       "output_type": "stream",
       "stream": "stdout",
       "text": [
        "\n",
        "Trying to fetch store# 729 from http://www.mcpennsylvania.com/729\n",
        "  Read 16154 bytes"
       ]
      },
      {
       "output_type": "stream",
       "stream": "stdout",
       "text": [
        "\n",
        "  Address is 4777 Allentown Road, S.E.|Suitland, MD 20746\n",
        "  Geocoded to {u'lat': 38.821752, u'lng': -76.886471}"
       ]
      },
      {
       "output_type": "stream",
       "stream": "stdout",
       "text": [
        "\n",
        "Wrote 400 locations to /Users/Ya/projects/mcdonalds/mcdonalds_locations.json\n",
        "Trying to fetch store# 730 from http://www.mcpennsylvania.com/730\n",
        "  Read 9429 bytes"
       ]
      },
      {
       "output_type": "stream",
       "stream": "stdout",
       "text": [
        "\n",
        "  Store not found\n",
        "Trying to fetch store# 731 from http://www.mcpennsylvania.com/731\n",
        "  Read 19500 bytes"
       ]
      },
      {
       "output_type": "stream",
       "stream": "stdout",
       "text": [
        "\n",
        "  Address is 9831 East Las Tunas Drive|Temple City, CA 91780\n",
        "  Geocoded to {u'lat': 34.107821, u'lng': -118.055477}"
       ]
      },
      {
       "output_type": "stream",
       "stream": "stdout",
       "text": [
        "\n",
        "Trying to fetch store# 732 from http://www.mcpennsylvania.com/732\n",
        "  Read 9429 bytes"
       ]
      },
      {
       "output_type": "stream",
       "stream": "stdout",
       "text": [
        "\n",
        "  Store not found\n",
        "Trying to fetch store# 733 from http://www.mcpennsylvania.com/733\n",
        "  Read 9429 bytes"
       ]
      },
      {
       "output_type": "stream",
       "stream": "stdout",
       "text": [
        "\n",
        "  Store not found\n",
        "Trying to fetch store# 734 from http://www.mcpennsylvania.com/734\n",
        "  Read 9429 bytes"
       ]
      },
      {
       "output_type": "stream",
       "stream": "stdout",
       "text": [
        "\n",
        "  Store not found\n",
        "Trying to fetch store# 735 from http://www.mcpennsylvania.com/735\n",
        "  Read 17912 bytes"
       ]
      },
      {
       "output_type": "stream",
       "stream": "stdout",
       "text": [
        "\n",
        "  Address is 635 West 19Th Street|Costa Mesa, CA 92627\n",
        "  Geocoded to {u'lat': 33.6431698, u'lng': -117.9247698}"
       ]
      },
      {
       "output_type": "stream",
       "stream": "stdout",
       "text": [
        "\n",
        "Trying to fetch store# 736 from http://www.mcpennsylvania.com/736\n",
        "  Read 17903 bytes"
       ]
      },
      {
       "output_type": "stream",
       "stream": "stdout",
       "text": [
        "\n",
        "  Address is 1650 V.F.W. Parkway|West Roxbury, MA 02132\n",
        "  Geocoded to {u'lat': 42.282154, u'lng': -71.17483299999999}"
       ]
      },
      {
       "output_type": "stream",
       "stream": "stdout",
       "text": [
        "\n",
        "Trying to fetch store# 737 from http://www.mcpennsylvania.com/737\n",
        "  Read 18766 bytes"
       ]
      },
      {
       "output_type": "stream",
       "stream": "stdout",
       "text": [
        "\n",
        "  Address is 908 N. Montello Street|Brockton, MA 02401\n",
        "  Geocoded to {u'lat': 42.1078219, u'lng': -71.0248021}"
       ]
      },
      {
       "output_type": "stream",
       "stream": "stdout",
       "text": [
        "\n",
        "Trying to fetch store# 738 from http://www.mcpennsylvania.com/738\n",
        "  Read 15938 bytes"
       ]
      },
      {
       "output_type": "stream",
       "stream": "stdout",
       "text": [
        "\n",
        "  Address is 3010 W. 59th St.|Markham, IL 60426\n",
        "  Geocoded to {u'lat': 41.5936453, u'lng': -87.6947699}"
       ]
      },
      {
       "output_type": "stream",
       "stream": "stdout",
       "text": [
        "\n",
        "Trying to fetch store# 739 from http://www.mcpennsylvania.com/739\n",
        "  Read 17580 bytes"
       ]
      },
      {
       "output_type": "stream",
       "stream": "stdout",
       "text": [
        "\n",
        "  Address is 783 E Main St|Meriden, CT 06450\n",
        "  Geocoded to {u'lat': 41.5287544, u'lng': -72.7774276}"
       ]
      },
      {
       "output_type": "stream",
       "stream": "stdout",
       "text": [
        "\n",
        "Trying to fetch store# 740 from http://www.mcpennsylvania.com/740\n",
        "  Read 17427 bytes"
       ]
      },
      {
       "output_type": "stream",
       "stream": "stdout",
       "text": [
        "\n",
        "  Address is 4711 14th St. W|Bradenton, FL 34207\n",
        "  Geocoded to {u'lat': 27.4573041, u'lng': -82.5749163}"
       ]
      },
      {
       "output_type": "stream",
       "stream": "stdout",
       "text": [
        "\n",
        "Trying to fetch store# 741 from http://www.mcpennsylvania.com/741\n",
        "  Read 17552 bytes"
       ]
      },
      {
       "output_type": "stream",
       "stream": "stdout",
       "text": [
        "\n",
        "  Address is 12919 Victory Blvd|North Hollywood, CA 91605\n",
        "  Geocoded to {u'lat': 34.18705, u'lng': -118.414609}"
       ]
      },
      {
       "output_type": "stream",
       "stream": "stdout",
       "text": [
        "\n",
        "Trying to fetch store# 742 from http://www.mcpennsylvania.com/742\n",
        "  Read 17835 bytes"
       ]
      },
      {
       "output_type": "stream",
       "stream": "stdout",
       "text": [
        "\n",
        "  Address is 803 Rogers Street|Lowell, MA 01852\n",
        "  Geocoded to {u'lat': 42.6292349, u'lng': -71.2764134}"
       ]
      },
      {
       "output_type": "stream",
       "stream": "stdout",
       "text": [
        "\n",
        "Trying to fetch store# 743 from http://www.mcpennsylvania.com/743\n",
        "  Read 9429 bytes"
       ]
      },
      {
       "output_type": "stream",
       "stream": "stdout",
       "text": [
        "\n",
        "  Store not found\n",
        "Trying to fetch store# 744 from http://www.mcpennsylvania.com/744\n",
        "  Read 17411 bytes"
       ]
      },
      {
       "output_type": "stream",
       "stream": "stdout",
       "text": [
        "\n",
        "  Address is 1526 West Edinger Street|Santa Ana, CA 92704\n",
        "  Geocoded to {u'lat': 33.726831, u'lng': -117.888887}"
       ]
      },
      {
       "output_type": "stream",
       "stream": "stdout",
       "text": [
        "\n",
        "Wrote 410 locations to /Users/Ya/projects/mcdonalds/mcdonalds_locations.json\n",
        "Trying to fetch store# 745 from http://www.mcpennsylvania.com/745\n",
        "  Read 9429 bytes"
       ]
      },
      {
       "output_type": "stream",
       "stream": "stdout",
       "text": [
        "\n",
        "  Store not found\n",
        "Trying to fetch store# 746 from http://www.mcpennsylvania.com/746\n",
        "  Read 9429 bytes"
       ]
      },
      {
       "output_type": "stream",
       "stream": "stdout",
       "text": [
        "\n",
        "  Store not found\n",
        "Trying to fetch store# 747 from http://www.mcpennsylvania.com/747\n",
        "  Read 17262 bytes"
       ]
      },
      {
       "output_type": "stream",
       "stream": "stdout",
       "text": [
        "\n",
        "  Address is 1050 North Broadway|Wichita, KS 67214\n",
        "  Geocoded to {u'lat': 37.7021301, u'lng': -97.3351699}"
       ]
      },
      {
       "output_type": "stream",
       "stream": "stdout",
       "text": [
        "\n",
        "Trying to fetch store# 748 from http://www.mcpennsylvania.com/748\n",
        "  Read 17441 bytes"
       ]
      },
      {
       "output_type": "stream",
       "stream": "stdout",
       "text": [
        "\n",
        "  Address is 268 W. Putnam Ave.|Greenwich, CT 06830\n",
        "  Geocoded to {u'lat': 41.024071, u'lng': -73.635329}"
       ]
      },
      {
       "output_type": "stream",
       "stream": "stdout",
       "text": [
        "\n",
        "Trying to fetch store# 749 from http://www.mcpennsylvania.com/749\n",
        "  Read 37587 bytes"
       ]
      },
      {
       "output_type": "stream",
       "stream": "stdout",
       "text": [
        "\n",
        "  Address is 6546 Normandy Blvd.|Jacksonville, FL 32205\n",
        "  Geocoded to {u'lat': 30.305196, u'lng': -81.752966}"
       ]
      },
      {
       "output_type": "stream",
       "stream": "stdout",
       "text": [
        "\n",
        "Trying to fetch store# 750 from http://www.mcpennsylvania.com/750\n",
        "  Read 17418 bytes"
       ]
      },
      {
       "output_type": "stream",
       "stream": "stdout",
       "text": [
        "\n",
        "  Address is 306 North Delsea Drive|Vineland, NJ 08360\n",
        "  Geocoded to {u'lat': 39.4917682, u'lng': -75.043322}"
       ]
      },
      {
       "output_type": "stream",
       "stream": "stdout",
       "text": [
        "\n",
        "Trying to fetch store# 751 from http://www.mcpennsylvania.com/751\n",
        "  Read 18141 bytes"
       ]
      },
      {
       "output_type": "stream",
       "stream": "stdout",
       "text": [
        "\n",
        "  Address is 1811 North Hillside|Wichita, KS 67214\n",
        "  Geocoded to {u'lat': 37.7160383, u'lng': -97.2994188}"
       ]
      },
      {
       "output_type": "stream",
       "stream": "stdout",
       "text": [
        "\n",
        "Trying to fetch store# 752 from http://www.mcpennsylvania.com/752\n",
        "  Read 18052 bytes"
       ]
      },
      {
       "output_type": "stream",
       "stream": "stdout",
       "text": [
        "\n",
        "  Address is 121 North York Road|Hatboro, PA 19040\n",
        "  Geocoded to {u'lat': 40.179962, u'lng': -75.1058843}"
       ]
      },
      {
       "output_type": "stream",
       "stream": "stdout",
       "text": [
        "\n",
        "Trying to fetch store# 753 from http://www.mcpennsylvania.com/753\n",
        "  Read 16736 bytes"
       ]
      },
      {
       "output_type": "stream",
       "stream": "stdout",
       "text": [
        "\n",
        "  Address is 9128 S. Cicero|Oak Lawn, IL 60453\n",
        "  Geocoded to {u'lat': 41.7268239, u'lng': -87.74149249999999}"
       ]
      },
      {
       "output_type": "stream",
       "stream": "stdout",
       "text": [
        "\n",
        "Trying to fetch store# 754 from http://www.mcpennsylvania.com/754\n",
        "  Read 20727 bytes"
       ]
      },
      {
       "output_type": "stream",
       "stream": "stdout",
       "text": [
        "\n",
        "  Address is 11053 East Rosecrans Avenue|Norwalk, CA 90650\n",
        "  Geocoded to {u'lat': 33.9025653, u'lng': -118.0984085}"
       ]
      },
      {
       "output_type": "stream",
       "stream": "stdout",
       "text": [
        "\n",
        "Trying to fetch store# 755 from http://www.mcpennsylvania.com/755\n",
        "  Read 9429 bytes"
       ]
      },
      {
       "output_type": "stream",
       "stream": "stdout",
       "text": [
        "\n",
        "  Store not found\n",
        "Trying to fetch store# 756 from http://www.mcpennsylvania.com/756\n",
        "  Read 9429 bytes"
       ]
      },
      {
       "output_type": "stream",
       "stream": "stdout",
       "text": [
        "\n",
        "  Store not found\n",
        "Trying to fetch store# 757 from http://www.mcpennsylvania.com/757\n",
        "  Read 17122 bytes"
       ]
      },
      {
       "output_type": "stream",
       "stream": "stdout",
       "text": [
        "\n",
        "  Address is 3289 Sonoma Blvd|Vallejo, CA 94590\n",
        "  Geocoded to {u'lat': 38.11919, u'lng': -122.255486}"
       ]
      },
      {
       "output_type": "stream",
       "stream": "stdout",
       "text": [
        "\n",
        "Trying to fetch store# 758 from http://www.mcpennsylvania.com/758\n",
        "  Read 17522 bytes"
       ]
      },
      {
       "output_type": "stream",
       "stream": "stdout",
       "text": [
        "\n",
        "  Address is 3745 N Post Rd.|Indianapolis, IN 46226\n",
        "  Geocoded to {u'lat': 39.8254773, u'lng': -86.0094708}"
       ]
      },
      {
       "output_type": "stream",
       "stream": "stdout",
       "text": [
        "\n",
        "Wrote 420 locations to /Users/Ya/projects/mcdonalds/mcdonalds_locations.json\n",
        "Trying to fetch store# 759 from http://www.mcpennsylvania.com/759\n",
        "  Read 9429 bytes"
       ]
      },
      {
       "output_type": "stream",
       "stream": "stdout",
       "text": [
        "\n",
        "  Store not found\n",
        "Trying to fetch store# 760 from http://www.mcpennsylvania.com/760\n",
        "  Read 9429 bytes"
       ]
      },
      {
       "output_type": "stream",
       "stream": "stdout",
       "text": [
        "\n",
        "  Store not found\n",
        "Trying to fetch store# 761 from http://www.mcpennsylvania.com/761\n",
        "  Read 17745 bytes"
       ]
      },
      {
       "output_type": "stream",
       "stream": "stdout",
       "text": [
        "\n",
        "  Address is 2205 Middlebelt Road|Garden City, MI 48135\n",
        "  Geocoded to {u'lat': 42.3248793, u'lng': -83.331473}"
       ]
      },
      {
       "output_type": "stream",
       "stream": "stdout",
       "text": [
        "\n",
        "Trying to fetch store# 762 from http://www.mcpennsylvania.com/762\n",
        "  Read 16396 bytes"
       ]
      },
      {
       "output_type": "stream",
       "stream": "stdout",
       "text": [
        "\n",
        "  Address is 5600 Riverdale Road|Riverdale, MD 20737\n",
        "  Geocoded to {u'lat': 38.959345, u'lng': -76.919555}"
       ]
      },
      {
       "output_type": "stream",
       "stream": "stdout",
       "text": [
        "\n",
        "Trying to fetch store# 763 from http://www.mcpennsylvania.com/763\n",
        "  Read 17107 bytes"
       ]
      },
      {
       "output_type": "stream",
       "stream": "stdout",
       "text": [
        "\n",
        "  Address is 14480 San Pablo AE|San Pablo, CA 94806\n",
        "  Geocoded to {u'lat': 37.9668782, u'lng': -122.3438581}"
       ]
      },
      {
       "output_type": "stream",
       "stream": "stdout",
       "text": [
        "\n",
        "Trying to fetch store# 764 from http://www.mcpennsylvania.com/764\n",
        "  Read 17317 bytes"
       ]
      },
      {
       "output_type": "stream",
       "stream": "stdout",
       "text": [
        "\n",
        "  Address is 2118 McHenry Ave|Modesto, CA 95350\n",
        "  Geocoded to {u'lat': 37.674243, u'lng': -120.993544}"
       ]
      },
      {
       "output_type": "stream",
       "stream": "stdout",
       "text": [
        "\n",
        "Trying to fetch store# 765 from http://www.mcpennsylvania.com/765\n",
        "  Read 9429 bytes"
       ]
      },
      {
       "output_type": "stream",
       "stream": "stdout",
       "text": [
        "\n",
        "  Store not found\n",
        "Trying to fetch store# 766 from http://www.mcpennsylvania.com/766\n",
        "  Read 17024 bytes"
       ]
      },
      {
       "output_type": "stream",
       "stream": "stdout",
       "text": [
        "\n",
        "  Address is 1101 W 49th St.|Hialeah, FL 33012\n",
        "  Geocoded to {u'lat': 25.867021, u'lng': -80.305145}"
       ]
      },
      {
       "output_type": "stream",
       "stream": "stdout",
       "text": [
        "\n",
        "Trying to fetch store# 767 from http://www.mcpennsylvania.com/767\n",
        "  Read 19363 bytes"
       ]
      },
      {
       "output_type": "stream",
       "stream": "stdout",
       "text": [
        "\n",
        "  Address is 818 Old Country Rd|Plainview, NY 11803\n",
        "  Geocoded to {u'lat': 40.7738086, u'lng': -73.4833094}"
       ]
      },
      {
       "output_type": "stream",
       "stream": "stdout",
       "text": [
        "\n",
        "Trying to fetch store# 768 from http://www.mcpennsylvania.com/768\n",
        "  Read 16856 bytes"
       ]
      },
      {
       "output_type": "stream",
       "stream": "stdout",
       "text": [
        "\n",
        "  Address is 31-35 Atlantic Ave.|Oceanside, NY 11572\n",
        "  Geocoded to {u'lat': 40.6388741, u'lng': -73.6413307}"
       ]
      },
      {
       "output_type": "stream",
       "stream": "stdout",
       "text": [
        "\n",
        "Trying to fetch store# 769 from http://www.mcpennsylvania.com/769\n",
        "  Read 19402 bytes"
       ]
      },
      {
       "output_type": "stream",
       "stream": "stdout",
       "text": [
        "\n",
        "  Address is 143 East Foothill Blvd|Arcadia, CA 91006\n",
        "  Geocoded to {u'lat': 34.151462, u'lng': -118.02669}"
       ]
      },
      {
       "output_type": "stream",
       "stream": "stdout",
       "text": [
        "\n",
        "Trying to fetch store# 770 from http://www.mcpennsylvania.com/770\n",
        "  Read 15911 bytes"
       ]
      },
      {
       "output_type": "stream",
       "stream": "stdout",
       "text": [
        "\n",
        "  Address is 3855 W. Lawrence|Chicago, IL 60625\n",
        "  Geocoded to {u'lat': 41.9680589, u'lng': -87.7248408}"
       ]
      },
      {
       "output_type": "stream",
       "stream": "stdout",
       "text": [
        "\n",
        "Trying to fetch store# 771 from http://www.mcpennsylvania.com/771\n",
        "  Read 9429 bytes"
       ]
      },
      {
       "output_type": "stream",
       "stream": "stdout",
       "text": [
        "\n",
        "  Store not found\n",
        "Trying to fetch store# 772 from http://www.mcpennsylvania.com/772\n",
        "  Read 16561 bytes"
       ]
      },
      {
       "output_type": "stream",
       "stream": "stdout",
       "text": [
        "\n",
        "  Address is 10411 Saint Clair Ave.|Cleveland, OH 44108\n",
        "  Geocoded to {u'lat': 41.5388408, u'lng': -81.6162416}"
       ]
      },
      {
       "output_type": "stream",
       "stream": "stdout",
       "text": [
        "\n",
        "Wrote 430 locations to /Users/Ya/projects/mcdonalds/mcdonalds_locations.json\n",
        "Trying to fetch store# 773 from http://www.mcpennsylvania.com/773\n",
        "  Read 17398 bytes"
       ]
      },
      {
       "output_type": "stream",
       "stream": "stdout",
       "text": [
        "\n",
        "  Address is 5525 Folsom Blvd.|Sacramento, CA 95819\n",
        "  Geocoded to {u'lat': 38.5589471, u'lng': -121.4384821}"
       ]
      },
      {
       "output_type": "stream",
       "stream": "stdout",
       "text": [
        "\n",
        "Trying to fetch store# 774 from http://www.mcpennsylvania.com/774\n",
        "  Read 9429 bytes"
       ]
      },
      {
       "output_type": "stream",
       "stream": "stdout",
       "text": [
        "\n",
        "  Store not found\n",
        "Trying to fetch store# 775 from http://www.mcpennsylvania.com/775\n",
        "  Read 16506 bytes"
       ]
      },
      {
       "output_type": "stream",
       "stream": "stdout",
       "text": [
        "\n",
        "  Address is 7716 Metcalf Avenue|Overland Park, KS 66204\n",
        "  Geocoded to {u'lat': 38.98886299999999, u'lng': -94.66832}"
       ]
      },
      {
       "output_type": "stream",
       "stream": "stdout",
       "text": [
        "\n",
        "Trying to fetch store# 776 from http://www.mcpennsylvania.com/776\n",
        "  Read 16753 bytes"
       ]
      },
      {
       "output_type": "stream",
       "stream": "stdout",
       "text": [
        "\n",
        "  Address is 1198 San Pablo Ave.|Berkeley, CA 94706\n",
        "  Geocoded to {u'lat': 37.882531, u'lng': -122.296874}"
       ]
      },
      {
       "output_type": "stream",
       "stream": "stdout",
       "text": [
        "\n",
        "Trying to fetch store# 777 from http://www.mcpennsylvania.com/777\n",
        "  Read 17155 bytes"
       ]
      },
      {
       "output_type": "stream",
       "stream": "stdout",
       "text": [
        "\n",
        "  Address is 1839 West Chapman Avenue|Orange, CA 92868\n",
        "  Geocoded to {u'lat': 33.788288, u'lng': -117.872909}"
       ]
      },
      {
       "output_type": "stream",
       "stream": "stdout",
       "text": [
        "\n",
        "Trying to fetch store# 778 from http://www.mcpennsylvania.com/778\n",
        "  Read 17132 bytes"
       ]
      },
      {
       "output_type": "stream",
       "stream": "stdout",
       "text": [
        "\n",
        "  Address is 1421 Mission St.|Santa Cruz, CA 95060\n",
        "  Geocoded to {u'lat': 36.9671056, u'lng': -122.0390174}"
       ]
      },
      {
       "output_type": "stream",
       "stream": "stdout",
       "text": [
        "\n",
        "Trying to fetch store# 779 from http://www.mcpennsylvania.com/779\n",
        "  Read 17398 bytes"
       ]
      },
      {
       "output_type": "stream",
       "stream": "stdout",
       "text": [
        "\n",
        "  Address is 11612 E. Valley Blvd.|El Monte, CA 91732\n",
        "  Geocoded to {u'lat': 34.0666575, u'lng': -118.0258319}"
       ]
      },
      {
       "output_type": "stream",
       "stream": "stdout",
       "text": [
        "\n",
        "Trying to fetch store# 780 from http://www.mcpennsylvania.com/780\n",
        "  Read 16515 bytes"
       ]
      },
      {
       "output_type": "stream",
       "stream": "stdout",
       "text": [
        "\n",
        "  Address is 5344 N. Port Washington Rd|Glendale, WI 53217\n",
        "  Geocoded to {u'lat': 43.1142287, u'lng': -87.9159722}"
       ]
      },
      {
       "output_type": "stream",
       "stream": "stdout",
       "text": [
        "\n",
        "Trying to fetch store# 781 from http://www.mcpennsylvania.com/781\n",
        "  Read 17066 bytes"
       ]
      },
      {
       "output_type": "stream",
       "stream": "stdout",
       "text": [
        "\n",
        "  Address is 2902 West Pico Blvd.|Santa Monica, CA 90405\n",
        "  Geocoded to {u'lat': 34.02473, u'lng': -118.458965}"
       ]
      },
      {
       "output_type": "stream",
       "stream": "stdout",
       "text": [
        "\n",
        "Trying to fetch store# 782 from http://www.mcpennsylvania.com/782\n",
        "  Read 17011 bytes"
       ]
      },
      {
       "output_type": "stream",
       "stream": "stdout",
       "text": [
        "\n",
        "  Address is 1972 North High Street|Columbus, OH 43201\n",
        "  Geocoded to {u'lat': 40.0026439, u'lng': -83.00811000000002}"
       ]
      },
      {
       "output_type": "stream",
       "stream": "stdout",
       "text": [
        "\n",
        "Trying to fetch store# 783 from http://www.mcpennsylvania.com/783\n",
        "  Read 9429 bytes"
       ]
      },
      {
       "output_type": "stream",
       "stream": "stdout",
       "text": [
        "\n",
        "  Store not found\n",
        "Trying to fetch store# 784 from http://www.mcpennsylvania.com/784\n",
        "  Read 16914 bytes"
       ]
      },
      {
       "output_type": "stream",
       "stream": "stdout",
       "text": [
        "\n",
        "  Address is 2200 Snow Rd.|Parma, OH 44134\n",
        "  Geocoded to {u'lat': 41.4050646, u'lng': -81.6976603}"
       ]
      },
      {
       "output_type": "stream",
       "stream": "stdout",
       "text": [
        "\n",
        "Wrote 440 locations to /Users/Ya/projects/mcdonalds/mcdonalds_locations.json\n",
        "Trying to fetch store# 785 from http://www.mcpennsylvania.com/785\n",
        "  Read 9429 bytes"
       ]
      },
      {
       "output_type": "stream",
       "stream": "stdout",
       "text": [
        "\n",
        "  Store not found\n",
        "Trying to fetch store# 786 from http://www.mcpennsylvania.com/786\n",
        "  Read 9429 bytes"
       ]
      },
      {
       "output_type": "stream",
       "stream": "stdout",
       "text": [
        "\n",
        "  Store not found\n",
        "Trying to fetch store# 787 from http://www.mcpennsylvania.com/787\n",
        "  Read 20080 bytes"
       ]
      },
      {
       "output_type": "stream",
       "stream": "stdout",
       "text": [
        "\n",
        "  Address is 5900 Beach Blvd.|Buena Park, CA 90620\n",
        "  Geocoded to {u'lat': 33.874256, u'lng': -117.997873}"
       ]
      },
      {
       "output_type": "stream",
       "stream": "stdout",
       "text": [
        "\n",
        "Trying to fetch store# 788 from http://www.mcpennsylvania.com/788\n",
        "  Read 17329 bytes"
       ]
      },
      {
       "output_type": "stream",
       "stream": "stdout",
       "text": [
        "\n",
        "  Address is 1612 Delaware Avenue|Ft. Pierce, FL 33450\n",
        "  Geocoded to {u'lat': 27.4439172, u'lng': -80.34018590000001}"
       ]
      },
      {
       "output_type": "stream",
       "stream": "stdout",
       "text": [
        "\n",
        "Trying to fetch store# 789 from http://www.mcpennsylvania.com/789\n",
        "  Read 17367 bytes"
       ]
      },
      {
       "output_type": "stream",
       "stream": "stdout",
       "text": [
        "\n",
        "  Address is 3068 S. Perkins Rd.|Memphis, TN 38118\n",
        "  Geocoded to {u'lat': 35.0649491, u'lng': -89.9051288}"
       ]
      },
      {
       "output_type": "stream",
       "stream": "stdout",
       "text": [
        "\n",
        "Trying to fetch store# 790 from http://www.mcpennsylvania.com/790\n",
        "  Read 17281 bytes"
       ]
      },
      {
       "output_type": "stream",
       "stream": "stdout",
       "text": [
        "\n",
        "  Address is 657 S. Highland St.|Memphis, TN 38111\n",
        "  Geocoded to {u'lat': 35.1137618, u'lng': -89.94626439999999}"
       ]
      },
      {
       "output_type": "stream",
       "stream": "stdout",
       "text": [
        "\n",
        "Trying to fetch store# 791 from http://www.mcpennsylvania.com/791\n",
        "  Read 17553 bytes"
       ]
      },
      {
       "output_type": "stream",
       "stream": "stdout",
       "text": [
        "\n",
        "  Address is 200 NE 167th St.|Miami, FL 33162\n",
        "  Geocoded to {u'lat': 25.927848, u'lng': -80.195928}"
       ]
      },
      {
       "output_type": "stream",
       "stream": "stdout",
       "text": [
        "\n",
        "Trying to fetch store# 792 from http://www.mcpennsylvania.com/792\n",
        "  Read 17302 bytes"
       ]
      },
      {
       "output_type": "stream",
       "stream": "stdout",
       "text": [
        "\n",
        "  Address is 6150 S. Dixie Hwy.|Miami, FL 33143\n",
        "  Geocoded to {u'lat': 25.70128, u'lng': -80.2926923}"
       ]
      },
      {
       "output_type": "stream",
       "stream": "stdout",
       "text": [
        "\n",
        "Trying to fetch store# 793 from http://www.mcpennsylvania.com/793\n",
        "  Read 17913 bytes"
       ]
      },
      {
       "output_type": "stream",
       "stream": "stdout",
       "text": [
        "\n",
        "  Address is 15710 Leffingwell Road|Whittier, CA 90604\n",
        "  Geocoded to {u'lat': 33.930656, u'lng': -117.9942205}"
       ]
      },
      {
       "output_type": "stream",
       "stream": "stdout",
       "text": [
        "\n",
        "Trying to fetch store# 794 from http://www.mcpennsylvania.com/794\n",
        "  Read 17824 bytes"
       ]
      },
      {
       "output_type": "stream",
       "stream": "stdout",
       "text": [
        "\n",
        "  Address is 4589 General Meyer Ave.|New Orleans, LA 70131\n",
        "  Geocoded to {u'lat': 29.9335813, u'lng': -90.0077378}"
       ]
      },
      {
       "output_type": "stream",
       "stream": "stdout",
       "text": [
        "\n",
        "Trying to fetch store# 795 from http://www.mcpennsylvania.com/795\n",
        "  Read 17331 bytes"
       ]
      },
      {
       "output_type": "stream",
       "stream": "stdout",
       "text": [
        "\n",
        "  Address is 10350 Reseda Blvd|Northridge, CA 91324\n",
        "  Geocoded to {u'lat': 34.2581754, u'lng': -118.5360778}"
       ]
      },
      {
       "output_type": "stream",
       "stream": "stdout",
       "text": [
        "\n",
        "Trying to fetch store# 796 from http://www.mcpennsylvania.com/796\n",
        "  Read 9429 bytes"
       ]
      },
      {
       "output_type": "stream",
       "stream": "stdout",
       "text": [
        "\n",
        "  Store not found\n",
        "Trying to fetch store# 797 from http://www.mcpennsylvania.com/797\n",
        "  Read 15428 bytes"
       ]
      },
      {
       "output_type": "stream",
       "stream": "stdout",
       "text": [
        "\n",
        "  Address is 37701 Gratiot Avenue|Mt. Clemens, MI 48043\n",
        "  Geocoded to {u'lat': 42.5745515, u'lng': -82.8891958}"
       ]
      },
      {
       "output_type": "stream",
       "stream": "stdout",
       "text": [
        "\n",
        "Wrote 450 locations to /Users/Ya/projects/mcdonalds/mcdonalds_locations.json\n",
        "Trying to fetch store# 798 from http://www.mcpennsylvania.com/798\n",
        "  Read 9429 bytes"
       ]
      },
      {
       "output_type": "stream",
       "stream": "stdout",
       "text": [
        "\n",
        "  Store not found\n",
        "Trying to fetch store# 799 from http://www.mcpennsylvania.com/799\n",
        "  Read 17641 bytes"
       ]
      },
      {
       "output_type": "stream",
       "stream": "stdout",
       "text": [
        "\n",
        "  Address is 1300 West Galena Street|Freeport, IL 61032\n",
        "  Geocoded to {u'lat': 42.3019311, u'lng': -89.6450409}"
       ]
      },
      {
       "output_type": "stream",
       "stream": "stdout",
       "text": [
        "\n",
        "Trying to fetch store# 800 from http://www.mcpennsylvania.com/800\n",
        "  Read 9429 bytes"
       ]
      },
      {
       "output_type": "stream",
       "stream": "stdout",
       "text": [
        "\n",
        "  Store not found\n",
        "Trying to fetch store# 801 from http://www.mcpennsylvania.com/801\n",
        "  Read 17738 bytes"
       ]
      },
      {
       "output_type": "stream",
       "stream": "stdout",
       "text": [
        "\n",
        "  Address is 3309 Tweedy Blvd|South Gate, CA 90280\n",
        "  Geocoded to {u'lat': 33.945113, u'lng': -118.211464}"
       ]
      },
      {
       "output_type": "stream",
       "stream": "stdout",
       "text": [
        "\n",
        "Trying to fetch store# 802 from http://www.mcpennsylvania.com/802\n",
        "  Read 23436 bytes"
       ]
      },
      {
       "output_type": "stream",
       "stream": "stdout",
       "text": [
        "\n",
        "  Address is 4515 Pacific Ave.|Stockton, CA 95207\n",
        "  Geocoded to {u'lat': 37.9893053, u'lng': -121.3125051}"
       ]
      },
      {
       "output_type": "stream",
       "stream": "stdout",
       "text": [
        "\n",
        "Trying to fetch store# 803 from http://www.mcpennsylvania.com/803\n",
        "  Read 17251 bytes"
       ]
      },
      {
       "output_type": "stream",
       "stream": "stdout",
       "text": [
        "\n",
        "  Address is 3141 Harbor Blvd|Costa Mesa, CA 92626\n",
        "  Geocoded to {u'lat': 33.6850315, u'lng': -117.9198338}"
       ]
      },
      {
       "output_type": "stream",
       "stream": "stdout",
       "text": [
        "\n",
        "Trying to fetch store# 804 from http://www.mcpennsylvania.com/804\n",
        "  Read 17084 bytes"
       ]
      },
      {
       "output_type": "stream",
       "stream": "stdout",
       "text": [
        "\n",
        "  Address is 799 N. Lake St|Pasadena, CA 91104\n",
        "  Geocoded to {u'lat': 34.1597171, u'lng': -118.1328969}"
       ]
      },
      {
       "output_type": "stream",
       "stream": "stdout",
       "text": [
        "\n",
        "Trying to fetch store# 805 from http://www.mcpennsylvania.com/805\n",
        "  Read 17065 bytes"
       ]
      },
      {
       "output_type": "stream",
       "stream": "stdout",
       "text": [
        "\n",
        "  Address is 6720 W. Archer Ave.|Chicago, IL 60638\n",
        "  Geocoded to {u'lat': 41.7923723, u'lng': -87.7899424}"
       ]
      },
      {
       "output_type": "stream",
       "stream": "stdout",
       "text": [
        "\n",
        "Trying to fetch store# 806 from http://www.mcpennsylvania.com/806\n",
        "  Read 16909 bytes"
       ]
      },
      {
       "output_type": "stream",
       "stream": "stdout",
       "text": [
        "\n",
        "  Address is 3120 South Saviers Road|Oxnard, CA 93033\n",
        "  Geocoded to {u'lat': 34.1712239, u'lng': -119.1770919}"
       ]
      },
      {
       "output_type": "stream",
       "stream": "stdout",
       "text": [
        "\n",
        "Trying to fetch store# 807 from http://www.mcpennsylvania.com/807\n",
        "  Read 20370 bytes"
       ]
      },
      {
       "output_type": "stream",
       "stream": "stdout",
       "text": [
        "\n",
        "  Address is 1341 South Brookhurst Road|Fullerton, CA 92633\n",
        "  Geocoded to {u'lat': 33.858353, u'lng': -117.9596405}"
       ]
      },
      {
       "output_type": "stream",
       "stream": "stdout",
       "text": [
        "\n",
        "Trying to fetch store# 808 from http://www.mcpennsylvania.com/808\n",
        "  Read 9429 bytes"
       ]
      },
      {
       "output_type": "stream",
       "stream": "stdout",
       "text": [
        "\n",
        "  Store not found\n",
        "Trying to fetch store# 809 from http://www.mcpennsylvania.com/809\n",
        "  Read 17786 bytes"
       ]
      },
      {
       "output_type": "stream",
       "stream": "stdout",
       "text": [
        "\n",
        "  Address is 7112 Westminster Avenue|Westminster, CA 92683\n",
        "  Geocoded to {u'lat': 33.758809, u'lng': -118.005348}"
       ]
      },
      {
       "output_type": "stream",
       "stream": "stdout",
       "text": [
        "\n",
        "Trying to fetch store# 810 from http://www.mcpennsylvania.com/810\n",
        "  Read 9429 bytes"
       ]
      },
      {
       "output_type": "stream",
       "stream": "stdout",
       "text": [
        "\n",
        "  Store not found\n",
        "Trying to fetch store# 811 from http://www.mcpennsylvania.com/811\n",
        "  Read 17299 bytes"
       ]
      },
      {
       "output_type": "stream",
       "stream": "stdout",
       "text": [
        "\n",
        "  Address is 9131 W. Florissant|St. Louis, MO 63136\n",
        "  Geocoded to {u'lat': 38.7167734, u'lng': -90.2597693}"
       ]
      },
      {
       "output_type": "stream",
       "stream": "stdout",
       "text": [
        "\n",
        "Wrote 460 locations to /Users/Ya/projects/mcdonalds/mcdonalds_locations.json\n",
        "Trying to fetch store# 812 from http://www.mcpennsylvania.com/812\n",
        "  Read 16375 bytes"
       ]
      },
      {
       "output_type": "stream",
       "stream": "stdout",
       "text": [
        "\n",
        "  Address is 7601 S. Vincennes Ave.|Chicago, IL 60620\n",
        "  Geocoded to {u'lat': 41.7552449, u'lng': -87.63221999999999}"
       ]
      },
      {
       "output_type": "stream",
       "stream": "stdout",
       "text": [
        "\n",
        "Trying to fetch store# 813 from http://www.mcpennsylvania.com/813\n",
        "  Read 18049 bytes"
       ]
      },
      {
       "output_type": "stream",
       "stream": "stdout",
       "text": [
        "\n",
        "  Address is 4002 North Oak Trafficway|Kansas City, MO 64116\n",
        "  Geocoded to {u'lat': 39.1674234, u'lng': -94.57704070000001}"
       ]
      },
      {
       "output_type": "stream",
       "stream": "stdout",
       "text": [
        "\n",
        "Trying to fetch store# 814 from http://www.mcpennsylvania.com/814\n",
        "  Read 17071 bytes"
       ]
      },
      {
       "output_type": "stream",
       "stream": "stdout",
       "text": [
        "\n",
        "  Address is 4505 E. Kings Canyon Rd.|Fresno, CA 93702\n",
        "  Geocoded to {u'lat': 36.736194, u'lng': -119.749379}"
       ]
      },
      {
       "output_type": "stream",
       "stream": "stdout",
       "text": [
        "\n",
        "Trying to fetch store# 815 from http://www.mcpennsylvania.com/815\n",
        "  Read 17130 bytes"
       ]
      },
      {
       "output_type": "stream",
       "stream": "stdout",
       "text": [
        "\n",
        "  Address is 1930 Monmouth St.|Newport, KY 41071\n",
        "  Geocoded to {u'lat': 39.0786197, u'lng': -84.4805713}"
       ]
      },
      {
       "output_type": "stream",
       "stream": "stdout",
       "text": [
        "\n",
        "Trying to fetch store# 816 from http://www.mcpennsylvania.com/816\n",
        "  Read 16646 bytes"
       ]
      },
      {
       "output_type": "stream",
       "stream": "stdout",
       "text": [
        "\n",
        "  Address is 1338 Main St.,| Main & Utica,|Buffalo, NY 14209\n",
        "  Geocoded to {u'lat': 42.91379209999999, u'lng': -78.8637428}"
       ]
      },
      {
       "output_type": "stream",
       "stream": "stdout",
       "text": [
        "\n",
        "Trying to fetch store# 817 from http://www.mcpennsylvania.com/817\n",
        "  Read 17445 bytes"
       ]
      },
      {
       "output_type": "stream",
       "stream": "stdout",
       "text": [
        "\n",
        "  Address is 27322 Lorain Rd.|North Olmsted, OH 44070\n",
        "  Geocoded to {u'lat': 41.41541420000001, u'lng': -81.92487849999999}"
       ]
      },
      {
       "output_type": "stream",
       "stream": "stdout",
       "text": [
        "\n",
        "Trying to fetch store# 818 from http://www.mcpennsylvania.com/818\n",
        "  Read 17428 bytes"
       ]
      },
      {
       "output_type": "stream",
       "stream": "stdout",
       "text": [
        "\n",
        "  Address is 5301 Pearl Road.|Parma, OH 44129\n",
        "  Geocoded to {u'lat': 41.4159047, u'lng': -81.7305599}"
       ]
      },
      {
       "output_type": "stream",
       "stream": "stdout",
       "text": [
        "\n",
        "Trying to fetch store# 819 from http://www.mcpennsylvania.com/819\n",
        "  Read 9429 bytes"
       ]
      },
      {
       "output_type": "stream",
       "stream": "stdout",
       "text": [
        "\n",
        "  Store not found\n",
        "Trying to fetch store# 820 from http://www.mcpennsylvania.com/820\n",
        "  Read 18108 bytes"
       ]
      },
      {
       "output_type": "stream",
       "stream": "stdout",
       "text": [
        "\n",
        "  Address is 439 Bridgeport Ave|Milford, CT 06460\n",
        "  Geocoded to {u'lat': 41.204955, u'lng': -73.093116}"
       ]
      },
      {
       "output_type": "stream",
       "stream": "stdout",
       "text": [
        "\n",
        "Trying to fetch store# 821 from http://www.mcpennsylvania.com/821\n",
        "  Read 17400 bytes"
       ]
      },
      {
       "output_type": "stream",
       "stream": "stdout",
       "text": [
        "\n",
        "  Address is 8775 Mentor Ave.|Mentor, OH 44060\n",
        "  Geocoded to {u'lat': 41.6733853, u'lng': -81.3262249}"
       ]
      },
      {
       "output_type": "stream",
       "stream": "stdout",
       "text": [
        "\n",
        "Trying to fetch store# 822 from http://www.mcpennsylvania.com/822\n",
        "  Read 9429 bytes"
       ]
      },
      {
       "output_type": "stream",
       "stream": "stdout",
       "text": [
        "\n",
        "  Store not found\n",
        "Trying to fetch store# 823 from http://www.mcpennsylvania.com/823\n",
        "  Read 16989 bytes"
       ]
      },
      {
       "output_type": "stream",
       "stream": "stdout",
       "text": [
        "\n",
        "  Address is 18708 Hesperian Blvd.|Hayward, CA 94541\n",
        "  Geocoded to {u'lat': 37.6707575, u'lng': -122.1207464}"
       ]
      },
      {
       "output_type": "stream",
       "stream": "stdout",
       "text": [
        "\n",
        "Wrote 470 locations to /Users/Ya/projects/mcdonalds/mcdonalds_locations.json\n",
        "Trying to fetch store# 824 from http://www.mcpennsylvania.com/824\n",
        "  Read 9429 bytes"
       ]
      },
      {
       "output_type": "stream",
       "stream": "stdout",
       "text": [
        "\n",
        "  Store not found\n",
        "Trying to fetch store# 825 from http://www.mcpennsylvania.com/825\n",
        "  Read 17244 bytes"
       ]
      },
      {
       "output_type": "stream",
       "stream": "stdout",
       "text": [
        "\n",
        "  Address is 57 Seneca Turnpike|New Hartford, NY 13413\n",
        "  Geocoded to {u'lat': 43.07996079999999, u'lng': -75.3181196}"
       ]
      },
      {
       "output_type": "stream",
       "stream": "stdout",
       "text": [
        "\n",
        "Trying to fetch store# 826 from http://www.mcpennsylvania.com/826\n",
        "  Read 17275 bytes"
       ]
      },
      {
       "output_type": "stream",
       "stream": "stdout",
       "text": [
        "\n",
        "  Address is 10775 NW 27th Ave.|Miami, FL 33167\n",
        "  Geocoded to {u'lat': 25.8722532, u'lng': -80.2422414}"
       ]
      },
      {
       "output_type": "stream",
       "stream": "stdout",
       "text": [
        "\n",
        "Trying to fetch store# 827 from http://www.mcpennsylvania.com/827\n",
        "  Read 9429 bytes"
       ]
      },
      {
       "output_type": "stream",
       "stream": "stdout",
       "text": [
        "\n",
        "  Store not found\n",
        "Trying to fetch store# 828 from http://www.mcpennsylvania.com/828\n",
        "  Read 9429 bytes"
       ]
      },
      {
       "output_type": "stream",
       "stream": "stdout",
       "text": [
        "\n",
        "  Store not found\n",
        "Trying to fetch store# 829 from http://www.mcpennsylvania.com/829\n",
        "  Read 17668 bytes"
       ]
      },
      {
       "output_type": "stream",
       "stream": "stdout",
       "text": [
        "\n",
        "  Address is 260 East Foothill Blvd.|Rialto, CA 92376\n",
        "  Geocoded to {u'lat': 34.107138, u'lng': -117.366842}"
       ]
      },
      {
       "output_type": "stream",
       "stream": "stdout",
       "text": [
        "\n",
        "Trying to fetch store# 830 from http://www.mcpennsylvania.com/830\n",
        "  Read 19573 bytes"
       ]
      },
      {
       "output_type": "stream",
       "stream": "stdout",
       "text": [
        "\n",
        "  Address is 1609 S Main St|Green Bay, WI 54302\n",
        "  Geocoded to {u'lat': 44.5050559, u'lng': -87.9846858}"
       ]
      },
      {
       "output_type": "stream",
       "stream": "stdout",
       "text": [
        "\n",
        "Trying to fetch store# 831 from http://www.mcpennsylvania.com/831\n",
        "  Read 9429 bytes"
       ]
      },
      {
       "output_type": "stream",
       "stream": "stdout",
       "text": [
        "\n",
        "  Store not found\n",
        "Trying to fetch store# 832 from http://www.mcpennsylvania.com/832\n",
        "  Read 19801 bytes"
       ]
      },
      {
       "output_type": "stream",
       "stream": "stdout",
       "text": [
        "\n",
        "  Address is 2600 N. Memorial Pkwy|Huntsville, AL 35810\n",
        "  Geocoded to {u'lat': 34.7563586, u'lng': -86.5940749}"
       ]
      },
      {
       "output_type": "stream",
       "stream": "stdout",
       "text": [
        "\n",
        "Trying to fetch store# 833 from http://www.mcpennsylvania.com/833\n",
        "  Read 21533 bytes"
       ]
      },
      {
       "output_type": "stream",
       "stream": "stdout",
       "text": [
        "\n",
        "  Address is 303 East Oltorf Street|Austin, TX 78704\n",
        "  Geocoded to {u'lat': 30.2375122, u'lng': -97.7519884}"
       ]
      },
      {
       "output_type": "stream",
       "stream": "stdout",
       "text": [
        "\n",
        "Trying to fetch store# 834 from http://www.mcpennsylvania.com/834\n",
        "  Read 17060 bytes"
       ]
      },
      {
       "output_type": "stream",
       "stream": "stdout",
       "text": [
        "\n",
        "  Address is 11015 Sepulveda Blvd.|Mission Hills, CA 91345\n",
        "  Geocoded to {u'lat': 34.270353, u'lng': -118.467711}"
       ]
      },
      {
       "output_type": "stream",
       "stream": "stdout",
       "text": [
        "\n",
        "Trying to fetch store# 835 from http://www.mcpennsylvania.com/835\n",
        "  Read 9429 bytes"
       ]
      },
      {
       "output_type": "stream",
       "stream": "stdout",
       "text": [
        "\n",
        "  Store not found\n",
        "Trying to fetch store# 836 from http://www.mcpennsylvania.com/836\n",
        "  Read 9429 bytes"
       ]
      },
      {
       "output_type": "stream",
       "stream": "stdout",
       "text": [
        "\n",
        "  Store not found\n",
        "Trying to fetch store# 837 from http://www.mcpennsylvania.com/837\n",
        "  Read 18350 bytes"
       ]
      },
      {
       "output_type": "stream",
       "stream": "stdout",
       "text": [
        "\n",
        "  Address is 555 Albany Ave.|Kingston, NY 12401\n",
        "  Geocoded to {u'lat': 41.94447359999999, u'lng': -73.996849}"
       ]
      },
      {
       "output_type": "stream",
       "stream": "stdout",
       "text": [
        "\n",
        "Trying to fetch store# 838 from http://www.mcpennsylvania.com/838\n",
        "  Read 9429 bytes"
       ]
      },
      {
       "output_type": "stream",
       "stream": "stdout",
       "text": [
        "\n",
        "  Store not found\n",
        "Trying to fetch store# 839 from http://www.mcpennsylvania.com/839\n",
        "  Read 17817 bytes"
       ]
      },
      {
       "output_type": "stream",
       "stream": "stdout",
       "text": [
        "\n",
        "  Address is 7329 Fair Oaks Blvd.|Carmichael, CA 95608\n",
        "  Geocoded to {u'lat': 38.63450419999999, u'lng': -121.3287195}"
       ]
      },
      {
       "output_type": "stream",
       "stream": "stdout",
       "text": [
        "\n",
        "Trying to fetch store# 840 from http://www.mcpennsylvania.com/840\n",
        "  Read 9429 bytes"
       ]
      },
      {
       "output_type": "stream",
       "stream": "stdout",
       "text": [
        "\n",
        "  Store not found\n",
        "Trying to fetch store# 841 from http://www.mcpennsylvania.com/841\n",
        "  Read 16987 bytes"
       ]
      },
      {
       "output_type": "stream",
       "stream": "stdout",
       "text": [
        "\n",
        "  Address is 13705 Euclid Ave.|East Cleveland, OH 44112\n",
        "  Geocoded to {u'lat': 41.525492, u'lng': -81.587819}"
       ]
      },
      {
       "output_type": "stream",
       "stream": "stdout",
       "text": [
        "\n",
        "Wrote 480 locations to /Users/Ya/projects/mcdonalds/mcdonalds_locations.json\n",
        "Trying to fetch store# 842 from http://www.mcpennsylvania.com/842\n",
        "  Read 20615 bytes"
       ]
      },
      {
       "output_type": "stream",
       "stream": "stdout",
       "text": [
        "\n",
        "  Address is 1663 Old York Road|Abington, PA 19001\n",
        "  Geocoded to {u'lat': 40.1312124, u'lng': -75.11576509999999}"
       ]
      },
      {
       "output_type": "stream",
       "stream": "stdout",
       "text": [
        "\n",
        "Trying to fetch store# 843 from http://www.mcpennsylvania.com/843\n",
        "  Read 17341 bytes"
       ]
      },
      {
       "output_type": "stream",
       "stream": "stdout",
       "text": [
        "\n",
        "  Address is 898 S. Bascom Ave.|San Jose, CA 95128\n",
        "  Geocoded to {u'lat': 37.3110046, u'lng': -121.931319}"
       ]
      },
      {
       "output_type": "stream",
       "stream": "stdout",
       "text": [
        "\n",
        "Trying to fetch store# 844 from http://www.mcpennsylvania.com/844\n",
        "  Read 19838 bytes"
       ]
      },
      {
       "output_type": "stream",
       "stream": "stdout",
       "text": [
        "\n",
        "  Address is 2609 S. Kedzie Ave.|Chicago, IL 60623\n",
        "  Geocoded to {u'lat': 41.8440808, u'lng': -87.70476239999999}"
       ]
      },
      {
       "output_type": "stream",
       "stream": "stdout",
       "text": [
        "\n",
        "Trying to fetch store# 845 from http://www.mcpennsylvania.com/845\n",
        "  Read 9429 bytes"
       ]
      },
      {
       "output_type": "stream",
       "stream": "stdout",
       "text": [
        "\n",
        "  Store not found\n",
        "Trying to fetch store# 846 from http://www.mcpennsylvania.com/846\n",
        "  Read 17806 bytes"
       ]
      },
      {
       "output_type": "stream",
       "stream": "stdout",
       "text": [
        "\n",
        "  Address is 1730 E. 3rd St.|Williamsport, PA 17701\n",
        "  Geocoded to {u'lat': 41.2497516, u'lng': -76.9700575}"
       ]
      },
      {
       "output_type": "stream",
       "stream": "stdout",
       "text": [
        "\n",
        "Trying to fetch store# 847 from http://www.mcpennsylvania.com/847\n",
        "  Read 16627 bytes"
       ]
      },
      {
       "output_type": "stream",
       "stream": "stdout",
       "text": [
        "\n",
        "  Address is 121 West Glebe Road|Alexandria, VA 22305\n",
        "  Geocoded to {u'lat': 38.8368847, u'lng': -77.0607729}"
       ]
      },
      {
       "output_type": "stream",
       "stream": "stdout",
       "text": [
        "\n",
        "Trying to fetch store# 848 from http://www.mcpennsylvania.com/848\n",
        "  Read 9429 bytes"
       ]
      },
      {
       "output_type": "stream",
       "stream": "stdout",
       "text": [
        "\n",
        "  Store not found\n",
        "Trying to fetch store# 849 from http://www.mcpennsylvania.com/849\n",
        "  Read 18982 bytes"
       ]
      },
      {
       "output_type": "stream",
       "stream": "stdout",
       "text": [
        "\n",
        "  Address is 1630 Highland Ave.|National City, CA 92050\n",
        "  Geocoded to {u'lat': 32.6704194, u'lng': -117.0959486}"
       ]
      },
      {
       "output_type": "stream",
       "stream": "stdout",
       "text": [
        "\n",
        "Trying to fetch store# 850 from http://www.mcpennsylvania.com/850\n",
        "  Read 16992 bytes"
       ]
      },
      {
       "output_type": "stream",
       "stream": "stdout",
       "text": [
        "\n",
        "  Address is 2739 Maple Avenue|Zanesville, OH 43701\n",
        "  Geocoded to {u'lat': 39.97243599999999, u'lng': -82.011619}"
       ]
      },
      {
       "output_type": "stream",
       "stream": "stdout",
       "text": [
        "\n",
        "Trying to fetch store# 851 from http://www.mcpennsylvania.com/851\n",
        "  Read 17481 bytes"
       ]
      },
      {
       "output_type": "stream",
       "stream": "stdout",
       "text": [
        "\n",
        "  Address is 2524 S County Line Rd. E|Indianapolis, IN 46227\n",
        "  Geocoded to {u'lat': 39.635948, u'lng': -86.118044}"
       ]
      },
      {
       "output_type": "stream",
       "stream": "stdout",
       "text": [
        "\n",
        "Trying to fetch store# 852 from http://www.mcpennsylvania.com/852\n",
        "  Read 17951 bytes"
       ]
      },
      {
       "output_type": "stream",
       "stream": "stdout",
       "text": [
        "\n",
        "  Address is 6000 South 108th Street|Hales Corners, WI 53130\n",
        "  Geocoded to {u'lat': 42.9355749, u'lng': -88.04766719999999}"
       ]
      },
      {
       "output_type": "stream",
       "stream": "stdout",
       "text": [
        "\n",
        "Trying to fetch store# 853 from http://www.mcpennsylvania.com/853\n",
        "  Read 17580 bytes"
       ]
      },
      {
       "output_type": "stream",
       "stream": "stdout",
       "text": [
        "\n",
        "  Address is 227 W. Northwest Hwy|Barrington, IL 60010\n",
        "  Geocoded to {u'lat': 42.1611805, u'lng': -88.1394318}"
       ]
      },
      {
       "output_type": "stream",
       "stream": "stdout",
       "text": [
        "\n",
        "Wrote 490 locations to /Users/Ya/projects/mcdonalds/mcdonalds_locations.json\n",
        "Trying to fetch store# 854 from http://www.mcpennsylvania.com/854\n",
        "  Read 17274 bytes"
       ]
      },
      {
       "output_type": "stream",
       "stream": "stdout",
       "text": [
        "\n",
        "  Address is 15606 South Hawthorne Blvd.|Lawndale, CA 90260\n",
        "  Geocoded to {u'lat': 33.889429, u'lng': -118.351964}"
       ]
      },
      {
       "output_type": "stream",
       "stream": "stdout",
       "text": [
        "\n",
        "Trying to fetch store# 855 from http://www.mcpennsylvania.com/855\n",
        "  Read 17159 bytes"
       ]
      },
      {
       "output_type": "stream",
       "stream": "stdout",
       "text": [
        "\n",
        "  Address is 2242 University Avenue|Riverside, CA 92507\n",
        "  Geocoded to {u'lat': 33.9753301, u'lng': -117.3591818}"
       ]
      },
      {
       "output_type": "stream",
       "stream": "stdout",
       "text": [
        "\n",
        "Trying to fetch store# 856 from http://www.mcpennsylvania.com/856\n",
        "  Read 19539 bytes"
       ]
      },
      {
       "output_type": "stream",
       "stream": "stdout",
       "text": [
        "\n",
        "  Address is 4333 W. Hillsborough Ave.|Tampa, FL 33614\n",
        "  Geocoded to {u'lat': 27.9966933, u'lng': -82.5171881}"
       ]
      },
      {
       "output_type": "stream",
       "stream": "stdout",
       "text": [
        "\n",
        "Trying to fetch store# 857 from http://www.mcpennsylvania.com/857\n",
        "  Read 17592 bytes"
       ]
      },
      {
       "output_type": "stream",
       "stream": "stdout",
       "text": [
        "\n",
        "  Address is 16866 Beach Blvd.|Huntington Beach, CA 92647\n",
        "  Geocoded to {u'lat': 33.7172053, u'lng': -117.9885879}"
       ]
      },
      {
       "output_type": "stream",
       "stream": "stdout",
       "text": [
        "\n",
        "Trying to fetch store# 858 from http://www.mcpennsylvania.com/858\n",
        "  Read 16584 bytes"
       ]
      },
      {
       "output_type": "stream",
       "stream": "stdout",
       "text": [
        "\n",
        "  Address is 4301 Nannie Helen Burroughs Nw|Washington, DC 20019\n",
        "  Geocoded to {u'lat': 38.9011898, u'lng': -76.94163259999999}"
       ]
      },
      {
       "output_type": "stream",
       "stream": "stdout",
       "text": [
        "\n",
        "Trying to fetch store# 859 from http://www.mcpennsylvania.com/859\n",
        "  Read 9429 bytes"
       ]
      },
      {
       "output_type": "stream",
       "stream": "stdout",
       "text": [
        "\n",
        "  Store not found\n",
        "Trying to fetch store# 860 from http://www.mcpennsylvania.com/860\n",
        "  Read 18595 bytes"
       ]
      },
      {
       "output_type": "stream",
       "stream": "stdout",
       "text": [
        "\n",
        "  Address is 970 Route 9 South|South Amboy, NJ 08879\n",
        "  Geocoded to {u'lat': 40.458523, u'lng': -74.29563379999999}"
       ]
      },
      {
       "output_type": "stream",
       "stream": "stdout",
       "text": [
        "\n",
        "Trying to fetch store# 861 from http://www.mcpennsylvania.com/861\n",
        "  Read 9429 bytes"
       ]
      },
      {
       "output_type": "stream",
       "stream": "stdout",
       "text": [
        "\n",
        "  Store not found\n",
        "Trying to fetch store# 862 from http://www.mcpennsylvania.com/862\n",
        "  Read 20873 bytes"
       ]
      },
      {
       "output_type": "stream",
       "stream": "stdout",
       "text": [
        "\n",
        "  Address is 221 KING ST|NORTHAMPTON, MA 01060\n",
        "  Geocoded to {u'lat': 42.328857, u'lng': -72.63325999999999}"
       ]
      },
      {
       "output_type": "stream",
       "stream": "stdout",
       "text": [
        "\n",
        "Trying to fetch store# 863 from http://www.mcpennsylvania.com/863\n",
        "  Read 16930 bytes"
       ]
      },
      {
       "output_type": "stream",
       "stream": "stdout",
       "text": [
        "\n",
        "  Address is 7600 Little River Turnpike|Annandale, VA 22003\n",
        "  Geocoded to {u'lat': 38.832965, u'lng': -77.207751}"
       ]
      },
      {
       "output_type": "stream",
       "stream": "stdout",
       "text": [
        "\n",
        "Trying to fetch store# 864 from http://www.mcpennsylvania.com/864\n",
        "  Read 17667 bytes"
       ]
      },
      {
       "output_type": "stream",
       "stream": "stdout",
       "text": [
        "\n",
        "  Address is 12029 E Carson St|Hawaiian Gardens, CA 90716\n",
        "  Geocoded to {u'lat': 33.831863, u'lng': -118.075313}"
       ]
      },
      {
       "output_type": "stream",
       "stream": "stdout",
       "text": [
        "\n",
        "Trying to fetch store# 865 from http://www.mcpennsylvania.com/865\n",
        "  Read 17383 bytes"
       ]
      },
      {
       "output_type": "stream",
       "stream": "stdout",
       "text": [
        "\n",
        "  Address is 4015 West Century Blvd.|Inglewood, CA 90301\n",
        "  Geocoded to {u'lat': 33.9457804, u'lng': -118.3445777}"
       ]
      },
      {
       "output_type": "stream",
       "stream": "stdout",
       "text": [
        "\n",
        "Wrote 500 locations to /Users/Ya/projects/mcdonalds/mcdonalds_locations.json\n",
        "Trying to fetch store# 866 from http://www.mcpennsylvania.com/866\n",
        "  Read 17171 bytes"
       ]
      },
      {
       "output_type": "stream",
       "stream": "stdout",
       "text": [
        "\n",
        "  Address is 6125 N. Milwaukee Ave.|Chicago, IL 60646\n",
        "  Geocoded to {u'lat': 41.9931792, u'lng': -87.78348749999999}"
       ]
      },
      {
       "output_type": "stream",
       "stream": "stdout",
       "text": [
        "\n",
        "Trying to fetch store# 867 from http://www.mcpennsylvania.com/867\n",
        "  Read 17976 bytes"
       ]
      },
      {
       "output_type": "stream",
       "stream": "stdout",
       "text": [
        "\n",
        "  Address is 2310 E 2100 S|Salt Lake City, UT 84109\n",
        "  Geocoded to {u'lat': 40.725568, u'lng': -111.824103}"
       ]
      },
      {
       "output_type": "stream",
       "stream": "stdout",
       "text": [
        "\n",
        "Trying to fetch store# 868 from http://www.mcpennsylvania.com/868\n",
        "  Read 9429 bytes"
       ]
      },
      {
       "output_type": "stream",
       "stream": "stdout",
       "text": [
        "\n",
        "  Store not found\n",
        "Trying to fetch store# 869 from http://www.mcpennsylvania.com/869\n",
        "  Read 9429 bytes"
       ]
      },
      {
       "output_type": "stream",
       "stream": "stdout",
       "text": [
        "\n",
        "  Store not found\n",
        "Trying to fetch store# 870 from http://www.mcpennsylvania.com/870\n",
        "  Read 15979 bytes"
       ]
      },
      {
       "output_type": "stream",
       "stream": "stdout",
       "text": [
        "\n",
        "  Address is 14601 S. Crawford|Midlothian, IL 60445\n",
        "  Geocoded to {u'lat': 41.6121437, u'lng': -87.7170726}"
       ]
      },
      {
       "output_type": "stream",
       "stream": "stdout",
       "text": [
        "\n",
        "Trying to fetch store# 871 from http://www.mcpennsylvania.com/871\n",
        "  Read 19533 bytes"
       ]
      },
      {
       "output_type": "stream",
       "stream": "stdout",
       "text": [
        "\n",
        "  Address is 3806 Brewerton Road|N. Syracuse, NY 13212\n",
        "  Geocoded to {u'lat': 43.1189298, u'lng': -76.14324049999999}"
       ]
      },
      {
       "output_type": "stream",
       "stream": "stdout",
       "text": [
        "\n",
        "Trying to fetch store# 872 from http://www.mcpennsylvania.com/872\n",
        "  Read 20118 bytes"
       ]
      },
      {
       "output_type": "stream",
       "stream": "stdout",
       "text": [
        "\n",
        "  Address is 410 State Highway 33|Trenton, NJ 08619\n",
        "  Geocoded to {u'lat': 40.2331064, u'lng': -74.6841766}"
       ]
      },
      {
       "output_type": "stream",
       "stream": "stdout",
       "text": [
        "\n",
        "Trying to fetch store# 873 from http://www.mcpennsylvania.com/873\n",
        "  Read 9429 bytes"
       ]
      },
      {
       "output_type": "stream",
       "stream": "stdout",
       "text": [
        "\n",
        "  Store not found\n",
        "Trying to fetch store# 874 from http://www.mcpennsylvania.com/874\n",
        "  Read 17457 bytes"
       ]
      },
      {
       "output_type": "stream",
       "stream": "stdout",
       "text": [
        "\n",
        "  Address is 1620 Strobridge Ave.|Castro Valley, CA 94546\n",
        "  Geocoded to {u'lat': 37.6920805, u'lng': -122.0897105}"
       ]
      },
      {
       "output_type": "stream",
       "stream": "stdout",
       "text": [
        "\n",
        "Trying to fetch store# 875 from http://www.mcpennsylvania.com/875\n",
        "  Read 17222 bytes"
       ]
      },
      {
       "output_type": "stream",
       "stream": "stdout",
       "text": [
        "\n",
        "  Address is 1244 Academy Blvd.|Colorado Springs, CO 80909\n",
        "  Geocoded to {u'lat': 38.8507555, u'lng': -104.7578544}"
       ]
      },
      {
       "output_type": "stream",
       "stream": "stdout",
       "text": [
        "\n",
        "Trying to fetch store# 876 from http://www.mcpennsylvania.com/876\n",
        "  Read 16727 bytes"
       ]
      },
      {
       "output_type": "stream",
       "stream": "stdout",
       "text": [
        "\n",
        "  Address is 5930 West Pico Blvd.|Los Angeles, CA 90035\n",
        "  Geocoded to {u'lat': 34.0516548, u'lng': -118.3690515}"
       ]
      },
      {
       "output_type": "stream",
       "stream": "stdout",
       "text": [
        "\n",
        "Trying to fetch store# 877 from http://www.mcpennsylvania.com/877\n",
        "  Read 20552 bytes"
       ]
      },
      {
       "output_type": "stream",
       "stream": "stdout",
       "text": [
        "\n",
        "  Address is 2720 Mount Ephraim Avenue|Camden, NJ 08104\n",
        "  Geocoded to {u'lat': 39.910599, u'lng': -75.09803699999999}"
       ]
      },
      {
       "output_type": "stream",
       "stream": "stdout",
       "text": [
        "\n",
        "Trying to fetch store# 878 from http://www.mcpennsylvania.com/878\n",
        "  Read 9429 bytes"
       ]
      },
      {
       "output_type": "stream",
       "stream": "stdout",
       "text": [
        "\n",
        "  Store not found\n",
        "Trying to fetch store# 879 from http://www.mcpennsylvania.com/879\n",
        "  Read 9429 bytes"
       ]
      },
      {
       "output_type": "stream",
       "stream": "stdout",
       "text": [
        "\n",
        "  Store not found\n",
        "Trying to fetch store# 880 from http://www.mcpennsylvania.com/880\n",
        "  Read 9429 bytes"
       ]
      },
      {
       "output_type": "stream",
       "stream": "stdout",
       "text": [
        "\n",
        "  Store not found\n",
        "Trying to fetch store# 881 from http://www.mcpennsylvania.com/881\n",
        "  Read 17077 bytes"
       ]
      },
      {
       "output_type": "stream",
       "stream": "stdout",
       "text": [
        "\n",
        "  Address is 1725 E Main St.|Richmond, IN 47374\n",
        "  Geocoded to {u'lat': 39.8293312, u'lng': -84.8786126}"
       ]
      },
      {
       "output_type": "stream",
       "stream": "stdout",
       "text": [
        "\n",
        "Wrote 510 locations to /Users/Ya/projects/mcdonalds/mcdonalds_locations.json\n",
        "Trying to fetch store# 882 from http://www.mcpennsylvania.com/882\n",
        "  Read 16659 bytes"
       ]
      },
      {
       "output_type": "stream",
       "stream": "stdout",
       "text": [
        "\n",
        "  Address is 8227 Liberty Road|Baltimore, MD 21244\n",
        "  Geocoded to {u'lat': 39.3557418, u'lng': -76.7650898}"
       ]
      },
      {
       "output_type": "stream",
       "stream": "stdout",
       "text": [
        "\n",
        "Trying to fetch store# 883 from http://www.mcpennsylvania.com/883\n",
        "  Read 18063 bytes"
       ]
      },
      {
       "output_type": "stream",
       "stream": "stdout",
       "text": [
        "\n",
        "  Address is 2137 MacArthur Road|Whitehall, PA 18052\n",
        "  Geocoded to {u'lat': 40.6360413, u'lng': -75.4876293}"
       ]
      },
      {
       "output_type": "stream",
       "stream": "stdout",
       "text": [
        "\n",
        "Trying to fetch store# 884 from http://www.mcpennsylvania.com/884\n",
        "  Read 9429 bytes"
       ]
      },
      {
       "output_type": "stream",
       "stream": "stdout",
       "text": [
        "\n",
        "  Store not found\n",
        "Trying to fetch store# 885 from http://www.mcpennsylvania.com/885\n",
        "  Read 17531 bytes"
       ]
      },
      {
       "output_type": "stream",
       "stream": "stdout",
       "text": [
        "\n",
        "  Address is 4545 W 38th St.|Indianapolis, IN 46254\n",
        "  Geocoded to {u'lat': 39.823259, u'lng': -86.23689499999999}"
       ]
      },
      {
       "output_type": "stream",
       "stream": "stdout",
       "text": [
        "\n",
        "Trying to fetch store# 886 from http://www.mcpennsylvania.com/886\n",
        "  Read 17582 bytes"
       ]
      },
      {
       "output_type": "stream",
       "stream": "stdout",
       "text": [
        "\n",
        "  Address is 804 East North Street|Rapid City, SD 57701\n",
        "  Geocoded to {u'lat': 44.08794959999999, u'lng': -103.1979319}"
       ]
      },
      {
       "output_type": "stream",
       "stream": "stdout",
       "text": [
        "\n",
        "Trying to fetch store# 887 from http://www.mcpennsylvania.com/887\n",
        "  Read 17113 bytes"
       ]
      },
      {
       "output_type": "stream",
       "stream": "stdout",
       "text": [
        "\n",
        "  Address is 2515 Main Street|Cedar Falls, IA 50613\n",
        "  Geocoded to {u'lat': 42.5143861, u'lng': -92.4462748}"
       ]
      },
      {
       "output_type": "stream",
       "stream": "stdout",
       "text": [
        "\n",
        "Trying to fetch store# 888 from http://www.mcpennsylvania.com/888\n",
        "  Read 17847 bytes"
       ]
      },
      {
       "output_type": "stream",
       "stream": "stdout",
       "text": [
        "\n",
        "  Address is 1480 Larkin St.|Elgin, IL 60123\n",
        "  Geocoded to {u'lat': 42.03505699999999, u'lng': -88.314162}"
       ]
      },
      {
       "output_type": "stream",
       "stream": "stdout",
       "text": [
        "\n",
        "Trying to fetch store# 889 from http://www.mcpennsylvania.com/889\n",
        "  Read 9429 bytes"
       ]
      },
      {
       "output_type": "stream",
       "stream": "stdout",
       "text": [
        "\n",
        "  Store not found\n",
        "Trying to fetch store# 890 from http://www.mcpennsylvania.com/890\n",
        "  Read 17518 bytes"
       ]
      },
      {
       "output_type": "stream",
       "stream": "stdout",
       "text": [
        "\n",
        "  Address is 340 Main Ave.|Norwalk, CT 06851\n",
        "  Geocoded to {u'lat': 41.137656, u'lng': -73.4249899}"
       ]
      },
      {
       "output_type": "stream",
       "stream": "stdout",
       "text": [
        "\n",
        "Trying to fetch store# 891 from http://www.mcpennsylvania.com/891\n",
        "  Read 17019 bytes"
       ]
      },
      {
       "output_type": "stream",
       "stream": "stdout",
       "text": [
        "\n",
        "  Address is 1013 Court Street|Pekin, IL 61554\n",
        "  Geocoded to {u'lat': 40.5656727, u'lng': -89.6368377}"
       ]
      },
      {
       "output_type": "stream",
       "stream": "stdout",
       "text": [
        "\n",
        "Trying to fetch store# 892 from http://www.mcpennsylvania.com/892\n",
        "  Read 16829 bytes"
       ]
      },
      {
       "output_type": "stream",
       "stream": "stdout",
       "text": [
        "\n",
        "  Address is 9001 Centreville Road|Manassas, VA 22110\n",
        "  Geocoded to {u'lat': 38.7598278, u'lng': -77.4614015}"
       ]
      },
      {
       "output_type": "stream",
       "stream": "stdout",
       "text": [
        "\n",
        "Trying to fetch store# 893 from http://www.mcpennsylvania.com/893\n",
        "  Read 9429 bytes"
       ]
      },
      {
       "output_type": "stream",
       "stream": "stdout",
       "text": [
        "\n",
        "  Store not found\n",
        "Trying to fetch store# 894 from http://www.mcpennsylvania.com/894\n",
        "  Read 18156 bytes"
       ]
      },
      {
       "output_type": "stream",
       "stream": "stdout",
       "text": [
        "\n",
        "  Address is 1006 Central Ave.|Albany, NY 12205\n",
        "  Geocoded to {u'lat': 42.683448, u'lng': -73.7946929}"
       ]
      },
      {
       "output_type": "stream",
       "stream": "stdout",
       "text": [
        "\n",
        "Wrote 520 locations to /Users/Ya/projects/mcdonalds/mcdonalds_locations.json\n",
        "Trying to fetch store# 895 from http://www.mcpennsylvania.com/895\n",
        "  Read 9429 bytes"
       ]
      },
      {
       "output_type": "stream",
       "stream": "stdout",
       "text": [
        "\n",
        "  Store not found\n",
        "Trying to fetch store# 896 from http://www.mcpennsylvania.com/896\n",
        "  Read 9429 bytes"
       ]
      },
      {
       "output_type": "stream",
       "stream": "stdout",
       "text": [
        "\n",
        "  Store not found\n",
        "Trying to fetch store# 897 from http://www.mcpennsylvania.com/897\n",
        "  Read 17113 bytes"
       ]
      },
      {
       "output_type": "stream",
       "stream": "stdout",
       "text": [
        "\n",
        "  Address is 1443 E. 87th St.|Chicago, IL 60619\n",
        "  Geocoded to {u'lat': 41.73655919999999, u'lng': -87.5888325}"
       ]
      },
      {
       "output_type": "stream",
       "stream": "stdout",
       "text": [
        "\n",
        "Trying to fetch store# 898 from http://www.mcpennsylvania.com/898\n",
        "  Read 26804 bytes"
       ]
      },
      {
       "output_type": "stream",
       "stream": "stdout",
       "text": [
        "\n",
        "  Address is 502 Reisterstown Road|Baltimore, MD 21208\n",
        "  Geocoded to {u'lat': 39.36745790000001, u'lng': -76.71657859999999}"
       ]
      },
      {
       "output_type": "stream",
       "stream": "stdout",
       "text": [
        "\n",
        "Trying to fetch store# 899 from http://www.mcpennsylvania.com/899\n",
        "  Read 9429 bytes"
       ]
      },
      {
       "output_type": "stream",
       "stream": "stdout",
       "text": [
        "\n",
        "  Store not found\n",
        "Trying to fetch store# 900 from http://www.mcpennsylvania.com/900\n",
        "  Read 16965 bytes"
       ]
      },
      {
       "output_type": "stream",
       "stream": "stdout",
       "text": [
        "\n",
        "  Address is 1003 E. Lake Mead Blvd.|North Las Vegas, NV 89030\n",
        "  Geocoded to {u'lat': 36.1954663, u'lng': -115.1285385}"
       ]
      },
      {
       "output_type": "stream",
       "stream": "stdout",
       "text": [
        "\n",
        "Trying to fetch store# 901 from http://www.mcpennsylvania.com/901\n",
        "  Read 17310 bytes"
       ]
      },
      {
       "output_type": "stream",
       "stream": "stdout",
       "text": [
        "\n",
        "  Address is 1326 East Colorado Blvd.|Glendale, CA 91205\n",
        "  Geocoded to {u'lat': 34.1426763, u'lng': -118.2364734}"
       ]
      },
      {
       "output_type": "stream",
       "stream": "stdout",
       "text": [
        "\n",
        "Trying to fetch store# 902 from http://www.mcpennsylvania.com/902\n",
        "  Read 9429 bytes"
       ]
      },
      {
       "output_type": "stream",
       "stream": "stdout",
       "text": [
        "\n",
        "  Store not found\n",
        "Trying to fetch store# 903 from http://www.mcpennsylvania.com/903\n",
        "  Read 19450 bytes"
       ]
      },
      {
       "output_type": "stream",
       "stream": "stdout",
       "text": [
        "\n",
        "  Address is 1122 East Huntington Drive|Duarte, CA 91010\n",
        "  Geocoded to {u'lat': 34.1392098, u'lng': -117.98093}"
       ]
      },
      {
       "output_type": "stream",
       "stream": "stdout",
       "text": [
        "\n",
        "Trying to fetch store# 904 from http://www.mcpennsylvania.com/904\n",
        "  Read 16830 bytes"
       ]
      },
      {
       "output_type": "stream",
       "stream": "stdout",
       "text": [
        "\n",
        "  Address is 265 W Oakland Pk. Blvd.|Oakland Park, FL 33311\n",
        "  Geocoded to {u'lat': 26.166776, u'lng': -80.148788}"
       ]
      },
      {
       "output_type": "stream",
       "stream": "stdout",
       "text": [
        "\n",
        "Trying to fetch store# 905 from http://www.mcpennsylvania.com/905\n",
        "  Read 17938 bytes"
       ]
      },
      {
       "output_type": "stream",
       "stream": "stdout",
       "text": [
        "\n",
        "  Address is 1420 West Manchester Blvd.|Los Angeles, CA 90047\n",
        "  Geocoded to {u'lat': 33.959672, u'lng': -118.301066}"
       ]
      },
      {
       "output_type": "stream",
       "stream": "stdout",
       "text": [
        "\n",
        "Trying to fetch store# 906 from http://www.mcpennsylvania.com/906\n",
        "  Read 9429 bytes"
       ]
      },
      {
       "output_type": "stream",
       "stream": "stdout",
       "text": [
        "\n",
        "  Store not found\n",
        "Trying to fetch store# 907 from http://www.mcpennsylvania.com/907\n",
        "  Read 9429 bytes"
       ]
      },
      {
       "output_type": "stream",
       "stream": "stdout",
       "text": [
        "\n",
        "  Store not found\n",
        "Trying to fetch store# 908 from http://www.mcpennsylvania.com/908\n",
        "  Read 17826 bytes"
       ]
      },
      {
       "output_type": "stream",
       "stream": "stdout",
       "text": [
        "\n",
        "  Address is 6412 North Telegraph Road|Dearborn Heights, MI 48127\n",
        "  Geocoded to {u'lat': 42.33460230000001, u'lng': -83.27235189999999}"
       ]
      },
      {
       "output_type": "stream",
       "stream": "stdout",
       "text": [
        "\n",
        "Trying to fetch store# 909 from http://www.mcpennsylvania.com/909\n",
        "  Read 18705 bytes"
       ]
      },
      {
       "output_type": "stream",
       "stream": "stdout",
       "text": [
        "\n",
        "  Address is 4105 Morningside Avenue|Sioux City, IA 51106\n",
        "  Geocoded to {u'lat': 42.4710827, u'lng': -96.3542954}"
       ]
      },
      {
       "output_type": "stream",
       "stream": "stdout",
       "text": [
        "\n",
        "Trying to fetch store# 910 from http://www.mcpennsylvania.com/910\n",
        "  Read 17036 bytes"
       ]
      },
      {
       "output_type": "stream",
       "stream": "stdout",
       "text": [
        "\n",
        "  Address is 11 N. First Ave.|Maywood, IL 60153\n",
        "  Geocoded to {u'lat': 41.8882771, u'lng': -87.8334915}"
       ]
      },
      {
       "output_type": "stream",
       "stream": "stdout",
       "text": [
        "\n",
        "Wrote 530 locations to /Users/Ya/projects/mcdonalds/mcdonalds_locations.json\n",
        "Trying to fetch store# 911 from http://www.mcpennsylvania.com/911\n",
        "  Read 16556 bytes"
       ]
      },
      {
       "output_type": "stream",
       "stream": "stdout",
       "text": [
        "\n",
        "  Address is 6704 Chavez  Lane|Forestville, MD 20747\n",
        "  Geocoded to {u'lat': 38.844552, u'lng': -76.890721}"
       ]
      },
      {
       "output_type": "stream",
       "stream": "stdout",
       "text": [
        "\n",
        "Trying to fetch store# 912 from http://www.mcpennsylvania.com/912\n",
        "  Read 14907 bytes"
       ]
      },
      {
       "output_type": "stream",
       "stream": "stdout",
       "text": [
        "\n",
        "  Address is 2635 N. Clark St.|Chicago, IL 60614\n",
        "  Geocoded to {u'lat': 41.93076629999999, u'lng': -87.6433685}"
       ]
      },
      {
       "output_type": "stream",
       "stream": "stdout",
       "text": [
        "\n",
        "Trying to fetch store# 913 from http://www.mcpennsylvania.com/913\n",
        "  Read 9429 bytes"
       ]
      },
      {
       "output_type": "stream",
       "stream": "stdout",
       "text": [
        "\n",
        "  Store not found\n",
        "Trying to fetch store# 914 from http://www.mcpennsylvania.com/914\n",
        "  Read 9429 bytes"
       ]
      },
      {
       "output_type": "stream",
       "stream": "stdout",
       "text": [
        "\n",
        "  Store not found\n",
        "Trying to fetch store# 915 from http://www.mcpennsylvania.com/915\n",
        "  Read 9429 bytes"
       ]
      },
      {
       "output_type": "stream",
       "stream": "stdout",
       "text": [
        "\n",
        "  Store not found\n",
        "Trying to fetch store# 916 from http://www.mcpennsylvania.com/916\n",
        "  Read 17251 bytes"
       ]
      },
      {
       "output_type": "stream",
       "stream": "stdout",
       "text": [
        "\n",
        "  Address is 663 Washington Ave.|Belleville, NJ 07109\n",
        "  Geocoded to {u'lat': 40.8033575, u'lng': -74.1462671}"
       ]
      },
      {
       "output_type": "stream",
       "stream": "stdout",
       "text": [
        "\n",
        "Trying to fetch store# 917 from http://www.mcpennsylvania.com/917\n",
        "  Read 18341 bytes"
       ]
      },
      {
       "output_type": "stream",
       "stream": "stdout",
       "text": [
        "\n",
        "  Address is 619 Broadway|Chula Vista, CA 91910\n",
        "  Geocoded to {u'lat': 32.626973, u'lng': -117.087417}"
       ]
      },
      {
       "output_type": "stream",
       "stream": "stdout",
       "text": [
        "\n",
        "Trying to fetch store# 918 from http://www.mcpennsylvania.com/918\n",
        "  Read 16922 bytes"
       ]
      },
      {
       "output_type": "stream",
       "stream": "stdout",
       "text": [
        "\n",
        "  Address is 3013 Columbia Pike|Arlington, VA 22204\n",
        "  Geocoded to {u'lat': 38.8626484, u'lng': -77.08852569999999}"
       ]
      },
      {
       "output_type": "stream",
       "stream": "stdout",
       "text": [
        "\n",
        "Trying to fetch store# 919 from http://www.mcpennsylvania.com/919\n",
        "  Read 17780 bytes"
       ]
      },
      {
       "output_type": "stream",
       "stream": "stdout",
       "text": [
        "\n",
        "  Address is 1411 Madison Ave.|Mankato, MN 56001\n",
        "  Geocoded to {u'lat': 44.1665742, u'lng': -93.9713513}"
       ]
      },
      {
       "output_type": "stream",
       "stream": "stdout",
       "text": [
        "\n",
        "Trying to fetch store# 920 from http://www.mcpennsylvania.com/920\n",
        "  Read 9429 bytes"
       ]
      },
      {
       "output_type": "stream",
       "stream": "stdout",
       "text": [
        "\n",
        "  Store not found\n",
        "Trying to fetch store# 921 from http://www.mcpennsylvania.com/921\n",
        "  Read 17484 bytes"
       ]
      },
      {
       "output_type": "stream",
       "stream": "stdout",
       "text": [
        "\n",
        "  Address is 400 Lancaster Avenue|Reading, PA 19611\n",
        "  Geocoded to {u'lat': 40.321088, u'lng': -75.9345769}"
       ]
      },
      {
       "output_type": "stream",
       "stream": "stdout",
       "text": [
        "\n",
        "Trying to fetch store# 922 from http://www.mcpennsylvania.com/922\n",
        "  Read 17936 bytes"
       ]
      },
      {
       "output_type": "stream",
       "stream": "stdout",
       "text": [
        "\n",
        "  Address is 531 Baltimore Pike|Clifton Heights, PA 19018\n",
        "  Geocoded to {u'lat': 39.926278, u'lng': -75.30603909999999}"
       ]
      },
      {
       "output_type": "stream",
       "stream": "stdout",
       "text": [
        "\n",
        "Trying to fetch store# 923 from http://www.mcpennsylvania.com/923\n",
        "  Read 9429 bytes"
       ]
      },
      {
       "output_type": "stream",
       "stream": "stdout",
       "text": [
        "\n",
        "  Store not found\n",
        "Trying to fetch store# 924 from http://www.mcpennsylvania.com/924\n",
        "  Read 16643 bytes"
       ]
      },
      {
       "output_type": "stream",
       "stream": "stdout",
       "text": [
        "\n",
        "  Address is 5835 Hollywood Blvd.|Hollywood, FL 33021\n",
        "  Geocoded to {u'lat': 26.0105437, u'lng': -80.2049821}"
       ]
      },
      {
       "output_type": "stream",
       "stream": "stdout",
       "text": [
        "\n",
        "Trying to fetch store# 925 from http://www.mcpennsylvania.com/925\n",
        "  Read 17709 bytes"
       ]
      },
      {
       "output_type": "stream",
       "stream": "stdout",
       "text": [
        "\n",
        "  Address is 321 West Trenton Avenue|Morrisville, PA 19067\n",
        "  Geocoded to {u'lat': 40.2104503, u'lng': -74.7951137}"
       ]
      },
      {
       "output_type": "stream",
       "stream": "stdout",
       "text": [
        "\n",
        "Wrote 540 locations to /Users/Ya/projects/mcdonalds/mcdonalds_locations.json\n",
        "Trying to fetch store# 926 from http://www.mcpennsylvania.com/926\n",
        "  Read 9429 bytes"
       ]
      },
      {
       "output_type": "stream",
       "stream": "stdout",
       "text": [
        "\n",
        "  Store not found\n",
        "Trying to fetch store# 927 from http://www.mcpennsylvania.com/927\n",
        "  Read 17084 bytes"
       ]
      },
      {
       "output_type": "stream",
       "stream": "stdout",
       "text": [
        "\n",
        "  Address is 460 Hialeah Dr.|Hialeah, FL 33012\n",
        "  Geocoded to {u'lat': 25.8225617, u'lng': -80.2719164}"
       ]
      },
      {
       "output_type": "stream",
       "stream": "stdout",
       "text": [
        "\n",
        "Trying to fetch store# 928 from http://www.mcpennsylvania.com/928\n",
        "  Read 9429 bytes"
       ]
      },
      {
       "output_type": "stream",
       "stream": "stdout",
       "text": [
        "\n",
        "  Store not found\n",
        "Trying to fetch store# 929 from http://www.mcpennsylvania.com/929\n",
        "  Read 9429 bytes"
       ]
      },
      {
       "output_type": "stream",
       "stream": "stdout",
       "text": [
        "\n",
        "  Store not found\n",
        "Trying to fetch store# 930 from http://www.mcpennsylvania.com/930\n",
        "  Read 17363 bytes"
       ]
      },
      {
       "output_type": "stream",
       "stream": "stdout",
       "text": [
        "\n",
        "  Address is 2303 East Florence Avenue|Huntington Park, CA 90255\n",
        "  Geocoded to {u'lat': 33.975062, u'lng': -118.231177}"
       ]
      },
      {
       "output_type": "stream",
       "stream": "stdout",
       "text": [
        "\n",
        "Trying to fetch store# 931 from http://www.mcpennsylvania.com/931\n",
        "  Read 9429 bytes"
       ]
      },
      {
       "output_type": "stream",
       "stream": "stdout",
       "text": [
        "\n",
        "  Store not found\n",
        "Trying to fetch store# 932 from http://www.mcpennsylvania.com/932\n",
        "  Read 17711 bytes"
       ]
      },
      {
       "output_type": "stream",
       "stream": "stdout",
       "text": [
        "\n",
        "  Address is 225 South Broadway|Salem, NH 03079\n",
        "  Geocoded to {u'lat': 42.7637502, u'lng': -71.2161871}"
       ]
      },
      {
       "output_type": "stream",
       "stream": "stdout",
       "text": [
        "\n",
        "Trying to fetch store# 933 from http://www.mcpennsylvania.com/933\n",
        "  Read 17829 bytes"
       ]
      },
      {
       "output_type": "stream",
       "stream": "stdout",
       "text": [
        "\n",
        "  Address is 1515 Johnson Rd|Granite City, IL 62040\n",
        "  Geocoded to {u'lat': 38.7235974, u'lng': -90.12145459999999}"
       ]
      },
      {
       "output_type": "stream",
       "stream": "stdout",
       "text": [
        "\n",
        "Trying to fetch store# 934 from http://www.mcpennsylvania.com/934\n",
        "  Read 9429 bytes"
       ]
      },
      {
       "output_type": "stream",
       "stream": "stdout",
       "text": [
        "\n",
        "  Store not found\n",
        "Trying to fetch store# 935 from http://www.mcpennsylvania.com/935\n",
        "  Read 18336 bytes"
       ]
      },
      {
       "output_type": "stream",
       "stream": "stdout",
       "text": [
        "\n",
        "  Address is 1739 N. Keyser Ave.|Scranton, PA 18508\n",
        "  Geocoded to {u'lat': 41.4453196, u'lng': -75.669646}"
       ]
      },
      {
       "output_type": "stream",
       "stream": "stdout",
       "text": [
        "\n",
        "Trying to fetch store# 936 from http://www.mcpennsylvania.com/936\n",
        "  Read 17303 bytes"
       ]
      },
      {
       "output_type": "stream",
       "stream": "stdout",
       "text": [
        "\n",
        "  Address is 1 West Camden Avenue|Moorestown, NJ 08057\n",
        "  Geocoded to {u'lat': 39.9579656, u'lng': -74.97958779999999}"
       ]
      },
      {
       "output_type": "stream",
       "stream": "stdout",
       "text": [
        "\n",
        "Trying to fetch store# 937 from http://www.mcpennsylvania.com/937\n",
        "  Read 9429 bytes"
       ]
      },
      {
       "output_type": "stream",
       "stream": "stdout",
       "text": [
        "\n",
        "  Store not found\n",
        "Trying to fetch store# 938 from http://www.mcpennsylvania.com/938\n",
        "  Read 18764 bytes"
       ]
      },
      {
       "output_type": "stream",
       "stream": "stdout",
       "text": [
        "\n",
        "  Address is 3210 West Lincoln Avenue|Anaheim, CA 92801\n",
        "  Geocoded to {u'lat': 33.8316632, u'lng': -118.0030816}"
       ]
      },
      {
       "output_type": "stream",
       "stream": "stdout",
       "text": [
        "\n",
        "Trying to fetch store# 939 from http://www.mcpennsylvania.com/939\n",
        "  Read 16778 bytes"
       ]
      },
      {
       "output_type": "stream",
       "stream": "stdout",
       "text": [
        "\n",
        "  Address is 14823 E. 14th St.|San Leandro, CA 94578\n",
        "  Geocoded to {u'lat': 37.707855, u'lng': -122.1328704}"
       ]
      },
      {
       "output_type": "stream",
       "stream": "stdout",
       "text": [
        "\n",
        "Trying to fetch store# 940 from http://www.mcpennsylvania.com/940\n",
        "  Read 16807 bytes"
       ]
      },
      {
       "output_type": "stream",
       "stream": "stdout",
       "text": [
        "\n",
        "  Address is 769 Montauk Hwy|East Patchogue, NY 11772\n",
        "  Geocoded to {u'lat': 40.7679049, u'lng': -72.9867459}"
       ]
      },
      {
       "output_type": "stream",
       "stream": "stdout",
       "text": [
        "\n",
        "Trying to fetch store# 941 from http://www.mcpennsylvania.com/941\n",
        "  Read 16520 bytes"
       ]
      },
      {
       "output_type": "stream",
       "stream": "stdout",
       "text": [
        "\n",
        "  Address is 1245 Bardstown Rd.|Louisville, KY 40204\n",
        "  Geocoded to {u'lat': 38.2367119, u'lng': -85.7172393}"
       ]
      },
      {
       "output_type": "stream",
       "stream": "stdout",
       "text": [
        "\n",
        "Wrote 550 locations to /Users/Ya/projects/mcdonalds/mcdonalds_locations.json\n",
        "Trying to fetch store# 942 from http://www.mcpennsylvania.com/942\n",
        "  Read 17014 bytes"
       ]
      },
      {
       "output_type": "stream",
       "stream": "stdout",
       "text": [
        "\n",
        "  Address is 716 Fair Oaks Avenue|South Pasadena, CA 91030\n",
        "  Geocoded to {u'lat': 34.117421, u'lng': -118.149902}"
       ]
      },
      {
       "output_type": "stream",
       "stream": "stdout",
       "text": [
        "\n",
        "Trying to fetch store# 943 from http://www.mcpennsylvania.com/943\n",
        "  Read 16639 bytes"
       ]
      },
      {
       "output_type": "stream",
       "stream": "stdout",
       "text": [
        "\n",
        "  Address is 6219 Greenbelt Road|Berwyn Heights, MD 20740\n",
        "  Geocoded to {u'lat': 38.996347, u'lng': -76.905377}"
       ]
      },
      {
       "output_type": "stream",
       "stream": "stdout",
       "text": [
        "\n",
        "Trying to fetch store# 944 from http://www.mcpennsylvania.com/944\n",
        "  Read 17721 bytes"
       ]
      },
      {
       "output_type": "stream",
       "stream": "stdout",
       "text": [
        "\n",
        "  Address is 2929 Peachtree Road|Atlanta, GA 30305\n",
        "  Geocoded to {u'lat': 33.8348085, u'lng': -84.38247609999999}"
       ]
      },
      {
       "output_type": "stream",
       "stream": "stdout",
       "text": [
        "\n",
        "Trying to fetch store# 945 from http://www.mcpennsylvania.com/945\n",
        "  Read 18449 bytes"
       ]
      },
      {
       "output_type": "stream",
       "stream": "stdout",
       "text": [
        "\n",
        "  Address is 611 W Abram St|Arlington, TX 76010\n",
        "  Geocoded to {u'lat': 32.7360477, u'lng': -97.11374099999999}"
       ]
      },
      {
       "output_type": "stream",
       "stream": "stdout",
       "text": [
        "\n",
        "Trying to fetch store# 946 from http://www.mcpennsylvania.com/946\n",
        "  Read 9429 bytes"
       ]
      },
      {
       "output_type": "stream",
       "stream": "stdout",
       "text": [
        "\n",
        "  Store not found\n",
        "Trying to fetch store# 947 from http://www.mcpennsylvania.com/947\n",
        "  Read 16519 bytes"
       ]
      },
      {
       "output_type": "stream",
       "stream": "stdout",
       "text": [
        "\n",
        "  Address is 11055 Burbank Blvd|Los Angeles, CA 91601\n",
        "  Geocoded to {u'lat': 34.1724239, u'lng': -118.3723008}"
       ]
      },
      {
       "output_type": "stream",
       "stream": "stdout",
       "text": [
        "\n",
        "Trying to fetch store# 948 from http://www.mcpennsylvania.com/948\n",
        "  Read 19427 bytes"
       ]
      },
      {
       "output_type": "stream",
       "stream": "stdout",
       "text": [
        "\n",
        "  Address is 2861 E Foothill Blvd|Pasadena, CA 91107\n",
        "  Geocoded to {u'lat': 34.1502089, u'lng': -118.091386}"
       ]
      },
      {
       "output_type": "stream",
       "stream": "stdout",
       "text": [
        "\n",
        "Trying to fetch store# 949 from http://www.mcpennsylvania.com/949\n",
        "  Read 17670 bytes"
       ]
      },
      {
       "output_type": "stream",
       "stream": "stdout",
       "text": [
        "\n",
        "  Address is Newton Rd and Rt 6|Danbury, CT 06810\n",
        "  Geocoded to {u'lat': 41.4069741, u'lng': -73.4437938}"
       ]
      },
      {
       "output_type": "stream",
       "stream": "stdout",
       "text": [
        "\n",
        "Trying to fetch store# 950 from http://www.mcpennsylvania.com/950\n",
        "  Read 9429 bytes"
       ]
      },
      {
       "output_type": "stream",
       "stream": "stdout",
       "text": [
        "\n",
        "  Store not found\n",
        "Trying to fetch store# 951 from http://www.mcpennsylvania.com/951\n",
        "  Read 16526 bytes"
       ]
      },
      {
       "output_type": "stream",
       "stream": "stdout",
       "text": [
        "\n",
        "  Address is 1406 N. 18th St.|Monroe, LA 71201\n",
        "  Geocoded to {u'lat': 32.523885, u'lng': -92.112343}"
       ]
      },
      {
       "output_type": "stream",
       "stream": "stdout",
       "text": [
        "\n",
        "Trying to fetch store# 952 from http://www.mcpennsylvania.com/952\n",
        "  Read 18118 bytes"
       ]
      },
      {
       "output_type": "stream",
       "stream": "stdout",
       "text": [
        "\n",
        "  Address is 4301 Market St.|Wilmington, NC 28405\n",
        "  Geocoded to {u'lat': 34.2429565, u'lng': -77.89165340000001}"
       ]
      },
      {
       "output_type": "stream",
       "stream": "stdout",
       "text": [
        "\n",
        "Trying to fetch store# 953 from http://www.mcpennsylvania.com/953\n",
        "  Read 17065 bytes"
       ]
      },
      {
       "output_type": "stream",
       "stream": "stdout",
       "text": [
        "\n",
        "  Address is 73 Rainier Ave. S|Renton, WA 98055\n",
        "  Geocoded to {u'lat': 47.4841129, u'lng': -122.2179111}"
       ]
      },
      {
       "output_type": "stream",
       "stream": "stdout",
       "text": [
        "\n",
        "Wrote 560 locations to /Users/Ya/projects/mcdonalds/mcdonalds_locations.json\n",
        "Trying to fetch store# 954 from http://www.mcpennsylvania.com/954\n",
        "  Read 9429 bytes"
       ]
      },
      {
       "output_type": "stream",
       "stream": "stdout",
       "text": [
        "\n",
        "  Store not found\n",
        "Trying to fetch store# 955 from http://www.mcpennsylvania.com/955\n",
        "  Read 9429 bytes"
       ]
      },
      {
       "output_type": "stream",
       "stream": "stdout",
       "text": [
        "\n",
        "  Store not found\n",
        "Trying to fetch store# 956 from http://www.mcpennsylvania.com/956\n",
        "  Read 9429 bytes"
       ]
      },
      {
       "output_type": "stream",
       "stream": "stdout",
       "text": [
        "\n",
        "  Store not found\n",
        "Trying to fetch store# 957 from http://www.mcpennsylvania.com/957\n",
        "  Read 9429 bytes"
       ]
      },
      {
       "output_type": "stream",
       "stream": "stdout",
       "text": [
        "\n",
        "  Store not found\n",
        "Trying to fetch store# 958 from http://www.mcpennsylvania.com/958\n",
        "  Read 18301 bytes"
       ]
      },
      {
       "output_type": "stream",
       "stream": "stdout",
       "text": [
        "\n",
        "  Address is 3873 S. Division Ave.|Wyoming, MI 49548\n",
        "  Geocoded to {u'lat': 42.89371329999999, u'lng': -85.6658131}"
       ]
      },
      {
       "output_type": "stream",
       "stream": "stdout",
       "text": [
        "\n",
        "Trying to fetch store# 959 from http://www.mcpennsylvania.com/959\n",
        "  Read 17387 bytes"
       ]
      },
      {
       "output_type": "stream",
       "stream": "stdout",
       "text": [
        "\n",
        "  Address is 4835 South Sepulveda Blvd.|Culver City, CA 90230\n",
        "  Geocoded to {u'lat': 34.000282, u'lng': -118.402876}"
       ]
      },
      {
       "output_type": "stream",
       "stream": "stdout",
       "text": [
        "\n",
        "Trying to fetch store# 960 from http://www.mcpennsylvania.com/960\n",
        "  Read 9429 bytes"
       ]
      },
      {
       "output_type": "stream",
       "stream": "stdout",
       "text": [
        "\n",
        "  Store not found\n",
        "Trying to fetch store# 961 from http://www.mcpennsylvania.com/961\n",
        "  Read 17053 bytes"
       ]
      },
      {
       "output_type": "stream",
       "stream": "stdout",
       "text": [
        "\n",
        "  Address is 6437 Columbia Ave.|Hammond, IN 46320\n",
        "  Geocoded to {u'lat': 41.596108, u'lng': -87.499696}"
       ]
      },
      {
       "output_type": "stream",
       "stream": "stdout",
       "text": [
        "\n",
        "Trying to fetch store# 962 from http://www.mcpennsylvania.com/962\n",
        "  Read 17601 bytes"
       ]
      },
      {
       "output_type": "stream",
       "stream": "stdout",
       "text": [
        "\n",
        "  Address is 5425 Arlington Avenue|Riverside, CA 92504\n",
        "  Geocoded to {u'lat': 33.9464355, u'lng': -117.4215334}"
       ]
      },
      {
       "output_type": "stream",
       "stream": "stdout",
       "text": [
        "\n",
        "Trying to fetch store# 963 from http://www.mcpennsylvania.com/963\n",
        "  Read 9429 bytes"
       ]
      },
      {
       "output_type": "stream",
       "stream": "stdout",
       "text": [
        "\n",
        "  Store not found\n",
        "Trying to fetch store# 964 from http://www.mcpennsylvania.com/964\n",
        "  Read 9429 bytes"
       ]
      },
      {
       "output_type": "stream",
       "stream": "stdout",
       "text": [
        "\n",
        "  Store not found\n",
        "Trying to fetch store# 965 from http://www.mcpennsylvania.com/965\n",
        "  Read 17596 bytes"
       ]
      },
      {
       "output_type": "stream",
       "stream": "stdout",
       "text": [
        "\n",
        "  Address is 2633 W. State Street|Bristol, TN 37620\n",
        "  Geocoded to {u'lat': 36.5948827, u'lng': -82.2140944}"
       ]
      },
      {
       "output_type": "stream",
       "stream": "stdout",
       "text": [
        "\n",
        "Trying to fetch store# 966 from http://www.mcpennsylvania.com/966\n",
        "  Read 17395 bytes"
       ]
      },
      {
       "output_type": "stream",
       "stream": "stdout",
       "text": [
        "\n",
        "  Address is 90 Main St.|Toledo, OH 43605\n",
        "  Geocoded to {u'lat': 41.64858419999999, u'lng': -83.524202}"
       ]
      },
      {
       "output_type": "stream",
       "stream": "stdout",
       "text": [
        "\n",
        "Trying to fetch store# 967 from http://www.mcpennsylvania.com/967\n",
        "  Read 18593 bytes"
       ]
      },
      {
       "output_type": "stream",
       "stream": "stdout",
       "text": [
        "\n",
        "  Address is 1450 White Hall Road|Annapolis, MD 21401\n",
        "  Geocoded to {u'lat': 39.0259256, u'lng': -76.4443282}"
       ]
      },
      {
       "output_type": "stream",
       "stream": "stdout",
       "text": [
        "\n",
        "Trying to fetch store# 968 from http://www.mcpennsylvania.com/968\n",
        "  Read 19692 bytes"
       ]
      },
      {
       "output_type": "stream",
       "stream": "stdout",
       "text": [
        "\n",
        "  Address is 544 Maple Ave, West|Vienna, VA 22181\n",
        "  Geocoded to {u'lat': 38.89303, u'lng': -77.274907}"
       ]
      },
      {
       "output_type": "stream",
       "stream": "stdout",
       "text": [
        "\n",
        "Trying to fetch store# 969 from http://www.mcpennsylvania.com/969\n",
        "  Read 23389 bytes"
       ]
      },
      {
       "output_type": "stream",
       "stream": "stdout",
       "text": [
        "\n",
        "  Address is 1009 N. Wilson Way|Stockton, CA 95205\n",
        "  Geocoded to {u'lat': 37.9659375, u'lng': -121.2746583}"
       ]
      },
      {
       "output_type": "stream",
       "stream": "stdout",
       "text": [
        "\n",
        "Trying to fetch store# 970 from http://www.mcpennsylvania.com/970\n",
        "  Read 18130 bytes"
       ]
      },
      {
       "output_type": "stream",
       "stream": "stdout",
       "text": [
        "\n",
        "  Address is 1419 West Redondo Beach Blvd.|Gardena, CA 90247\n",
        "  Geocoded to {u'lat': 33.8909933, u'lng': -118.3015796}"
       ]
      },
      {
       "output_type": "stream",
       "stream": "stdout",
       "text": [
        "\n",
        "Wrote 570 locations to /Users/Ya/projects/mcdonalds/mcdonalds_locations.json\n",
        "Trying to fetch store# 971 from http://www.mcpennsylvania.com/971\n",
        "  Read 16929 bytes"
       ]
      },
      {
       "output_type": "stream",
       "stream": "stdout",
       "text": [
        "\n",
        "  Address is 950 West Floral Drive|Monterey Park, CA 91754\n",
        "  Geocoded to {u'lat': 34.03978, u'lng': -118.1443552}"
       ]
      },
      {
       "output_type": "stream",
       "stream": "stdout",
       "text": [
        "\n",
        "Trying to fetch store# 972 from http://www.mcpennsylvania.com/972\n",
        "  Read 9429 bytes"
       ]
      },
      {
       "output_type": "stream",
       "stream": "stdout",
       "text": [
        "\n",
        "  Store not found\n",
        "Trying to fetch store# 973 from http://www.mcpennsylvania.com/973\n",
        "  Read 17609 bytes"
       ]
      },
      {
       "output_type": "stream",
       "stream": "stdout",
       "text": [
        "\n",
        "  Address is 2434 AlMaden Rd.|San Jose, CA 95125\n",
        "  Geocoded to {u'lat': 37.2900008, u'lng': -121.8807448}"
       ]
      },
      {
       "output_type": "stream",
       "stream": "stdout",
       "text": [
        "\n",
        "Trying to fetch store# 974 from http://www.mcpennsylvania.com/974\n",
        "  Read 17897 bytes"
       ]
      },
      {
       "output_type": "stream",
       "stream": "stdout",
       "text": [
        "\n",
        "  Address is 8840 North Painter Avenue|Whittier, CA 90602\n",
        "  Geocoded to {u'lat': 33.9570309, u'lng': -118.0385021}"
       ]
      },
      {
       "output_type": "stream",
       "stream": "stdout",
       "text": [
        "\n",
        "Trying to fetch store# 975 from http://www.mcpennsylvania.com/975\n",
        "  Read 17718 bytes"
       ]
      },
      {
       "output_type": "stream",
       "stream": "stdout",
       "text": [
        "\n",
        "  Address is 3815 S. Maryland Pky|Las Vegas, NV 89109\n",
        "  Geocoded to {u'lat': 36.1200201, u'lng': -115.1380273}"
       ]
      },
      {
       "output_type": "stream",
       "stream": "stdout",
       "text": [
        "\n",
        "Trying to fetch store# 976 from http://www.mcpennsylvania.com/976\n",
        "  Read 16308 bytes"
       ]
      },
      {
       "output_type": "stream",
       "stream": "stdout",
       "text": [
        "\n",
        "  Address is 191 W Layton Ave|Milwaukee, WI 53207\n",
        "  Geocoded to {u'lat': 42.958787, u'lng': -87.91319000000001}"
       ]
      },
      {
       "output_type": "stream",
       "stream": "stdout",
       "text": [
        "\n",
        "Trying to fetch store# 977 from http://www.mcpennsylvania.com/977\n",
        "  Read 9429 bytes"
       ]
      },
      {
       "output_type": "stream",
       "stream": "stdout",
       "text": [
        "\n",
        "  Store not found\n",
        "Trying to fetch store# 978 from http://www.mcpennsylvania.com/978\n",
        "  Read 9429 bytes"
       ]
      },
      {
       "output_type": "stream",
       "stream": "stdout",
       "text": [
        "\n",
        "  Store not found\n",
        "Trying to fetch store# 979 from http://www.mcpennsylvania.com/979\n",
        "  Read 20595 bytes"
       ]
      },
      {
       "output_type": "stream",
       "stream": "stdout",
       "text": [
        "\n",
        "  Address is 4145 South Telegraph Road|Dearborn Heights, MI 48125\n",
        "  Geocoded to {u'lat': 42.2790961, u'lng': -83.2700235}"
       ]
      },
      {
       "output_type": "stream",
       "stream": "stdout",
       "text": [
        "\n",
        "Trying to fetch store# 980 from http://www.mcpennsylvania.com/980\n",
        "  Read 9429 bytes"
       ]
      },
      {
       "output_type": "stream",
       "stream": "stdout",
       "text": [
        "\n",
        "  Store not found\n",
        "Trying to fetch store# 981 from http://www.mcpennsylvania.com/981\n",
        "  Read 17337 bytes"
       ]
      },
      {
       "output_type": "stream",
       "stream": "stdout",
       "text": [
        "\n",
        "  Address is 830 Riverview Dr.|Kalamazoo, MI 49001\n",
        "  Geocoded to {u'lat': 42.3001521, u'lng': -85.5687548}"
       ]
      },
      {
       "output_type": "stream",
       "stream": "stdout",
       "text": [
        "\n",
        "Trying to fetch store# 982 from http://www.mcpennsylvania.com/982\n",
        "  Read 18126 bytes"
       ]
      },
      {
       "output_type": "stream",
       "stream": "stdout",
       "text": [
        "\n",
        "  Address is 755 Lakewood Rd|Waterbury, CT 06704\n",
        "  Geocoded to {u'lat': 41.57181, u'lng': -73.008443}"
       ]
      },
      {
       "output_type": "stream",
       "stream": "stdout",
       "text": [
        "\n",
        "Trying to fetch store# 983 from http://www.mcpennsylvania.com/983\n",
        "  Read 17475 bytes"
       ]
      },
      {
       "output_type": "stream",
       "stream": "stdout",
       "text": [
        "\n",
        "  Address is 117 West Arrow Highway|Glendora, CA 91740\n",
        "  Geocoded to {u'lat': 34.1070885, u'lng': -117.8646449}"
       ]
      },
      {
       "output_type": "stream",
       "stream": "stdout",
       "text": [
        "\n",
        "Trying to fetch store# 984 from http://www.mcpennsylvania.com/984\n",
        "  Read 9429 bytes"
       ]
      },
      {
       "output_type": "stream",
       "stream": "stdout",
       "text": [
        "\n",
        "  Store not found\n",
        "Trying to fetch store# 985 from http://www.mcpennsylvania.com/985\n",
        "  Read 9429 bytes"
       ]
      },
      {
       "output_type": "stream",
       "stream": "stdout",
       "text": [
        "\n",
        "  Store not found\n",
        "Trying to fetch store# 986 from http://www.mcpennsylvania.com/986\n",
        "  Read 9429 bytes"
       ]
      },
      {
       "output_type": "stream",
       "stream": "stdout",
       "text": [
        "\n",
        "  Store not found\n",
        "Trying to fetch store# 987 from http://www.mcpennsylvania.com/987\n",
        "  Read 18943 bytes"
       ]
      },
      {
       "output_type": "stream",
       "stream": "stdout",
       "text": [
        "\n",
        "  Address is 197 S. Broadway|Saratoga Springs, NY 12866\n",
        "  Geocoded to {u'lat': 43.074244, u'lng': -73.787797}"
       ]
      },
      {
       "output_type": "stream",
       "stream": "stdout",
       "text": [
        "\n",
        "Wrote 580 locations to /Users/Ya/projects/mcdonalds/mcdonalds_locations.json\n",
        "Trying to fetch store# 988 from http://www.mcpennsylvania.com/988\n",
        "  Read 17411 bytes"
       ]
      },
      {
       "output_type": "stream",
       "stream": "stdout",
       "text": [
        "\n",
        "  Address is 5140 W. Washington St.|Indianapolis, IN 46241\n",
        "  Geocoded to {u'lat': 39.7540819, u'lng': -86.247236}"
       ]
      },
      {
       "output_type": "stream",
       "stream": "stdout",
       "text": [
        "\n",
        "Trying to fetch store# 989 from http://www.mcpennsylvania.com/989\n",
        "  Read 17879 bytes"
       ]
      },
      {
       "output_type": "stream",
       "stream": "stdout",
       "text": [
        "\n",
        "  Address is 2321 Versailles Road|Lexington, KY 40504\n",
        "  Geocoded to {u'lat': 38.047232, u'lng': -84.553113}"
       ]
      },
      {
       "output_type": "stream",
       "stream": "stdout",
       "text": [
        "\n",
        "Trying to fetch store# 990 from http://www.mcpennsylvania.com/990\n",
        "  Read 17722 bytes"
       ]
      },
      {
       "output_type": "stream",
       "stream": "stdout",
       "text": [
        "\n",
        "  Address is 49 Gosling Rd|Newington, NH 03801\n",
        "  Geocoded to {u'lat': 43.09227740000001, u'lng': -70.7995201}"
       ]
      },
      {
       "output_type": "stream",
       "stream": "stdout",
       "text": [
        "\n",
        "Trying to fetch store# 991 from http://www.mcpennsylvania.com/991\n",
        "  Read 9429 bytes"
       ]
      },
      {
       "output_type": "stream",
       "stream": "stdout",
       "text": [
        "\n",
        "  Store not found\n",
        "Trying to fetch store# 992 from http://www.mcpennsylvania.com/992\n",
        "  Read 9429 bytes"
       ]
      },
      {
       "output_type": "stream",
       "stream": "stdout",
       "text": [
        "\n",
        "  Store not found\n",
        "Trying to fetch store# 993 from http://www.mcpennsylvania.com/993\n",
        "  Read 17637 bytes"
       ]
      },
      {
       "output_type": "stream",
       "stream": "stdout",
       "text": [
        "\n",
        "  Address is 3435 W 16th St.|Indianapolis, IN 46222\n",
        "  Geocoded to {u'lat': 39.7874985, u'lng': -86.21750730000001}"
       ]
      },
      {
       "output_type": "stream",
       "stream": "stdout",
       "text": [
        "\n",
        "Trying to fetch store# 994 from http://www.mcpennsylvania.com/994\n",
        "  Read 9429 bytes"
       ]
      },
      {
       "output_type": "stream",
       "stream": "stdout",
       "text": [
        "\n",
        "  Store not found\n",
        "Trying to fetch store# 995 from http://www.mcpennsylvania.com/995\n",
        "  Read 16397 bytes"
       ]
      },
      {
       "output_type": "stream",
       "stream": "stdout",
       "text": [
        "\n",
        "  Address is 1100 Kansas Avenue|Topeka, KS 66612\n",
        "  Geocoded to {u'lat': 39.0438312, u'lng': -95.67619549999999}"
       ]
      },
      {
       "output_type": "stream",
       "stream": "stdout",
       "text": [
        "\n",
        "Trying to fetch store# 996 from http://www.mcpennsylvania.com/996\n",
        "  Read 17189 bytes"
       ]
      },
      {
       "output_type": "stream",
       "stream": "stdout",
       "text": [
        "\n",
        "  Address is 171 N. Genessee St.|Utica, NY 13502\n",
        "  Geocoded to {u'lat': 43.109952, u'lng': -75.21904119999999}"
       ]
      },
      {
       "output_type": "stream",
       "stream": "stdout",
       "text": [
        "\n",
        "Trying to fetch store# 997 from http://www.mcpennsylvania.com/997\n",
        "  Read 9429 bytes"
       ]
      },
      {
       "output_type": "stream",
       "stream": "stdout",
       "text": [
        "\n",
        "  Store not found\n",
        "Trying to fetch store# 998 from http://www.mcpennsylvania.com/998\n",
        "  Read 19322 bytes"
       ]
      },
      {
       "output_type": "stream",
       "stream": "stdout",
       "text": [
        "\n",
        "  Address is 4835 Silver Hill Road|Suitland, MD 20746\n",
        "  Geocoded to {u'lat': 38.8506765, u'lng': -76.9220516}"
       ]
      },
      {
       "output_type": "stream",
       "stream": "stdout",
       "text": [
        "\n",
        "Trying to fetch store# 999 from http://www.mcpennsylvania.com/999\n",
        "  Read 16508 bytes"
       ]
      },
      {
       "output_type": "stream",
       "stream": "stdout",
       "text": [
        "\n",
        "  Address is 5009 Wilson Blvd.|Arlington, VA 22203\n",
        "  Geocoded to {u'lat': 38.878476, u'lng': -77.12144599999999}"
       ]
      },
      {
       "output_type": "stream",
       "stream": "stdout",
       "text": [
        "\n",
        "Wrote 588 locations to /Users/Ya/projects/mcdonalds/mcdonalds_locations.json\n"
       ]
      }
     ],
     "prompt_number": 11
    },
    {
     "cell_type": "markdown",
     "metadata": {},
     "source": [
      "###Take a peek at mcdonalds_locations.json\n",
      "Fire up your favorite editor or file viewer and verify that mcdonalds_locations.json is looking reasonable."
     ]
    },
    {
     "cell_type": "markdown",
     "metadata": {},
     "source": [
      "###Displaying locations\n",
      "\n",
      "To display the McDonalds locations on a map, we're going to build a web page and display it inside an &lt;iframe&gt; inside this notebook.  First, we'll need the utility function \"iframe_with_source\", which lets you pass HTML as a big string."
     ]
    },
    {
     "cell_type": "code",
     "collapsed": false,
     "input": [
      "# iframe_with_source is a utility function to let us insert HTML into an iframe\n",
      "# as an iPython result\n",
      "\n",
      "from IPython.display import HTML\n",
      "import json\n",
      "\n",
      "def iframe_with_source(source, height):\n",
      "    name = 'iframe-%d' % get_ipython().execution_count\n",
      "    source = json.dumps(source)\n",
      "    source = source.replace('</script', '</scr\"+\"ipt')\n",
      "    width = '100%'\n",
      "    height = '%spx' % height\n",
      "    template = \"\"\"\n",
      "<iframe id=\"%s\" style=\"width:%s; height:%s\"></iframe>\n",
      "<script>\n",
      "document.getElementById('%s').srcdoc = %s;\n",
      "</script>\n",
      "\"\"\"\n",
      "    # Fill in the %s slots with id, width, height, and the HTML source\n",
      "    return HTML(template % (name, width, height, name, source))"
     ],
     "language": "python",
     "metadata": {},
     "outputs": [],
     "prompt_number": 14
    },
    {
     "cell_type": "code",
     "collapsed": false,
     "input": [
      "# Try out iframe_with_source with a on trivially simple web page.  Note python's triple-quote syntax for multi-line strings.\n",
      "\n",
      "source = \"\"\"\n",
      "<html>\n",
      "  <body>\n",
      "    Hello world!\n",
      "  </body>\n",
      "</html>\"\"\"\n",
      "height = 100  # pixels\n",
      "iframe_with_source(source, height)"
     ],
     "language": "python",
     "metadata": {},
     "outputs": [
      {
       "html": [
        "\n",
        "<iframe id=\"iframe-15\" style=\"width:100%; height:100px\"></iframe>\n",
        "<script>\n",
        "document.getElementById('iframe-15').srcdoc = \"\\n<html>\\n  <body>\\n    Hello world!\\n  </body>\\n</html>\";\n",
        "</script>\n"
       ],
       "metadata": {},
       "output_type": "pyout",
       "prompt_number": 15,
       "text": [
        "<IPython.core.display.HTML at 0x1017f0350>"
       ]
      }
     ],
     "prompt_number": 15
    },
    {
     "cell_type": "markdown",
     "metadata": {},
     "source": [
      "Next, we need to convert the store information into the JSON format our page is going to need."
     ]
    },
    {
     "cell_type": "code",
     "collapsed": false,
     "input": [
      "# Convert to Javascript series:  {latlng: [lat0, lng0, lat1, lng1, lat2, lng2 ...], index: [index0, index1, index2 ...]}\n",
      "javascript_latlng = []\n",
      "javascript_index = []\n",
      "for location in locations:\n",
      "    if 'lat' in location:\n",
      "        javascript_index.append(location['store_number'])\n",
      "        javascript_latlng.append(location['lat'])\n",
      "        javascript_latlng.append(location['lng'])\n",
      "javascript_series = \"// Data from %d locations, index %s - %s\\n\" % (len(javascript_index), javascript_index[0], javascript_index[-1])\n",
      "javascript_series += 'var mcDonalds = {\\n  latlng: new Float32Array(%s),\\n\\n  index: new Float32Array(%s)\\n};' % (json.dumps(javascript_latlng), json.dumps(javascript_index))\n",
      "print \"javascript_series contains %d locations and is %s bytes long\" % (len(javascript_index), len(javascript_series))"
     ],
     "language": "python",
     "metadata": {},
     "outputs": [
      {
       "output_type": "stream",
       "stream": "stdout",
       "text": [
        "javascript_series contains 588 locations and is 18857 bytes long\n"
       ]
      }
     ],
     "prompt_number": 16
    },
    {
     "cell_type": "markdown",
     "metadata": {},
     "source": [
      "Here's the web page.  We'll construct it by sandwiching the JSON above between a header and footer.  Don't let the length of the javascript below scare you.  You can do pretty much all the customization you'll want inside the two functions init() and drawFrame().\n",
      "\n",
      "When you evaluate this code below, you should see an iframe with a Google map displaying an animation of McDonalds being built."
     ]
    },
    {
     "cell_type": "code",
     "collapsed": false,
     "input": [
      "# Construct HTML source for viewing page, with javascript_series inserted\n",
      "# Insert as an <iframe> to prevent conflicts between this code and the parent page.\n",
      "\n",
      "src = \"\"\"\n",
      "\n",
      "<html style=\"height:100%\">\n",
      "<head>\n",
      "    <script src=\"http://maps.googleapis.com/maps/api/js?sensor=false\"></script>\n",
      "    <script src=\"http://ajax.googleapis.com/ajax/libs/jquery/1.11.0/jquery.min.js\"></script>\n",
      "    <script src=\"http://api.cmucreatelab.org/exp-0.1/js/CanvasLayer.js\"></script>\n",
      "    <script src=\"http://api.cmucreatelab.org/exp-0.1/js/utils.js\"></script>\n",
      "    <script src=\"http://api.cmucreatelab.org/exp-0.1/js/series.js\"></script>\n",
      "    <script>\n",
      "\"\"\"\n",
      "\n",
      "src += javascript_series;\n",
      "\n",
      "src += \"\"\"\n",
      "      var latlngm = mcDonalds.latlng;\n",
      "      var map;\n",
      "      var canvasLayer;\n",
      "      var gl;\n",
      "      var pixelsToWebGLMatrix = new Float32Array(16);\n",
      "      var mapMatrix = new Float32Array(16);\n",
      "\n",
      "      var advancing = true; // true when in 'play' mode; false when paused\n",
      "\n",
      "      var lastTime = 0;\n",
      "      var totalElapsedTime = 0;\n",
      "      var fps = 50;\n",
      "\n",
      "      var currentIndex, minIndex, maxIndex;\n",
      "\n",
      "      function init() {\n",
      "\t// initialize the map\n",
      "\tvar mapOptions = {\n",
      "          zoom: 4,\n",
      "          center: new google.maps.LatLng(39.3, -95.8),\n",
      "\t};\n",
      "        var mapDiv = document.getElementById('map-div');\n",
      "\tmap = new google.maps.Map(mapDiv, mapOptions);\n",
      "\n",
      "        if (!initWebGL()) {\n",
      "          $('#map-div').append('<div align=\"center\" style=\"position: absolute; z-index:1000000; margin:50px; padding:10px; border-color:black; border-style:solid; border-width:1px; box-shadow:5px 5px 5px grey; background-color:white; font-size:20px\"><b>WebGL required</b><br>Please try using a browser that supports WebGL,<br>such as Chrome, Firefox, or Internet Explorer 11.</div>');\n",
      "        }\n",
      "\n",
      "        // Convert from latlng to xy for map, and set up shader programs\n",
      "        prepareSeries(gl, mcDonalds);\n",
      "\n",
      "        currentIndex = minIndex = mcDonalds.index[0];\n",
      "        maxIndex = mcDonalds.index[mcDonalds.index.length - 1];\n",
      "       \n",
      "        initPlaybackControls();\n",
      "        \n",
      "        console.log(mcDonalds.index.length);\n",
      "\t\tconsole.log(latlngm.length);\n",
      "\t\t\n",
      "  \t\tvar contentString = ''; \n",
      "\n",
      "\t\tgoogle.maps.event.addListener(map, 'click', function(event) \n",
      "\t\t{\n",
      "\t\telt = findClosestElement(gl, mapMatrix, mcDonalds, event.pixel, 10);\n",
      "\t\tconsole.log(elt.lat);//lat, lng, i \n",
      "\t\tcontentString = ''+ mcDonalds.index[elt.i] + '</br>' + 'http://www.mcpennsylvania.com/' + mcDonalds.index[elt.i];\n",
      "\t\t var marker = new google.maps.Marker({\n",
      "      position: elt,\n",
      "      map: map,\n",
      "      title: 'Uluru (Ayers Rock)'\n",
      "  \t\t});\n",
      "  \t\tvar infowindow = new google.maps.InfoWindow({\n",
      "\t\t\tcontent: contentString});\n",
      "  \t\t\n",
      "\t\tinfowindow.open(map,marker);\n",
      " \t\t\n",
      "\t\t});\n",
      "\t\t\n",
      "      }\n",
      "      \n",
      "      function drawFrame() {\n",
      "        if (advancing) {\n",
      "          advanceCurrentIndex();\n",
      "        }\n",
      "\n",
      "        // Use additive blending mode.  As we draw overlapping pixels, color values\n",
      "        // are added and then clamped to go no higher than 1.  This has the effect of\n",
      "        // making overlapped areas brighter, approaching white (assuming use of colors\n",
      "        // which are non-zero in each of R, G, B)\n",
      "\n",
      "        gl.enable(gl.BLEND);\n",
      "        gl.blendFunc( gl.SRC_ALPHA, gl.ONE );\n",
      "\n",
      "        // Compute WebGL transform from world xy coords to screen\n",
      "        // copy pixel->webgl matrix\n",
      "        mapMatrix.set(pixelsToWebGLMatrix);\n",
      "\n",
      "        var scale = canvasLayer.getMapScale();\n",
      "        scaleMatrix(mapMatrix, scale, scale);\n",
      "\n",
      "        var translation = canvasLayer.getMapTranslation();\n",
      "        translateMatrix(mapMatrix, translation.x, translation.y);\n",
      "\n",
      "        // Erase frame\n",
      "        gl.clear(gl.COLOR_BUFFER_BIT);\n",
      "\n",
      "        // Compute point diameter, in pixels, based on zoom level\n",
      "\n",
      "        // map.zoom is approx 4 at country level\n",
      "        // How many pixels in diameter should marker be when map zoomed to country level?\n",
      "        var countryPointSizePixels = 3;\n",
      "\n",
      "        // map.zoom is approx 18 at block level\n",
      "        // How many pixels in diameter should marker be when map zoomed to block level?\n",
      "        var blockPointSizePixels = 90;\n",
      "\n",
      "        var pointSize = countryPointSizePixels * Math.pow(blockPointSizePixels / countryPointSizePixels, (map.zoom - 4) / (18 - 4));\n",
      "        var color = [.82, .22, .07, 1.0]; // RGBA, orange\n",
      "\n",
      "        // How much of the marker's radius do we draw at alpha=1, before starting the slope to alpha=0?\n",
      "        // 0 is very soft, 0.95 is a hard circle with well-defined edge\n",
      "        var hardFraction = 0.4;  \n",
      "\n",
      "        drawPoints(gl, mapMatrix, mcDonalds, 0, findIndex(currentIndex, mcDonalds), \n",
      "                   {color: color, pointSize: pointSize, hardFraction: hardFraction});\n",
      "      }\n",
      "      \n",
      "      function advanceCurrentIndex() {\n",
      "        var timeNow = new Date().getTime();\n",
      "        if (lastTime != 0) {\n",
      "          var elapsed = timeNow - lastTime;\n",
      "          totalElapsedTime += elapsed;\n",
      "        }\n",
      "        lastTime = timeNow;\n",
      "\n",
      "        if (totalElapsedTime > 1000 / fps) {\n",
      "          totalElapsedTime = 0;\n",
      "          var newIndex = currentIndex + 100;\n",
      "          if (newIndex >= maxIndex) {\n",
      "            // TODO(rsargent): implement delay at beginning and end\n",
      "            newIndex = 0;\n",
      "          }\n",
      "          playbackSetIndex(newIndex);\n",
      "        }\n",
      "      }\n",
      "\n",
      "      function initWebGL() {\n",
      "        // initialize the canvasLayer\n",
      "        var canvasLayerOptions = {\n",
      "          map: map,\n",
      "          resizeHandler: resize,\n",
      "          animate: true,\n",
      "          updateHandler: drawFrame\n",
      "        };\n",
      "        canvasLayer = new CanvasLayer(canvasLayerOptions);\n",
      "\n",
      "        window.addEventListener('resize', function () {  google.maps.event.trigger(map, 'resize') }, false);\n",
      "\n",
      "        // initialize WebGL\n",
      "        gl = canvasLayer.canvas.getContext('experimental-webgl');\n",
      "        return !!gl;\n",
      "      }\n",
      "\n",
      "      function initPlaybackControls() {\n",
      "        $('#playback-play-pause-button').click(function() {\n",
      "          advancing = (this.textContent == 'Play');\n",
      "          this.textContent = advancing ? 'Pause' : 'Play';\n",
      "        });\n",
      "\n",
      "        $('#playback-range')\n",
      "          .on(\"input change\", function() {\n",
      "            console.log('change, yeah');\n",
      "            playbackSetIndex(this.valueAsNumber);\n",
      "          })\n",
      "          .mousedown(function() {\n",
      "            advancing = false;\n",
      "          })\n",
      "          .mouseup(function() {\n",
      "            if ($('#playback-play-pause-button').text() == 'Pause') {\n",
      "              advancing = true;\n",
      "            }\n",
      "          });\n",
      "      }\n",
      "\n",
      "      function playbackSetIndex(newIndex) {\n",
      "        currentIndex = newIndex;\n",
      "        $('#playback-display').text(currentIndex);\n",
      "        $('#playback-range').val(currentIndex);\n",
      "      }\n",
      "\n",
      "      function resize() {\n",
      "        var w = canvasLayer.canvas.width;\n",
      "        var h = canvasLayer.canvas.height;\n",
      "\n",
      "        // Extend viewport to entire canvas\n",
      "        gl.viewport(0, 0, w, h);\n",
      "\n",
      "        // Map canvas pixel coordinates to WebGL coordinates\n",
      "        pixelsToWebGLMatrix.set([2/w, 0,   0, 0,\n",
      "                                 0,  -2/h, 0, 0,\n",
      "                                 0,   0,   1, 0,\n",
      "                                -1,   1,   0, 1]);\n",
      "      }\n",
      "\n",
      "      $(init);\n",
      "    \n",
      "    </script>\n",
      "\n",
      "    <script id=\"pointVertexShader\" type=\"x-shader/x-vertex\">\n",
      "      attribute vec4 worldCoord;\n",
      "      attribute float aPointSize;\n",
      "\n",
      "      uniform mat4 mapMatrix;\n",
      "\n",
      "      void main() {\n",
      "        // transform world coordinate by matrix uniform variable\n",
      "        gl_Position = mapMatrix * worldCoord;\n",
      "\n",
      "        // a constant size for points, regardless of zoom level\n",
      "        gl_PointSize = aPointSize;\n",
      "      }\n",
      "    </script>\n",
      "    <script id=\"pointFragmentShader\" type=\"x-shader/x-fragment\">\n",
      "      precision mediump float;\n",
      "      uniform vec4 color;\n",
      "      uniform float hardFraction;\n",
      "\n",
      "      // Circle of diameter 0.5, composed of a \"hard\" (alpha=1) center of radius 0.5 * hardFraction,\n",
      "      // then transitioning to alpha=0 at diameter 0.5\n",
      "      void main() {\n",
      "        float dist = length(gl_PointCoord.xy - vec2(.5, .5));\n",
      "        // TODO(rsargent):  shouldn't we just be adjusting the alpha here?  Maybe we're taking\n",
      "        // advantage of the double-multiplication to get something other than linear.\n",
      "        // But multiplying all the channels will break if we do something other than an additive blend.\n",
      "        gl_FragColor = color * clamp((0.5 - dist) / (0.5 - 0.5 * hardFraction), 0., 1.);\n",
      "      }\n",
      "    </script>\n",
      "</head>\n",
      "<body style=\"height:100%; margin:0; padding:0\">\n",
      "    <div id=\"map-div\" style=\"height:100%\"></div>\n",
      "    <div style=\"position:relative; left:90px; top:-30px; width:550px\">\n",
      "      <button id=\"playback-play-pause-button\" style=\"width:50px\">Pause</button>\n",
      "      <div align=\"right\" id=\"playback-display\" style=\"width:40px; display:inline-block\"></div>\n",
      "      <input type=\"range\" style=\"width: 300px; position:relative; top:3px\"  value=\"0\" min=\"0\" max=\"17000\" list=\"number\" id=\"playback-range\"/>\n",
      "    </div>\n",
      "</body>\n",
      "</html>\n",
      "\"\"\"\n",
      "\n",
      "# You might find it easier to debug changes to this code by writing everything out to a .html file\n",
      "# and loading it separately into your browser;  uncomment the following to do so\n",
      "\n",
      "# open(os.path.expanduser('~/Desktop/mcdonalds.html'), 'w').write(src)\n",
      "\n",
      "height = 500\n",
      "iframe_with_source(src, height)"
     ],
     "language": "python",
     "metadata": {},
     "outputs": [
      {
       "html": [
        "\n",
        "<iframe id=\"iframe-17\" style=\"width:100%; height:500px\"></iframe>\n",
        "<script>\n",
        "document.getElementById('iframe-17').srcdoc = \"\\n\\n<html style=\\\"height:100%\\\">\\n<head>\\n    <script src=\\\"http://maps.googleapis.com/maps/api/js?sensor=false\\\"></scr\"+\"ipt>\\n    <script src=\\\"http://ajax.googleapis.com/ajax/libs/jquery/1.11.0/jquery.min.js\\\"></scr\"+\"ipt>\\n    <script src=\\\"http://api.cmucreatelab.org/exp-0.1/js/CanvasLayer.js\\\"></scr\"+\"ipt>\\n    <script src=\\\"http://api.cmucreatelab.org/exp-0.1/js/utils.js\\\"></scr\"+\"ipt>\\n    <script src=\\\"http://api.cmucreatelab.org/exp-0.1/js/series.js\\\"></scr\"+\"ipt>\\n    <script>\\n// Data from 588 locations, index 3 - 999\\nvar mcDonalds = {\\n  latlng: new Float32Array([40.7455, -73.9067122, 30.5611122, -88.20657469999999, 30.4496173, -88.8419512, 40.8345906, -73.85221779999999, 40.5427718, -74.2078085, 32.9643856, -102.8342272, 47.1853785, -122.2928974, 41.9593144, -87.7479075, 42.0410551, -87.74862809999999, 41.7756657, -87.58636299999999, 42.0452999, -87.88551939999999, 36.7789461, -119.7908846, 34.2014262, -118.542322, 33.975492, -118.373305, 38.94946530000001, -76.9933493, 38.525314, -121.441833, 41.52313609999999, -88.1195054, 33.780875, -117.914369, 41.906645, -87.90289, 41.8096071, -87.9920125, 41.99002240000001, -87.71054250000002, 38.750952, -77.08363419999999, 41.60040840000001, -87.54098839999999, 40.55976099999999, -75.487803, 45.003603, -93.1675039, 39.1907642, -84.5993034, 42.5571308, -87.8253575, 40.528545, -80.008239, 38.5570734, -90.3937852, 41.7786135, -88.31513609999999, 41.858901, -88.070507, 42.756994, -84.54333489999999, 40.7314971, -89.6120596, 42.7041261, -87.825977, 41.89037800000001, -87.970017, 43.03951000000001, -89.3947189, 42.0458347, -88.2754721, 42.0197767, -87.6877039, 41.9715764, -87.8071175, 38.934671, -77.1775, 27.9109181, -82.5067557, 42.1323952, -88.0912357, 40.5033763, -88.99412219999999, 41.4915597, -90.4880359, 44.52962609999999, -88.06055669999999, 44.9424539, -93.3598825, 42.5171638, -89.06321530000001, 42.7040484, -89.00632399999999, 43.4372653, -84.0152171, 28.0546697, -81.95060199999999, 42.0637526, -87.7997414, 38.9805242, -76.52766319999999, 38.814886, -76.9977773, 40.1193942, -87.63665499999999, 40.019227, -105.257828, 42.089276, -80.0853319, 40.191249, -85.38147699999999, 38.127948, -85.850494, 42.9138688, -85.69634789999999, 42.2975559, -87.95610909999999, 43.773609, -87.736729, 30.6661819, -88.10647689999999, 38.8688292, -77.17682769999999, 40.6250395, -75.435425, 41.0693984, -85.0452465, 44.04071039999999, -88.5430536, 40.7282972, -73.22541989999999, 37.1827216, -93.29677749999999, 42.7312269, -84.470168, 40.9261469, -74.0997096, 38.5790901, -92.1951896, 42.5047709, -83.105879, 38.836865, -104.8173039, 41.6877626, -72.7081496, 28.023043, -82.459952, 26.609518, -81.87136199999999, 40.9606083, -90.3837231, 41.1182733, -85.1379424, 43.205254, -86.2896694, 44.0511317, -91.6814306, 40.4279875, -74.3823554, 44.8024079, -91.469304, 43.7636821, -88.46612139999999, 44.0837126, -87.6917526, 42.987426, -88.00816999999999, 37.6640084, -97.29844109999999, 39.7804706, -89.6687218, 42.2269808, -84.415972, 38.96514850000001, -92.3349437, 42.99262, -88.048001, 41.4391942, -81.86935439999999, 43.6125537, -83.9146743, 41.2175879, -73.2150663, 40.3986587, -104.6905396, 40.7258505, -73.4941255, 39.7047915, -84.1424663, 42.68647199999999, -84.548485, 41.912323, -88.33748299999999, 40.5560306, -105.0775696, 42.2985638, -85.2148342, 36.089091, -79.77461799999999, 42.9917977, -78.82182089999999, 41.0611762, -81.4549715, 40.8596975, -73.07270020000001, 38.8550939, -77.31592719999999, 41.2786178, -72.9878456, 45.052105, -93.24673299999999, 45.52657960000001, -122.5382615, 42.3190195, -87.8661692, 41.41727789999999, -81.573332, 42.8312789, -78.7541037, 42.5237863, -96.4178036, 42.9782105, -83.672883, 38.984569, -76.970637, 39.3783806, -84.5502644, 41.9315556, -88.7681592, 35.595399, -82.53336, 39.7404983, -104.8597407, 35.108694, -106.5779256, 40.6838141, -73.3532639, 43.0453515, -83.7320329, 44.0814944, -103.2567132, 39.6856185, -75.7374234, 41.1372224, -104.7665131, 40.7954134, -81.4357252, 40.5199076, -74.39538399999999, 39.6821023, -105.0251673, 39.9360667, -75.0441417, 35.0867907, -106.5777149, 39.1998691, -84.3761392, 41.7517111, -87.5654114, 39.068177, -77.12865599999999, 40.83893459999999, -73.3278311, 43.0319057, -85.62534819999999, 43.6093522, -116.2429185, 27.838765, -82.703463, 30.40595029999999, -87.275662, 38.8085301, -77.0908058, 41.2459149, -75.88130749999999, 43.6136785, -84.2130796, 38.1683429, -85.706848, 34.537067, -82.6666803, 39.7434967, -84.1143375, 41.421238, -81.527783, 35.9910189, -83.88965619999999, 40.3960085, -74.10486499999999, 40.6333226, -80.22982449999999, 41.6881411, -85.9733219, 40.653895, -73.555691, 39.0941398, -76.855057, 41.1311063, -81.50765729999999, 41.5205279, -81.4553747, 41.622995, -87.628491, 44.06169999999999, -103.231366, 44.8578813, -93.2791292, 39.5268085, -84.38532959999999, 36.0008588, -83.92508819999999, 39.1871569, -86.5336351, 41.690419, -86.894339, 44.9077849, -93.0814802, 34.6231325, -98.4347256, 41.3859632, -81.76806359999999, 40.5909883, -79.735668, 40.2499135, -74.7763318, 41.6903497, -72.92249160000001, 42.02178000000001, -87.957128, 42.198622, -83.2046349, 41.245634, -111.97048, 43.2342093, -86.2052989, 39.2691362, -76.5003909, 43.5155545, -96.73072259999999, 42.0257924, -87.8132203, 35.9796585, -80.0217047, 39.011277, -95.688621, 40.5964728, -83.12995049999999, 42.971185, -82.45312899999999, 39.021715, -84.5885837, 42.0970924, -79.2915295, 42.1080937, -88.25805489999999, 39.7976328, -84.2532458, 42.14014, -87.911118, 45.48685829999999, -122.7741729, 41.78861089999999, -87.70315819999999, 43.0904169, -78.96773619999999, 33.8955264, -84.283338, 41.64296179999999, -81.4699657, 33.8730991, -118.3936853, 37.651237, -97.352272, 42.4961328, -83.0271686, 42.9184005, -78.7535207, 37.24047480000001, -93.3039831, 33.99287, -118.451112, 42.115765, -72.62403189999999, 43.0335309, -83.6395826, 32.7906741, -83.67034389999999, 41.678647, -83.6222219, 35.1369695, -106.641258, 41.440214, -81.7250105, 36.0166246, -78.88960809999999, 44.97754279999999, -93.0404662, 42.2477271, -71.8261364, 42.1024055, -80.1466579, 37.5248718, -122.2818347, 41.1083142, -81.5688052, 38.3093297, -85.76961209999999, 45.497751, -122.6359003, 42.756556, -87.799428, 42.2536604, -83.194665, 35.9505545, -83.9146504, 38.54009509999999, -90.02349889999999, 41.5832024, -93.7008858, 39.3965189, -76.5652214, 41.8646359, -87.8033245, 38.271992, -104.6181578, 40.5207018, -74.2856846, 36.52525790000001, -82.52081199999999, 30.4028675, -88.9353601, 38.0576, -97.93070000000002, 47.4626184, -122.3334053, 41.6766256, -87.6810567, 37.4792898, -122.2242071, 39.8757325, -75.0842092, 39.885613, -104.994657, 30.3142074, -97.7079785, 45.496692, -122.5701439, 40.4652079, -79.828907, 38.78336090000001, -90.35491479999999, 43.4003929, -83.9120818, 39.7401983, -104.9807486, 47.5816087, -122.2999787, 33.8311675, -118.303346, 39.1024929, -94.43650769999999, 39.9236466, -83.77359589999999, 40.3318643, -80.0223972, 38.8963215, -77.1262627, 43.2305175, -75.4394847, 33.4994224, -86.9081412, 40.2293664, -76.8962782, 40.1922367, -74.715755, 30.1614024, -85.66059589999999, 32.4823003, -84.9411439, 40.8444811, -96.7385394, 47.668252, -122.37318, 33.7969628, -117.8362073, 32.4890727, -93.7045023, 40.912472, -74.034795, 37.0602139, -94.5141965, 42.5796138, -71.7740622, 41.4726907, -81.62260619999999, 26.7909852, -80.05469819999999, 40.573699, -85.67606500000001, 41.6771208, -71.1615554, 47.4668638, -122.2881282, 40.6956429, -89.62323699999999, 33.83276500000001, -118.159522, 41.6281235, -93.69831909999999, 27.960932, -82.7604051, 33.818016, -117.968456, 34.2331328, -118.4378261, 42.5016313, -82.9345388, 42.5260978, -82.89703689999999, 41.705484, -87.70168, 38.4720279, -82.6271924, 42.981662, -87.947356, 41.6809817, -86.25008799999999, 30.0060335, -90.23875009999999, 28.015911, -81.7334013, 42.663242, -71.1447239, 45.5469598, -122.5783765, 41.5194533, -81.51800639999999, 33.989094, -80.972471, 40.9391278, -73.7441254, 44.9802988, -93.23450059999999, 39.9356653, -91.3643347, 33.818539, -117.909195, 39.075772, -76.54839249999999, 37.3320564, -121.88505, 33.976224, -81.075048, 34.1885461, -118.3197254, 39.1862807, -76.6134312, 30.5047992, -91.1507176, 34.5891646, -86.9799804, 45.0513139, -93.360765, 39.77132, -94.80297499999999, 33.83798, -118.367418, 41.0291446, -81.4928431, 39.059134, -77.049544, 34.0206633, -118.1210451, 35.2606337, -81.20852839999999, 42.2828909, -71.11352649999999, 42.74070160000001, -84.6046726, 34.6998447, -86.58590819999999, 34.228246, -118.500659, 33.9625803, -83.3958923, 45.0497843, -93.0137594, 40.050384, -75.009517, 33.4743311, -81.9860628, 33.9394669, -117.9377261, 40.037139, -82.9630968, 35.238401, -80.884618, 36.53979400000001, -87.36513599999999, 38.562924, -90.1774901, 42.4017063, -83.2216084, 29.228345, -81.03147299999999, 28.032284, -82.422253, 47.715909, -117.425778, 39.7414441, -75.5834965, 33.9167043, -118.3082938, 40.04672619999999, -74.9034174, 41.65303129999999, -86.2497989, 38.5647512, -90.29343089999999, 33.741207, -118.292691, 34.2467685, -85.1614902, 40.1021857, -75.0294631, 47.25529, -122.445461, 41.1924461, -111.9716897, 47.1663601, -122.518492, 42.13672709999999, -72.5177693, 34.1674239, -118.32343, 44.940278, -123.0270406, 42.5205606, -71.1029307, 42.9711636, -71.45460539999999, 30.701425, -88.11490800000001, 33.9691292, -118.0986841, 41.8790212, -87.81351269999999, 37.29805500000001, -121.950424, 43.6549539, -70.280384, 34.1988846, -118.4492241, 42.421974, -76.51778999999999, 38.901331, -76.900628, 37.5887303, -77.501547, 29.267748, -81.02901949999999, 33.759181, -117.957302, 47.1916133, -122.4336427, 37.3738845, -122.0548694, 41.5545839, -72.6830793, 33.130346, -117.06799, 34.0881562, -117.7498396, 40.5985996, -75.5275645, 41.635065, -72.87272899999999, 42.3017482, -71.337098, 37.2455788, -121.8882464, 33.928755, -118.1478761, 33.7909939, -118.2609494, 37.995553, -87.54239899999999, 36.8443064, -87.48402089999999, 43.0753119, -88.0484139, 40.8267384, -91.14198999999999, 42.1975321, -72.5746155, 33.8738854, -84.3814565, 36.144557, -80.301267, 38.8174089, -77.1411641, 38.9079088, -77.0062908, 42.588693, -87.85683999999999, 39.8251286, -75.15950120000001, 37.303899, -122.031775, 41.403723, -81.79981599999999, 33.797508, -118.308493, 43.051947, -76.072525, 38.5505264, -121.4884415, 33.9198514, -84.3785161, 44.8222263, -68.77928179999999, 30.45046259999999, -91.13570849999999, 28.0846594, -80.6228043, 38.6731026, -90.39783229999999, 44.93108720000001, -93.12284600000001, 40.5815343, -74.29306079999999, 43.3307999, -73.6761412, 34.7469738, -87.6670894, 26.188614, -80.12887400000001, 34.0511271, -117.9428024, 41.5586831, -73.0529468, 42.2826286, -71.0550797, 34.0733463, -117.669769, 38.6599218, -121.3473461, 36.6698324, -121.6722235, 42.1345316, -71.1010472, 39.027825, -76.91671869999999, 38.9623895, -77.0283056, 38.2004189, -85.78303059999999, 27.974769, -82.48438, 44.987423, -93.37958080000001, 35.4051959, -97.547473, 40.7292905, -112.0057612, 40.6900517, -74.29448169999999, 43.4452659, -83.97615979999999, 38.6179071, -121.367011, 40.6102178, -80.05396549999999, 41.87966979999999, -87.7779248, 42.0824395, -87.93767340000001, 28.0115214, -81.957413, 40.58070910000001, -74.4952161, 40.7364468, -111.8876974, 43.04649, -87.95723149999999, 43.1684285, -88.1031636, 34.277791, -119.213678, 26.1210011, -80.1870483, 40.7476647, -73.5910202, 38.965814, -77.001941, 38.821752, -76.886471, 34.107821, -118.055477, 33.6431698, -117.9247698, 42.282154, -71.17483299999999, 42.1078219, -71.0248021, 41.5936453, -87.6947699, 41.5287544, -72.7774276, 27.4573041, -82.5749163, 34.18705, -118.414609, 42.6292349, -71.2764134, 33.726831, -117.888887, 37.7021301, -97.3351699, 41.024071, -73.635329, 30.305196, -81.752966, 39.4917682, -75.043322, 37.7160383, -97.2994188, 40.179962, -75.1058843, 41.7268239, -87.74149249999999, 33.9025653, -118.0984085, 38.11919, -122.255486, 39.8254773, -86.0094708, 42.3248793, -83.331473, 38.959345, -76.919555, 37.9668782, -122.3438581, 37.674243, -120.993544, 25.867021, -80.305145, 40.7738086, -73.4833094, 40.6388741, -73.6413307, 34.151462, -118.02669, 41.9680589, -87.7248408, 41.5388408, -81.6162416, 38.5589471, -121.4384821, 38.98886299999999, -94.66832, 37.882531, -122.296874, 33.788288, -117.872909, 36.9671056, -122.0390174, 34.0666575, -118.0258319, 43.1142287, -87.9159722, 34.02473, -118.458965, 40.0026439, -83.00811000000002, 41.4050646, -81.6976603, 33.874256, -117.997873, 27.4439172, -80.34018590000001, 35.0649491, -89.9051288, 35.1137618, -89.94626439999999, 25.927848, -80.195928, 25.70128, -80.2926923, 33.930656, -117.9942205, 29.9335813, -90.0077378, 34.2581754, -118.5360778, 42.5745515, -82.8891958, 42.3019311, -89.6450409, 33.945113, -118.211464, 37.9893053, -121.3125051, 33.6850315, -117.9198338, 34.1597171, -118.1328969, 41.7923723, -87.7899424, 34.1712239, -119.1770919, 33.858353, -117.9596405, 33.758809, -118.005348, 38.7167734, -90.2597693, 41.7552449, -87.63221999999999, 39.1674234, -94.57704070000001, 36.736194, -119.749379, 39.0786197, -84.4805713, 42.91379209999999, -78.8637428, 41.41541420000001, -81.92487849999999, 41.4159047, -81.7305599, 41.204955, -73.093116, 41.6733853, -81.3262249, 37.6707575, -122.1207464, 43.07996079999999, -75.3181196, 25.8722532, -80.2422414, 34.107138, -117.366842, 44.5050559, -87.9846858, 34.7563586, -86.5940749, 30.2375122, -97.7519884, 34.270353, -118.467711, 41.94447359999999, -73.996849, 38.63450419999999, -121.3287195, 41.525492, -81.587819, 40.1312124, -75.11576509999999, 37.3110046, -121.931319, 41.8440808, -87.70476239999999, 41.2497516, -76.9700575, 38.8368847, -77.0607729, 32.6704194, -117.0959486, 39.97243599999999, -82.011619, 39.635948, -86.118044, 42.9355749, -88.04766719999999, 42.1611805, -88.1394318, 33.889429, -118.351964, 33.9753301, -117.3591818, 27.9966933, -82.5171881, 33.7172053, -117.9885879, 38.9011898, -76.94163259999999, 40.458523, -74.29563379999999, 42.328857, -72.63325999999999, 38.832965, -77.207751, 33.831863, -118.075313, 33.9457804, -118.3445777, 41.9931792, -87.78348749999999, 40.725568, -111.824103, 41.6121437, -87.7170726, 43.1189298, -76.14324049999999, 40.2331064, -74.6841766, 37.6920805, -122.0897105, 38.8507555, -104.7578544, 34.0516548, -118.3690515, 39.910599, -75.09803699999999, 39.8293312, -84.8786126, 39.3557418, -76.7650898, 40.6360413, -75.4876293, 39.823259, -86.23689499999999, 44.08794959999999, -103.1979319, 42.5143861, -92.4462748, 42.03505699999999, -88.314162, 41.137656, -73.4249899, 40.5656727, -89.6368377, 38.7598278, -77.4614015, 42.683448, -73.7946929, 41.73655919999999, -87.5888325, 39.36745790000001, -76.71657859999999, 36.1954663, -115.1285385, 34.1426763, -118.2364734, 34.1392098, -117.98093, 26.166776, -80.148788, 33.959672, -118.301066, 42.33460230000001, -83.27235189999999, 42.4710827, -96.3542954, 41.8882771, -87.8334915, 38.844552, -76.890721, 41.93076629999999, -87.6433685, 40.8033575, -74.1462671, 32.626973, -117.087417, 38.8626484, -77.08852569999999, 44.1665742, -93.9713513, 40.321088, -75.9345769, 39.926278, -75.30603909999999, 26.0105437, -80.2049821, 40.2104503, -74.7951137, 25.8225617, -80.2719164, 33.975062, -118.231177, 42.7637502, -71.2161871, 38.7235974, -90.12145459999999, 41.4453196, -75.669646, 39.9579656, -74.97958779999999, 33.8316632, -118.0030816, 37.707855, -122.1328704, 40.7679049, -72.9867459, 38.2367119, -85.7172393, 34.117421, -118.149902, 38.996347, -76.905377, 33.8348085, -84.38247609999999, 32.7360477, -97.11374099999999, 34.1724239, -118.3723008, 34.1502089, -118.091386, 41.4069741, -73.4437938, 32.523885, -92.112343, 34.2429565, -77.89165340000001, 47.4841129, -122.2179111, 42.89371329999999, -85.6658131, 34.000282, -118.402876, 41.596108, -87.499696, 33.9464355, -117.4215334, 36.5948827, -82.2140944, 41.64858419999999, -83.524202, 39.0259256, -76.4443282, 38.89303, -77.274907, 37.9659375, -121.2746583, 33.8909933, -118.3015796, 34.03978, -118.1443552, 37.2900008, -121.8807448, 33.9570309, -118.0385021, 36.1200201, -115.1380273, 42.958787, -87.91319000000001, 42.2790961, -83.2700235, 42.3001521, -85.5687548, 41.57181, -73.008443, 34.1070885, -117.8646449, 43.074244, -73.787797, 39.7540819, -86.247236, 38.047232, -84.553113, 43.09227740000001, -70.7995201, 39.7874985, -86.21750730000001, 39.0438312, -95.67619549999999, 43.109952, -75.21904119999999, 38.8506765, -76.9220516, 38.878476, -77.12144599999999]),\\n\\n  index: new Float32Array([3, 6, 7, 13, 14, 15, 22, 26, 28, 29, 32, 37, 38, 39, 40, 47, 49, 52, 53, 55, 56, 57, 59, 61, 63, 66, 68, 70, 71, 72, 73, 74, 76, 77, 78, 79, 80, 82, 83, 84, 86, 87, 88, 90, 91, 93, 94, 95, 97, 100, 101, 103, 104, 108, 109, 110, 112, 116, 117, 119, 121, 122, 123, 124, 128, 132, 134, 135, 139, 142, 144, 146, 147, 148, 151, 152, 154, 156, 158, 159, 160, 162, 163, 164, 165, 166, 168, 169, 171, 173, 174, 179, 180, 181, 183, 187, 188, 189, 190, 191, 192, 193, 197, 198, 200, 201, 202, 203, 204, 205, 207, 209, 210, 211, 212, 216, 217, 219, 220, 221, 222, 223, 225, 226, 229, 231, 232, 234, 235, 236, 240, 241, 242, 248, 249, 250, 252, 253, 255, 256, 258, 260, 261, 262, 264, 265, 268, 270, 273, 274, 276, 277, 278, 280, 284, 287, 288, 289, 290, 291, 292, 293, 294, 295, 301, 302, 306, 308, 309, 312, 313, 315, 316, 317, 318, 319, 320, 324, 326, 328, 329, 330, 335, 337, 338, 339, 342, 343, 346, 348, 351, 353, 356, 357, 359, 362, 364, 366, 368, 371, 373, 375, 380, 381, 383, 384, 385, 391, 392, 396, 398, 400, 401, 405, 406, 407, 409, 410, 411, 415, 416, 420, 422, 424, 425, 428, 429, 432, 434, 435, 437, 438, 441, 442, 445, 447, 449, 451, 453, 454, 455, 458, 459, 460, 462, 463, 465, 466, 467, 468, 470, 471, 472, 475, 476, 478, 482, 483, 486, 487, 488, 490, 491, 492, 493, 496, 500, 501, 503, 504, 505, 506, 507, 512, 513, 516, 520, 521, 524, 525, 529, 530, 531, 532, 534, 536, 538, 540, 543, 549, 550, 551, 552, 553, 555, 557, 558, 561, 562, 563, 565, 566, 567, 568, 569, 570, 571, 572, 573, 574, 577, 578, 579, 583, 585, 589, 590, 592, 593, 594, 595, 596, 597, 599, 600, 603, 604, 605, 609, 611, 612, 613, 616, 618, 620, 621, 623, 625, 626, 627, 629, 632, 633, 634, 638, 641, 643, 644, 645, 647, 648, 649, 650, 652, 653, 654, 655, 658, 660, 661, 662, 666, 668, 669, 670, 671, 672, 677, 678, 681, 682, 683, 684, 685, 688, 690, 691, 693, 695, 697, 701, 702, 705, 706, 708, 711, 713, 714, 715, 716, 717, 718, 719, 722, 723, 724, 725, 726, 728, 729, 731, 735, 736, 737, 738, 739, 740, 741, 742, 744, 747, 748, 749, 750, 751, 752, 753, 754, 757, 758, 761, 762, 763, 764, 766, 767, 768, 769, 770, 772, 773, 775, 776, 777, 778, 779, 780, 781, 782, 784, 787, 788, 789, 790, 791, 792, 793, 794, 795, 797, 799, 801, 802, 803, 804, 805, 806, 807, 809, 811, 812, 813, 814, 815, 816, 817, 818, 820, 821, 823, 825, 826, 829, 830, 832, 833, 834, 837, 839, 841, 842, 843, 844, 846, 847, 849, 850, 851, 852, 853, 854, 855, 856, 857, 858, 860, 862, 863, 864, 865, 866, 867, 870, 871, 872, 874, 875, 876, 877, 881, 882, 883, 885, 886, 887, 888, 890, 891, 892, 894, 897, 898, 900, 901, 903, 904, 905, 908, 909, 910, 911, 912, 916, 917, 918, 919, 921, 922, 924, 925, 927, 930, 932, 933, 935, 936, 938, 939, 940, 941, 942, 943, 944, 945, 947, 948, 949, 951, 952, 953, 958, 959, 961, 962, 965, 966, 967, 968, 969, 970, 971, 973, 974, 975, 976, 979, 981, 982, 983, 987, 988, 989, 990, 993, 995, 996, 998, 999])\\n};\\n      var latlngm = mcDonalds.latlng;\\n      var map;\\n      var canvasLayer;\\n      var gl;\\n      var pixelsToWebGLMatrix = new Float32Array(16);\\n      var mapMatrix = new Float32Array(16);\\n\\n      var advancing = true; // true when in 'play' mode; false when paused\\n\\n      var lastTime = 0;\\n      var totalElapsedTime = 0;\\n      var fps = 50;\\n\\n      var currentIndex, minIndex, maxIndex;\\n\\n      function init() {\\n\\t// initialize the map\\n\\tvar mapOptions = {\\n          zoom: 4,\\n          center: new google.maps.LatLng(39.3, -95.8),\\n\\t};\\n        var mapDiv = document.getElementById('map-div');\\n\\tmap = new google.maps.Map(mapDiv, mapOptions);\\n\\n        if (!initWebGL()) {\\n          $('#map-div').append('<div align=\\\"center\\\" style=\\\"position: absolute; z-index:1000000; margin:50px; padding:10px; border-color:black; border-style:solid; border-width:1px; box-shadow:5px 5px 5px grey; background-color:white; font-size:20px\\\"><b>WebGL required</b><br>Please try using a browser that supports WebGL,<br>such as Chrome, Firefox, or Internet Explorer 11.</div>');\\n        }\\n\\n        // Convert from latlng to xy for map, and set up shader programs\\n        prepareSeries(gl, mcDonalds);\\n\\n        currentIndex = minIndex = mcDonalds.index[0];\\n        maxIndex = mcDonalds.index[mcDonalds.index.length - 1];\\n       \\n        initPlaybackControls();\\n        \\n        console.log(mcDonalds.index.length);\\n\\t\\tconsole.log(latlngm.length);\\n\\t\\t\\n  \\t\\tvar contentString = ''; \\n\\n\\t\\tgoogle.maps.event.addListener(map, 'click', function(event) \\n\\t\\t{\\n\\t\\telt = findClosestElement(gl, mapMatrix, mcDonalds, event.pixel, 10);\\n\\t\\tconsole.log(elt.lat);//lat, lng, i \\n\\t\\tcontentString = ''+ mcDonalds.index[elt.i] + '</br>' + 'http://www.mcpennsylvania.com/' + mcDonalds.index[elt.i];\\n\\t\\t var marker = new google.maps.Marker({\\n      position: elt,\\n      map: map,\\n      title: 'Uluru (Ayers Rock)'\\n  \\t\\t});\\n  \\t\\tvar infowindow = new google.maps.InfoWindow({\\n\\t\\t\\tcontent: contentString});\\n  \\t\\t\\n\\t\\tinfowindow.open(map,marker);\\n \\t\\t\\n\\t\\t});\\n\\t\\t\\n      }\\n      \\n      function drawFrame() {\\n        if (advancing) {\\n          advanceCurrentIndex();\\n        }\\n\\n        // Use additive blending mode.  As we draw overlapping pixels, color values\\n        // are added and then clamped to go no higher than 1.  This has the effect of\\n        // making overlapped areas brighter, approaching white (assuming use of colors\\n        // which are non-zero in each of R, G, B)\\n\\n        gl.enable(gl.BLEND);\\n        gl.blendFunc( gl.SRC_ALPHA, gl.ONE );\\n\\n        // Compute WebGL transform from world xy coords to screen\\n        // copy pixel->webgl matrix\\n        mapMatrix.set(pixelsToWebGLMatrix);\\n\\n        var scale = canvasLayer.getMapScale();\\n        scaleMatrix(mapMatrix, scale, scale);\\n\\n        var translation = canvasLayer.getMapTranslation();\\n        translateMatrix(mapMatrix, translation.x, translation.y);\\n\\n        // Erase frame\\n        gl.clear(gl.COLOR_BUFFER_BIT);\\n\\n        // Compute point diameter, in pixels, based on zoom level\\n\\n        // map.zoom is approx 4 at country level\\n        // How many pixels in diameter should marker be when map zoomed to country level?\\n        var countryPointSizePixels = 3;\\n\\n        // map.zoom is approx 18 at block level\\n        // How many pixels in diameter should marker be when map zoomed to block level?\\n        var blockPointSizePixels = 90;\\n\\n        var pointSize = countryPointSizePixels * Math.pow(blockPointSizePixels / countryPointSizePixels, (map.zoom - 4) / (18 - 4));\\n        var color = [.82, .22, .07, 1.0]; // RGBA, orange\\n\\n        // How much of the marker's radius do we draw at alpha=1, before starting the slope to alpha=0?\\n        // 0 is very soft, 0.95 is a hard circle with well-defined edge\\n        var hardFraction = 0.4;  \\n\\n        drawPoints(gl, mapMatrix, mcDonalds, 0, findIndex(currentIndex, mcDonalds), \\n                   {color: color, pointSize: pointSize, hardFraction: hardFraction});\\n      }\\n      \\n      function advanceCurrentIndex() {\\n        var timeNow = new Date().getTime();\\n        if (lastTime != 0) {\\n          var elapsed = timeNow - lastTime;\\n          totalElapsedTime += elapsed;\\n        }\\n        lastTime = timeNow;\\n\\n        if (totalElapsedTime > 1000 / fps) {\\n          totalElapsedTime = 0;\\n          var newIndex = currentIndex + 100;\\n          if (newIndex >= maxIndex) {\\n            // TODO(rsargent): implement delay at beginning and end\\n            newIndex = 0;\\n          }\\n          playbackSetIndex(newIndex);\\n        }\\n      }\\n\\n      function initWebGL() {\\n        // initialize the canvasLayer\\n        var canvasLayerOptions = {\\n          map: map,\\n          resizeHandler: resize,\\n          animate: true,\\n          updateHandler: drawFrame\\n        };\\n        canvasLayer = new CanvasLayer(canvasLayerOptions);\\n\\n        window.addEventListener('resize', function () {  google.maps.event.trigger(map, 'resize') }, false);\\n\\n        // initialize WebGL\\n        gl = canvasLayer.canvas.getContext('experimental-webgl');\\n        return !!gl;\\n      }\\n\\n      function initPlaybackControls() {\\n        $('#playback-play-pause-button').click(function() {\\n          advancing = (this.textContent == 'Play');\\n          this.textContent = advancing ? 'Pause' : 'Play';\\n        });\\n\\n        $('#playback-range')\\n          .on(\\\"input change\\\", function() {\\n            console.log('change, yeah');\\n            playbackSetIndex(this.valueAsNumber);\\n          })\\n          .mousedown(function() {\\n            advancing = false;\\n          })\\n          .mouseup(function() {\\n            if ($('#playback-play-pause-button').text() == 'Pause') {\\n              advancing = true;\\n            }\\n          });\\n      }\\n\\n      function playbackSetIndex(newIndex) {\\n        currentIndex = newIndex;\\n        $('#playback-display').text(currentIndex);\\n        $('#playback-range').val(currentIndex);\\n      }\\n\\n      function resize() {\\n        var w = canvasLayer.canvas.width;\\n        var h = canvasLayer.canvas.height;\\n\\n        // Extend viewport to entire canvas\\n        gl.viewport(0, 0, w, h);\\n\\n        // Map canvas pixel coordinates to WebGL coordinates\\n        pixelsToWebGLMatrix.set([2/w, 0,   0, 0,\\n                                 0,  -2/h, 0, 0,\\n                                 0,   0,   1, 0,\\n                                -1,   1,   0, 1]);\\n      }\\n\\n      $(init);\\n    \\n    </scr\"+\"ipt>\\n\\n    <script id=\\\"pointVertexShader\\\" type=\\\"x-shader/x-vertex\\\">\\n      attribute vec4 worldCoord;\\n      attribute float aPointSize;\\n\\n      uniform mat4 mapMatrix;\\n\\n      void main() {\\n        // transform world coordinate by matrix uniform variable\\n        gl_Position = mapMatrix * worldCoord;\\n\\n        // a constant size for points, regardless of zoom level\\n        gl_PointSize = aPointSize;\\n      }\\n    </scr\"+\"ipt>\\n    <script id=\\\"pointFragmentShader\\\" type=\\\"x-shader/x-fragment\\\">\\n      precision mediump float;\\n      uniform vec4 color;\\n      uniform float hardFraction;\\n\\n      // Circle of diameter 0.5, composed of a \\\"hard\\\" (alpha=1) center of radius 0.5 * hardFraction,\\n      // then transitioning to alpha=0 at diameter 0.5\\n      void main() {\\n        float dist = length(gl_PointCoord.xy - vec2(.5, .5));\\n        // TODO(rsargent):  shouldn't we just be adjusting the alpha here?  Maybe we're taking\\n        // advantage of the double-multiplication to get something other than linear.\\n        // But multiplying all the channels will break if we do something other than an additive blend.\\n        gl_FragColor = color * clamp((0.5 - dist) / (0.5 - 0.5 * hardFraction), 0., 1.);\\n      }\\n    </scr\"+\"ipt>\\n</head>\\n<body style=\\\"height:100%; margin:0; padding:0\\\">\\n    <div id=\\\"map-div\\\" style=\\\"height:100%\\\"></div>\\n    <div style=\\\"position:relative; left:90px; top:-30px; width:550px\\\">\\n      <button id=\\\"playback-play-pause-button\\\" style=\\\"width:50px\\\">Pause</button>\\n      <div align=\\\"right\\\" id=\\\"playback-display\\\" style=\\\"width:40px; display:inline-block\\\"></div>\\n      <input type=\\\"range\\\" style=\\\"width: 300px; position:relative; top:3px\\\"  value=\\\"0\\\" min=\\\"0\\\" max=\\\"17000\\\" list=\\\"number\\\" id=\\\"playback-range\\\"/>\\n    </div>\\n</body>\\n</html>\\n\";\n",
        "</script>\n"
       ],
       "metadata": {},
       "output_type": "pyout",
       "prompt_number": 17,
       "text": [
        "<IPython.core.display.HTML at 0x1031fa7d0>"
       ]
      }
     ],
     "prompt_number": 17
    },
    {
     "cell_type": "markdown",
     "metadata": {},
     "source": [
      "If you only have up to ID# 1000, the map will be looking a bit sparse.  You can scrape more directly by increasing the \"last_store = 1000\" above and rerunning the scrape loop, but it's going to take a while and the workarounds to the geolocation quota limit are a bit annoying.  So let's take a shortcut and grab ID's 1000 and above from a pre-baked JSON file.\n",
      "\n",
      "This is going to require you to do some manual surgery on your mcdonalds_locations.json file, which you need to get comfortable with anyway if you want to be able to clean your data.\n",
      "\n",
      "Bring up mcdonalds_locations.json in your favorite editor, and then splice in records from http://rsargent.cmucreatelab.org/mcdonalds/mcdonalds_locations_1000_and_above.json.  Be sure to keep the stores in order (the display code relies on it), and avoid duplicates (in case you've scraped beyond 999 already).  Also, be mindful of the commas and square brackets to keep your JSON correctly formed.  (You can try pasting your creation into http://jsonlint.com/ for useful error messages if something goes wrong).\n",
      "\n",
      "Once you believe you have a complete mcdonalds_locations.json file, you'll need to load the locations into this notebook by re-executing the \"locations = read_or_create_locations()\" line at the top of the notebook, and then re-execute \"Convert to Javascript series\" and \"Construct HTML Source\".  If all goes well, you'll be able to explore all the McDonald's up to store # 16997.\n"
     ]
    },
    {
     "cell_type": "markdown",
     "metadata": {},
     "source": [
      "###Next steps\n",
      "\n",
      "####Seeing a store's ID\n",
      "It's tricky to interact with a large number of markers on a Google map;  navigating the map requires clicking, so making thousands of markers click-sensitive gets irritating fast.  A better approach might be similar to the logic of image tooltip hover, where leaving a mouse still for a second or two brings up a small textbox.\n",
      "\n",
      "Implement a way to view the ID from a store's marker, and perhaps also a link to that store's web page (remember the pattern \"http://www.mcpennsylvania.com/ID\" from the scraping code above).  You're going to need this for the next step.\n",
      "\n",
      "<b>Update 2/17:  There's a new primitive in ``series.js`` to assist you in this:</b>\n",
      "\n",
      "    findClosestElement(gl, transform, series, pixelXY, maxDistInPixels):\n",
      "    gl               WebGL context\n",
      "    transform        WebGL transformation matrix (e.g. mapMatrix)\n",
      "    series           Data series to search (e.g. mcDonalds)\n",
      "    pixelXY          Pixel coords inside map div.  (If you subscribe to google maps mouse \n",
      "                     events, you can pass in event.pixel here)\n",
      "    maxDistInPixels  Don't return an element that's more than this distance in pixels from pixelXY\n",
      "\n",
      "If element is found, returns an object with ``i`` (sequence), ``lat``, and ``lng``.\n",
      "\n",
      "If no element found within ``maxDistInPixels``, returns ``null``\n",
      "\n",
      "You can look up the store # from sequence like so: ``mcDonalds.index[sequence]``.\n",
      "\n",
      "####Assessing the accuracy your data\n",
      "With the sheer number of sites, it's well outside the scope of this assignment to clean any sizeable fraction of the data.  If you select street map (instead of satellite) and zoom in enough on a marker, you can often see where Google has labeled a McDonald's colocated with your marker.  But it's possible errors in Google's layer could be somewhat correlated with errors in your layer.  In satellite mode, you might recognize the distictive look of the restaurant, at least when it's free-standing.  And of course there's always street view.  (Be aware that both sources of imagery could potentially be older than the McDonald's you're trying to locate).\n",
      "\n",
      "Pick 30 placemarks at random and try to assess whether they're likely correct, likely incorrect, or not able to tell.  Use this to give a very rough estimate on bounds for the accuracy of the rest of the dataset.\n",
      "\n",
      "####Learn from your data, and tell a story\n",
      "Spend some time exploring this dataset.  See any surprises?  Any patterns that you notice?  Tell and record a brief story in your own words, using screencast software (e.g. QuickTime Player for Mac or http://camstudio.org/ for Windows).  Upload to a video sharing site such as YouTube, and embed into your notebook.\n",
      "\n"
     ]
    },
    {
     "cell_type": "code",
     "collapsed": false,
     "input": [
      "from IPython.display import YouTubeVideo\n",
      "YouTubeVideo('VhnNHdLfP-U') # paste your youtube video ID here from the embed link"
     ],
     "language": "python",
     "metadata": {},
     "outputs": [
      {
       "html": [
        "\n",
        "        <iframe\n",
        "            width=\"400\"\n",
        "            height=300\"\n",
        "            src=\"https://www.youtube.com/embed/VhnNHdLfP-U\"\n",
        "            frameborder=\"0\"\n",
        "            allowfullscreen\n",
        "        ></iframe>\n",
        "        "
       ],
       "metadata": {},
       "output_type": "pyout",
       "prompt_number": 13,
       "text": [
        "<IPython.lib.display.YouTubeVideo at 0x1017f0b50>"
       ]
      }
     ],
     "prompt_number": 13
    },
    {
     "cell_type": "markdown",
     "metadata": {},
     "source": [
      "###Publish your notebook"
     ]
    },
    {
     "cell_type": "markdown",
     "metadata": {},
     "source": [
      "To publish your notebook, you need to perform three steps:\n",
      "\n",
      "- Download your notebook in .ipynb format (using File/Download at the top of the page)\n",
      "- Place your .ipynb file somewhere publicly readable on the web\n",
      "- Use the IPython Notebook Viewer to translate and view your notebook by pasting in the URL to your notebook [here](http://nbviewer.ipython.org/)\n",
      "\n",
      "You can place your .ipynb file online using your Andrew account, or you can do it as well by using your App Engine instance.  An even better approach, if you're familiar with git and github, would be to create a github repo and push your .ipynb file to it.  This allows others to more easily build from your notebook.  And the notebook viewer has special support for pulling the .ipynb file directly from your repo's HEAD.\n",
      "    "
     ]
    },
    {
     "cell_type": "code",
     "collapsed": false,
     "input": [],
     "language": "python",
     "metadata": {},
     "outputs": []
    }
   ],
   "metadata": {}
  }
 ]
}